{
 "cells": [
  {
   "cell_type": "code",
   "execution_count": 477,
   "outputs": [],
   "source": [
    "import pandas as pd\n",
    "import seaborn as sns\n",
    "import matplotlib.pyplot as plt\n",
    "import folium"
   ],
   "metadata": {
    "collapsed": false,
    "ExecuteTime": {
     "end_time": "2024-03-23T09:47:19.225290Z",
     "start_time": "2024-03-23T09:47:19.030935Z"
    }
   },
   "id": "b02f4f6977f07eef"
  },
  {
   "cell_type": "markdown",
   "source": [
    "Celem jest predykcja ceny nieruchomości.\n",
    "\n",
    "Zbiór danych zawiera 4802 instancje i kolumny określające:\n",
    "\n",
    "BROKERTITLE: Title of the broker\n",
    "TYPE: Type of the house\n",
    "PRICE: Price of the house\n",
    "BEDS: Number of bedrooms\n",
    "BATH: Number of bathrooms\n",
    "PROPERTYSQFT: Square footage of the property\n",
    "ADDRESS: Full address of the house\n",
    "STATE: State of the house\n",
    "MAIN_ADDRESS: Main address information\n",
    "ADMINISTRATIVE_AREA_LEVEL_2: Administrative area level 2 information\n",
    "LOCALITY: Locality information\n",
    "SUBLOCALITY: Sublocality information\n",
    "STREET_NAME: Street name\n",
    "LONG_NAME: Long name\n",
    "FORMATTED_ADDRESS: Formatted address\n",
    "LATITUDE: Latitude coordinate of the house\n",
    "LONGITUDE: Longitude coordinate of the house"
   ],
   "metadata": {
    "collapsed": false
   },
   "id": "33242a9b372ec5e9"
  },
  {
   "cell_type": "code",
   "execution_count": 478,
   "id": "initial_id",
   "metadata": {
    "collapsed": true,
    "ExecuteTime": {
     "end_time": "2024-03-23T09:47:20.767404Z",
     "start_time": "2024-03-23T09:47:19.067059Z"
    }
   },
   "outputs": [],
   "source": [
    "import pandas as pd\n",
    "url = 'NY-House-Dataset.csv'\n",
    "data = pd.read_csv(url, sep= ';')"
   ]
  },
  {
   "cell_type": "code",
   "execution_count": 479,
   "outputs": [
    {
     "data": {
      "text/plain": "                                            BROKERTITLE                TYPE  \\\n0           Brokered by Douglas Elliman  -111 Fifth Ave      Condo for sale   \n1                                   Brokered by Serhant      Condo for sale   \n2                                Brokered by Sowae Corp      House for sale   \n3                                   Brokered by COMPASS      Condo for sale   \n4     Brokered by Sotheby's International Realty - E...  Townhouse for sale   \n...                                                 ...                 ...   \n4796                                Brokered by COMPASS      Co-op for sale   \n4797                    Brokered by Mjr Real Estate Llc      Co-op for sale   \n4798      Brokered by Douglas Elliman - 575 Madison Ave      Co-op for sale   \n4799            Brokered by E Realty International Corp      Condo for sale   \n4800                 Brokered by Nyc Realty Brokers Llc      Co-op for sale   \n\n          PRICE  BEDS       BATH  PROPERTYSQFT  \\\n0        315000     2   2.000000   1400.000000   \n1     195000000     7  10.000000  17545.000000   \n2        260000     4   2.000000   2015.000000   \n3         69000     3   1.000000    445.000000   \n4      55000000     7   2.373861  14175.000000   \n...         ...   ...        ...           ...   \n4796     599000     1   1.000000   2184.207862   \n4797     245000     1   1.000000   2184.207862   \n4798    1275000     1   1.000000   2184.207862   \n4799     598125     2   1.000000    655.000000   \n4800     349000     1   1.000000    750.000000   \n\n                                                ADDRESS  \\\n0                                  2 E 55th St Unit 803   \n1     Central Park Tower Penthouse-217 W 57th New Yo...   \n2                                      620 Sinclair Ave   \n3                               2 E 55th St Unit 908W33   \n4                                           5 E 64th St   \n...                                                 ...   \n4796                               222 E 80th St Apt 3A   \n4797                                97-40 62 Dr Unit Lg   \n4798                          427 W 21st St Unit Garden   \n4799                           91-23 Corona Ave Unit 4G   \n4800                            460 Neptune Ave Apt 14O   \n\n                        STATE  \\\n0          New York, NY 10022   \n1          New York, NY 10019   \n2     Staten Island, NY 10312   \n3         Manhattan, NY 10022   \n4          New York, NY 10065   \n...                       ...   \n4796      Manhattan, NY 10075   \n4797      Rego Park, NY 11374   \n4798       New York, NY 10011   \n4799       Elmhurst, NY 11373   \n4800       Brooklyn, NY 11224   \n\n                                           MAIN_ADDRESS  \\\n0                2 E 55th St Unit 803New York, NY 10022   \n1     Central Park Tower Penthouse-217 W 57th New Yo...   \n2               620 Sinclair AveStaten Island, NY 10312   \n3            2 E 55th St Unit 908W33Manhattan, NY 10022   \n4                         5 E 64th StNew York, NY 10065   \n...                                                 ...   \n4796            222 E 80th St Apt 3AManhattan, NY 10075   \n4797             97-40 62 Dr Unit LgRego Park, NY 11374   \n4798        427 W 21st St Unit GardenNew York, NY 10011   \n4799         91-23 Corona Ave Unit 4GElmhurst, NY 11373   \n4800          460 Neptune Ave Apt 14OBrooklyn, NY 11224   \n\n     ADMINISTRATIVE_AREA_LEVEL_2         LOCALITY      SUBLOCALITY  \\\n0                New York County         New York        Manhattan   \n1                  United States         New York  New York County   \n2                  United States         New York  Richmond County   \n3                  United States         New York  New York County   \n4                  United States         New York  New York County   \n...                          ...              ...              ...   \n4796                    New York  New York County         New York   \n4797               United States         New York    Queens County   \n4798               United States         New York  New York County   \n4799                    New York    Queens County           Queens   \n4800                    New York     Kings County         Brooklyn   \n\n           STREET_NAME         LONG_NAME  \\\n0     East 55th Street   Regis Residence   \n1             New York  West 57th Street   \n2        Staten Island   Sinclair Avenue   \n3             New York  East 55th Street   \n4             New York  East 64th Street   \n...                ...               ...   \n4796         Manhattan               222   \n4797            Queens        62nd Drive   \n4798          New York  West 21st Street   \n4799          Flushing             91-23   \n4800      Coney Island               460   \n\n                                      FORMATTED_ADDRESS   LATITUDE  LONGITUDE  \n0     Regis Residence, 2 E 55th St #803, New York, N...  40.761255 -73.974483  \n1                217 W 57th St, New York, NY 10019, USA  40.766393 -73.980991  \n2        620 Sinclair Ave, Staten Island, NY 10312, USA  40.541805 -74.196109  \n3                  2 E 55th St, New York, NY 10022, USA  40.761398 -73.974613  \n4                  5 E 64th St, New York, NY 10065, USA  40.767224 -73.969856  \n...                                                 ...        ...        ...  \n4796         222 E 80th St #3a, New York, NY 10075, USA  40.774350 -73.955879  \n4797            97-40 62nd Dr, Rego Park, NY 11374, USA  40.732538 -73.860152  \n4798             427 W 21st St, New York, NY 10011, USA  40.745882 -74.003398  \n4799     91-23 Corona Ave. #4b, Flushing, NY 11373, USA  40.742770 -73.872752  \n4800      460 Neptune Ave #14a, Brooklyn, NY 11224, USA  40.579147 -73.970949  \n\n[4801 rows x 17 columns]",
      "text/html": "<div>\n<style scoped>\n    .dataframe tbody tr th:only-of-type {\n        vertical-align: middle;\n    }\n\n    .dataframe tbody tr th {\n        vertical-align: top;\n    }\n\n    .dataframe thead th {\n        text-align: right;\n    }\n</style>\n<table border=\"1\" class=\"dataframe\">\n  <thead>\n    <tr style=\"text-align: right;\">\n      <th></th>\n      <th>BROKERTITLE</th>\n      <th>TYPE</th>\n      <th>PRICE</th>\n      <th>BEDS</th>\n      <th>BATH</th>\n      <th>PROPERTYSQFT</th>\n      <th>ADDRESS</th>\n      <th>STATE</th>\n      <th>MAIN_ADDRESS</th>\n      <th>ADMINISTRATIVE_AREA_LEVEL_2</th>\n      <th>LOCALITY</th>\n      <th>SUBLOCALITY</th>\n      <th>STREET_NAME</th>\n      <th>LONG_NAME</th>\n      <th>FORMATTED_ADDRESS</th>\n      <th>LATITUDE</th>\n      <th>LONGITUDE</th>\n    </tr>\n  </thead>\n  <tbody>\n    <tr>\n      <th>0</th>\n      <td>Brokered by Douglas Elliman  -111 Fifth Ave</td>\n      <td>Condo for sale</td>\n      <td>315000</td>\n      <td>2</td>\n      <td>2.000000</td>\n      <td>1400.000000</td>\n      <td>2 E 55th St Unit 803</td>\n      <td>New York, NY 10022</td>\n      <td>2 E 55th St Unit 803New York, NY 10022</td>\n      <td>New York County</td>\n      <td>New York</td>\n      <td>Manhattan</td>\n      <td>East 55th Street</td>\n      <td>Regis Residence</td>\n      <td>Regis Residence, 2 E 55th St #803, New York, N...</td>\n      <td>40.761255</td>\n      <td>-73.974483</td>\n    </tr>\n    <tr>\n      <th>1</th>\n      <td>Brokered by Serhant</td>\n      <td>Condo for sale</td>\n      <td>195000000</td>\n      <td>7</td>\n      <td>10.000000</td>\n      <td>17545.000000</td>\n      <td>Central Park Tower Penthouse-217 W 57th New Yo...</td>\n      <td>New York, NY 10019</td>\n      <td>Central Park Tower Penthouse-217 W 57th New Yo...</td>\n      <td>United States</td>\n      <td>New York</td>\n      <td>New York County</td>\n      <td>New York</td>\n      <td>West 57th Street</td>\n      <td>217 W 57th St, New York, NY 10019, USA</td>\n      <td>40.766393</td>\n      <td>-73.980991</td>\n    </tr>\n    <tr>\n      <th>2</th>\n      <td>Brokered by Sowae Corp</td>\n      <td>House for sale</td>\n      <td>260000</td>\n      <td>4</td>\n      <td>2.000000</td>\n      <td>2015.000000</td>\n      <td>620 Sinclair Ave</td>\n      <td>Staten Island, NY 10312</td>\n      <td>620 Sinclair AveStaten Island, NY 10312</td>\n      <td>United States</td>\n      <td>New York</td>\n      <td>Richmond County</td>\n      <td>Staten Island</td>\n      <td>Sinclair Avenue</td>\n      <td>620 Sinclair Ave, Staten Island, NY 10312, USA</td>\n      <td>40.541805</td>\n      <td>-74.196109</td>\n    </tr>\n    <tr>\n      <th>3</th>\n      <td>Brokered by COMPASS</td>\n      <td>Condo for sale</td>\n      <td>69000</td>\n      <td>3</td>\n      <td>1.000000</td>\n      <td>445.000000</td>\n      <td>2 E 55th St Unit 908W33</td>\n      <td>Manhattan, NY 10022</td>\n      <td>2 E 55th St Unit 908W33Manhattan, NY 10022</td>\n      <td>United States</td>\n      <td>New York</td>\n      <td>New York County</td>\n      <td>New York</td>\n      <td>East 55th Street</td>\n      <td>2 E 55th St, New York, NY 10022, USA</td>\n      <td>40.761398</td>\n      <td>-73.974613</td>\n    </tr>\n    <tr>\n      <th>4</th>\n      <td>Brokered by Sotheby's International Realty - E...</td>\n      <td>Townhouse for sale</td>\n      <td>55000000</td>\n      <td>7</td>\n      <td>2.373861</td>\n      <td>14175.000000</td>\n      <td>5 E 64th St</td>\n      <td>New York, NY 10065</td>\n      <td>5 E 64th StNew York, NY 10065</td>\n      <td>United States</td>\n      <td>New York</td>\n      <td>New York County</td>\n      <td>New York</td>\n      <td>East 64th Street</td>\n      <td>5 E 64th St, New York, NY 10065, USA</td>\n      <td>40.767224</td>\n      <td>-73.969856</td>\n    </tr>\n    <tr>\n      <th>...</th>\n      <td>...</td>\n      <td>...</td>\n      <td>...</td>\n      <td>...</td>\n      <td>...</td>\n      <td>...</td>\n      <td>...</td>\n      <td>...</td>\n      <td>...</td>\n      <td>...</td>\n      <td>...</td>\n      <td>...</td>\n      <td>...</td>\n      <td>...</td>\n      <td>...</td>\n      <td>...</td>\n      <td>...</td>\n    </tr>\n    <tr>\n      <th>4796</th>\n      <td>Brokered by COMPASS</td>\n      <td>Co-op for sale</td>\n      <td>599000</td>\n      <td>1</td>\n      <td>1.000000</td>\n      <td>2184.207862</td>\n      <td>222 E 80th St Apt 3A</td>\n      <td>Manhattan, NY 10075</td>\n      <td>222 E 80th St Apt 3AManhattan, NY 10075</td>\n      <td>New York</td>\n      <td>New York County</td>\n      <td>New York</td>\n      <td>Manhattan</td>\n      <td>222</td>\n      <td>222 E 80th St #3a, New York, NY 10075, USA</td>\n      <td>40.774350</td>\n      <td>-73.955879</td>\n    </tr>\n    <tr>\n      <th>4797</th>\n      <td>Brokered by Mjr Real Estate Llc</td>\n      <td>Co-op for sale</td>\n      <td>245000</td>\n      <td>1</td>\n      <td>1.000000</td>\n      <td>2184.207862</td>\n      <td>97-40 62 Dr Unit Lg</td>\n      <td>Rego Park, NY 11374</td>\n      <td>97-40 62 Dr Unit LgRego Park, NY 11374</td>\n      <td>United States</td>\n      <td>New York</td>\n      <td>Queens County</td>\n      <td>Queens</td>\n      <td>62nd Drive</td>\n      <td>97-40 62nd Dr, Rego Park, NY 11374, USA</td>\n      <td>40.732538</td>\n      <td>-73.860152</td>\n    </tr>\n    <tr>\n      <th>4798</th>\n      <td>Brokered by Douglas Elliman - 575 Madison Ave</td>\n      <td>Co-op for sale</td>\n      <td>1275000</td>\n      <td>1</td>\n      <td>1.000000</td>\n      <td>2184.207862</td>\n      <td>427 W 21st St Unit Garden</td>\n      <td>New York, NY 10011</td>\n      <td>427 W 21st St Unit GardenNew York, NY 10011</td>\n      <td>United States</td>\n      <td>New York</td>\n      <td>New York County</td>\n      <td>New York</td>\n      <td>West 21st Street</td>\n      <td>427 W 21st St, New York, NY 10011, USA</td>\n      <td>40.745882</td>\n      <td>-74.003398</td>\n    </tr>\n    <tr>\n      <th>4799</th>\n      <td>Brokered by E Realty International Corp</td>\n      <td>Condo for sale</td>\n      <td>598125</td>\n      <td>2</td>\n      <td>1.000000</td>\n      <td>655.000000</td>\n      <td>91-23 Corona Ave Unit 4G</td>\n      <td>Elmhurst, NY 11373</td>\n      <td>91-23 Corona Ave Unit 4GElmhurst, NY 11373</td>\n      <td>New York</td>\n      <td>Queens County</td>\n      <td>Queens</td>\n      <td>Flushing</td>\n      <td>91-23</td>\n      <td>91-23 Corona Ave. #4b, Flushing, NY 11373, USA</td>\n      <td>40.742770</td>\n      <td>-73.872752</td>\n    </tr>\n    <tr>\n      <th>4800</th>\n      <td>Brokered by Nyc Realty Brokers Llc</td>\n      <td>Co-op for sale</td>\n      <td>349000</td>\n      <td>1</td>\n      <td>1.000000</td>\n      <td>750.000000</td>\n      <td>460 Neptune Ave Apt 14O</td>\n      <td>Brooklyn, NY 11224</td>\n      <td>460 Neptune Ave Apt 14OBrooklyn, NY 11224</td>\n      <td>New York</td>\n      <td>Kings County</td>\n      <td>Brooklyn</td>\n      <td>Coney Island</td>\n      <td>460</td>\n      <td>460 Neptune Ave #14a, Brooklyn, NY 11224, USA</td>\n      <td>40.579147</td>\n      <td>-73.970949</td>\n    </tr>\n  </tbody>\n</table>\n<p>4801 rows × 17 columns</p>\n</div>"
     },
     "execution_count": 479,
     "metadata": {},
     "output_type": "execute_result"
    }
   ],
   "source": [
    "data"
   ],
   "metadata": {
    "collapsed": false,
    "ExecuteTime": {
     "end_time": "2024-03-23T09:47:21.764638Z",
     "start_time": "2024-03-23T09:47:19.103096Z"
    }
   },
   "id": "a5a9fe7568a8a2e7"
  },
  {
   "cell_type": "code",
   "execution_count": 480,
   "outputs": [],
   "source": [
    "category_columns = {'TYPE', 'BROKERTITLE', 'STATE', 'LONG_NAME', 'LOCALITY', 'ADDRESS', 'ADMINISTRATIVE_AREA_LEVEL_2', 'SUBLOCALITY', 'MAIN_ADDRESS', 'FORMATTED_ADDRESS', 'STREET_NAME'}"
   ],
   "metadata": {
    "collapsed": false,
    "ExecuteTime": {
     "end_time": "2024-03-23T09:47:24.454598Z",
     "start_time": "2024-03-23T09:47:19.136853Z"
    }
   },
   "id": "d1b2e065f959e787"
  },
  {
   "cell_type": "code",
   "execution_count": 481,
   "outputs": [],
   "source": [
    "for column in category_columns:\n",
    "    data[column] = data[column].str.lower()"
   ],
   "metadata": {
    "collapsed": false,
    "ExecuteTime": {
     "end_time": "2024-03-23T09:47:24.527960Z",
     "start_time": "2024-03-23T09:47:19.141733Z"
    }
   },
   "id": "1319e422eaa19923"
  },
  {
   "cell_type": "code",
   "execution_count": 482,
   "outputs": [
    {
     "name": "stdout",
     "output_type": "stream",
     "text": [
      "<class 'pandas.core.frame.DataFrame'>\n",
      "RangeIndex: 4801 entries, 0 to 4800\n",
      "Data columns (total 17 columns):\n",
      " #   Column                       Non-Null Count  Dtype  \n",
      "---  ------                       --------------  -----  \n",
      " 0   BROKERTITLE                  4801 non-null   object \n",
      " 1   TYPE                         4801 non-null   object \n",
      " 2   PRICE                        4801 non-null   int64  \n",
      " 3   BEDS                         4801 non-null   int64  \n",
      " 4   BATH                         4801 non-null   float64\n",
      " 5   PROPERTYSQFT                 4801 non-null   float64\n",
      " 6   ADDRESS                      4801 non-null   object \n",
      " 7   STATE                        4801 non-null   object \n",
      " 8   MAIN_ADDRESS                 4801 non-null   object \n",
      " 9   ADMINISTRATIVE_AREA_LEVEL_2  4801 non-null   object \n",
      " 10  LOCALITY                     4801 non-null   object \n",
      " 11  SUBLOCALITY                  4801 non-null   object \n",
      " 12  STREET_NAME                  4801 non-null   object \n",
      " 13  LONG_NAME                    4801 non-null   object \n",
      " 14  FORMATTED_ADDRESS            4801 non-null   object \n",
      " 15  LATITUDE                     4801 non-null   float64\n",
      " 16  LONGITUDE                    4801 non-null   float64\n",
      "dtypes: float64(4), int64(2), object(11)\n",
      "memory usage: 637.8+ KB\n"
     ]
    }
   ],
   "source": [
    "data.info()"
   ],
   "metadata": {
    "collapsed": false,
    "ExecuteTime": {
     "end_time": "2024-03-23T09:47:24.561639Z",
     "start_time": "2024-03-23T09:47:19.151652Z"
    }
   },
   "id": "8b23192e0e9e637e"
  },
  {
   "cell_type": "code",
   "execution_count": 483,
   "outputs": [
    {
     "data": {
      "text/plain": "               count          mean           std          min            25%  \\\nPRICE         4801.0  2.356940e+06  3.135525e+07  2494.000000  499000.000000   \nBEDS          4801.0  3.356801e+00  2.602315e+00     1.000000       2.000000   \nBATH          4801.0  2.373861e+00  1.946962e+00     0.000000       1.000000   \nPROPERTYSQFT  4801.0  2.184208e+03  2.377141e+03   230.000000    1200.000000   \nLATITUDE      4801.0  4.071423e+01  8.767557e-02    40.499546      40.639375   \nLONGITUDE     4801.0 -7.394160e+01  1.010825e-01   -74.253033     -73.987143   \n\n                        50%           75%           max  \nPRICE         825000.000000  1.495000e+06  2.147484e+09  \nBEDS               3.000000  4.000000e+00  5.000000e+01  \nBATH               2.000000  3.000000e+00  5.000000e+01  \nPROPERTYSQFT    2184.207862  2.184208e+03  6.553500e+04  \nLATITUDE          40.726749  4.077192e+01  4.091273e+01  \nLONGITUDE        -73.949189 -7.387064e+01 -7.370245e+01  ",
      "text/html": "<div>\n<style scoped>\n    .dataframe tbody tr th:only-of-type {\n        vertical-align: middle;\n    }\n\n    .dataframe tbody tr th {\n        vertical-align: top;\n    }\n\n    .dataframe thead th {\n        text-align: right;\n    }\n</style>\n<table border=\"1\" class=\"dataframe\">\n  <thead>\n    <tr style=\"text-align: right;\">\n      <th></th>\n      <th>count</th>\n      <th>mean</th>\n      <th>std</th>\n      <th>min</th>\n      <th>25%</th>\n      <th>50%</th>\n      <th>75%</th>\n      <th>max</th>\n    </tr>\n  </thead>\n  <tbody>\n    <tr>\n      <th>PRICE</th>\n      <td>4801.0</td>\n      <td>2.356940e+06</td>\n      <td>3.135525e+07</td>\n      <td>2494.000000</td>\n      <td>499000.000000</td>\n      <td>825000.000000</td>\n      <td>1.495000e+06</td>\n      <td>2.147484e+09</td>\n    </tr>\n    <tr>\n      <th>BEDS</th>\n      <td>4801.0</td>\n      <td>3.356801e+00</td>\n      <td>2.602315e+00</td>\n      <td>1.000000</td>\n      <td>2.000000</td>\n      <td>3.000000</td>\n      <td>4.000000e+00</td>\n      <td>5.000000e+01</td>\n    </tr>\n    <tr>\n      <th>BATH</th>\n      <td>4801.0</td>\n      <td>2.373861e+00</td>\n      <td>1.946962e+00</td>\n      <td>0.000000</td>\n      <td>1.000000</td>\n      <td>2.000000</td>\n      <td>3.000000e+00</td>\n      <td>5.000000e+01</td>\n    </tr>\n    <tr>\n      <th>PROPERTYSQFT</th>\n      <td>4801.0</td>\n      <td>2.184208e+03</td>\n      <td>2.377141e+03</td>\n      <td>230.000000</td>\n      <td>1200.000000</td>\n      <td>2184.207862</td>\n      <td>2.184208e+03</td>\n      <td>6.553500e+04</td>\n    </tr>\n    <tr>\n      <th>LATITUDE</th>\n      <td>4801.0</td>\n      <td>4.071423e+01</td>\n      <td>8.767557e-02</td>\n      <td>40.499546</td>\n      <td>40.639375</td>\n      <td>40.726749</td>\n      <td>4.077192e+01</td>\n      <td>4.091273e+01</td>\n    </tr>\n    <tr>\n      <th>LONGITUDE</th>\n      <td>4801.0</td>\n      <td>-7.394160e+01</td>\n      <td>1.010825e-01</td>\n      <td>-74.253033</td>\n      <td>-73.987143</td>\n      <td>-73.949189</td>\n      <td>-7.387064e+01</td>\n      <td>-7.370245e+01</td>\n    </tr>\n  </tbody>\n</table>\n</div>"
     },
     "execution_count": 483,
     "metadata": {},
     "output_type": "execute_result"
    }
   ],
   "source": [
    "data.describe().T"
   ],
   "metadata": {
    "collapsed": false,
    "ExecuteTime": {
     "end_time": "2024-03-23T09:47:24.563412Z",
     "start_time": "2024-03-23T09:47:19.160866Z"
    }
   },
   "id": "5de1a8eeef810c4a"
  },
  {
   "cell_type": "code",
   "execution_count": 484,
   "outputs": [
    {
     "data": {
      "text/plain": "                                         BROKERTITLE                TYPE  \\\n0        brokered by douglas elliman  -111 fifth ave      condo for sale   \n1                                brokered by serhant      condo for sale   \n2                             brokered by sowae corp      house for sale   \n3                                brokered by compass      condo for sale   \n4  brokered by sotheby's international realty - e...  townhouse for sale   \n\n       PRICE  BEDS       BATH  PROPERTYSQFT  \\\n0     315000     2   2.000000        1400.0   \n1  195000000     7  10.000000       17545.0   \n2     260000     4   2.000000        2015.0   \n3      69000     3   1.000000         445.0   \n4   55000000     7   2.373861       14175.0   \n\n                                             ADDRESS                    STATE  \\\n0                               2 e 55th st unit 803       new york, ny 10022   \n1  central park tower penthouse-217 w 57th new yo...       new york, ny 10019   \n2                                   620 sinclair ave  staten island, ny 10312   \n3                            2 e 55th st unit 908w33      manhattan, ny 10022   \n4                                        5 e 64th st       new york, ny 10065   \n\n                                        MAIN_ADDRESS  \\\n0             2 e 55th st unit 803new york, ny 10022   \n1  central park tower penthouse-217 w 57th new yo...   \n2            620 sinclair avestaten island, ny 10312   \n3         2 e 55th st unit 908w33manhattan, ny 10022   \n4                      5 e 64th stnew york, ny 10065   \n\n  ADMINISTRATIVE_AREA_LEVEL_2  LOCALITY      SUBLOCALITY       STREET_NAME  \\\n0             new york county  new york        manhattan  east 55th street   \n1               united states  new york  new york county          new york   \n2               united states  new york  richmond county     staten island   \n3               united states  new york  new york county          new york   \n4               united states  new york  new york county          new york   \n\n          LONG_NAME                                  FORMATTED_ADDRESS  \\\n0   regis residence  regis residence, 2 e 55th st #803, new york, n...   \n1  west 57th street             217 w 57th st, new york, ny 10019, usa   \n2   sinclair avenue     620 sinclair ave, staten island, ny 10312, usa   \n3  east 55th street               2 e 55th st, new york, ny 10022, usa   \n4  east 64th street               5 e 64th st, new york, ny 10065, usa   \n\n    LATITUDE  LONGITUDE  \n0  40.761255 -73.974483  \n1  40.766393 -73.980991  \n2  40.541805 -74.196109  \n3  40.761398 -73.974613  \n4  40.767224 -73.969856  ",
      "text/html": "<div>\n<style scoped>\n    .dataframe tbody tr th:only-of-type {\n        vertical-align: middle;\n    }\n\n    .dataframe tbody tr th {\n        vertical-align: top;\n    }\n\n    .dataframe thead th {\n        text-align: right;\n    }\n</style>\n<table border=\"1\" class=\"dataframe\">\n  <thead>\n    <tr style=\"text-align: right;\">\n      <th></th>\n      <th>BROKERTITLE</th>\n      <th>TYPE</th>\n      <th>PRICE</th>\n      <th>BEDS</th>\n      <th>BATH</th>\n      <th>PROPERTYSQFT</th>\n      <th>ADDRESS</th>\n      <th>STATE</th>\n      <th>MAIN_ADDRESS</th>\n      <th>ADMINISTRATIVE_AREA_LEVEL_2</th>\n      <th>LOCALITY</th>\n      <th>SUBLOCALITY</th>\n      <th>STREET_NAME</th>\n      <th>LONG_NAME</th>\n      <th>FORMATTED_ADDRESS</th>\n      <th>LATITUDE</th>\n      <th>LONGITUDE</th>\n    </tr>\n  </thead>\n  <tbody>\n    <tr>\n      <th>0</th>\n      <td>brokered by douglas elliman  -111 fifth ave</td>\n      <td>condo for sale</td>\n      <td>315000</td>\n      <td>2</td>\n      <td>2.000000</td>\n      <td>1400.0</td>\n      <td>2 e 55th st unit 803</td>\n      <td>new york, ny 10022</td>\n      <td>2 e 55th st unit 803new york, ny 10022</td>\n      <td>new york county</td>\n      <td>new york</td>\n      <td>manhattan</td>\n      <td>east 55th street</td>\n      <td>regis residence</td>\n      <td>regis residence, 2 e 55th st #803, new york, n...</td>\n      <td>40.761255</td>\n      <td>-73.974483</td>\n    </tr>\n    <tr>\n      <th>1</th>\n      <td>brokered by serhant</td>\n      <td>condo for sale</td>\n      <td>195000000</td>\n      <td>7</td>\n      <td>10.000000</td>\n      <td>17545.0</td>\n      <td>central park tower penthouse-217 w 57th new yo...</td>\n      <td>new york, ny 10019</td>\n      <td>central park tower penthouse-217 w 57th new yo...</td>\n      <td>united states</td>\n      <td>new york</td>\n      <td>new york county</td>\n      <td>new york</td>\n      <td>west 57th street</td>\n      <td>217 w 57th st, new york, ny 10019, usa</td>\n      <td>40.766393</td>\n      <td>-73.980991</td>\n    </tr>\n    <tr>\n      <th>2</th>\n      <td>brokered by sowae corp</td>\n      <td>house for sale</td>\n      <td>260000</td>\n      <td>4</td>\n      <td>2.000000</td>\n      <td>2015.0</td>\n      <td>620 sinclair ave</td>\n      <td>staten island, ny 10312</td>\n      <td>620 sinclair avestaten island, ny 10312</td>\n      <td>united states</td>\n      <td>new york</td>\n      <td>richmond county</td>\n      <td>staten island</td>\n      <td>sinclair avenue</td>\n      <td>620 sinclair ave, staten island, ny 10312, usa</td>\n      <td>40.541805</td>\n      <td>-74.196109</td>\n    </tr>\n    <tr>\n      <th>3</th>\n      <td>brokered by compass</td>\n      <td>condo for sale</td>\n      <td>69000</td>\n      <td>3</td>\n      <td>1.000000</td>\n      <td>445.0</td>\n      <td>2 e 55th st unit 908w33</td>\n      <td>manhattan, ny 10022</td>\n      <td>2 e 55th st unit 908w33manhattan, ny 10022</td>\n      <td>united states</td>\n      <td>new york</td>\n      <td>new york county</td>\n      <td>new york</td>\n      <td>east 55th street</td>\n      <td>2 e 55th st, new york, ny 10022, usa</td>\n      <td>40.761398</td>\n      <td>-73.974613</td>\n    </tr>\n    <tr>\n      <th>4</th>\n      <td>brokered by sotheby's international realty - e...</td>\n      <td>townhouse for sale</td>\n      <td>55000000</td>\n      <td>7</td>\n      <td>2.373861</td>\n      <td>14175.0</td>\n      <td>5 e 64th st</td>\n      <td>new york, ny 10065</td>\n      <td>5 e 64th stnew york, ny 10065</td>\n      <td>united states</td>\n      <td>new york</td>\n      <td>new york county</td>\n      <td>new york</td>\n      <td>east 64th street</td>\n      <td>5 e 64th st, new york, ny 10065, usa</td>\n      <td>40.767224</td>\n      <td>-73.969856</td>\n    </tr>\n  </tbody>\n</table>\n</div>"
     },
     "execution_count": 484,
     "metadata": {},
     "output_type": "execute_result"
    }
   ],
   "source": [
    "data.head()"
   ],
   "metadata": {
    "collapsed": false,
    "ExecuteTime": {
     "end_time": "2024-03-23T09:47:24.563976Z",
     "start_time": "2024-03-23T09:47:19.193057Z"
    }
   },
   "id": "d482b47778f65f18"
  },
  {
   "cell_type": "code",
   "execution_count": 485,
   "outputs": [
    {
     "data": {
      "text/plain": "BROKERTITLE                    0\nTYPE                           0\nPRICE                          0\nBEDS                           0\nBATH                           0\nPROPERTYSQFT                   0\nADDRESS                        0\nSTATE                          0\nMAIN_ADDRESS                   0\nADMINISTRATIVE_AREA_LEVEL_2    0\nLOCALITY                       0\nSUBLOCALITY                    0\nSTREET_NAME                    0\nLONG_NAME                      0\nFORMATTED_ADDRESS              0\nLATITUDE                       0\nLONGITUDE                      0\ndtype: int64"
     },
     "execution_count": 485,
     "metadata": {},
     "output_type": "execute_result"
    }
   ],
   "source": [
    "data.isna().sum()"
   ],
   "metadata": {
    "collapsed": false,
    "ExecuteTime": {
     "end_time": "2024-03-23T09:47:24.564252Z",
     "start_time": "2024-03-23T09:47:19.200903Z"
    }
   },
   "id": "26e19881eb37b775"
  },
  {
   "cell_type": "code",
   "execution_count": 486,
   "outputs": [],
   "source": [
    "numeric_columns = {'PRICE', 'BEDS','BATH', 'PROPERTYSQFT', 'LATITUDE', 'LONGITUDE'}\n",
    "category_columns = {'TYPE', 'BROKERTITLE', 'STATE', 'LONG_NAME', 'LOCALITY', 'ADDRESS', 'ADMINISTRATIVE_AREA_LEVEL_2', 'SUBLOCALITY', 'MAIN_ADDRESS', 'FORMATTED_ADDRESS', 'STREET_NAME'}"
   ],
   "metadata": {
    "collapsed": false,
    "ExecuteTime": {
     "end_time": "2024-03-23T09:47:24.564365Z",
     "start_time": "2024-03-23T09:47:19.208948Z"
    }
   },
   "id": "f2a98ceebe9d6a16"
  },
  {
   "cell_type": "code",
   "execution_count": 487,
   "outputs": [
    {
     "data": {
      "text/plain": "LONG_NAME                      2731\nADMINISTRATIVE_AREA_LEVEL_2      29\nSTATE                           308\nBROKERTITLE                    1011\nADDRESS                        4582\nMAIN_ADDRESS                   4583\nLOCALITY                         11\nSTREET_NAME                     174\nSUBLOCALITY                      21\nFORMATTED_ADDRESS              4550\nTYPE                             13\ndtype: int64"
     },
     "execution_count": 487,
     "metadata": {},
     "output_type": "execute_result"
    }
   ],
   "source": [
    "data[list(category_columns)].nunique()"
   ],
   "metadata": {
    "collapsed": false,
    "ExecuteTime": {
     "end_time": "2024-03-23T09:47:24.605996Z",
     "start_time": "2024-03-23T09:47:19.211333Z"
    }
   },
   "id": "7564a61694b7347b"
  },
  {
   "cell_type": "code",
   "execution_count": 488,
   "outputs": [
    {
     "name": "stdout",
     "output_type": "stream",
     "text": [
      "Duplicated rows:  214\n"
     ]
    }
   ],
   "source": [
    "print('Duplicated rows: ', data.duplicated().sum())\n",
    "data.drop_duplicates(inplace=True)"
   ],
   "metadata": {
    "collapsed": false,
    "ExecuteTime": {
     "end_time": "2024-03-23T09:47:24.653168Z",
     "start_time": "2024-03-23T09:47:19.229423Z"
    }
   },
   "id": "ec98b88e727461af"
  },
  {
   "cell_type": "code",
   "execution_count": 488,
   "outputs": [],
   "source": [],
   "metadata": {
    "collapsed": false,
    "ExecuteTime": {
     "end_time": "2024-03-23T09:47:24.653356Z",
     "start_time": "2024-03-23T09:47:19.265113Z"
    }
   },
   "id": "5194452075040ac0"
  },
  {
   "cell_type": "markdown",
   "source": [
    "Brokertitle"
   ],
   "metadata": {
    "collapsed": false
   },
   "id": "8061c36dc599d4d0"
  },
  {
   "cell_type": "code",
   "execution_count": 489,
   "outputs": [],
   "source": [
    "data['BROKER'] = data['BROKERTITLE'].str.replace('llc','')\n",
    "data['BROKER'] = data['BROKER'].str.replace('inc','')\n",
    "data['BROKER'] = data['BROKER'].str.replace('rlty','realty')\n",
    "data['BROKER'] = data['BROKER'].str.replace('.','')\n",
    "def split_by_delimeter(value, separator):\n",
    "    result = value.split(separator)[0] if separator in value else value\n",
    "    result = result.strip()\n",
    "    return result\n",
    "\n",
    "data['BROKER'] = data['BROKER'].apply(lambda x: split_by_delimeter(x, ' -'))"
   ],
   "metadata": {
    "collapsed": false,
    "ExecuteTime": {
     "end_time": "2024-03-23T09:47:24.653463Z",
     "start_time": "2024-03-23T09:47:19.281863Z"
    }
   },
   "id": "7c7f717b867c2565"
  },
  {
   "cell_type": "markdown",
   "source": [
    "TYPE"
   ],
   "metadata": {
    "collapsed": false
   },
   "id": "13c5a057e75cf393"
  },
  {
   "cell_type": "code",
   "execution_count": 490,
   "outputs": [
    {
     "data": {
      "text/plain": "          BATH  BEDS\n75    2.373861     3\n77    2.373861     3\n78    2.373861     3\n360   2.373861     3\n377   2.373861     3\n392   2.373861     3\n397   2.373861     3\n400   2.000000     3\n401   2.373861     3\n402   2.373861     3\n406   2.373861     3\n407   2.373861     3\n408   2.373861     3\n409   2.373861     3\n410   2.373861     3\n411   2.373861     3\n412   2.373861     3\n413   2.373861     3\n414   2.373861     3\n416   2.373861     3\n417   2.373861     3\n418   2.373861     3\n419   2.373861     3\n420   2.373861     3\n422   2.373861     3\n424   2.373861     3\n425   2.373861     3\n426   2.373861     3\n427   2.373861     3\n431   2.373861     3\n458   2.373861     3\n481   2.373861     3\n528   2.373861     3\n1262  2.373861     3\n1418  2.373861     3\n1616  2.373861     3\n2429  2.373861     3\n3094  2.373861     3\n3513  2.373861     3\n3599  2.373861     3\n3756  2.373861     3\n4003  2.373861     3\n4085  2.373861     3\n4101  2.373861     3\n4529  2.373861     3\n4570  2.373861     3\n4727  2.373861     3",
      "text/html": "<div>\n<style scoped>\n    .dataframe tbody tr th:only-of-type {\n        vertical-align: middle;\n    }\n\n    .dataframe tbody tr th {\n        vertical-align: top;\n    }\n\n    .dataframe thead th {\n        text-align: right;\n    }\n</style>\n<table border=\"1\" class=\"dataframe\">\n  <thead>\n    <tr style=\"text-align: right;\">\n      <th></th>\n      <th>BATH</th>\n      <th>BEDS</th>\n    </tr>\n  </thead>\n  <tbody>\n    <tr>\n      <th>75</th>\n      <td>2.373861</td>\n      <td>3</td>\n    </tr>\n    <tr>\n      <th>77</th>\n      <td>2.373861</td>\n      <td>3</td>\n    </tr>\n    <tr>\n      <th>78</th>\n      <td>2.373861</td>\n      <td>3</td>\n    </tr>\n    <tr>\n      <th>360</th>\n      <td>2.373861</td>\n      <td>3</td>\n    </tr>\n    <tr>\n      <th>377</th>\n      <td>2.373861</td>\n      <td>3</td>\n    </tr>\n    <tr>\n      <th>392</th>\n      <td>2.373861</td>\n      <td>3</td>\n    </tr>\n    <tr>\n      <th>397</th>\n      <td>2.373861</td>\n      <td>3</td>\n    </tr>\n    <tr>\n      <th>400</th>\n      <td>2.000000</td>\n      <td>3</td>\n    </tr>\n    <tr>\n      <th>401</th>\n      <td>2.373861</td>\n      <td>3</td>\n    </tr>\n    <tr>\n      <th>402</th>\n      <td>2.373861</td>\n      <td>3</td>\n    </tr>\n    <tr>\n      <th>406</th>\n      <td>2.373861</td>\n      <td>3</td>\n    </tr>\n    <tr>\n      <th>407</th>\n      <td>2.373861</td>\n      <td>3</td>\n    </tr>\n    <tr>\n      <th>408</th>\n      <td>2.373861</td>\n      <td>3</td>\n    </tr>\n    <tr>\n      <th>409</th>\n      <td>2.373861</td>\n      <td>3</td>\n    </tr>\n    <tr>\n      <th>410</th>\n      <td>2.373861</td>\n      <td>3</td>\n    </tr>\n    <tr>\n      <th>411</th>\n      <td>2.373861</td>\n      <td>3</td>\n    </tr>\n    <tr>\n      <th>412</th>\n      <td>2.373861</td>\n      <td>3</td>\n    </tr>\n    <tr>\n      <th>413</th>\n      <td>2.373861</td>\n      <td>3</td>\n    </tr>\n    <tr>\n      <th>414</th>\n      <td>2.373861</td>\n      <td>3</td>\n    </tr>\n    <tr>\n      <th>416</th>\n      <td>2.373861</td>\n      <td>3</td>\n    </tr>\n    <tr>\n      <th>417</th>\n      <td>2.373861</td>\n      <td>3</td>\n    </tr>\n    <tr>\n      <th>418</th>\n      <td>2.373861</td>\n      <td>3</td>\n    </tr>\n    <tr>\n      <th>419</th>\n      <td>2.373861</td>\n      <td>3</td>\n    </tr>\n    <tr>\n      <th>420</th>\n      <td>2.373861</td>\n      <td>3</td>\n    </tr>\n    <tr>\n      <th>422</th>\n      <td>2.373861</td>\n      <td>3</td>\n    </tr>\n    <tr>\n      <th>424</th>\n      <td>2.373861</td>\n      <td>3</td>\n    </tr>\n    <tr>\n      <th>425</th>\n      <td>2.373861</td>\n      <td>3</td>\n    </tr>\n    <tr>\n      <th>426</th>\n      <td>2.373861</td>\n      <td>3</td>\n    </tr>\n    <tr>\n      <th>427</th>\n      <td>2.373861</td>\n      <td>3</td>\n    </tr>\n    <tr>\n      <th>431</th>\n      <td>2.373861</td>\n      <td>3</td>\n    </tr>\n    <tr>\n      <th>458</th>\n      <td>2.373861</td>\n      <td>3</td>\n    </tr>\n    <tr>\n      <th>481</th>\n      <td>2.373861</td>\n      <td>3</td>\n    </tr>\n    <tr>\n      <th>528</th>\n      <td>2.373861</td>\n      <td>3</td>\n    </tr>\n    <tr>\n      <th>1262</th>\n      <td>2.373861</td>\n      <td>3</td>\n    </tr>\n    <tr>\n      <th>1418</th>\n      <td>2.373861</td>\n      <td>3</td>\n    </tr>\n    <tr>\n      <th>1616</th>\n      <td>2.373861</td>\n      <td>3</td>\n    </tr>\n    <tr>\n      <th>2429</th>\n      <td>2.373861</td>\n      <td>3</td>\n    </tr>\n    <tr>\n      <th>3094</th>\n      <td>2.373861</td>\n      <td>3</td>\n    </tr>\n    <tr>\n      <th>3513</th>\n      <td>2.373861</td>\n      <td>3</td>\n    </tr>\n    <tr>\n      <th>3599</th>\n      <td>2.373861</td>\n      <td>3</td>\n    </tr>\n    <tr>\n      <th>3756</th>\n      <td>2.373861</td>\n      <td>3</td>\n    </tr>\n    <tr>\n      <th>4003</th>\n      <td>2.373861</td>\n      <td>3</td>\n    </tr>\n    <tr>\n      <th>4085</th>\n      <td>2.373861</td>\n      <td>3</td>\n    </tr>\n    <tr>\n      <th>4101</th>\n      <td>2.373861</td>\n      <td>3</td>\n    </tr>\n    <tr>\n      <th>4529</th>\n      <td>2.373861</td>\n      <td>3</td>\n    </tr>\n    <tr>\n      <th>4570</th>\n      <td>2.373861</td>\n      <td>3</td>\n    </tr>\n    <tr>\n      <th>4727</th>\n      <td>2.373861</td>\n      <td>3</td>\n    </tr>\n  </tbody>\n</table>\n</div>"
     },
     "execution_count": 490,
     "metadata": {},
     "output_type": "execute_result"
    }
   ],
   "source": [
    "data.loc[data['TYPE'] == 'land for sale', ['BATH', 'BEDS']]\n"
   ],
   "metadata": {
    "collapsed": false,
    "ExecuteTime": {
     "end_time": "2024-03-23T09:47:24.654353Z",
     "start_time": "2024-03-23T09:47:19.304224Z"
    }
   },
   "id": "a02c3829f97bb81d"
  },
  {
   "cell_type": "code",
   "execution_count": 491,
   "outputs": [],
   "source": [
    "data.loc[data['TYPE'] == 'land for sale', ['BATH', 'BEDS']]= 0\n",
    "data[\"TYPE\"] = data[\"TYPE\"].str.replace('condop', 'condo')\n",
    "\n",
    "data['ANNOUNCEMENT_TYPE'] = data['TYPE'].replace({\n",
    "                                    'condo for sale': 'apartment',\n",
    "                                     'townhouse for sale': 'home',\n",
    "                                     'house for sale': 'home',\n",
    "                                     'multi-family home for sale': 'home',\n",
    "                                     'co-op for sale': 'co-op',\n",
    "                                     'mobile house for sale': 'home',\n",
    "                                     'land for sale': 'land',\n",
    "                                     'foreclosure': 'other',\n",
    "                                     'contingent': 'other',\n",
    "                                     'pending': 'other',\n",
    "                                     'coming soon': 'other',\n",
    "                                    'for sale': 'other'})\n",
    "data[\"TYPE\"] = data[\"TYPE\"].str.replace(\" for sale\", \"\")"
   ],
   "metadata": {
    "collapsed": false,
    "ExecuteTime": {
     "end_time": "2024-03-23T09:47:24.654661Z",
     "start_time": "2024-03-23T09:47:19.320548Z"
    }
   },
   "id": "96d7ea141f465f68"
  },
  {
   "cell_type": "markdown",
   "source": [
    "PRICE"
   ],
   "metadata": {
    "collapsed": false
   },
   "id": "75060b84408ac6d7"
  },
  {
   "cell_type": "code",
   "execution_count": 492,
   "outputs": [],
   "source": [
    "data.drop(data.loc[(data[\"PRICE\"] > 100000000) | (data[\"PRICE\"]<10000)].index, inplace= True)\n",
    "data['PRICE'] = data['PRICE'].astype(float)"
   ],
   "metadata": {
    "collapsed": false,
    "ExecuteTime": {
     "end_time": "2024-03-23T09:47:24.655063Z",
     "start_time": "2024-03-23T09:47:19.331775Z"
    }
   },
   "id": "c3bd21c1cd7bc1f9"
  },
  {
   "cell_type": "markdown",
   "source": [
    "BATH, BEDS"
   ],
   "metadata": {
    "collapsed": false
   },
   "id": "d5408a2f35e3070"
  },
  {
   "cell_type": "code",
   "execution_count": 493,
   "outputs": [
    {
     "data": {
      "text/plain": "BATH\n2.000000     1592\n1.000000     1454\n4.000000      464\n3.000000      447\n2.373861      242\n6.000000      133\n5.000000       95\n0.000000       48\n8.000000       43\n7.000000       23\n10.000000      15\n9.000000        7\n16.000000       5\n20.000000       3\n12.000000       3\n11.000000       2\n32.000000       1\n13.000000       1\n50.000000       1\n24.000000       1\n43.000000       1\n17.000000       1\nName: count, dtype: int64"
     },
     "execution_count": 493,
     "metadata": {},
     "output_type": "execute_result"
    }
   ],
   "source": [
    "data['BATH'].value_counts()"
   ],
   "metadata": {
    "collapsed": false,
    "ExecuteTime": {
     "end_time": "2024-03-23T09:47:24.655580Z",
     "start_time": "2024-03-23T09:47:19.341913Z"
    }
   },
   "id": "94604972e465f119"
  },
  {
   "cell_type": "code",
   "execution_count": 494,
   "outputs": [
    {
     "data": {
      "text/plain": "BEDS\n3     1349\n2      949\n1      779\n4      544\n5      339\n6      260\n7       98\n8       81\n0       46\n9       38\n12      22\n10      21\n11      20\n14       6\n15       5\n13       5\n16       4\n20       3\n24       3\n32       2\n35       1\n50       1\n36       1\n42       1\n40       1\n30       1\n19       1\n18       1\nName: count, dtype: int64"
     },
     "execution_count": 494,
     "metadata": {},
     "output_type": "execute_result"
    }
   ],
   "source": [
    "data['BEDS'].value_counts()"
   ],
   "metadata": {
    "collapsed": false,
    "ExecuteTime": {
     "end_time": "2024-03-23T09:47:24.655988Z",
     "start_time": "2024-03-23T09:47:19.349846Z"
    }
   },
   "id": "6a9756be2df55314"
  },
  {
   "cell_type": "code",
   "execution_count": 495,
   "outputs": [
    {
     "data": {
      "text/plain": "PROPERTYSQFT1000\n2.0     2035\n1.0     1157\n0.0      817\n3.0      258\n4.0      111\n5.0       75\n6.0       41\n7.0       22\n8.0       18\n9.0        9\n12.0       8\n10.0       6\n11.0       4\n15.0       3\n18.0       2\n17.0       2\n14.0       1\n48.0       1\n20.0       1\n22.0       1\n24.0       1\n21.0       1\n16.0       1\n55.0       1\n13.0       1\n33.0       1\n27.0       1\n23.0       1\n32.0       1\n65.0       1\nName: count, dtype: int64"
     },
     "execution_count": 495,
     "metadata": {},
     "output_type": "execute_result"
    }
   ],
   "source": [
    "data['PROPERTYSQFT1000'] = data['PROPERTYSQFT'].apply(lambda x: x//1000)\n",
    "data['PROPERTYSQFT1000'].value_counts()\n"
   ],
   "metadata": {
    "collapsed": false,
    "ExecuteTime": {
     "end_time": "2024-03-23T09:47:24.656593Z",
     "start_time": "2024-03-23T09:47:19.361176Z"
    }
   },
   "id": "6f4a5e814ced4a07"
  },
  {
   "cell_type": "code",
   "execution_count": 496,
   "outputs": [],
   "source": [
    "data = data[(data['BATH'] >= 0) & (data['BATH'] <= 10)]\n",
    "data = data[(data['BEDS'] >= 0) & (data['BEDS'] <= 12)]\n",
    "data['BATH'] = data['BATH'].apply(lambda x: x if float.is_integer(x) else int(x))\n",
    "data = data[(data['PROPERTYSQFT1000'] >= 0) & (data['PROPERTYSQFT1000'] <= 8)]\n",
    "\n",
    "data['PROPERTYSQFT'] = data['PROPERTYSQFT'].round(2)"
   ],
   "metadata": {
    "collapsed": false,
    "ExecuteTime": {
     "end_time": "2024-03-23T09:47:24.685002Z",
     "start_time": "2024-03-23T09:47:19.368395Z"
    }
   },
   "id": "71f3a5434a8eb2b4"
  },
  {
   "cell_type": "markdown",
   "source": [
    "Cleaning adresses"
   ],
   "metadata": {
    "collapsed": false
   },
   "id": "161fd490c0807e78"
  },
  {
   "cell_type": "code",
   "execution_count": 497,
   "outputs": [],
   "source": [
    "(data[\"ADDRESS\"] + data[\"STATE\"] == data[\"MAIN_ADDRESS\"]).unique()\n",
    "data.drop(\"MAIN_ADDRESS\", axis=1, inplace=True)"
   ],
   "metadata": {
    "collapsed": false,
    "ExecuteTime": {
     "end_time": "2024-03-23T09:47:24.685274Z",
     "start_time": "2024-03-23T09:47:19.384878Z"
    }
   },
   "id": "c032d96d2a561ce2"
  },
  {
   "cell_type": "code",
   "execution_count": 498,
   "outputs": [],
   "source": [
    "grouped_df = data.groupby('LOCALITY').agg({'LATITUDE': ['mean'],\n",
    "                                      'LONGITUDE': ['mean']})\n",
    "\n",
    "counties = list(set(data['LOCALITY']))\n",
    "data['LOCALITY'] = data['LOCALITY'].str.capitalize()\n",
    "replace_with_closest_county = list(data[data['LOCALITY']=='united states'].index)\n",
    "for ind in replace_with_closest_county:\n",
    "    x1, y1 = data.loc[ind,'LONGITUDE'], data.loc[ind,'LATITUDE']\n",
    "    closest_county,distance = None,20\n",
    "    for county in counties:\n",
    "        x2, y2 = grouped_df.loc[county, ('LONGITUDE', 'mean')], grouped_df.loc[county, ('LATITUDE', 'mean')]\n",
    "        distance_check = abs(x1-x2) + abs(y1-y2)\n",
    "        if distance_check<distance:\n",
    "            distance = distance_check\n",
    "            closest_county = county\n",
    "    data.loc[ind,'LOCALITY'] = county"
   ],
   "metadata": {
    "collapsed": false,
    "ExecuteTime": {
     "end_time": "2024-03-23T09:47:24.687535Z",
     "start_time": "2024-03-23T09:47:19.398109Z"
    }
   },
   "id": "635e06395a229e67"
  },
  {
   "cell_type": "code",
   "execution_count": 499,
   "outputs": [],
   "source": [
    "dictLocality = {\"new york county\": \"manhattan\",  \"kings county\":\"brooklyn\",\"bronx county\":\"the bronx\", \"richmond county\": \"staten island\", \"queens county\":\"queens\"}\n",
    "listOfBoroughs = list(dictLocality.values())"
   ],
   "metadata": {
    "collapsed": false,
    "ExecuteTime": {
     "end_time": "2024-03-23T09:47:24.687771Z",
     "start_time": "2024-03-23T09:47:19.412351Z"
    }
   },
   "id": "e9f7dc69e7cee804"
  },
  {
   "cell_type": "code",
   "execution_count": 500,
   "outputs": [],
   "source": [
    "for c in list(data.columns):\n",
    "  for i in list(dictLocality.keys()):\n",
    "    data[c] = data[c].astype(str).str.replace(i, dictLocality[i])"
   ],
   "metadata": {
    "collapsed": false,
    "ExecuteTime": {
     "end_time": "2024-03-23T09:47:24.718272Z",
     "start_time": "2024-03-23T09:47:19.415613Z"
    }
   },
   "id": "d006256eccffe2f5"
  },
  {
   "cell_type": "code",
   "execution_count": 501,
   "outputs": [],
   "source": [
    "data[\"LOCALITY\"].unique()\n",
    "data.loc[data[\"LOCALITY\"].isin(['manhattan', 'the bronx', 'brooklyn', 'queens', 'staten island']), \"BOROUGH\"] = data['LOCALITY']\n",
    "data[\"BOROUGH\"].unique()\n",
    "data.loc[data[\"LOCALITY\"] == \"flatbush\", \"NEIGHBOURHOOD\"] = data['LOCALITY']"
   ],
   "metadata": {
    "collapsed": false,
    "ExecuteTime": {
     "end_time": "2024-03-23T09:47:24.718509Z",
     "start_time": "2024-03-23T09:47:19.659400Z"
    }
   },
   "id": "db2792fbfcd7bcc0"
  },
  {
   "cell_type": "code",
   "execution_count": 502,
   "outputs": [
    {
     "data": {
      "text/plain": "                                        BROKERTITLE   TYPE      PRICE BEDS  \\\n0       brokered by douglas elliman  -111 fifth ave  condo   315000.0    2   \n2                            brokered by sowae corp  house   260000.0    4   \n3                               brokered by compass  condo    69000.0    3   \n5                            brokered by sowae corp  house   690000.0    5   \n6     brokered by douglas elliman - 575 madison ave  condo   899500.0    2   \n...                                             ...    ...        ...  ...   \n4796                            brokered by compass  co-op   599000.0    1   \n4797                brokered by mjr real estate llc  co-op   245000.0    1   \n4798  brokered by douglas elliman - 575 madison ave  co-op  1275000.0    1   \n4799        brokered by e realty international corp  condo   598125.0    2   \n4800             brokered by nyc realty brokers llc  co-op   349000.0    1   \n\n     BATH PROPERTYSQFT                    ADDRESS                    STATE  \\\n0     2.0       1400.0       2 e 55th st unit 803       new york, ny 10022   \n2     2.0       2015.0           620 sinclair ave  staten island, ny 10312   \n3     1.0        445.0    2 e 55th st unit 908w33      manhattan, ny 10022   \n5     2.0       4004.0                584 park pl       brooklyn, ny 11238   \n6     2.0      2184.21     157 w 126th st unit 1b       new york, ny 10027   \n...   ...          ...                        ...                      ...   \n4796  1.0      2184.21       222 e 80th st apt 3a      manhattan, ny 10075   \n4797  1.0      2184.21        97-40 62 dr unit lg      rego park, ny 11374   \n4798  1.0      2184.21  427 w 21st st unit garden       new york, ny 10011   \n4799  1.0        655.0   91-23 corona ave unit 4g       elmhurst, ny 11373   \n4800  1.0        750.0    460 neptune ave apt 14o       brooklyn, ny 11224   \n\n     ADMINISTRATIVE_AREA_LEVEL_2         LOCALITY  ...         LONG_NAME  \\\n0                      manhattan         New york  ...   regis residence   \n2                  united states         New york  ...   sinclair avenue   \n3                  united states         New york  ...  east 55th street   \n5                  united states         New york  ...        park place   \n6                       new york  New york county  ...               157   \n...                          ...              ...  ...               ...   \n4796                    new york  New york county  ...               222   \n4797               united states         New york  ...        62nd drive   \n4798               united states         New york  ...  west 21st street   \n4799                    new york    Queens county  ...             91-23   \n4800                    new york     Kings county  ...               460   \n\n                                      FORMATTED_ADDRESS    LATITUDE  \\\n0     regis residence, 2 e 55th st #803, new york, n...   40.761255   \n2        620 sinclair ave, staten island, ny 10312, usa  40.5418051   \n3                  2 e 55th st, new york, ny 10022, usa  40.7613979   \n5                  584 park pl, brooklyn, ny 11238, usa  40.6743632   \n6           157 w 126th st #1b, new york, ny 10027, usa   40.809448   \n...                                                 ...         ...   \n4796         222 e 80th st #3a, new york, ny 10075, usa    40.77435   \n4797            97-40 62nd dr, rego park, ny 11374, usa  40.7325379   \n4798             427 w 21st st, new york, ny 10011, usa  40.7458817   \n4799     91-23 corona ave. #4b, flushing, ny 11373, usa  40.7427705   \n4800      460 neptune ave #14a, brooklyn, ny 11224, usa   40.579147   \n\n        LONGITUDE                                   BROKER ANNOUNCEMENT_TYPE  \\\n0     -73.9744834              brokered by douglas elliman         apartment   \n2     -74.1961086                   brokered by sowae corp              home   \n3     -73.9746128                      brokered by compass         apartment   \n5     -73.9587248                   brokered by sowae corp              home   \n6      -73.946777              brokered by douglas elliman         apartment   \n...           ...                                      ...               ...   \n4796   -73.955879                      brokered by compass             co-op   \n4797  -73.8601516              brokered by mjr real estate             co-op   \n4798  -74.0033976              brokered by douglas elliman             co-op   \n4799  -73.8727516  brokered by e realty international corp         apartment   \n4800  -73.9709488           brokered by nyc realty brokers             co-op   \n\n     PROPERTYSQFT1000        BOROUGH NEIGHBOURHOOD STREET  \n0                 1.0      manhattan           NaN    NaN  \n2                 2.0  staten island           NaN    NaN  \n3                 0.0      manhattan           NaN    NaN  \n5                 4.0       brooklyn           NaN    NaN  \n6                 2.0            NaN           NaN    NaN  \n...               ...            ...           ...    ...  \n4796              2.0            NaN           NaN    NaN  \n4797              2.0         queens           NaN    NaN  \n4798              2.0      manhattan           NaN    NaN  \n4799              0.0         queens           NaN    NaN  \n4800              0.0       brooklyn           NaN    NaN  \n\n[4507 rows x 22 columns]",
      "text/html": "<div>\n<style scoped>\n    .dataframe tbody tr th:only-of-type {\n        vertical-align: middle;\n    }\n\n    .dataframe tbody tr th {\n        vertical-align: top;\n    }\n\n    .dataframe thead th {\n        text-align: right;\n    }\n</style>\n<table border=\"1\" class=\"dataframe\">\n  <thead>\n    <tr style=\"text-align: right;\">\n      <th></th>\n      <th>BROKERTITLE</th>\n      <th>TYPE</th>\n      <th>PRICE</th>\n      <th>BEDS</th>\n      <th>BATH</th>\n      <th>PROPERTYSQFT</th>\n      <th>ADDRESS</th>\n      <th>STATE</th>\n      <th>ADMINISTRATIVE_AREA_LEVEL_2</th>\n      <th>LOCALITY</th>\n      <th>...</th>\n      <th>LONG_NAME</th>\n      <th>FORMATTED_ADDRESS</th>\n      <th>LATITUDE</th>\n      <th>LONGITUDE</th>\n      <th>BROKER</th>\n      <th>ANNOUNCEMENT_TYPE</th>\n      <th>PROPERTYSQFT1000</th>\n      <th>BOROUGH</th>\n      <th>NEIGHBOURHOOD</th>\n      <th>STREET</th>\n    </tr>\n  </thead>\n  <tbody>\n    <tr>\n      <th>0</th>\n      <td>brokered by douglas elliman  -111 fifth ave</td>\n      <td>condo</td>\n      <td>315000.0</td>\n      <td>2</td>\n      <td>2.0</td>\n      <td>1400.0</td>\n      <td>2 e 55th st unit 803</td>\n      <td>new york, ny 10022</td>\n      <td>manhattan</td>\n      <td>New york</td>\n      <td>...</td>\n      <td>regis residence</td>\n      <td>regis residence, 2 e 55th st #803, new york, n...</td>\n      <td>40.761255</td>\n      <td>-73.9744834</td>\n      <td>brokered by douglas elliman</td>\n      <td>apartment</td>\n      <td>1.0</td>\n      <td>manhattan</td>\n      <td>NaN</td>\n      <td>NaN</td>\n    </tr>\n    <tr>\n      <th>2</th>\n      <td>brokered by sowae corp</td>\n      <td>house</td>\n      <td>260000.0</td>\n      <td>4</td>\n      <td>2.0</td>\n      <td>2015.0</td>\n      <td>620 sinclair ave</td>\n      <td>staten island, ny 10312</td>\n      <td>united states</td>\n      <td>New york</td>\n      <td>...</td>\n      <td>sinclair avenue</td>\n      <td>620 sinclair ave, staten island, ny 10312, usa</td>\n      <td>40.5418051</td>\n      <td>-74.1961086</td>\n      <td>brokered by sowae corp</td>\n      <td>home</td>\n      <td>2.0</td>\n      <td>staten island</td>\n      <td>NaN</td>\n      <td>NaN</td>\n    </tr>\n    <tr>\n      <th>3</th>\n      <td>brokered by compass</td>\n      <td>condo</td>\n      <td>69000.0</td>\n      <td>3</td>\n      <td>1.0</td>\n      <td>445.0</td>\n      <td>2 e 55th st unit 908w33</td>\n      <td>manhattan, ny 10022</td>\n      <td>united states</td>\n      <td>New york</td>\n      <td>...</td>\n      <td>east 55th street</td>\n      <td>2 e 55th st, new york, ny 10022, usa</td>\n      <td>40.7613979</td>\n      <td>-73.9746128</td>\n      <td>brokered by compass</td>\n      <td>apartment</td>\n      <td>0.0</td>\n      <td>manhattan</td>\n      <td>NaN</td>\n      <td>NaN</td>\n    </tr>\n    <tr>\n      <th>5</th>\n      <td>brokered by sowae corp</td>\n      <td>house</td>\n      <td>690000.0</td>\n      <td>5</td>\n      <td>2.0</td>\n      <td>4004.0</td>\n      <td>584 park pl</td>\n      <td>brooklyn, ny 11238</td>\n      <td>united states</td>\n      <td>New york</td>\n      <td>...</td>\n      <td>park place</td>\n      <td>584 park pl, brooklyn, ny 11238, usa</td>\n      <td>40.6743632</td>\n      <td>-73.9587248</td>\n      <td>brokered by sowae corp</td>\n      <td>home</td>\n      <td>4.0</td>\n      <td>brooklyn</td>\n      <td>NaN</td>\n      <td>NaN</td>\n    </tr>\n    <tr>\n      <th>6</th>\n      <td>brokered by douglas elliman - 575 madison ave</td>\n      <td>condo</td>\n      <td>899500.0</td>\n      <td>2</td>\n      <td>2.0</td>\n      <td>2184.21</td>\n      <td>157 w 126th st unit 1b</td>\n      <td>new york, ny 10027</td>\n      <td>new york</td>\n      <td>New york county</td>\n      <td>...</td>\n      <td>157</td>\n      <td>157 w 126th st #1b, new york, ny 10027, usa</td>\n      <td>40.809448</td>\n      <td>-73.946777</td>\n      <td>brokered by douglas elliman</td>\n      <td>apartment</td>\n      <td>2.0</td>\n      <td>NaN</td>\n      <td>NaN</td>\n      <td>NaN</td>\n    </tr>\n    <tr>\n      <th>...</th>\n      <td>...</td>\n      <td>...</td>\n      <td>...</td>\n      <td>...</td>\n      <td>...</td>\n      <td>...</td>\n      <td>...</td>\n      <td>...</td>\n      <td>...</td>\n      <td>...</td>\n      <td>...</td>\n      <td>...</td>\n      <td>...</td>\n      <td>...</td>\n      <td>...</td>\n      <td>...</td>\n      <td>...</td>\n      <td>...</td>\n      <td>...</td>\n      <td>...</td>\n      <td>...</td>\n    </tr>\n    <tr>\n      <th>4796</th>\n      <td>brokered by compass</td>\n      <td>co-op</td>\n      <td>599000.0</td>\n      <td>1</td>\n      <td>1.0</td>\n      <td>2184.21</td>\n      <td>222 e 80th st apt 3a</td>\n      <td>manhattan, ny 10075</td>\n      <td>new york</td>\n      <td>New york county</td>\n      <td>...</td>\n      <td>222</td>\n      <td>222 e 80th st #3a, new york, ny 10075, usa</td>\n      <td>40.77435</td>\n      <td>-73.955879</td>\n      <td>brokered by compass</td>\n      <td>co-op</td>\n      <td>2.0</td>\n      <td>NaN</td>\n      <td>NaN</td>\n      <td>NaN</td>\n    </tr>\n    <tr>\n      <th>4797</th>\n      <td>brokered by mjr real estate llc</td>\n      <td>co-op</td>\n      <td>245000.0</td>\n      <td>1</td>\n      <td>1.0</td>\n      <td>2184.21</td>\n      <td>97-40 62 dr unit lg</td>\n      <td>rego park, ny 11374</td>\n      <td>united states</td>\n      <td>New york</td>\n      <td>...</td>\n      <td>62nd drive</td>\n      <td>97-40 62nd dr, rego park, ny 11374, usa</td>\n      <td>40.7325379</td>\n      <td>-73.8601516</td>\n      <td>brokered by mjr real estate</td>\n      <td>co-op</td>\n      <td>2.0</td>\n      <td>queens</td>\n      <td>NaN</td>\n      <td>NaN</td>\n    </tr>\n    <tr>\n      <th>4798</th>\n      <td>brokered by douglas elliman - 575 madison ave</td>\n      <td>co-op</td>\n      <td>1275000.0</td>\n      <td>1</td>\n      <td>1.0</td>\n      <td>2184.21</td>\n      <td>427 w 21st st unit garden</td>\n      <td>new york, ny 10011</td>\n      <td>united states</td>\n      <td>New york</td>\n      <td>...</td>\n      <td>west 21st street</td>\n      <td>427 w 21st st, new york, ny 10011, usa</td>\n      <td>40.7458817</td>\n      <td>-74.0033976</td>\n      <td>brokered by douglas elliman</td>\n      <td>co-op</td>\n      <td>2.0</td>\n      <td>manhattan</td>\n      <td>NaN</td>\n      <td>NaN</td>\n    </tr>\n    <tr>\n      <th>4799</th>\n      <td>brokered by e realty international corp</td>\n      <td>condo</td>\n      <td>598125.0</td>\n      <td>2</td>\n      <td>1.0</td>\n      <td>655.0</td>\n      <td>91-23 corona ave unit 4g</td>\n      <td>elmhurst, ny 11373</td>\n      <td>new york</td>\n      <td>Queens county</td>\n      <td>...</td>\n      <td>91-23</td>\n      <td>91-23 corona ave. #4b, flushing, ny 11373, usa</td>\n      <td>40.7427705</td>\n      <td>-73.8727516</td>\n      <td>brokered by e realty international corp</td>\n      <td>apartment</td>\n      <td>0.0</td>\n      <td>queens</td>\n      <td>NaN</td>\n      <td>NaN</td>\n    </tr>\n    <tr>\n      <th>4800</th>\n      <td>brokered by nyc realty brokers llc</td>\n      <td>co-op</td>\n      <td>349000.0</td>\n      <td>1</td>\n      <td>1.0</td>\n      <td>750.0</td>\n      <td>460 neptune ave apt 14o</td>\n      <td>brooklyn, ny 11224</td>\n      <td>new york</td>\n      <td>Kings county</td>\n      <td>...</td>\n      <td>460</td>\n      <td>460 neptune ave #14a, brooklyn, ny 11224, usa</td>\n      <td>40.579147</td>\n      <td>-73.9709488</td>\n      <td>brokered by nyc realty brokers</td>\n      <td>co-op</td>\n      <td>0.0</td>\n      <td>brooklyn</td>\n      <td>NaN</td>\n      <td>NaN</td>\n    </tr>\n  </tbody>\n</table>\n<p>4507 rows × 22 columns</p>\n</div>"
     },
     "execution_count": 502,
     "metadata": {},
     "output_type": "execute_result"
    }
   ],
   "source": [
    "data[\"SUBLOCALITY\"].unique()\n",
    "data.loc[(data[\"SUBLOCALITY\"].isin(listOfBoroughs)) &(data[\"BOROUGH\"].isna()) , \"BOROUGH\"] = data[\"SUBLOCALITY\"]\n",
    "data.loc[data[\"SUBLOCALITY\"] == \"snyder avenue\" , \"STREET\"] = data[\"SUBLOCALITY\"]\n",
    "data.loc[(data[\"SUBLOCALITY\"].isin(list(filter(lambda x: x not in listOfBoroughs, list(data[\"SUBLOCALITY\"]))))) & (~(data[\"SUBLOCALITY\"].isin([\"new york\", \"snyder avenue\"]))) , \"NEIGHBOURHOOD\"] = data[\"SUBLOCALITY\"]\n",
    "data\n"
   ],
   "metadata": {
    "collapsed": false,
    "ExecuteTime": {
     "end_time": "2024-03-23T09:47:24.719481Z",
     "start_time": "2024-03-23T09:47:19.671619Z"
    }
   },
   "id": "449d78eeac0f7752"
  },
  {
   "cell_type": "code",
   "execution_count": 503,
   "outputs": [],
   "source": [
    "data[\"ADMINISTRATIVE_AREA_LEVEL_2\"].unique()\n",
    "data.loc[(data[\"ADMINISTRATIVE_AREA_LEVEL_2\"].isin(listOfBoroughs)) &(data[\"BOROUGH\"].isna()) , \"BOROUGH\"] = data[\"ADMINISTRATIVE_AREA_LEVEL_2\"]\n",
    "data.loc[(data[\"ADMINISTRATIVE_AREA_LEVEL_2\"].isin(list(filter(lambda x: x not in listOfBoroughs, list(data[\"ADMINISTRATIVE_AREA_LEVEL_2\"]))))) & (data[\"ADMINISTRATIVE_AREA_LEVEL_2\"] != \"new york\") & (data[\"ADMINISTRATIVE_AREA_LEVEL_2\"] != \"united states\") , \"POSTCODE\"] = data[\"ADMINISTRATIVE_AREA_LEVEL_2\"]"
   ],
   "metadata": {
    "collapsed": false,
    "ExecuteTime": {
     "end_time": "2024-03-23T09:47:24.719630Z",
     "start_time": "2024-03-23T09:47:19.739679Z"
    }
   },
   "id": "f386c487ead06f08"
  },
  {
   "cell_type": "code",
   "execution_count": 504,
   "outputs": [
    {
     "data": {
      "text/plain": "array(['east 55th street', 'staten island', 'new york', 'brooklyn',\n       'manhattan', 'morrison avenue', 'midwood', 'concourse village',\n       'flushing', 'elmhurst', 'annadale', 'queens', 'fort hamilton',\n       'north riverdale', 'rego park', 'forest hills', 'the bronx',\n       'dongan hills', 'jackson heights', 'clifton', 'mariners harbor',\n       'dyker heights', 'williamsburg', 'concourse', 'mid island',\n       'centre street', 'cobble hill', 'park slope', 'brighton beach',\n       'flatbush', 'prospect heights', 'woodhaven', 'bedford-stuyvesant',\n       'jamaica', 'spuyten duyvil', 'bay ridge', 'shore acres', 'bayside',\n       'glen oaks', 'fresh meadows', 'highbridge', 'sheepshead bay',\n       'rector place', 'kew gardens', 'bushwick', 'hudson hill',\n       'rosedale', 'east bronx', 'parkchester', 'borough park',\n       'brooklyn heights', 'little haiti', 'canarsie', 'kensington',\n       'east 110th street', 'east new york', 'pelham bay', 'howard beach',\n       'downtown brooklyn', 'city island', 'fieldston',\n       'westchester square', 'rockaway park', 'riverdale', 'bulls head',\n       'gerritsen beach', 'crown heights', 'new dorp', 'west bronx',\n       'ocean hill', 'gravesend', 'castleton corners', 'seagate',\n       'gowanus', 'windsor terrace', 'bath beach', 'norwood',\n       'whitestone', 'surf avenue', 'great kills', 'homecrest',\n       'long island city', 'woodside', 'maspeth', 'sunset park',\n       'douglaston', 'queens village', 'astoria', 'dumbo',\n       'new springville', 'corona', 'madison', 'bensonhurst',\n       'fordham manor', 'greenpoint', 'coney island', 'mill basin',\n       'carroll gardens', 'old fulton street', 'ozone park',\n       'east 74th street', 'floral park', '35th avenue', 'far rockaway',\n       'beechhurst', 'henry hudson parkway', 'rosebank', 'kingsbridge',\n       'bergen beach', 'ridgewood', 'oakwood', 'clinton hill',\n       'richmond hill', 'auburndale', 'southside', 'little caribbean',\n       'peck slip', 'fort greene', 'boerum hill', 'foxhurst', 'red hook',\n       'columbia street waterfront district', 'east flatbush',\n       'sunnyside', 'flatlands', 'mapleton', '98th place',\n       'east 22nd street', 'manhattan beach', 'east elmhurst',\n       'oxford avenue', 'bay terrace', 'arverne', 'midland beach',\n       'vinegar hill', 'little neck', 'west brighton', 'east 96th street',\n       'clason point', '5th avenue', 'shore road', 'west 56th street',\n       'middle village', 'west 111th street', 'prospect lefferts gardens',\n       'woodstock', 'melrose', 'east 10th street', '139th street',\n       'park avenue', 'west 65th street', 'john street',\n       'east end avenue', 'brownsville', '3g', 'west 13th street',\n       'college point', 'central park west', 'east 88th street',\n       'allerton', 'morrisania', 'west 64th street', '61st street',\n       'cypress hills', '2501', '67th drive', 'todt hill',\n       'saunders street', 'mount eden'], dtype=object)"
     },
     "execution_count": 504,
     "metadata": {},
     "output_type": "execute_result"
    }
   ],
   "source": [
    "data[\"STREET_NAME\"].unique()"
   ],
   "metadata": {
    "collapsed": false,
    "ExecuteTime": {
     "end_time": "2024-03-23T09:47:24.720077Z",
     "start_time": "2024-03-23T09:47:19.745009Z"
    }
   },
   "id": "1871aff7b4b115a0"
  },
  {
   "cell_type": "code",
   "execution_count": 505,
   "outputs": [
    {
     "data": {
      "text/plain": "['east 55th streetreet',\n 'morrison avenuenue',\n 'centre streetreet',\n 'east 110th streetreet',\n 'surf avenuenue',\n 'old fulton streetreet',\n 'east 74th streetreet',\n '35th avenuenue',\n 'henry hudson parkway',\n 'surf avenuenue',\n 'columbia streetreet waterfront district',\n 'east 22nd streetreet',\n 'oxford avenuenue',\n 'east 96th streetreet',\n '5th avenuenue',\n 'shore road',\n 'west 56th streetreet',\n 'west 111th streetreet',\n 'east 10th streetreet',\n '139th streetreet',\n 'park avenuenue',\n 'west 65th streetreet',\n 'john streetreet',\n 'east end avenuenue',\n '5th avenuenue',\n 'west 13th streetreet',\n 'oxford avenuenue',\n 'east 88th streetreet',\n 'west 64th streetreet',\n '61st streetreet',\n '67th driveive',\n 'saunders streetreet',\n 'east 55th streetreet',\n 'west 56th streetreet',\n 'surf avenuenue']"
     },
     "execution_count": 505,
     "metadata": {},
     "output_type": "execute_result"
    }
   ],
   "source": [
    "addresses_shortcut = {\n",
    "        ' st': ' street',\n",
    "        ' ave': ' avenue',\n",
    "        ' rd': ' road',\n",
    "        ' blvd': ' boulevard',\n",
    "        ' dr': ' drive',\n",
    "        ' pkwy': ' parkway',\n",
    "        ' ct': ' court',\n",
    "        ' ln': ' lane',\n",
    "        ' pl': ' place',\n",
    "        ' sq': ' square',\n",
    "        ' apt': '',\n",
    "        ' ste': '',\n",
    "        ' num': ''\n",
    "    }\n",
    "\n",
    "for add in addresses_shortcut.keys():\n",
    "    data['STREET_NAME'] = data['STREET_NAME'].str.replace(add, addresses_shortcut[add])\n",
    "\n",
    "streets = []\n",
    "keyWords = [\"street\", \"parkway\", \"avenue\", \"drive\", \"road\"]\n",
    "for street_name in data[\"STREET_NAME\"]:\n",
    "    for keyword in keyWords:\n",
    "        if keyword in street_name:\n",
    "            streets.append(street_name)\n",
    "            break\n",
    "\n",
    "streets"
   ],
   "metadata": {
    "collapsed": false,
    "ExecuteTime": {
     "end_time": "2024-03-23T09:47:24.720372Z",
     "start_time": "2024-03-23T09:47:19.790822Z"
    }
   },
   "id": "cba2f678ebd4526e"
  },
  {
   "cell_type": "code",
   "execution_count": 506,
   "outputs": [],
   "source": [
    "\n",
    "data.loc[(data[\"STREET_NAME\"].isin(listOfBoroughs))& (data[\"BOROUGH\"].isna()), \"BOROUGH\"] = data[\"STREET_NAME\"]\n",
    "data.loc[(data[\"STREET_NAME\"].isin(list(filter(lambda x: (x not in streets) & (x != \"new york\") & (x not in listOfBoroughs), list(data[\"STREET_NAME\"]))))) & (data[\"NEIGHBOURHOOD\"].isna()), \"NEIGHBOURHOOD\"] = data[\"STREET_NAME\"]\n",
    "data.loc[(data[\"STREET_NAME\"].isin(streets)) & (data[\"STREET\"].isna()), \"STREET\"] = data[\"STREET_NAME\"]"
   ],
   "metadata": {
    "collapsed": false,
    "ExecuteTime": {
     "end_time": "2024-03-23T09:47:24.720481Z",
     "start_time": "2024-03-23T09:47:19.795829Z"
    }
   },
   "id": "3c132e6447554206"
  },
  {
   "cell_type": "code",
   "execution_count": 507,
   "outputs": [
    {
     "data": {
      "text/plain": "                                        BROKERTITLE   TYPE      PRICE BEDS  \\\n0       brokered by douglas elliman  -111 fifth ave  condo   315000.0    2   \n2                            brokered by sowae corp  house   260000.0    4   \n3                               brokered by compass  condo    69000.0    3   \n5                            brokered by sowae corp  house   690000.0    5   \n6     brokered by douglas elliman - 575 madison ave  condo   899500.0    2   \n...                                             ...    ...        ...  ...   \n4796                            brokered by compass  co-op   599000.0    1   \n4797                brokered by mjr real estate llc  co-op   245000.0    1   \n4798  brokered by douglas elliman - 575 madison ave  co-op  1275000.0    1   \n4799        brokered by e realty international corp  condo   598125.0    2   \n4800             brokered by nyc realty brokers llc  co-op   349000.0    1   \n\n     BATH PROPERTYSQFT                    ADDRESS                    STATE  \\\n0     2.0       1400.0       2 e 55th st unit 803       New york, ny 10022   \n2     2.0       2015.0           620 sinclair ave  Staten island, ny 10312   \n3     1.0        445.0    2 e 55th st unit 908w33      Manhattan, ny 10022   \n5     2.0       4004.0                584 park pl       Brooklyn, ny 11238   \n6     2.0      2184.21     157 w 126th st unit 1b       New york, ny 10027   \n...   ...          ...                        ...                      ...   \n4796  1.0      2184.21       222 e 80th st apt 3a      Manhattan, ny 10075   \n4797  1.0      2184.21        97-40 62 dr unit lg      Rego park, ny 11374   \n4798  1.0      2184.21  427 w 21st st unit garden       New york, ny 10011   \n4799  1.0        655.0   91-23 corona ave unit 4g       Elmhurst, ny 11373   \n4800  1.0        750.0    460 neptune ave apt 14o       Brooklyn, ny 11224   \n\n     ADMINISTRATIVE_AREA_LEVEL_2         LOCALITY  ...  \\\n0                      manhattan         New york  ...   \n2                  united states         New york  ...   \n3                  united states         New york  ...   \n5                  united states         New york  ...   \n6                       new york  New york county  ...   \n...                          ...              ...  ...   \n4796                    new york  New york county  ...   \n4797               united states         New york  ...   \n4798               united states         New york  ...   \n4799                    new york    Queens county  ...   \n4800                    new york     Kings county  ...   \n\n                                      FORMATTED_ADDRESS    LATITUDE  \\\n0     regis residence, 2 e 55th st #803, new york, n...   40.761255   \n2        620 sinclair ave, staten island, ny 10312, usa  40.5418051   \n3                  2 e 55th st, new york, ny 10022, usa  40.7613979   \n5                  584 park pl, brooklyn, ny 11238, usa  40.6743632   \n6           157 w 126th st #1b, new york, ny 10027, usa   40.809448   \n...                                                 ...         ...   \n4796         222 e 80th st #3a, new york, ny 10075, usa    40.77435   \n4797            97-40 62nd dr, rego park, ny 11374, usa  40.7325379   \n4798             427 w 21st st, new york, ny 10011, usa  40.7458817   \n4799     91-23 corona ave. #4b, flushing, ny 11373, usa  40.7427705   \n4800      460 neptune ave #14a, brooklyn, ny 11224, usa   40.579147   \n\n        LONGITUDE                                   BROKER ANNOUNCEMENT_TYPE  \\\n0     -73.9744834              brokered by douglas elliman         apartment   \n2     -74.1961086                   brokered by sowae corp              home   \n3     -73.9746128                      brokered by compass         apartment   \n5     -73.9587248                   brokered by sowae corp              home   \n6      -73.946777              brokered by douglas elliman         apartment   \n...           ...                                      ...               ...   \n4796   -73.955879                      brokered by compass             co-op   \n4797  -73.8601516              brokered by mjr real estate             co-op   \n4798  -74.0033976              brokered by douglas elliman             co-op   \n4799  -73.8727516  brokered by e realty international corp         apartment   \n4800  -73.9709488           brokered by nyc realty brokers             co-op   \n\n     PROPERTYSQFT1000        BOROUGH NEIGHBOURHOOD                STREET  \\\n0                 1.0      manhattan           NaN  east 55th streetreet   \n2                 2.0  staten island           NaN                   NaN   \n3                 0.0      manhattan           NaN                   NaN   \n5                 4.0       brooklyn           NaN                   NaN   \n6                 2.0      manhattan           NaN                   NaN   \n...               ...            ...           ...                   ...   \n4796              2.0      manhattan           NaN                   NaN   \n4797              2.0         queens           NaN                   NaN   \n4798              2.0      manhattan           NaN                   NaN   \n4799              0.0         queens      flushing                   NaN   \n4800              0.0       brooklyn  coney island                   NaN   \n\n     POSTCODE  \n0         NaN  \n2         NaN  \n3         NaN  \n5         NaN  \n6         NaN  \n...       ...  \n4796      NaN  \n4797      NaN  \n4798      NaN  \n4799      NaN  \n4800      NaN  \n\n[4507 rows x 23 columns]",
      "text/html": "<div>\n<style scoped>\n    .dataframe tbody tr th:only-of-type {\n        vertical-align: middle;\n    }\n\n    .dataframe tbody tr th {\n        vertical-align: top;\n    }\n\n    .dataframe thead th {\n        text-align: right;\n    }\n</style>\n<table border=\"1\" class=\"dataframe\">\n  <thead>\n    <tr style=\"text-align: right;\">\n      <th></th>\n      <th>BROKERTITLE</th>\n      <th>TYPE</th>\n      <th>PRICE</th>\n      <th>BEDS</th>\n      <th>BATH</th>\n      <th>PROPERTYSQFT</th>\n      <th>ADDRESS</th>\n      <th>STATE</th>\n      <th>ADMINISTRATIVE_AREA_LEVEL_2</th>\n      <th>LOCALITY</th>\n      <th>...</th>\n      <th>FORMATTED_ADDRESS</th>\n      <th>LATITUDE</th>\n      <th>LONGITUDE</th>\n      <th>BROKER</th>\n      <th>ANNOUNCEMENT_TYPE</th>\n      <th>PROPERTYSQFT1000</th>\n      <th>BOROUGH</th>\n      <th>NEIGHBOURHOOD</th>\n      <th>STREET</th>\n      <th>POSTCODE</th>\n    </tr>\n  </thead>\n  <tbody>\n    <tr>\n      <th>0</th>\n      <td>brokered by douglas elliman  -111 fifth ave</td>\n      <td>condo</td>\n      <td>315000.0</td>\n      <td>2</td>\n      <td>2.0</td>\n      <td>1400.0</td>\n      <td>2 e 55th st unit 803</td>\n      <td>New york, ny 10022</td>\n      <td>manhattan</td>\n      <td>New york</td>\n      <td>...</td>\n      <td>regis residence, 2 e 55th st #803, new york, n...</td>\n      <td>40.761255</td>\n      <td>-73.9744834</td>\n      <td>brokered by douglas elliman</td>\n      <td>apartment</td>\n      <td>1.0</td>\n      <td>manhattan</td>\n      <td>NaN</td>\n      <td>east 55th streetreet</td>\n      <td>NaN</td>\n    </tr>\n    <tr>\n      <th>2</th>\n      <td>brokered by sowae corp</td>\n      <td>house</td>\n      <td>260000.0</td>\n      <td>4</td>\n      <td>2.0</td>\n      <td>2015.0</td>\n      <td>620 sinclair ave</td>\n      <td>Staten island, ny 10312</td>\n      <td>united states</td>\n      <td>New york</td>\n      <td>...</td>\n      <td>620 sinclair ave, staten island, ny 10312, usa</td>\n      <td>40.5418051</td>\n      <td>-74.1961086</td>\n      <td>brokered by sowae corp</td>\n      <td>home</td>\n      <td>2.0</td>\n      <td>staten island</td>\n      <td>NaN</td>\n      <td>NaN</td>\n      <td>NaN</td>\n    </tr>\n    <tr>\n      <th>3</th>\n      <td>brokered by compass</td>\n      <td>condo</td>\n      <td>69000.0</td>\n      <td>3</td>\n      <td>1.0</td>\n      <td>445.0</td>\n      <td>2 e 55th st unit 908w33</td>\n      <td>Manhattan, ny 10022</td>\n      <td>united states</td>\n      <td>New york</td>\n      <td>...</td>\n      <td>2 e 55th st, new york, ny 10022, usa</td>\n      <td>40.7613979</td>\n      <td>-73.9746128</td>\n      <td>brokered by compass</td>\n      <td>apartment</td>\n      <td>0.0</td>\n      <td>manhattan</td>\n      <td>NaN</td>\n      <td>NaN</td>\n      <td>NaN</td>\n    </tr>\n    <tr>\n      <th>5</th>\n      <td>brokered by sowae corp</td>\n      <td>house</td>\n      <td>690000.0</td>\n      <td>5</td>\n      <td>2.0</td>\n      <td>4004.0</td>\n      <td>584 park pl</td>\n      <td>Brooklyn, ny 11238</td>\n      <td>united states</td>\n      <td>New york</td>\n      <td>...</td>\n      <td>584 park pl, brooklyn, ny 11238, usa</td>\n      <td>40.6743632</td>\n      <td>-73.9587248</td>\n      <td>brokered by sowae corp</td>\n      <td>home</td>\n      <td>4.0</td>\n      <td>brooklyn</td>\n      <td>NaN</td>\n      <td>NaN</td>\n      <td>NaN</td>\n    </tr>\n    <tr>\n      <th>6</th>\n      <td>brokered by douglas elliman - 575 madison ave</td>\n      <td>condo</td>\n      <td>899500.0</td>\n      <td>2</td>\n      <td>2.0</td>\n      <td>2184.21</td>\n      <td>157 w 126th st unit 1b</td>\n      <td>New york, ny 10027</td>\n      <td>new york</td>\n      <td>New york county</td>\n      <td>...</td>\n      <td>157 w 126th st #1b, new york, ny 10027, usa</td>\n      <td>40.809448</td>\n      <td>-73.946777</td>\n      <td>brokered by douglas elliman</td>\n      <td>apartment</td>\n      <td>2.0</td>\n      <td>manhattan</td>\n      <td>NaN</td>\n      <td>NaN</td>\n      <td>NaN</td>\n    </tr>\n    <tr>\n      <th>...</th>\n      <td>...</td>\n      <td>...</td>\n      <td>...</td>\n      <td>...</td>\n      <td>...</td>\n      <td>...</td>\n      <td>...</td>\n      <td>...</td>\n      <td>...</td>\n      <td>...</td>\n      <td>...</td>\n      <td>...</td>\n      <td>...</td>\n      <td>...</td>\n      <td>...</td>\n      <td>...</td>\n      <td>...</td>\n      <td>...</td>\n      <td>...</td>\n      <td>...</td>\n      <td>...</td>\n    </tr>\n    <tr>\n      <th>4796</th>\n      <td>brokered by compass</td>\n      <td>co-op</td>\n      <td>599000.0</td>\n      <td>1</td>\n      <td>1.0</td>\n      <td>2184.21</td>\n      <td>222 e 80th st apt 3a</td>\n      <td>Manhattan, ny 10075</td>\n      <td>new york</td>\n      <td>New york county</td>\n      <td>...</td>\n      <td>222 e 80th st #3a, new york, ny 10075, usa</td>\n      <td>40.77435</td>\n      <td>-73.955879</td>\n      <td>brokered by compass</td>\n      <td>co-op</td>\n      <td>2.0</td>\n      <td>manhattan</td>\n      <td>NaN</td>\n      <td>NaN</td>\n      <td>NaN</td>\n    </tr>\n    <tr>\n      <th>4797</th>\n      <td>brokered by mjr real estate llc</td>\n      <td>co-op</td>\n      <td>245000.0</td>\n      <td>1</td>\n      <td>1.0</td>\n      <td>2184.21</td>\n      <td>97-40 62 dr unit lg</td>\n      <td>Rego park, ny 11374</td>\n      <td>united states</td>\n      <td>New york</td>\n      <td>...</td>\n      <td>97-40 62nd dr, rego park, ny 11374, usa</td>\n      <td>40.7325379</td>\n      <td>-73.8601516</td>\n      <td>brokered by mjr real estate</td>\n      <td>co-op</td>\n      <td>2.0</td>\n      <td>queens</td>\n      <td>NaN</td>\n      <td>NaN</td>\n      <td>NaN</td>\n    </tr>\n    <tr>\n      <th>4798</th>\n      <td>brokered by douglas elliman - 575 madison ave</td>\n      <td>co-op</td>\n      <td>1275000.0</td>\n      <td>1</td>\n      <td>1.0</td>\n      <td>2184.21</td>\n      <td>427 w 21st st unit garden</td>\n      <td>New york, ny 10011</td>\n      <td>united states</td>\n      <td>New york</td>\n      <td>...</td>\n      <td>427 w 21st st, new york, ny 10011, usa</td>\n      <td>40.7458817</td>\n      <td>-74.0033976</td>\n      <td>brokered by douglas elliman</td>\n      <td>co-op</td>\n      <td>2.0</td>\n      <td>manhattan</td>\n      <td>NaN</td>\n      <td>NaN</td>\n      <td>NaN</td>\n    </tr>\n    <tr>\n      <th>4799</th>\n      <td>brokered by e realty international corp</td>\n      <td>condo</td>\n      <td>598125.0</td>\n      <td>2</td>\n      <td>1.0</td>\n      <td>655.0</td>\n      <td>91-23 corona ave unit 4g</td>\n      <td>Elmhurst, ny 11373</td>\n      <td>new york</td>\n      <td>Queens county</td>\n      <td>...</td>\n      <td>91-23 corona ave. #4b, flushing, ny 11373, usa</td>\n      <td>40.7427705</td>\n      <td>-73.8727516</td>\n      <td>brokered by e realty international corp</td>\n      <td>apartment</td>\n      <td>0.0</td>\n      <td>queens</td>\n      <td>flushing</td>\n      <td>NaN</td>\n      <td>NaN</td>\n    </tr>\n    <tr>\n      <th>4800</th>\n      <td>brokered by nyc realty brokers llc</td>\n      <td>co-op</td>\n      <td>349000.0</td>\n      <td>1</td>\n      <td>1.0</td>\n      <td>750.0</td>\n      <td>460 neptune ave apt 14o</td>\n      <td>Brooklyn, ny 11224</td>\n      <td>new york</td>\n      <td>Kings county</td>\n      <td>...</td>\n      <td>460 neptune ave #14a, brooklyn, ny 11224, usa</td>\n      <td>40.579147</td>\n      <td>-73.9709488</td>\n      <td>brokered by nyc realty brokers</td>\n      <td>co-op</td>\n      <td>0.0</td>\n      <td>brooklyn</td>\n      <td>coney island</td>\n      <td>NaN</td>\n      <td>NaN</td>\n    </tr>\n  </tbody>\n</table>\n<p>4507 rows × 23 columns</p>\n</div>"
     },
     "execution_count": 507,
     "metadata": {},
     "output_type": "execute_result"
    }
   ],
   "source": [
    "state_replacements = {\n",
    "    'ny': 'new york',\n",
    "    'nyc': 'new york',\n",
    "    'new yorkc': 'new york',\n",
    "    'new york city': 'new york',\n",
    "    'kew gardens hill': 'kew garden hills',\n",
    "    'kew gardens': 'kew garden hills',\n",
    "    'kew gardens hills': 'kew garden hills',\n",
    "    'kew gardens hillss': 'kew garden hills',\n",
    "    'bronx new york': 'the bronx',\n",
    "    'queens village': 'queens',\n",
    "    'bronx ny': 'the bronx',\n",
    "    'brooklyn heights': 'brooklyn',\n",
    "    'bronx': 'the bronx'\n",
    "}\n",
    "data['STATE'] = data['STATE'].str.lower()\n",
    "data['STATE'] = data['STATE'].replace(state_replacements)\n",
    "data['STATE'] = data['STATE'].str.capitalize()\n",
    "data"
   ],
   "metadata": {
    "collapsed": false,
    "ExecuteTime": {
     "end_time": "2024-03-23T09:47:24.721520Z",
     "start_time": "2024-03-23T09:47:19.816157Z"
    }
   },
   "id": "1987c004edc96a69"
  },
  {
   "cell_type": "code",
   "execution_count": 508,
   "outputs": [],
   "source": [
    "data[\"STATE\"].unique()\n",
    "data.loc[data[\"POSTCODE\"].isna(), \"POSTCODE\"] = data[\"STATE\"].str.slice(-5)\n",
    "data.loc[(data[\"BOROUGH\"].isna()) &(data[\"STATE\"].str.split(\", \").str.get(0).isin(listOfBoroughs)) , \"BOROUGH\"] = data[\"STATE\"].str.split(\", \").str.get(0)\n",
    "data.loc[(data[\"NEIGHBOURHOOD\"].isna()) & (~(data[\"STATE\"].str.split(\", \").str.get(0).isin(listOfBoroughs))) &(~(data[\"STATE\"].str.split(\", \").str.get(0).isin([\"new york\", \"ny\", \"nyc\" ]))) , \"NEIGHBOURHOOD\"] = data[\"STATE\"].str.split(\", \").str.get(0)"
   ],
   "metadata": {
    "collapsed": false,
    "ExecuteTime": {
     "end_time": "2024-03-23T09:47:24.721998Z",
     "start_time": "2024-03-23T09:47:19.887715Z"
    }
   },
   "id": "2ef45ceba34ceb9f"
  },
  {
   "cell_type": "code",
   "execution_count": 509,
   "outputs": [],
   "source": [
    "data.loc[data[\"POSTCODE\"].isna(), \"POSTCODE\"] = data[\"FORMATTED_ADDRESS\"].str.split(\", \").str.get(-2).str.slice(-5)\n",
    "data.loc[(data[\"BOROUGH\"].isna()) & (data[\"FORMATTED_ADDRESS\"].str.split(\", \").str.get(-3).isin(listOfBoroughs)), \"BOROUGH\"] = data[\"FORMATTED_ADDRESS\"].str.split(\", \").str.get(-3)\n",
    "data.loc[(data[\"NEIGHBOURHOOD\"].isna()) & (~(data[\"FORMATTED_ADDRESS\"].str.split(\", \").str.get(-3).isin(listOfBoroughs))) & (~(data[\"FORMATTED_ADDRESS\"].str.split(\", \").str.get(-3).isin([\"new york\"]))), \"NEIGHBOURHOOD\"] = data[\"FORMATTED_ADDRESS\"].str.split(\", \").str.get(-3)"
   ],
   "metadata": {
    "collapsed": false,
    "ExecuteTime": {
     "end_time": "2024-03-23T09:47:24.722229Z",
     "start_time": "2024-03-23T09:47:19.954502Z"
    }
   },
   "id": "ebb61e2ccdddb399"
  },
  {
   "cell_type": "code",
   "execution_count": 510,
   "outputs": [
    {
     "name": "stderr",
     "output_type": "stream",
     "text": [
      "<>:1: SyntaxWarning: invalid escape sequence '\\d'\n",
      "<>:2: SyntaxWarning: invalid escape sequence '\\d'\n",
      "<>:3: SyntaxWarning: invalid escape sequence '\\d'\n",
      "<>:1: SyntaxWarning: invalid escape sequence '\\d'\n",
      "<>:2: SyntaxWarning: invalid escape sequence '\\d'\n",
      "<>:3: SyntaxWarning: invalid escape sequence '\\d'\n",
      "/var/folders/h4/pdn3pcp16vxc0wjz5jwhfhm40000gn/T/ipykernel_24216/2895737151.py:1: SyntaxWarning: invalid escape sequence '\\d'\n",
      "  data.loc[data[\"FORMATTED_ADDRESS\"].str.split(\", \").str.get(-4).str.split().str.get(0).str.replace(\"-\",\"\").str.contains('\\d'), \"HOUSE_NUMBER\"] = data[\"FORMATTED_ADDRESS\"].str.split(\", \").str.get(-4).str.split().str.get(0)\n",
      "/var/folders/h4/pdn3pcp16vxc0wjz5jwhfhm40000gn/T/ipykernel_24216/2895737151.py:2: SyntaxWarning: invalid escape sequence '\\d'\n",
      "  data.loc[(data[\"STREET\"].isna()) & (data[\"FORMATTED_ADDRESS\"].str.split(\", \").str.get(-4).str.split().str.get(0).str.replace(\"-\",\"\").str.contains('\\d')), \"STREET\"] = data[\"FORMATTED_ADDRESS\"].str.split(\", \").str.get(-4).str.split().str.slice(start=1).str.join(\" \")\n",
      "/var/folders/h4/pdn3pcp16vxc0wjz5jwhfhm40000gn/T/ipykernel_24216/2895737151.py:3: SyntaxWarning: invalid escape sequence '\\d'\n",
      "  data.loc[(data[\"STREET\"].isna()) & (~(data[\"FORMATTED_ADDRESS\"].str.split(\", \").str.get(-4).str.split().str.get(0).str.replace(\"-\",\"\").str.contains('\\d'))), \"STREET\"] = data[\"FORMATTED_ADDRESS\"].str.split(\", \").str.get(-4)\n"
     ]
    }
   ],
   "source": [
    "data.loc[data[\"FORMATTED_ADDRESS\"].str.split(\", \").str.get(-4).str.split().str.get(0).str.replace(\"-\",\"\").str.contains('\\d'), \"HOUSE_NUMBER\"] = data[\"FORMATTED_ADDRESS\"].str.split(\", \").str.get(-4).str.split().str.get(0)\n",
    "data.loc[(data[\"STREET\"].isna()) & (data[\"FORMATTED_ADDRESS\"].str.split(\", \").str.get(-4).str.split().str.get(0).str.replace(\"-\",\"\").str.contains('\\d')), \"STREET\"] = data[\"FORMATTED_ADDRESS\"].str.split(\", \").str.get(-4).str.split().str.slice(start=1).str.join(\" \")\n",
    "data.loc[(data[\"STREET\"].isna()) & (~(data[\"FORMATTED_ADDRESS\"].str.split(\", \").str.get(-4).str.split().str.get(0).str.replace(\"-\",\"\").str.contains('\\d'))), \"STREET\"] = data[\"FORMATTED_ADDRESS\"].str.split(\", \").str.get(-4)\n"
   ],
   "metadata": {
    "collapsed": false,
    "ExecuteTime": {
     "end_time": "2024-03-23T09:47:24.722728Z",
     "start_time": "2024-03-23T09:47:20.003636Z"
    }
   },
   "id": "7f2fcfc4fda1644c"
  },
  {
   "cell_type": "code",
   "execution_count": 511,
   "outputs": [],
   "source": [
    "data.loc[(data[\"LONG_NAME\"].str.replace(\"-\", \"\").str.isdigit()), \"HOUSE_NUMBER\"] = data[\"LONG_NAME\"]\n",
    "data.loc[(~(data[\"LONG_NAME\"].str.replace(\"-\", \"\").str.isdigit())) & (data[\"STREET\"].isna()) & (data[\"LONG_NAME\"] != \"parking lot\"), \"STREET\"] = data[\"LONG_NAME\"]"
   ],
   "metadata": {
    "collapsed": false,
    "ExecuteTime": {
     "end_time": "2024-03-23T09:47:24.722924Z",
     "start_time": "2024-03-23T09:47:20.161692Z"
    }
   },
   "id": "8c51b71ba200baff"
  },
  {
   "cell_type": "code",
   "execution_count": 512,
   "outputs": [],
   "source": [
    "data.loc[(data[\"ADDRESS\"].str.split(\" \").str.get(0).str.replace(\"-\", \"\").str.isdigit()) & (data[\"HOUSE_NUMBER\"].isna()), \"HOUSE_NUMBER\"] = data[\"ADDRESS\"].str.split(\" \").str.get(0).str.split().str.get(0)"
   ],
   "metadata": {
    "collapsed": false,
    "ExecuteTime": {
     "end_time": "2024-03-23T09:47:24.723100Z",
     "start_time": "2024-03-23T09:47:20.202894Z"
    }
   },
   "id": "33bf974586917ed9"
  },
  {
   "cell_type": "code",
   "execution_count": 513,
   "outputs": [],
   "source": [
    "data.loc[data[\"ADDRESS\"] == \"98A-98G Discala Ln\", \"HOUSE_NUMBER\"] = \"98A-98G\""
   ],
   "metadata": {
    "collapsed": false,
    "ExecuteTime": {
     "end_time": "2024-03-23T09:47:24.723280Z",
     "start_time": "2024-03-23T09:47:20.209883Z"
    }
   },
   "id": "615d0aa06173fd96"
  },
  {
   "cell_type": "code",
   "execution_count": 514,
   "outputs": [
    {
     "data": {
      "text/plain": "0       east 55th streetreet\n2              staten island\n3                   new york\n5                   brooklyn\n6                  manhattan\n                ...         \n4796               manhattan\n4797                  queens\n4798                new york\n4799                flushing\n4800            coney island\nName: STREET_NAME, Length: 4507, dtype: object"
     },
     "execution_count": 514,
     "metadata": {},
     "output_type": "execute_result"
    }
   ],
   "source": [
    "import re\n",
    "data.loc[data[\"STREET\"].str.contains(r'\\bE\\b'), \"STREET\"] = data[\"STREET\"].str.replace(\"e\", \"east\")\n",
    "data.loc[data[\"STREET\"].str.contains(r'\\bW\\b'), \"STREET\"] = data[\"STREET\"].str.replace(\"w\", \"west\")\n",
    "data.loc[data[\"STREET\"].str.contains(r'\\bS\\b'), \"STREET\"] = data[\"STREET\"].str.replace(\"s\", \"south\")\n",
    "data.loc[data[\"STREET\"].str.contains(r'\\bN\\b'), \"STREET\"] = data[\"STREET\"].str.replace(\"n\", \"north\")\n",
    "\n",
    "\n",
    "data.loc[data[\"STREET\"].str.contains(r' #.*'), \"STREET\"] = data[\"STREET\"].str.replace(r' #.*', \"\")\n",
    "data[\"STREET\"]= data[\"STREET\"].str.replace(\".\", \"\")\n",
    "data[\"STREET\"]= data[\"STREET\"].str.lower()\n",
    "data[\"STREET\"].unique()\n",
    "    \n",
    "def clean_street_names(street_name):\n",
    "    \n",
    "    parts = street_name.split(' ')\n",
    "    cleaned_parts = [part for part in parts if re.match(r'^\\d*(?:th|st|rd|nd)?$', part) or not any(c.isdigit() for c in part) ]\n",
    "    cleaned_parts = [part for part in cleaned_parts if not part.isdigit() and len(part) != 1]\n",
    "    \n",
    "    last_part = cleaned_parts[-1] if cleaned_parts else None\n",
    "    if last_part and any(character.isdigit() for character in last_part):\n",
    "        cleaned_parts.remove(last_part)\n",
    "\n",
    "    return ' '.join(cleaned_parts)\n",
    "\n",
    "data['STREET'] = data['STREET'].apply(clean_street_names)\n",
    " \n",
    "data['STREET_NAME'] \n"
   ],
   "metadata": {
    "collapsed": false,
    "ExecuteTime": {
     "end_time": "2024-03-23T09:47:24.742735Z",
     "start_time": "2024-03-23T09:47:20.252059Z"
    }
   },
   "id": "b86774ff37836fd8"
  },
  {
   "cell_type": "code",
   "execution_count": 515,
   "outputs": [
    {
     "data": {
      "text/plain": "Index(['BROKERTITLE', 'TYPE', 'PRICE', 'BEDS', 'BATH', 'PROPERTYSQFT',\n       'ADDRESS', 'STATE', 'ADMINISTRATIVE_AREA_LEVEL_2', 'LOCALITY',\n       'SUBLOCALITY', 'STREET_NAME', 'LONG_NAME', 'FORMATTED_ADDRESS',\n       'LATITUDE', 'LONGITUDE', 'BROKER', 'ANNOUNCEMENT_TYPE',\n       'PROPERTYSQFT1000', 'BOROUGH', 'NEIGHBOURHOOD', 'STREET', 'POSTCODE',\n       'HOUSE_NUMBER'],\n      dtype='object')"
     },
     "execution_count": 515,
     "metadata": {},
     "output_type": "execute_result"
    }
   ],
   "source": [
    "data.columns"
   ],
   "metadata": {
    "collapsed": false,
    "ExecuteTime": {
     "end_time": "2024-03-23T09:47:24.744493Z",
     "start_time": "2024-03-23T09:47:20.298726Z"
    }
   },
   "id": "68e05e82b4d98ebb"
  },
  {
   "cell_type": "code",
   "execution_count": 516,
   "outputs": [],
   "source": [
    "data.drop(columns = ['BROKERTITLE', \n",
    "       'ADDRESS', 'STATE', 'ADMINISTRATIVE_AREA_LEVEL_2', 'LOCALITY',\n",
    "       'SUBLOCALITY', 'STREET_NAME', 'LONG_NAME', 'FORMATTED_ADDRESS',\n",
    "       'PROPERTYSQFT1000'], inplace=True)"
   ],
   "metadata": {
    "collapsed": false,
    "ExecuteTime": {
     "end_time": "2024-03-23T09:47:24.744847Z",
     "start_time": "2024-03-23T09:47:20.304585Z"
    }
   },
   "id": "71ad884542dc77c8"
  },
  {
   "cell_type": "code",
   "execution_count": 517,
   "outputs": [],
   "source": [
    "category_columns = list(set(data.columns) - set(numeric_columns))"
   ],
   "metadata": {
    "collapsed": false,
    "ExecuteTime": {
     "end_time": "2024-03-23T09:47:24.744983Z",
     "start_time": "2024-03-23T09:47:20.329971Z"
    }
   },
   "id": "540500b1a75ccdcc"
  },
  {
   "cell_type": "code",
   "execution_count": 518,
   "outputs": [],
   "source": [
    "for column in category_columns:\n",
    "    data[column] = data[column].str.lower()"
   ],
   "metadata": {
    "collapsed": false,
    "ExecuteTime": {
     "end_time": "2024-03-23T09:47:24.745087Z",
     "start_time": "2024-03-23T09:47:20.351636Z"
    }
   },
   "id": "5bac7dd113384b0d"
  },
  {
   "cell_type": "code",
   "execution_count": 519,
   "outputs": [
    {
     "data": {
      "text/plain": "Index(['TYPE', 'PRICE', 'BEDS', 'BATH', 'PROPERTYSQFT', 'LATITUDE',\n       'LONGITUDE', 'BROKER', 'ANNOUNCEMENT_TYPE', 'BOROUGH', 'NEIGHBOURHOOD',\n       'STREET', 'POSTCODE', 'HOUSE_NUMBER'],\n      dtype='object')"
     },
     "execution_count": 519,
     "metadata": {},
     "output_type": "execute_result"
    }
   ],
   "source": [
    "data.columns"
   ],
   "metadata": {
    "collapsed": false,
    "ExecuteTime": {
     "end_time": "2024-03-23T09:47:24.745433Z",
     "start_time": "2024-03-23T09:47:20.358807Z"
    }
   },
   "id": "6deb6d4c218cd46c"
  },
  {
   "cell_type": "code",
   "execution_count": 520,
   "outputs": [
    {
     "name": "stdout",
     "output_type": "stream",
     "text": [
      "Duplicated rows:  1\n"
     ]
    }
   ],
   "source": [
    "print('Duplicated rows: ', data.duplicated().sum())\n",
    "data.drop_duplicates(inplace=True)"
   ],
   "metadata": {
    "collapsed": false,
    "ExecuteTime": {
     "end_time": "2024-03-23T09:47:24.745708Z",
     "start_time": "2024-03-23T09:47:20.364878Z"
    }
   },
   "id": "6d272e7f1768e9b9"
  },
  {
   "cell_type": "code",
   "execution_count": 521,
   "outputs": [],
   "source": [
    "data.to_excel('ssdata.xlsx')"
   ],
   "metadata": {
    "collapsed": false,
    "ExecuteTime": {
     "end_time": "2024-03-23T09:47:24.993483Z",
     "start_time": "2024-03-23T09:47:20.398002Z"
    }
   },
   "id": "72d210a4f9c19092"
  },
  {
   "cell_type": "code",
   "execution_count": null,
   "outputs": [],
   "source": [
    "fig, axes = plt.subplots(3,2, figsize=(16, 12))\n",
    "axes = axes.flatten()\n",
    "\n",
    "i=0\n",
    "for column in numeric_columns:\n",
    "    sns.histplot(x=data[column], ax=axes[i])\n",
    "    i=i+1\n",
    "\n",
    "plt.tight_layout()\n",
    "plt.show()"
   ],
   "metadata": {
    "collapsed": false,
    "is_executing": true,
    "ExecuteTime": {
     "start_time": "2024-03-23T09:47:21.707648Z"
    }
   },
   "id": "ecb2901a34fd5490"
  },
  {
   "cell_type": "code",
   "execution_count": null,
   "outputs": [],
   "source": [
    "fig, axes = plt.subplots(3,2, figsize=(16, 12))\n",
    "axes = axes.flatten()\n",
    "\n",
    "i=0\n",
    "for column in numeric_columns:\n",
    "    sns.scatterplot(x=data[column], y=data['PRICE'], ax=axes[i])\n",
    "    i=i+1\n",
    "\n",
    "plt.tight_layout()\n",
    "plt.show()"
   ],
   "metadata": {
    "collapsed": false,
    "is_executing": true
   },
   "id": "adf1d6db6b9f121b"
  },
  {
   "cell_type": "code",
   "execution_count": null,
   "outputs": [],
   "source": [
    "plt.figure(figsize=(10, 8))\n",
    "sns.scatterplot(data=data, x='LONGITUDE', y='LATITUDE', hue='PRICE', palette='viridis', size='PROPERTYSQFT', sizes=(20, 200))\n",
    "plt.title('New York Properties')\n",
    "plt.xlabel('Longitude')\n",
    "plt.ylabel('Latitude')\n",
    "plt.legend(title='Price', loc='upper left')\n",
    "plt.grid(True)\n",
    "plt.show()"
   ],
   "metadata": {
    "collapsed": false,
    "is_executing": true
   },
   "id": "a268f1400f636a8d"
  },
  {
   "cell_type": "code",
   "execution_count": null,
   "outputs": [],
   "source": [
    "data[list(category_columns)].nunique()"
   ],
   "metadata": {
    "collapsed": false,
    "is_executing": true
   },
   "id": "f2f36b08bcc451a6"
  },
  {
   "cell_type": "code",
   "execution_count": null,
   "outputs": [],
   "source": [
    "numeric_columns = list(numeric_columns)"
   ],
   "metadata": {
    "collapsed": false,
    "is_executing": true
   },
   "id": "86d5a0a1c9028951"
  },
  {
   "cell_type": "code",
   "execution_count": null,
   "outputs": [],
   "source": [
    "sns.heatmap(data[numeric_columns].corr(), annot=True, cmap='Spectral', linewidths=0.5,fmt=\".2f\", vmax=1, vmin=-1)"
   ],
   "metadata": {
    "collapsed": false,
    "is_executing": true
   },
   "id": "1c248ed1c1764d70"
  },
  {
   "cell_type": "code",
   "execution_count": null,
   "outputs": [],
   "source": [
    "data.to_excel('ssdata.xlsx')"
   ],
   "metadata": {
    "collapsed": false,
    "is_executing": true
   },
   "id": "771b4bb8218833a6"
  },
  {
   "cell_type": "code",
   "execution_count": null,
   "outputs": [],
   "source": [
    "from sklearn.preprocessing import MinMaxScaler\n",
    "scaler = MinMaxScaler()\n",
    "numeric_columns.remove('PRICE')\n",
    "print(len(numeric_columns))\n",
    "\n",
    "mm_scalers = {}\n",
    "for column in numeric_columns:\n",
    "    mm_scalers[column] = MinMaxScaler()\n",
    "    data[column] = mm_scalers[column].fit_transform(data[column].values.reshape(-1, 1))"
   ],
   "metadata": {
    "collapsed": false,
    "is_executing": true
   },
   "id": "cbcb2c1df76b53f"
  },
  {
   "cell_type": "code",
   "execution_count": null,
   "outputs": [],
   "source": [
    "len(category_columns)"
   ],
   "metadata": {
    "collapsed": false,
    "is_executing": true
   },
   "id": "3f4dbd6cd177a049"
  },
  {
   "cell_type": "code",
   "execution_count": null,
   "outputs": [],
   "source": [
    "len(data.columns)"
   ],
   "metadata": {
    "collapsed": false,
    "is_executing": true
   },
   "id": "30828da5b614e32b"
  },
  {
   "cell_type": "code",
   "execution_count": null,
   "outputs": [],
   "source": [
    "from sklearn.preprocessing import LabelEncoder\n",
    "label_encoders = {}\n",
    "for column in category_columns:\n",
    "    label_encoders[column] = LabelEncoder()\n",
    "    data[column] = label_encoders[column].fit_transform(data[column])"
   ],
   "metadata": {
    "collapsed": false,
    "is_executing": true
   },
   "id": "1482ab497f5cd258"
  },
  {
   "cell_type": "code",
   "execution_count": null,
   "outputs": [],
   "source": [
    "for column in category_columns:\n",
    "    for class_index, class_name in enumerate(label_encoders[column].classes_):\n",
    "        print(f\"{class_name}: {class_index}\")"
   ],
   "metadata": {
    "collapsed": false,
    "is_executing": true
   },
   "id": "252b2ab028f331e6"
  },
  {
   "cell_type": "code",
   "execution_count": null,
   "outputs": [],
   "source": [
    "plt.figure(figsize=(12, 10))\n",
    "sns.heatmap(data.corr(), annot=True, cmap='Spectral', linewidths=0.5,fmt=\".2f\", vmax=1, vmin=-1)"
   ],
   "metadata": {
    "collapsed": false,
    "is_executing": true
   },
   "id": "f89dd9097ca0118d"
  },
  {
   "cell_type": "code",
   "execution_count": null,
   "outputs": [],
   "source": [
    "corr_matrix = data.corr()\n",
    "corr_df = pd.DataFrame(abs(corr_matrix['PRICE'].drop('PRICE')).sort_values(ascending=True))\n",
    "relevant_columns = corr_df[corr_df['PRICE']>=0.03].index\n",
    "relevant_columns = list(relevant_columns)\n",
    "relevant_columns.append('PRICE')\n",
    "data_relevant = data[relevant_columns]"
   ],
   "metadata": {
    "collapsed": false,
    "is_executing": true
   },
   "id": "7cf6dd912847bb0c"
  },
  {
   "cell_type": "code",
   "execution_count": null,
   "outputs": [],
   "source": [
    "plt.figure(figsize=(12, 10))\n",
    "sns.heatmap(data_relevant.corr(), annot=True, cmap='Spectral', linewidths=0.5,fmt=\".5f\", vmax=1, vmin=-1)"
   ],
   "metadata": {
    "collapsed": false,
    "is_executing": true
   },
   "id": "a510cce15f60db7d"
  },
  {
   "cell_type": "code",
   "execution_count": null,
   "outputs": [],
   "source": [
    "data.to_excel('clean_data.xlsx')\n",
    "data_relevant.to_excel('clean_data_relevant.xlsx')"
   ],
   "metadata": {
    "collapsed": false,
    "is_executing": true
   },
   "id": "a713f1177c90a723"
  },
  {
   "cell_type": "code",
   "execution_count": null,
   "outputs": [],
   "source": [
    "from sklearn.decomposition import PCA\n",
    "X = data_relevant.drop(columns =['PRICE'])\n",
    "y = data_relevant['PRICE']\n",
    "\n",
    "n_comp = 3\n",
    "col_names = ['feature_'+str(i) for i in range(0,n_comp)]\n",
    "pca = PCA(n_components=n_comp)\n",
    "data_relevant_pca = pd.DataFrame(pca.fit_transform(X), columns = col_names)\n",
    "print(pca.explained_variance_ratio_)\n",
    "data_relevant_pca"
   ],
   "metadata": {
    "collapsed": false,
    "is_executing": true
   },
   "id": "e313db9de8375ce9"
  },
  {
   "cell_type": "code",
   "execution_count": null,
   "outputs": [],
   "source": [
    "data_relevant_pca.to_excel('clean_data_relevant_pca.xlsx')"
   ],
   "metadata": {
    "collapsed": false,
    "is_executing": true
   },
   "id": "e7b573decfc9d485"
  },
  {
   "cell_type": "markdown",
   "source": [],
   "metadata": {
    "collapsed": false
   },
   "id": "e21effaf66b52d41"
  }
 ],
 "metadata": {
  "kernelspec": {
   "display_name": "Python 3",
   "language": "python",
   "name": "python3"
  },
  "language_info": {
   "codemirror_mode": {
    "name": "ipython",
    "version": 2
   },
   "file_extension": ".py",
   "mimetype": "text/x-python",
   "name": "python",
   "nbconvert_exporter": "python",
   "pygments_lexer": "ipython2",
   "version": "2.7.6"
  }
 },
 "nbformat": 4,
 "nbformat_minor": 5
}
