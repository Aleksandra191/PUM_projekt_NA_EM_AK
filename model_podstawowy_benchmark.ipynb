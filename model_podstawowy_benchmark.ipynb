{
  "cells": [
    {
      "cell_type": "markdown",
      "metadata": {
        "id": "view-in-github",
        "colab_type": "text"
      },
      "source": [
        "<a href=\"https://colab.research.google.com/github/Aleksandra191/PUM_projekt_NA_EM_AK/blob/main/model_podstawowy_benchmark.ipynb\" target=\"_parent\"><img src=\"https://colab.research.google.com/assets/colab-badge.svg\" alt=\"Open In Colab\"/></a>"
      ]
    },
    {
      "cell_type": "code",
      "execution_count": 1,
      "id": "initial_id",
      "metadata": {
        "collapsed": true,
        "ExecuteTime": {
          "end_time": "2024-05-12T10:10:45.068004Z",
          "start_time": "2024-05-12T10:10:43.512542Z"
        },
        "id": "initial_id"
      },
      "outputs": [],
      "source": [
        "import pandas as pd\n",
        "cleaned_data = pd.read_excel('clean_data_relevant.xlsx')\n",
        "cleaned_data = cleaned_data[['BROKER', 'LATITUDE', 'LONGITUDE', 'TYPE', 'BOROUGH','NEIGHBOURHOOD', 'BEDS', 'POSTCODE', 'BATH', 'PROPERTYSQFT', 'PRICE']]"
      ]
    },
    {
      "cell_type": "code",
      "execution_count": 2,
      "outputs": [
        {
          "output_type": "execute_result",
          "data": {
            "text/plain": [
              "      BROKER  LATITUDE  LONGITUDE  TYPE  BOROUGH  NEIGHBOURHOOD      BEDS  \\\n",
              "0        277  0.633396   0.505918     2        1            264  0.166667   \n",
              "1        844  0.102276   0.103390     6        3            259  0.333333   \n",
              "2        217  0.633742   0.505683     2        1            264  0.250000   \n",
              "3        844  0.423098   0.534539     6        0            192  0.416667   \n",
              "4        277  0.750035   0.556240     2        1            264  0.166667   \n",
              "...      ...       ...        ...   ...      ...            ...       ...   \n",
              "4501     217  0.665089   0.539708     0        1            263  0.083333   \n",
              "4502     591  0.563894   0.713574     0        2            196  0.083333   \n",
              "4503     277  0.596189   0.453402     0        1            264  0.083333   \n",
              "4504     288  0.588660   0.690689     2        2             91  0.166667   \n",
              "4505     653  0.192653   0.512337     0        0             62  0.083333   \n",
              "\n",
              "      POSTCODE  BATH  PROPERTYSQFT    PRICE  \n",
              "0           18   0.2      0.134948   315000  \n",
              "1           54   0.2      0.205882   260000  \n",
              "2           18   0.1      0.024798    69000  \n",
              "3          127   0.2      0.435294   690000  \n",
              "4           23   0.2      0.225399   899500  \n",
              "...        ...   ...           ...      ...  \n",
              "4501        40   0.1      0.225399   599000  \n",
              "4502       147   0.1      0.225399   245000  \n",
              "4503         9   0.1      0.225399  1275000  \n",
              "4504       146   0.1      0.049020   598125  \n",
              "4505       114   0.1      0.059977   349000  \n",
              "\n",
              "[4506 rows x 11 columns]"
            ],
            "text/html": [
              "\n",
              "  <div id=\"df-5d80910f-afac-4fb6-be01-0a6d3a688eae\" class=\"colab-df-container\">\n",
              "    <div>\n",
              "<style scoped>\n",
              "    .dataframe tbody tr th:only-of-type {\n",
              "        vertical-align: middle;\n",
              "    }\n",
              "\n",
              "    .dataframe tbody tr th {\n",
              "        vertical-align: top;\n",
              "    }\n",
              "\n",
              "    .dataframe thead th {\n",
              "        text-align: right;\n",
              "    }\n",
              "</style>\n",
              "<table border=\"1\" class=\"dataframe\">\n",
              "  <thead>\n",
              "    <tr style=\"text-align: right;\">\n",
              "      <th></th>\n",
              "      <th>BROKER</th>\n",
              "      <th>LATITUDE</th>\n",
              "      <th>LONGITUDE</th>\n",
              "      <th>TYPE</th>\n",
              "      <th>BOROUGH</th>\n",
              "      <th>NEIGHBOURHOOD</th>\n",
              "      <th>BEDS</th>\n",
              "      <th>POSTCODE</th>\n",
              "      <th>BATH</th>\n",
              "      <th>PROPERTYSQFT</th>\n",
              "      <th>PRICE</th>\n",
              "    </tr>\n",
              "  </thead>\n",
              "  <tbody>\n",
              "    <tr>\n",
              "      <th>0</th>\n",
              "      <td>277</td>\n",
              "      <td>0.633396</td>\n",
              "      <td>0.505918</td>\n",
              "      <td>2</td>\n",
              "      <td>1</td>\n",
              "      <td>264</td>\n",
              "      <td>0.166667</td>\n",
              "      <td>18</td>\n",
              "      <td>0.2</td>\n",
              "      <td>0.134948</td>\n",
              "      <td>315000</td>\n",
              "    </tr>\n",
              "    <tr>\n",
              "      <th>1</th>\n",
              "      <td>844</td>\n",
              "      <td>0.102276</td>\n",
              "      <td>0.103390</td>\n",
              "      <td>6</td>\n",
              "      <td>3</td>\n",
              "      <td>259</td>\n",
              "      <td>0.333333</td>\n",
              "      <td>54</td>\n",
              "      <td>0.2</td>\n",
              "      <td>0.205882</td>\n",
              "      <td>260000</td>\n",
              "    </tr>\n",
              "    <tr>\n",
              "      <th>2</th>\n",
              "      <td>217</td>\n",
              "      <td>0.633742</td>\n",
              "      <td>0.505683</td>\n",
              "      <td>2</td>\n",
              "      <td>1</td>\n",
              "      <td>264</td>\n",
              "      <td>0.250000</td>\n",
              "      <td>18</td>\n",
              "      <td>0.1</td>\n",
              "      <td>0.024798</td>\n",
              "      <td>69000</td>\n",
              "    </tr>\n",
              "    <tr>\n",
              "      <th>3</th>\n",
              "      <td>844</td>\n",
              "      <td>0.423098</td>\n",
              "      <td>0.534539</td>\n",
              "      <td>6</td>\n",
              "      <td>0</td>\n",
              "      <td>192</td>\n",
              "      <td>0.416667</td>\n",
              "      <td>127</td>\n",
              "      <td>0.2</td>\n",
              "      <td>0.435294</td>\n",
              "      <td>690000</td>\n",
              "    </tr>\n",
              "    <tr>\n",
              "      <th>4</th>\n",
              "      <td>277</td>\n",
              "      <td>0.750035</td>\n",
              "      <td>0.556240</td>\n",
              "      <td>2</td>\n",
              "      <td>1</td>\n",
              "      <td>264</td>\n",
              "      <td>0.166667</td>\n",
              "      <td>23</td>\n",
              "      <td>0.2</td>\n",
              "      <td>0.225399</td>\n",
              "      <td>899500</td>\n",
              "    </tr>\n",
              "    <tr>\n",
              "      <th>...</th>\n",
              "      <td>...</td>\n",
              "      <td>...</td>\n",
              "      <td>...</td>\n",
              "      <td>...</td>\n",
              "      <td>...</td>\n",
              "      <td>...</td>\n",
              "      <td>...</td>\n",
              "      <td>...</td>\n",
              "      <td>...</td>\n",
              "      <td>...</td>\n",
              "      <td>...</td>\n",
              "    </tr>\n",
              "    <tr>\n",
              "      <th>4501</th>\n",
              "      <td>217</td>\n",
              "      <td>0.665089</td>\n",
              "      <td>0.539708</td>\n",
              "      <td>0</td>\n",
              "      <td>1</td>\n",
              "      <td>263</td>\n",
              "      <td>0.083333</td>\n",
              "      <td>40</td>\n",
              "      <td>0.1</td>\n",
              "      <td>0.225399</td>\n",
              "      <td>599000</td>\n",
              "    </tr>\n",
              "    <tr>\n",
              "      <th>4502</th>\n",
              "      <td>591</td>\n",
              "      <td>0.563894</td>\n",
              "      <td>0.713574</td>\n",
              "      <td>0</td>\n",
              "      <td>2</td>\n",
              "      <td>196</td>\n",
              "      <td>0.083333</td>\n",
              "      <td>147</td>\n",
              "      <td>0.1</td>\n",
              "      <td>0.225399</td>\n",
              "      <td>245000</td>\n",
              "    </tr>\n",
              "    <tr>\n",
              "      <th>4503</th>\n",
              "      <td>277</td>\n",
              "      <td>0.596189</td>\n",
              "      <td>0.453402</td>\n",
              "      <td>0</td>\n",
              "      <td>1</td>\n",
              "      <td>264</td>\n",
              "      <td>0.083333</td>\n",
              "      <td>9</td>\n",
              "      <td>0.1</td>\n",
              "      <td>0.225399</td>\n",
              "      <td>1275000</td>\n",
              "    </tr>\n",
              "    <tr>\n",
              "      <th>4504</th>\n",
              "      <td>288</td>\n",
              "      <td>0.588660</td>\n",
              "      <td>0.690689</td>\n",
              "      <td>2</td>\n",
              "      <td>2</td>\n",
              "      <td>91</td>\n",
              "      <td>0.166667</td>\n",
              "      <td>146</td>\n",
              "      <td>0.1</td>\n",
              "      <td>0.049020</td>\n",
              "      <td>598125</td>\n",
              "    </tr>\n",
              "    <tr>\n",
              "      <th>4505</th>\n",
              "      <td>653</td>\n",
              "      <td>0.192653</td>\n",
              "      <td>0.512337</td>\n",
              "      <td>0</td>\n",
              "      <td>0</td>\n",
              "      <td>62</td>\n",
              "      <td>0.083333</td>\n",
              "      <td>114</td>\n",
              "      <td>0.1</td>\n",
              "      <td>0.059977</td>\n",
              "      <td>349000</td>\n",
              "    </tr>\n",
              "  </tbody>\n",
              "</table>\n",
              "<p>4506 rows × 11 columns</p>\n",
              "</div>\n",
              "    <div class=\"colab-df-buttons\">\n",
              "\n",
              "  <div class=\"colab-df-container\">\n",
              "    <button class=\"colab-df-convert\" onclick=\"convertToInteractive('df-5d80910f-afac-4fb6-be01-0a6d3a688eae')\"\n",
              "            title=\"Convert this dataframe to an interactive table.\"\n",
              "            style=\"display:none;\">\n",
              "\n",
              "  <svg xmlns=\"http://www.w3.org/2000/svg\" height=\"24px\" viewBox=\"0 -960 960 960\">\n",
              "    <path d=\"M120-120v-720h720v720H120Zm60-500h600v-160H180v160Zm220 220h160v-160H400v160Zm0 220h160v-160H400v160ZM180-400h160v-160H180v160Zm440 0h160v-160H620v160ZM180-180h160v-160H180v160Zm440 0h160v-160H620v160Z\"/>\n",
              "  </svg>\n",
              "    </button>\n",
              "\n",
              "  <style>\n",
              "    .colab-df-container {\n",
              "      display:flex;\n",
              "      gap: 12px;\n",
              "    }\n",
              "\n",
              "    .colab-df-convert {\n",
              "      background-color: #E8F0FE;\n",
              "      border: none;\n",
              "      border-radius: 50%;\n",
              "      cursor: pointer;\n",
              "      display: none;\n",
              "      fill: #1967D2;\n",
              "      height: 32px;\n",
              "      padding: 0 0 0 0;\n",
              "      width: 32px;\n",
              "    }\n",
              "\n",
              "    .colab-df-convert:hover {\n",
              "      background-color: #E2EBFA;\n",
              "      box-shadow: 0px 1px 2px rgba(60, 64, 67, 0.3), 0px 1px 3px 1px rgba(60, 64, 67, 0.15);\n",
              "      fill: #174EA6;\n",
              "    }\n",
              "\n",
              "    .colab-df-buttons div {\n",
              "      margin-bottom: 4px;\n",
              "    }\n",
              "\n",
              "    [theme=dark] .colab-df-convert {\n",
              "      background-color: #3B4455;\n",
              "      fill: #D2E3FC;\n",
              "    }\n",
              "\n",
              "    [theme=dark] .colab-df-convert:hover {\n",
              "      background-color: #434B5C;\n",
              "      box-shadow: 0px 1px 3px 1px rgba(0, 0, 0, 0.15);\n",
              "      filter: drop-shadow(0px 1px 2px rgba(0, 0, 0, 0.3));\n",
              "      fill: #FFFFFF;\n",
              "    }\n",
              "  </style>\n",
              "\n",
              "    <script>\n",
              "      const buttonEl =\n",
              "        document.querySelector('#df-5d80910f-afac-4fb6-be01-0a6d3a688eae button.colab-df-convert');\n",
              "      buttonEl.style.display =\n",
              "        google.colab.kernel.accessAllowed ? 'block' : 'none';\n",
              "\n",
              "      async function convertToInteractive(key) {\n",
              "        const element = document.querySelector('#df-5d80910f-afac-4fb6-be01-0a6d3a688eae');\n",
              "        const dataTable =\n",
              "          await google.colab.kernel.invokeFunction('convertToInteractive',\n",
              "                                                    [key], {});\n",
              "        if (!dataTable) return;\n",
              "\n",
              "        const docLinkHtml = 'Like what you see? Visit the ' +\n",
              "          '<a target=\"_blank\" href=https://colab.research.google.com/notebooks/data_table.ipynb>data table notebook</a>'\n",
              "          + ' to learn more about interactive tables.';\n",
              "        element.innerHTML = '';\n",
              "        dataTable['output_type'] = 'display_data';\n",
              "        await google.colab.output.renderOutput(dataTable, element);\n",
              "        const docLink = document.createElement('div');\n",
              "        docLink.innerHTML = docLinkHtml;\n",
              "        element.appendChild(docLink);\n",
              "      }\n",
              "    </script>\n",
              "  </div>\n",
              "\n",
              "\n",
              "<div id=\"df-8b49432b-2bcb-4ba1-aedf-3334f2706efd\">\n",
              "  <button class=\"colab-df-quickchart\" onclick=\"quickchart('df-8b49432b-2bcb-4ba1-aedf-3334f2706efd')\"\n",
              "            title=\"Suggest charts\"\n",
              "            style=\"display:none;\">\n",
              "\n",
              "<svg xmlns=\"http://www.w3.org/2000/svg\" height=\"24px\"viewBox=\"0 0 24 24\"\n",
              "     width=\"24px\">\n",
              "    <g>\n",
              "        <path d=\"M19 3H5c-1.1 0-2 .9-2 2v14c0 1.1.9 2 2 2h14c1.1 0 2-.9 2-2V5c0-1.1-.9-2-2-2zM9 17H7v-7h2v7zm4 0h-2V7h2v10zm4 0h-2v-4h2v4z\"/>\n",
              "    </g>\n",
              "</svg>\n",
              "  </button>\n",
              "\n",
              "<style>\n",
              "  .colab-df-quickchart {\n",
              "      --bg-color: #E8F0FE;\n",
              "      --fill-color: #1967D2;\n",
              "      --hover-bg-color: #E2EBFA;\n",
              "      --hover-fill-color: #174EA6;\n",
              "      --disabled-fill-color: #AAA;\n",
              "      --disabled-bg-color: #DDD;\n",
              "  }\n",
              "\n",
              "  [theme=dark] .colab-df-quickchart {\n",
              "      --bg-color: #3B4455;\n",
              "      --fill-color: #D2E3FC;\n",
              "      --hover-bg-color: #434B5C;\n",
              "      --hover-fill-color: #FFFFFF;\n",
              "      --disabled-bg-color: #3B4455;\n",
              "      --disabled-fill-color: #666;\n",
              "  }\n",
              "\n",
              "  .colab-df-quickchart {\n",
              "    background-color: var(--bg-color);\n",
              "    border: none;\n",
              "    border-radius: 50%;\n",
              "    cursor: pointer;\n",
              "    display: none;\n",
              "    fill: var(--fill-color);\n",
              "    height: 32px;\n",
              "    padding: 0;\n",
              "    width: 32px;\n",
              "  }\n",
              "\n",
              "  .colab-df-quickchart:hover {\n",
              "    background-color: var(--hover-bg-color);\n",
              "    box-shadow: 0 1px 2px rgba(60, 64, 67, 0.3), 0 1px 3px 1px rgba(60, 64, 67, 0.15);\n",
              "    fill: var(--button-hover-fill-color);\n",
              "  }\n",
              "\n",
              "  .colab-df-quickchart-complete:disabled,\n",
              "  .colab-df-quickchart-complete:disabled:hover {\n",
              "    background-color: var(--disabled-bg-color);\n",
              "    fill: var(--disabled-fill-color);\n",
              "    box-shadow: none;\n",
              "  }\n",
              "\n",
              "  .colab-df-spinner {\n",
              "    border: 2px solid var(--fill-color);\n",
              "    border-color: transparent;\n",
              "    border-bottom-color: var(--fill-color);\n",
              "    animation:\n",
              "      spin 1s steps(1) infinite;\n",
              "  }\n",
              "\n",
              "  @keyframes spin {\n",
              "    0% {\n",
              "      border-color: transparent;\n",
              "      border-bottom-color: var(--fill-color);\n",
              "      border-left-color: var(--fill-color);\n",
              "    }\n",
              "    20% {\n",
              "      border-color: transparent;\n",
              "      border-left-color: var(--fill-color);\n",
              "      border-top-color: var(--fill-color);\n",
              "    }\n",
              "    30% {\n",
              "      border-color: transparent;\n",
              "      border-left-color: var(--fill-color);\n",
              "      border-top-color: var(--fill-color);\n",
              "      border-right-color: var(--fill-color);\n",
              "    }\n",
              "    40% {\n",
              "      border-color: transparent;\n",
              "      border-right-color: var(--fill-color);\n",
              "      border-top-color: var(--fill-color);\n",
              "    }\n",
              "    60% {\n",
              "      border-color: transparent;\n",
              "      border-right-color: var(--fill-color);\n",
              "    }\n",
              "    80% {\n",
              "      border-color: transparent;\n",
              "      border-right-color: var(--fill-color);\n",
              "      border-bottom-color: var(--fill-color);\n",
              "    }\n",
              "    90% {\n",
              "      border-color: transparent;\n",
              "      border-bottom-color: var(--fill-color);\n",
              "    }\n",
              "  }\n",
              "</style>\n",
              "\n",
              "  <script>\n",
              "    async function quickchart(key) {\n",
              "      const quickchartButtonEl =\n",
              "        document.querySelector('#' + key + ' button');\n",
              "      quickchartButtonEl.disabled = true;  // To prevent multiple clicks.\n",
              "      quickchartButtonEl.classList.add('colab-df-spinner');\n",
              "      try {\n",
              "        const charts = await google.colab.kernel.invokeFunction(\n",
              "            'suggestCharts', [key], {});\n",
              "      } catch (error) {\n",
              "        console.error('Error during call to suggestCharts:', error);\n",
              "      }\n",
              "      quickchartButtonEl.classList.remove('colab-df-spinner');\n",
              "      quickchartButtonEl.classList.add('colab-df-quickchart-complete');\n",
              "    }\n",
              "    (() => {\n",
              "      let quickchartButtonEl =\n",
              "        document.querySelector('#df-8b49432b-2bcb-4ba1-aedf-3334f2706efd button');\n",
              "      quickchartButtonEl.style.display =\n",
              "        google.colab.kernel.accessAllowed ? 'block' : 'none';\n",
              "    })();\n",
              "  </script>\n",
              "</div>\n",
              "    </div>\n",
              "  </div>\n"
            ],
            "application/vnd.google.colaboratory.intrinsic+json": {
              "type": "dataframe",
              "variable_name": "cleaned_data",
              "summary": "{\n  \"name\": \"cleaned_data\",\n  \"rows\": 4506,\n  \"fields\": [\n    {\n      \"column\": \"BROKER\",\n      \"properties\": {\n        \"dtype\": \"number\",\n        \"std\": 269,\n        \"min\": 0,\n        \"max\": 946,\n        \"num_unique_values\": 947,\n        \"samples\": [\n          605,\n          652,\n          729\n        ],\n        \"semantic_type\": \"\",\n        \"description\": \"\"\n      }\n    },\n    {\n      \"column\": \"LATITUDE\",\n      \"properties\": {\n        \"dtype\": \"number\",\n        \"std\": 0.21222060683262634,\n        \"min\": 0.0,\n        \"max\": 1.0,\n        \"num_unique_values\": 4120,\n        \"samples\": [\n          0.5235373743324061,\n          0.428096682513555,\n          0.2408020846921914\n        ],\n        \"semantic_type\": \"\",\n        \"description\": \"\"\n      }\n    },\n    {\n      \"column\": \"LONGITUDE\",\n      \"properties\": {\n        \"dtype\": \"number\",\n        \"std\": 0.1848243861198948,\n        \"min\": 0.0,\n        \"max\": 1.0,\n        \"num_unique_values\": 4049,\n        \"samples\": [\n          0.4416226285146365,\n          0.2642390832121464,\n          0.5446101515629209\n        ],\n        \"semantic_type\": \"\",\n        \"description\": \"\"\n      }\n    },\n    {\n      \"column\": \"TYPE\",\n      \"properties\": {\n        \"dtype\": \"number\",\n        \"std\": 3,\n        \"min\": 0,\n        \"max\": 11,\n        \"num_unique_values\": 12,\n        \"samples\": [\n          1,\n          10,\n          2\n        ],\n        \"semantic_type\": \"\",\n        \"description\": \"\"\n      }\n    },\n    {\n      \"column\": \"BOROUGH\",\n      \"properties\": {\n        \"dtype\": \"number\",\n        \"std\": 1,\n        \"min\": 0,\n        \"max\": 4,\n        \"num_unique_values\": 5,\n        \"samples\": [\n          3,\n          2,\n          0\n        ],\n        \"semantic_type\": \"\",\n        \"description\": \"\"\n      }\n    },\n    {\n      \"column\": \"NEIGHBOURHOOD\",\n      \"properties\": {\n        \"dtype\": \"number\",\n        \"std\": 81,\n        \"min\": 0,\n        \"max\": 264,\n        \"num_unique_values\": 265,\n        \"samples\": [\n          175,\n          59,\n          125\n        ],\n        \"semantic_type\": \"\",\n        \"description\": \"\"\n      }\n    },\n    {\n      \"column\": \"BEDS\",\n      \"properties\": {\n        \"dtype\": \"number\",\n        \"std\": 0.16159742009884934,\n        \"min\": 0.0,\n        \"max\": 1.0,\n        \"num_unique_values\": 13,\n        \"samples\": [\n          0.75,\n          0.6666666666666666,\n          0.1666666666666667\n        ],\n        \"semantic_type\": \"\",\n        \"description\": \"\"\n      }\n    },\n    {\n      \"column\": \"POSTCODE\",\n      \"properties\": {\n        \"dtype\": \"number\",\n        \"std\": 50,\n        \"min\": 0,\n        \"max\": 177,\n        \"num_unique_values\": 178,\n        \"samples\": [\n          50,\n          132,\n          175\n        ],\n        \"semantic_type\": \"\",\n        \"description\": \"\"\n      }\n    },\n    {\n      \"column\": \"BATH\",\n      \"properties\": {\n        \"dtype\": \"number\",\n        \"std\": 0.1408890174559836,\n        \"min\": 0.0,\n        \"max\": 1.0,\n        \"num_unique_values\": 11,\n        \"samples\": [\n          0.8,\n          0.2,\n          1.0\n        ],\n        \"semantic_type\": \"\",\n        \"description\": \"\"\n      }\n    },\n    {\n      \"column\": \"PROPERTYSQFT\",\n      \"properties\": {\n        \"dtype\": \"number\",\n        \"std\": 0.13042008619142473,\n        \"min\": 0.0,\n        \"max\": 1.0,\n        \"num_unique_values\": 1391,\n        \"samples\": [\n          0.4537485582468282,\n          0.1918108419838524,\n          0.2845444059976932\n        ],\n        \"semantic_type\": \"\",\n        \"description\": \"\"\n      }\n    },\n    {\n      \"column\": \"PRICE\",\n      \"properties\": {\n        \"dtype\": \"number\",\n        \"std\": 3454903,\n        \"min\": 49500,\n        \"max\": 60000000,\n        \"num_unique_values\": 1242,\n        \"samples\": [\n          945000,\n          906300,\n          915999\n        ],\n        \"semantic_type\": \"\",\n        \"description\": \"\"\n      }\n    }\n  ]\n}"
            }
          },
          "metadata": {},
          "execution_count": 2
        }
      ],
      "source": [
        "cleaned_data"
      ],
      "metadata": {
        "ExecuteTime": {
          "end_time": "2024-04-16T15:58:41.542078Z",
          "start_time": "2024-04-16T15:58:41.536900Z"
        },
        "id": "dedcd678aa59377d",
        "outputId": "e39a3313-8d04-4828-e203-90890dad6e2c",
        "colab": {
          "base_uri": "https://localhost:8080/",
          "height": 424
        }
      },
      "id": "dedcd678aa59377d"
    },
    {
      "cell_type": "code",
      "execution_count": 3,
      "outputs": [],
      "source": [
        "from sklearn.model_selection import train_test_split\n",
        "\n",
        "X = cleaned_data.drop(columns='PRICE')\n",
        "y = cleaned_data['PRICE']"
      ],
      "metadata": {
        "ExecuteTime": {
          "end_time": "2024-04-16T15:58:41.551937Z",
          "start_time": "2024-04-16T15:58:41.542271Z"
        },
        "id": "ecbbcdc80b440b70"
      },
      "id": "ecbbcdc80b440b70"
    },
    {
      "cell_type": "code",
      "execution_count": 4,
      "outputs": [],
      "source": [
        "X_train, X_test, y_train, y_test = train_test_split(X, y, test_size=0.3, random_state=42)"
      ],
      "metadata": {
        "ExecuteTime": {
          "end_time": "2024-04-16T15:58:41.573817Z",
          "start_time": "2024-04-16T15:58:41.546870Z"
        },
        "id": "8e1823b2f83d48f"
      },
      "id": "8e1823b2f83d48f"
    },
    {
      "cell_type": "code",
      "execution_count": 5,
      "outputs": [
        {
          "output_type": "stream",
          "name": "stdout",
          "text": [
            "Współczynniki:  [ 4.82637713e+01  1.04212168e+06  4.80951990e+05 -5.98126037e+04\n",
            " -3.87799376e+05  2.53902786e+03 -2.46696958e+06 -1.27222931e+04\n",
            "  8.99609911e+06  8.26434460e+06]\n",
            "Wyraz wolny -625624.917808031\n",
            "\n",
            "R-squared: 0.35106361164412225\n",
            "Mean Absolute Error: 1336828.6355151676\n",
            "Median Absolute Error: 774706.2717598878\n",
            "Mean Squared Error: 6797303881835.929\n",
            "Root Mean Squared Error: 2607163.953769676\n"
          ]
        }
      ],
      "source": [
        "from sklearn.linear_model import LinearRegression, HuberRegressor\n",
        "\n",
        "reg = LinearRegression().fit(X_train, y_train)\n",
        "\n",
        "print('Współczynniki: ',reg.coef_)\n",
        "print('Wyraz wolny', reg.intercept_)\n",
        "\n",
        "y_pred = reg.predict(X_test)\n",
        "\n",
        "from sklearn.metrics import r2_score, mean_absolute_error, mean_squared_error, median_absolute_error\n",
        "import numpy as np\n",
        "\n",
        "print(\"\\nR-squared:\", r2_score(y_test, y_pred))\n",
        "print(\"Mean Absolute Error:\", mean_absolute_error(y_test, y_pred))\n",
        "print(\"Median Absolute Error:\", median_absolute_error(y_test, y_pred))\n",
        "print(\"Mean Squared Error:\", mean_squared_error(y_test, y_pred))\n",
        "print(\"Root Mean Squared Error:\", np.sqrt(mean_squared_error(y_test, y_pred)))"
      ],
      "metadata": {
        "ExecuteTime": {
          "end_time": "2024-04-16T15:58:41.600212Z",
          "start_time": "2024-04-16T15:58:41.556390Z"
        },
        "id": "2b57a59bcfd77fbd",
        "outputId": "1106b17d-ec80-4af2-a42f-90df3e2bef7f",
        "colab": {
          "base_uri": "https://localhost:8080/"
        }
      },
      "id": "2b57a59bcfd77fbd"
    },
    {
      "cell_type": "markdown",
      "source": [
        "Wartość współczynnika determinacji (R^2) wynosi około 0.35, co oznacza, że około 35% zmienności zmiennej PRICE jest wyjaśniona przez nasz model regresji liniowej. Idealna wartość tej miary wynosi 1, więc nasz model sprawuje się umiarkowanie w przewidywaniu nowych wartości."
      ],
      "metadata": {
        "collapsed": false,
        "id": "efdf04eb0d2636b9"
      },
      "id": "efdf04eb0d2636b9"
    },
    {
      "cell_type": "markdown",
      "source": [
        "Wysokie wartości średniego absolutnego błędu, mediany absolutnego błędu oraz błędu średniokwadratowego sugerują, że model ma ograniczoną jakość predykcyjną."
      ],
      "metadata": {
        "collapsed": false,
        "id": "8b3cd6d0f5049ac3"
      },
      "id": "8b3cd6d0f5049ac3"
    },
    {
      "cell_type": "markdown",
      "source": [
        " RMSE, czyli pierwiastek średniokwadratowy błędu, wynoszący około 2.6 miliona, oznacza że wartości przewidywane przez nasz model średnio odbiegają od rzeczywistych wartości o 2.6 miliona."
      ],
      "metadata": {
        "collapsed": false,
        "id": "7e94fa421bbae317"
      },
      "id": "7e94fa421bbae317"
    },
    {
      "cell_type": "markdown",
      "source": [],
      "metadata": {
        "collapsed": false,
        "id": "df117eced54cfcc7"
      },
      "id": "df117eced54cfcc7"
    },
    {
      "cell_type": "code",
      "execution_count": 6,
      "outputs": [
        {
          "output_type": "display_data",
          "data": {
            "text/plain": [
              "<Figure size 1000x600 with 1 Axes>"
            ],
            "image/png": "[encoded data removed]"
          },
          "metadata": {}
        }
      ],
      "source": [
        "import matplotlib.pyplot as plt\n",
        "\n",
        "plt.figure(figsize=(10, 6))\n",
        "plt.scatter(y_test, y_pred, color='blue', label='Wartości Rzeczywiste a Przewidywane')\n",
        "plt.plot([y_test.min(), y_test.max()], [y_test.min(), y_test.max()], '--', color='red', label='Ideał')\n",
        "plt.title('Wartości Rzeczywiste a Przewidywane')\n",
        "plt.xlabel('Rzeczywiste')\n",
        "plt.ylabel('Przewidywane')\n",
        "plt.legend()\n",
        "plt.show()"
      ],
      "metadata": {
        "ExecuteTime": {
          "end_time": "2024-04-16T15:58:41.903022Z",
          "start_time": "2024-04-16T15:58:41.576953Z"
        },
        "id": "e17aca7b6a96b809",
        "outputId": "4b94019b-1c6d-4497-8447-5b77dd248d21",
        "colab": {
          "base_uri": "https://localhost:8080/",
          "height": 565
        }
      },
      "id": "e17aca7b6a96b809"
    },
    {
      "cell_type": "markdown",
      "source": [
        "Z wykresu możemy wnioskować, że model średnio sobie radzi z przewidywaniem wyższych wartości. Może być to spowodowane niewystarczającą liczbą przypadków ogłoszeń z cenami >1.5 miliona lub wybraniem złego modelu."
      ],
      "metadata": {
        "collapsed": false,
        "id": "ce2d00e375aaa58d"
      },
      "id": "ce2d00e375aaa58d"
    },
    {
      "cell_type": "markdown",
      "source": [],
      "metadata": {
        "collapsed": false,
        "id": "be49284f8f710225"
      },
      "id": "be49284f8f710225"
    },
    {
      "cell_type": "code",
      "execution_count": 7,
      "outputs": [
        {
          "output_type": "stream",
          "name": "stdout",
          "text": [
            "Cross Validation Score:  [0.3048472  0.42354097 0.34307738 0.32622976 0.40298448 0.33415731\n",
            " 0.35389578 0.43982456 0.34043789 0.23120915 0.48988149 0.24331674\n",
            " 0.49782386 0.28851387 0.38692206 0.31823726 0.5076094  0.24137524\n",
            " 0.20087974 0.3717199  0.30186297 0.36090288 0.36091703 0.47216805\n",
            " 0.32848872 0.40213783 0.28580038 0.3227488  0.31614519 0.31932509\n",
            " 0.27444135 0.34849079 0.42773341 0.55234023 0.23181206 0.34301315\n",
            " 0.18369045 0.37432225 0.30588735 0.45629086 0.32173945 0.35631834\n",
            " 0.33146502 0.30836542 0.48871109 0.33438085 0.32668307 0.21656633\n",
            " 0.40950851 0.46846566 0.24628029 0.35716169 0.38562963 0.36004001\n",
            " 0.31114419 0.44091716 0.52581639 0.24018291 0.21947161 0.36402104\n",
            " 0.33655075 0.28235667 0.48104963 0.38214224 0.44749608 0.2721098\n",
            " 0.3114152  0.38592847 0.32025077 0.27704416 0.29393787 0.37346854\n",
            " 0.37172132 0.40549431 0.41534919 0.32788038 0.44813303 0.26441936\n",
            " 0.20789418 0.31583986 0.18180707 0.37524692 0.28147825 0.4478128\n",
            " 0.37382166 0.35915256 0.42621198 0.28800913 0.38681281 0.37627307\n",
            " 0.40969144 0.29843979 0.4057372  0.46327359 0.33209954 0.30475667\n",
            " 0.48181861 0.15528443 0.2295418  0.35885797]\n"
          ]
        },
        {
          "output_type": "display_data",
          "data": {
            "text/plain": [
              "<Figure size 1000x1000 with 1 Axes>"
            ],
            "image/png": "[encoded data removed]"
          },
          "metadata": {}
        }
      ],
      "source": [
        "from sklearn.model_selection import cross_val_score, RepeatedKFold\n",
        "from sklearn.pipeline import Pipeline\n",
        "cv = RepeatedKFold(n_splits=10, n_repeats=10,random_state=1)\n",
        "pipe_linear = Pipeline([\n",
        "    ('linear', LinearRegression(fit_intercept=True))\n",
        "])\n",
        "\n",
        "model_linear_scores = cross_val_score(pipe_linear, X, y, scoring='r2', cv = cv)\n",
        "print(\"Cross Validation Score: \", model_linear_scores)\n",
        "plt.figure(figsize=(10, 10))\n",
        "plt.boxplot([model_linear_scores], labels=['Regresja Liniowa'], showmeans=True)\n",
        "plt.title('Zależność modelu od wylosowanej próbki')\n",
        "plt.ylabel('Współczynnik Determinacji')\n",
        "plt.show()"
      ],
      "metadata": {
        "ExecuteTime": {
          "end_time": "2024-04-16T15:58:42.833324Z",
          "start_time": "2024-04-16T15:58:41.907526Z"
        },
        "id": "41145610d72ddcf6",
        "outputId": "e4a7bb78-9d38-49fd-a73f-fa1b3ab11ef9",
        "colab": {
          "base_uri": "https://localhost:8080/",
          "height": 1000
        }
      },
      "id": "41145610d72ddcf6"
    },
    {
      "cell_type": "markdown",
      "source": [
        "Na podstawie wyników walidacji krzyżowej możemy powiedzieć, że model nie jest  stabilny, ponieważ wyniki walidacji krzyżowej różnią się dosyć znacząco dla różnych podziałów danych. Przykładowo najwyższy wynik R^2 to 0.55 a najniższy około 0.15."
      ],
      "metadata": {
        "collapsed": false,
        "id": "b89d837a5d3e473"
      },
      "id": "b89d837a5d3e473"
    },
    {
      "cell_type": "code",
      "execution_count": 8,
      "outputs": [
        {
          "output_type": "stream",
          "name": "stdout",
          "text": [
            "Best Parameters: {'linear__fit_intercept': True, 'linear__n_jobs': None, 'linear__positive': False}\n",
            "Best Score: 0.3488448065360991\n"
          ]
        }
      ],
      "source": [
        "from sklearn.model_selection import GridSearchCV\n",
        "from sklearn.linear_model import LinearRegression\n",
        "\n",
        "pipe_linear = Pipeline([\n",
        "    ('linear', LinearRegression(fit_intercept=True))\n",
        "])\n",
        "\n",
        "param_grid = {\n",
        "    'linear__fit_intercept': [True, False],\n",
        "    'linear__n_jobs': [None, 1, 2, 4, 8],\n",
        "    'linear__positive': [False, True]\n",
        "\n",
        "}\n",
        "\n",
        "cv = RepeatedKFold(n_splits=10, n_repeats=10, random_state=1)\n",
        "\n",
        "# Perform grid search\n",
        "grid_search = GridSearchCV(pipe_linear, param_grid, cv=cv, scoring='r2')\n",
        "grid_search.fit(X, y)\n",
        "\n",
        "# Get the best parameters and best score\n",
        "best_params = grid_search.best_params_\n",
        "best_score = grid_search.best_score_\n",
        "\n",
        "print(\"Best Parameters:\", best_params)\n",
        "print(\"Best Score:\", best_score)\n"
      ],
      "metadata": {
        "ExecuteTime": {
          "end_time": "2024-04-16T16:02:09.710501Z",
          "start_time": "2024-04-16T16:02:00.684644Z"
        },
        "id": "91237bbd1d8858e8",
        "outputId": "144d45a1-16e9-4cc7-a471-f91c7d82e669",
        "colab": {
          "base_uri": "https://localhost:8080/"
        }
      },
      "id": "91237bbd1d8858e8"
    },
    {
      "cell_type": "code",
      "execution_count": 9,
      "outputs": [
        {
          "output_type": "stream",
          "name": "stdout",
          "text": [
            "         feature        VIF\n",
            "0         BROKER   3.424444\n",
            "1       LATITUDE  24.088323\n",
            "2      LONGITUDE  46.314859\n",
            "3           TYPE   3.725739\n",
            "4        BOROUGH   3.215143\n",
            "5  NEIGHBOURHOOD   4.328808\n",
            "6           BEDS   9.242304\n",
            "7       POSTCODE  13.026365\n",
            "8           BATH   8.219750\n",
            "9   PROPERTYSQFT   5.652389\n"
          ]
        }
      ],
      "source": [
        "from statsmodels.stats.outliers_influence import variance_inflation_factor\n",
        "vif_x=X.copy()\n",
        "vif_data = pd.DataFrame()\n",
        "vif_data[\"feature\"] = vif_x.columns\n",
        "\n",
        "vif_data[\"VIF\"] = [variance_inflation_factor(vif_x.values, i)\n",
        "                          for i in range(len(vif_x.columns))]\n",
        "\n",
        "print(vif_data)"
      ],
      "metadata": {
        "ExecuteTime": {
          "start_time": "2024-04-16T15:58:43.274269Z"
        },
        "id": "89e310e5c7757ffb",
        "outputId": "43019376-dace-4fb2-b7e3-ca4bf6a06571",
        "colab": {
          "base_uri": "https://localhost:8080/"
        }
      },
      "id": "89e310e5c7757ffb"
    },
    {
      "cell_type": "markdown",
      "source": [
        "Wysokie wartości VIF dla zmiennych BEDS, POSTCODE, BATH, PROPERTYSQFT, LATITUDE oraz LONGITUDE wskazują na ich silną korelację z innymi zmiennymi w zbiorze danych. Z uwagi na to, że wysokie wartości VIF są zazwyczaj niepożądane i mogą świadczyć o możliwej wieloliniowości modelu, rozważenie działań mających na celu zmniejszenie korelacji, np. przez zastosowanie analizy głównych składowych (PCA), może być wskazane."
      ],
      "metadata": {
        "collapsed": false,
        "id": "d85874a995a07187"
      },
      "id": "d85874a995a07187"
    },
    {
      "cell_type": "code",
      "execution_count": 10,
      "outputs": [
        {
          "output_type": "execute_result",
          "data": {
            "text/plain": [
              "       feature_0   feature_1  feature_2  feature_3  feature_4  feature_5\n",
              "0    -161.996266 -115.604465  26.933015  -1.502278  -0.524361  -0.060368\n",
              "1     405.600518 -113.137165   1.529599   1.664794   1.029621   0.612129\n",
              "2    -221.973645 -114.140947  26.179353  -1.457868  -0.480821  -0.040537\n",
              "3     408.315389  -26.271092 -46.062553   0.790193  -1.800866  -0.051927\n",
              "4    -161.897677 -113.999705  22.199013  -1.565854  -0.508710  -0.188432\n",
              "...          ...         ...        ...        ...        ...        ...\n",
              "4501 -221.522691 -106.138266   5.696170  -3.734768  -0.407511  -0.058016\n",
              "4502  155.724427  -17.484736 -69.383974  -5.250187   0.523221   0.006469\n",
              "4503 -162.175676 -118.498272  35.479340  -3.388526  -0.508557   0.015195\n",
              "4504 -145.177221   89.001470 -38.528559  -2.844816   0.720788   0.006368\n",
              "4505  219.603802   97.280650   5.694335  -4.703789  -1.571506   0.261213\n",
              "\n",
              "[4506 rows x 6 columns]"
            ],
            "text/html": [
              "\n",
              "  <div id=\"df-63be762d-2292-494f-ae76-5abdc4b43cd5\" class=\"colab-df-container\">\n",
              "    <div>\n",
              "<style scoped>\n",
              "    .dataframe tbody tr th:only-of-type {\n",
              "        vertical-align: middle;\n",
              "    }\n",
              "\n",
              "    .dataframe tbody tr th {\n",
              "        vertical-align: top;\n",
              "    }\n",
              "\n",
              "    .dataframe thead th {\n",
              "        text-align: right;\n",
              "    }\n",
              "</style>\n",
              "<table border=\"1\" class=\"dataframe\">\n",
              "  <thead>\n",
              "    <tr style=\"text-align: right;\">\n",
              "      <th></th>\n",
              "      <th>feature_0</th>\n",
              "      <th>feature_1</th>\n",
              "      <th>feature_2</th>\n",
              "      <th>feature_3</th>\n",
              "      <th>feature_4</th>\n",
              "      <th>feature_5</th>\n",
              "    </tr>\n",
              "  </thead>\n",
              "  <tbody>\n",
              "    <tr>\n",
              "      <th>0</th>\n",
              "      <td>-161.996266</td>\n",
              "      <td>-115.604465</td>\n",
              "      <td>26.933015</td>\n",
              "      <td>-1.502278</td>\n",
              "      <td>-0.524361</td>\n",
              "      <td>-0.060368</td>\n",
              "    </tr>\n",
              "    <tr>\n",
              "      <th>1</th>\n",
              "      <td>405.600518</td>\n",
              "      <td>-113.137165</td>\n",
              "      <td>1.529599</td>\n",
              "      <td>1.664794</td>\n",
              "      <td>1.029621</td>\n",
              "      <td>0.612129</td>\n",
              "    </tr>\n",
              "    <tr>\n",
              "      <th>2</th>\n",
              "      <td>-221.973645</td>\n",
              "      <td>-114.140947</td>\n",
              "      <td>26.179353</td>\n",
              "      <td>-1.457868</td>\n",
              "      <td>-0.480821</td>\n",
              "      <td>-0.040537</td>\n",
              "    </tr>\n",
              "    <tr>\n",
              "      <th>3</th>\n",
              "      <td>408.315389</td>\n",
              "      <td>-26.271092</td>\n",
              "      <td>-46.062553</td>\n",
              "      <td>0.790193</td>\n",
              "      <td>-1.800866</td>\n",
              "      <td>-0.051927</td>\n",
              "    </tr>\n",
              "    <tr>\n",
              "      <th>4</th>\n",
              "      <td>-161.897677</td>\n",
              "      <td>-113.999705</td>\n",
              "      <td>22.199013</td>\n",
              "      <td>-1.565854</td>\n",
              "      <td>-0.508710</td>\n",
              "      <td>-0.188432</td>\n",
              "    </tr>\n",
              "    <tr>\n",
              "      <th>...</th>\n",
              "      <td>...</td>\n",
              "      <td>...</td>\n",
              "      <td>...</td>\n",
              "      <td>...</td>\n",
              "      <td>...</td>\n",
              "      <td>...</td>\n",
              "    </tr>\n",
              "    <tr>\n",
              "      <th>4501</th>\n",
              "      <td>-221.522691</td>\n",
              "      <td>-106.138266</td>\n",
              "      <td>5.696170</td>\n",
              "      <td>-3.734768</td>\n",
              "      <td>-0.407511</td>\n",
              "      <td>-0.058016</td>\n",
              "    </tr>\n",
              "    <tr>\n",
              "      <th>4502</th>\n",
              "      <td>155.724427</td>\n",
              "      <td>-17.484736</td>\n",
              "      <td>-69.383974</td>\n",
              "      <td>-5.250187</td>\n",
              "      <td>0.523221</td>\n",
              "      <td>0.006469</td>\n",
              "    </tr>\n",
              "    <tr>\n",
              "      <th>4503</th>\n",
              "      <td>-162.175676</td>\n",
              "      <td>-118.498272</td>\n",
              "      <td>35.479340</td>\n",
              "      <td>-3.388526</td>\n",
              "      <td>-0.508557</td>\n",
              "      <td>0.015195</td>\n",
              "    </tr>\n",
              "    <tr>\n",
              "      <th>4504</th>\n",
              "      <td>-145.177221</td>\n",
              "      <td>89.001470</td>\n",
              "      <td>-38.528559</td>\n",
              "      <td>-2.844816</td>\n",
              "      <td>0.720788</td>\n",
              "      <td>0.006368</td>\n",
              "    </tr>\n",
              "    <tr>\n",
              "      <th>4505</th>\n",
              "      <td>219.603802</td>\n",
              "      <td>97.280650</td>\n",
              "      <td>5.694335</td>\n",
              "      <td>-4.703789</td>\n",
              "      <td>-1.571506</td>\n",
              "      <td>0.261213</td>\n",
              "    </tr>\n",
              "  </tbody>\n",
              "</table>\n",
              "<p>4506 rows × 6 columns</p>\n",
              "</div>\n",
              "    <div class=\"colab-df-buttons\">\n",
              "\n",
              "  <div class=\"colab-df-container\">\n",
              "    <button class=\"colab-df-convert\" onclick=\"convertToInteractive('df-63be762d-2292-494f-ae76-5abdc4b43cd5')\"\n",
              "            title=\"Convert this dataframe to an interactive table.\"\n",
              "            style=\"display:none;\">\n",
              "\n",
              "  <svg xmlns=\"http://www.w3.org/2000/svg\" height=\"24px\" viewBox=\"0 -960 960 960\">\n",
              "    <path d=\"M120-120v-720h720v720H120Zm60-500h600v-160H180v160Zm220 220h160v-160H400v160Zm0 220h160v-160H400v160ZM180-400h160v-160H180v160Zm440 0h160v-160H620v160ZM180-180h160v-160H180v160Zm440 0h160v-160H620v160Z\"/>\n",
              "  </svg>\n",
              "    </button>\n",
              "\n",
              "  <style>\n",
              "    .colab-df-container {\n",
              "      display:flex;\n",
              "      gap: 12px;\n",
              "    }\n",
              "\n",
              "    .colab-df-convert {\n",
              "      background-color: #E8F0FE;\n",
              "      border: none;\n",
              "      border-radius: 50%;\n",
              "      cursor: pointer;\n",
              "      display: none;\n",
              "      fill: #1967D2;\n",
              "      height: 32px;\n",
              "      padding: 0 0 0 0;\n",
              "      width: 32px;\n",
              "    }\n",
              "\n",
              "    .colab-df-convert:hover {\n",
              "      background-color: #E2EBFA;\n",
              "      box-shadow: 0px 1px 2px rgba(60, 64, 67, 0.3), 0px 1px 3px 1px rgba(60, 64, 67, 0.15);\n",
              "      fill: #174EA6;\n",
              "    }\n",
              "\n",
              "    .colab-df-buttons div {\n",
              "      margin-bottom: 4px;\n",
              "    }\n",
              "\n",
              "    [theme=dark] .colab-df-convert {\n",
              "      background-color: #3B4455;\n",
              "      fill: #D2E3FC;\n",
              "    }\n",
              "\n",
              "    [theme=dark] .colab-df-convert:hover {\n",
              "      background-color: #434B5C;\n",
              "      box-shadow: 0px 1px 3px 1px rgba(0, 0, 0, 0.15);\n",
              "      filter: drop-shadow(0px 1px 2px rgba(0, 0, 0, 0.3));\n",
              "      fill: #FFFFFF;\n",
              "    }\n",
              "  </style>\n",
              "\n",
              "    <script>\n",
              "      const buttonEl =\n",
              "        document.querySelector('#df-63be762d-2292-494f-ae76-5abdc4b43cd5 button.colab-df-convert');\n",
              "      buttonEl.style.display =\n",
              "        google.colab.kernel.accessAllowed ? 'block' : 'none';\n",
              "\n",
              "      async function convertToInteractive(key) {\n",
              "        const element = document.querySelector('#df-63be762d-2292-494f-ae76-5abdc4b43cd5');\n",
              "        const dataTable =\n",
              "          await google.colab.kernel.invokeFunction('convertToInteractive',\n",
              "                                                    [key], {});\n",
              "        if (!dataTable) return;\n",
              "\n",
              "        const docLinkHtml = 'Like what you see? Visit the ' +\n",
              "          '<a target=\"_blank\" href=https://colab.research.google.com/notebooks/data_table.ipynb>data table notebook</a>'\n",
              "          + ' to learn more about interactive tables.';\n",
              "        element.innerHTML = '';\n",
              "        dataTable['output_type'] = 'display_data';\n",
              "        await google.colab.output.renderOutput(dataTable, element);\n",
              "        const docLink = document.createElement('div');\n",
              "        docLink.innerHTML = docLinkHtml;\n",
              "        element.appendChild(docLink);\n",
              "      }\n",
              "    </script>\n",
              "  </div>\n",
              "\n",
              "\n",
              "<div id=\"df-97ee868a-6afa-4f05-8889-8984d1645f4e\">\n",
              "  <button class=\"colab-df-quickchart\" onclick=\"quickchart('df-97ee868a-6afa-4f05-8889-8984d1645f4e')\"\n",
              "            title=\"Suggest charts\"\n",
              "            style=\"display:none;\">\n",
              "\n",
              "<svg xmlns=\"http://www.w3.org/2000/svg\" height=\"24px\"viewBox=\"0 0 24 24\"\n",
              "     width=\"24px\">\n",
              "    <g>\n",
              "        <path d=\"M19 3H5c-1.1 0-2 .9-2 2v14c0 1.1.9 2 2 2h14c1.1 0 2-.9 2-2V5c0-1.1-.9-2-2-2zM9 17H7v-7h2v7zm4 0h-2V7h2v10zm4 0h-2v-4h2v4z\"/>\n",
              "    </g>\n",
              "</svg>\n",
              "  </button>\n",
              "\n",
              "<style>\n",
              "  .colab-df-quickchart {\n",
              "      --bg-color: #E8F0FE;\n",
              "      --fill-color: #1967D2;\n",
              "      --hover-bg-color: #E2EBFA;\n",
              "      --hover-fill-color: #174EA6;\n",
              "      --disabled-fill-color: #AAA;\n",
              "      --disabled-bg-color: #DDD;\n",
              "  }\n",
              "\n",
              "  [theme=dark] .colab-df-quickchart {\n",
              "      --bg-color: #3B4455;\n",
              "      --fill-color: #D2E3FC;\n",
              "      --hover-bg-color: #434B5C;\n",
              "      --hover-fill-color: #FFFFFF;\n",
              "      --disabled-bg-color: #3B4455;\n",
              "      --disabled-fill-color: #666;\n",
              "  }\n",
              "\n",
              "  .colab-df-quickchart {\n",
              "    background-color: var(--bg-color);\n",
              "    border: none;\n",
              "    border-radius: 50%;\n",
              "    cursor: pointer;\n",
              "    display: none;\n",
              "    fill: var(--fill-color);\n",
              "    height: 32px;\n",
              "    padding: 0;\n",
              "    width: 32px;\n",
              "  }\n",
              "\n",
              "  .colab-df-quickchart:hover {\n",
              "    background-color: var(--hover-bg-color);\n",
              "    box-shadow: 0 1px 2px rgba(60, 64, 67, 0.3), 0 1px 3px 1px rgba(60, 64, 67, 0.15);\n",
              "    fill: var(--button-hover-fill-color);\n",
              "  }\n",
              "\n",
              "  .colab-df-quickchart-complete:disabled,\n",
              "  .colab-df-quickchart-complete:disabled:hover {\n",
              "    background-color: var(--disabled-bg-color);\n",
              "    fill: var(--disabled-fill-color);\n",
              "    box-shadow: none;\n",
              "  }\n",
              "\n",
              "  .colab-df-spinner {\n",
              "    border: 2px solid var(--fill-color);\n",
              "    border-color: transparent;\n",
              "    border-bottom-color: var(--fill-color);\n",
              "    animation:\n",
              "      spin 1s steps(1) infinite;\n",
              "  }\n",
              "\n",
              "  @keyframes spin {\n",
              "    0% {\n",
              "      border-color: transparent;\n",
              "      border-bottom-color: var(--fill-color);\n",
              "      border-left-color: var(--fill-color);\n",
              "    }\n",
              "    20% {\n",
              "      border-color: transparent;\n",
              "      border-left-color: var(--fill-color);\n",
              "      border-top-color: var(--fill-color);\n",
              "    }\n",
              "    30% {\n",
              "      border-color: transparent;\n",
              "      border-left-color: var(--fill-color);\n",
              "      border-top-color: var(--fill-color);\n",
              "      border-right-color: var(--fill-color);\n",
              "    }\n",
              "    40% {\n",
              "      border-color: transparent;\n",
              "      border-right-color: var(--fill-color);\n",
              "      border-top-color: var(--fill-color);\n",
              "    }\n",
              "    60% {\n",
              "      border-color: transparent;\n",
              "      border-right-color: var(--fill-color);\n",
              "    }\n",
              "    80% {\n",
              "      border-color: transparent;\n",
              "      border-right-color: var(--fill-color);\n",
              "      border-bottom-color: var(--fill-color);\n",
              "    }\n",
              "    90% {\n",
              "      border-color: transparent;\n",
              "      border-bottom-color: var(--fill-color);\n",
              "    }\n",
              "  }\n",
              "</style>\n",
              "\n",
              "  <script>\n",
              "    async function quickchart(key) {\n",
              "      const quickchartButtonEl =\n",
              "        document.querySelector('#' + key + ' button');\n",
              "      quickchartButtonEl.disabled = true;  // To prevent multiple clicks.\n",
              "      quickchartButtonEl.classList.add('colab-df-spinner');\n",
              "      try {\n",
              "        const charts = await google.colab.kernel.invokeFunction(\n",
              "            'suggestCharts', [key], {});\n",
              "      } catch (error) {\n",
              "        console.error('Error during call to suggestCharts:', error);\n",
              "      }\n",
              "      quickchartButtonEl.classList.remove('colab-df-spinner');\n",
              "      quickchartButtonEl.classList.add('colab-df-quickchart-complete');\n",
              "    }\n",
              "    (() => {\n",
              "      let quickchartButtonEl =\n",
              "        document.querySelector('#df-97ee868a-6afa-4f05-8889-8984d1645f4e button');\n",
              "      quickchartButtonEl.style.display =\n",
              "        google.colab.kernel.accessAllowed ? 'block' : 'none';\n",
              "    })();\n",
              "  </script>\n",
              "</div>\n",
              "    </div>\n",
              "  </div>\n"
            ],
            "application/vnd.google.colaboratory.intrinsic+json": {
              "type": "dataframe",
              "variable_name": "data_relevant_pca",
              "summary": "{\n  \"name\": \"data_relevant_pca\",\n  \"rows\": 4506,\n  \"fields\": [\n    {\n      \"column\": \"feature_0\",\n      \"properties\": {\n        \"dtype\": \"number\",\n        \"std\": 269.37162081778564,\n        \"min\": -435.03729513846486,\n        \"max\": 513.1889791020232,\n        \"num_unique_values\": 4493,\n        \"samples\": [\n          -147.94969764757911,\n          405.23764784624836,\n          -215.69742970012547\n        ],\n        \"semantic_type\": \"\",\n        \"description\": \"\"\n      }\n    },\n    {\n      \"column\": \"feature_1\",\n      \"properties\": {\n        \"dtype\": \"number\",\n        \"std\": 84.19534922457343,\n        \"min\": -137.6996770866713,\n        \"max\": 173.7992575574525,\n        \"num_unique_values\": 4493,\n        \"samples\": [\n          66.41743976335083,\n          -27.481645150794332,\n          115.95395122763797\n        ],\n        \"semantic_type\": \"\",\n        \"description\": \"\"\n      }\n    },\n    {\n      \"column\": \"feature_2\",\n      \"properties\": {\n        \"dtype\": \"number\",\n        \"std\": 44.456484730175646,\n        \"min\": -108.05218578752331,\n        \"max\": 128.39323378411234,\n        \"num_unique_values\": 4494,\n        \"samples\": [\n          59.25421060328277,\n          -53.901842090920425,\n          -91.81165454486857\n        ],\n        \"semantic_type\": \"\",\n        \"description\": \"\"\n      }\n    },\n    {\n      \"column\": \"feature_3\",\n      \"properties\": {\n        \"dtype\": \"number\",\n        \"std\": 3.8149374648122065,\n        \"min\": -5.746502552163976,\n        \"max\": 8.12647146089123,\n        \"num_unique_values\": 4494,\n        \"samples\": [\n          6.464082160004146,\n          -4.9674364643347815,\n          0.5956921422742907\n        ],\n        \"semantic_type\": \"\",\n        \"description\": \"\"\n      }\n    },\n    {\n      \"column\": \"feature_4\",\n      \"properties\": {\n        \"dtype\": \"number\",\n        \"std\": 1.2465536199129668,\n        \"min\": -1.9880399698373936,\n        \"max\": 2.7799843479259616,\n        \"num_unique_values\": 4494,\n        \"samples\": [\n          1.3818459866850314,\n          -1.4910929023124513,\n          0.3882839980368994\n        ],\n        \"semantic_type\": \"\",\n        \"description\": \"\"\n      }\n    },\n    {\n      \"column\": \"feature_5\",\n      \"properties\": {\n        \"dtype\": \"number\",\n        \"std\": 0.22930645612776493,\n        \"min\": -0.4805963096554451,\n        \"max\": 0.8114594926095103,\n        \"num_unique_values\": 4494,\n        \"samples\": [\n          0.3736563865366246,\n          0.2435183048973516,\n          -0.02505788395809791\n        ],\n        \"semantic_type\": \"\",\n        \"description\": \"\"\n      }\n    }\n  ]\n}"
            }
          },
          "metadata": {},
          "execution_count": 10
        }
      ],
      "source": [
        "from sklearn.decomposition import PCA\n",
        "\n",
        "n_comp = 6\n",
        "col_names = ['feature_'+str(i) for i in range(0,n_comp)]\n",
        "pca = PCA(n_components=n_comp)\n",
        "data_relevant_pca = pd.DataFrame(pca.fit_transform(X), columns = col_names)\n",
        "\n",
        "data_relevant_pca"
      ],
      "metadata": {
        "ExecuteTime": {
          "end_time": "2024-04-16T15:58:43.277792Z",
          "start_time": "2024-04-16T15:58:43.276294Z"
        },
        "id": "57e9d8345fe151c6",
        "outputId": "66d67589-9ca4-4c8f-c511-ced3a328b04a",
        "colab": {
          "base_uri": "https://localhost:8080/",
          "height": 424
        }
      },
      "id": "57e9d8345fe151c6"
    },
    {
      "cell_type": "code",
      "execution_count": 11,
      "outputs": [],
      "source": [
        "X_train, X_test, y_train, y_test = train_test_split(data_relevant_pca, y, test_size=0.3, random_state=42)"
      ],
      "metadata": {
        "ExecuteTime": {
          "start_time": "2024-04-16T15:58:43.278639Z"
        },
        "id": "4d3250ddae8ab35"
      },
      "id": "4d3250ddae8ab35"
    },
    {
      "cell_type": "code",
      "execution_count": 12,
      "outputs": [
        {
          "output_type": "stream",
          "name": "stdout",
          "text": [
            "     feature  VIF\n",
            "0  feature_0  1.0\n",
            "1  feature_1  1.0\n",
            "2  feature_2  1.0\n",
            "3  feature_3  1.0\n",
            "4  feature_4  1.0\n",
            "5  feature_5  1.0\n"
          ]
        }
      ],
      "source": [
        "from statsmodels.stats.outliers_influence import variance_inflation_factor\n",
        "vif_x=data_relevant_pca.copy()\n",
        "\n",
        "vif_data = pd.DataFrame()\n",
        "vif_data[\"feature\"] = vif_x.columns\n",
        "\n",
        "vif_data[\"VIF\"] = [variance_inflation_factor(vif_x.values, i)\n",
        "                          for i in range(len(vif_x.columns))]\n",
        "\n",
        "print(vif_data)"
      ],
      "metadata": {
        "ExecuteTime": {
          "start_time": "2024-04-16T15:58:43.281074Z"
        },
        "id": "93ab9087fa2de886",
        "outputId": "792c681d-c9fa-45ef-8d9c-1bb59d7cb439",
        "colab": {
          "base_uri": "https://localhost:8080/"
        }
      },
      "id": "93ab9087fa2de886"
    },
    {
      "cell_type": "markdown",
      "source": [
        "Wartości VIF wynoszące 1.0 dla wszystkich zmiennych wskazują na brak korelacji między nimi.\n",
        "Taka sytuacja jest korzystne dla stabilności wybranego modelu."
      ],
      "metadata": {
        "collapsed": false,
        "id": "749e40750232986"
      },
      "id": "749e40750232986"
    },
    {
      "cell_type": "code",
      "execution_count": 13,
      "outputs": [
        {
          "output_type": "stream",
          "name": "stdout",
          "text": [
            "Współczynniki modelu:  [-8.00408231e+02 -8.48885438e+03  1.45686807e+04  1.32674542e+05\n",
            " -4.64438459e+05 -2.75789608e+06]\n",
            "Wyraz wolny:  1710548.1834018864\n",
            "\n",
            "R-squared: 0.1867849813104121\n",
            "Mean Absolute Error: 1472007.5710042594\n",
            "Median Absolute Error: 833256.5642988225\n",
            "Mean Squared Error: 8518045377776.891\n",
            "Root Mean Squared Error: 2918569.06338995\n"
          ]
        }
      ],
      "source": [
        "reg_pca = LinearRegression().fit(X_train, y_train)\n",
        "\n",
        "print('Współczynniki modelu: ',reg_pca.coef_)\n",
        "print('Wyraz wolny: ', reg_pca.intercept_)\n",
        "\n",
        "y_pred = reg_pca.predict(X_test)\n",
        "\n",
        "print(\"\\nR-squared:\", r2_score(y_test, y_pred))\n",
        "print(\"Mean Absolute Error:\", mean_absolute_error(y_test, y_pred))\n",
        "print(\"Median Absolute Error:\", median_absolute_error(y_test, y_pred))\n",
        "print(\"Mean Squared Error:\", mean_squared_error(y_test, y_pred))\n",
        "print(\"Root Mean Squared Error:\", np.sqrt(mean_squared_error(y_test, y_pred)))"
      ],
      "metadata": {
        "ExecuteTime": {
          "end_time": "2024-04-16T15:58:43.289545Z",
          "start_time": "2024-04-16T15:58:43.283455Z"
        },
        "id": "fce7cb5b84b6092a",
        "outputId": "b4e0a8e4-856a-4c8f-f1e3-139fc8aa132b",
        "colab": {
          "base_uri": "https://localhost:8080/"
        }
      },
      "id": "fce7cb5b84b6092a"
    },
    {
      "cell_type": "code",
      "execution_count": 13,
      "outputs": [],
      "source": [],
      "metadata": {
        "ExecuteTime": {
          "start_time": "2024-04-16T15:58:43.285144Z"
        },
        "id": "88e0f5e2f123dd51"
      },
      "id": "88e0f5e2f123dd51"
    },
    {
      "cell_type": "markdown",
      "source": [
        "Model wytrenowany na danych po transformacji PCA wydaje się mieć ograniczoną zdolność do wyjaśniania zmienności cechy PRICE na podstawie dostarczonego zbioru - wynik współczynika determinacji wynosi około 0.15. Ponadto, wysokie wartości błędów wskazują na znaczną rozbieżność między przewidywanymi a rzeczywistymi wartościami zmiennej PRICE."
      ],
      "metadata": {
        "collapsed": false,
        "id": "7c2ede21918e674e"
      },
      "id": "7c2ede21918e674e"
    },
    {
      "cell_type": "code",
      "execution_count": 14,
      "outputs": [
        {
          "output_type": "display_data",
          "data": {
            "text/plain": [
              "<Figure size 1000x600 with 1 Axes>"
            ],
            "image/png": "[encoded data removed]"
          },
          "metadata": {}
        }
      ],
      "source": [
        "plt.figure(figsize=(10, 6))\n",
        "plt.scatter(y_test, y_pred, color='blue', label='Wartości Rzeczywiste a Przewidywane')\n",
        "plt.plot([y_test.min(), y_test.max()], [y_test.min(), y_test.max()], '--', color='red', label='Ideał')\n",
        "plt.title('Wartości Rzeczywiste a Przewidywane')\n",
        "plt.xlabel('Rzeczywiste')\n",
        "plt.ylabel('Przewidywane')\n",
        "plt.legend()\n",
        "plt.show()"
      ],
      "metadata": {
        "ExecuteTime": {
          "start_time": "2024-04-16T15:58:43.287357Z"
        },
        "id": "5c9569843674cb94",
        "outputId": "7ae40a27-20c6-4170-9892-f17c8b29dda9",
        "colab": {
          "base_uri": "https://localhost:8080/",
          "height": 565
        }
      },
      "id": "5c9569843674cb94"
    },
    {
      "cell_type": "code",
      "execution_count": 15,
      "outputs": [
        {
          "output_type": "stream",
          "name": "stdout",
          "text": [
            "Cross Validation Score:  [0.22456969 0.12135091 0.16043687 0.2207802  0.1433581  0.17514762\n",
            " 0.19745571 0.16164154 0.15713593 0.13710569 0.16294432 0.19592756\n",
            " 0.21469362 0.13717919 0.12834579 0.14219564 0.20406104 0.14507362\n",
            " 0.13142583 0.17862491 0.18951502 0.14731603 0.15102189 0.13690514\n",
            " 0.21530505]\n"
          ]
        },
        {
          "output_type": "display_data",
          "data": {
            "text/plain": [
              "<Figure size 1000x1000 with 1 Axes>"
            ],
            "image/png": "[encoded data removed]"
          },
          "metadata": {}
        }
      ],
      "source": [
        "cv = RepeatedKFold(n_splits=5, n_repeats=5,random_state=1)\n",
        "pipe_linear = Pipeline([\n",
        "    ('linear', LinearRegression(fit_intercept=True))\n",
        "])\n",
        "\n",
        "model_linear_scores = cross_val_score(pipe_linear, data_relevant_pca, y, scoring='r2', cv = cv)\n",
        "print(\"Cross Validation Score: \", model_linear_scores)\n",
        "plt.figure(figsize=(10, 10))\n",
        "plt.boxplot([model_linear_scores], labels=['Linear Regression'], showmeans=True)\n",
        "plt.title('Jakość modelu')\n",
        "plt.ylabel('Negative Mean Absolute Error')\n",
        "plt.show()"
      ],
      "metadata": {
        "ExecuteTime": {
          "start_time": "2024-04-16T15:58:43.289075Z"
        },
        "id": "7a71b0259cd37f0e",
        "outputId": "e28c8080-b2f0-45d5-87b5-9479d475c94a",
        "colab": {
          "base_uri": "https://localhost:8080/",
          "height": 940
        }
      },
      "id": "7a71b0259cd37f0e"
    }
  ],
  "metadata": {
    "kernelspec": {
      "display_name": "Python 3",
      "language": "python",
      "name": "python3"
    },
    "language_info": {
      "codemirror_mode": {
        "name": "ipython",
        "version": 2
      },
      "file_extension": ".py",
      "mimetype": "text/x-python",
      "name": "python",
      "nbconvert_exporter": "python",
      "pygments_lexer": "ipython2",
      "version": "2.7.6"
    },
    "colab": {
      "provenance": [],
      "include_colab_link": true
    }
  },
  "nbformat": 4,
  "nbformat_minor": 5
}