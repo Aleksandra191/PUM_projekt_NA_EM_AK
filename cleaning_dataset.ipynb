{
 "cells": [
  {
   "cell_type": "code",
   "execution_count": 1276,
   "outputs": [],
   "source": [
    "import pandas as pd\n",
    "import seaborn as sns\n",
    "import matplotlib.pyplot as plt\n",
    "import folium"
   ],
   "metadata": {
    "id": "b02f4f6977f07eef",
    "ExecuteTime": {
     "end_time": "2024-03-28T22:27:36.186172Z",
     "start_time": "2024-03-28T22:27:35.858761Z"
    }
   },
   "id": "b02f4f6977f07eef"
  },
  {
   "cell_type": "markdown",
   "source": [
    "Celem jest predykcja ceny nieruchomości.\n",
    "\n",
    "Zbiór danych zawiera 4802 instancje i kolumny określające:\n",
    "\n",
    "BROKERTITLE: Title of the broker\n",
    "TYPE: Type of the house\n",
    "PRICE: Price of the house\n",
    "BEDS: Number of bedrooms\n",
    "BATH: Number of bathrooms\n",
    "PROPERTYSQFT: Square footage of the property\n",
    "ADDRESS: Full address of the house\n",
    "STATE: State of the house\n",
    "MAIN_ADDRESS: Main address information\n",
    "ADMINISTRATIVE_AREA_LEVEL_2: Administrative area level 2 information\n",
    "LOCALITY: Locality information\n",
    "SUBLOCALITY: Sublocality information\n",
    "STREET_NAME: Street name\n",
    "LONG_NAME: Long name\n",
    "FORMATTED_ADDRESS: Formatted address\n",
    "LATITUDE: Latitude coordinate of the house\n",
    "LONGITUDE: Longitude coordinate of the house"
   ],
   "metadata": {
    "collapsed": false,
    "id": "33242a9b372ec5e9"
   },
   "id": "33242a9b372ec5e9"
  },
  {
   "cell_type": "code",
   "execution_count": 1277,
   "id": "initial_id",
   "metadata": {
    "collapsed": true,
    "id": "initial_id",
    "ExecuteTime": {
     "end_time": "2024-03-28T22:27:36.624952Z",
     "start_time": "2024-03-28T22:27:35.885026Z"
    }
   },
   "outputs": [],
   "source": [
    "import pandas as pd\n",
    "url = 'NY-House-Dataset.csv'\n",
    "data = pd.read_csv(url, sep= ';')"
   ]
  },
  {
   "cell_type": "code",
   "execution_count": 1278,
   "outputs": [
    {
     "data": {
      "text/plain": "                                            BROKERTITLE                TYPE  \\\n0           Brokered by Douglas Elliman  -111 Fifth Ave      Condo for sale   \n1                                   Brokered by Serhant      Condo for sale   \n2                                Brokered by Sowae Corp      House for sale   \n3                                   Brokered by COMPASS      Condo for sale   \n4     Brokered by Sotheby's International Realty - E...  Townhouse for sale   \n...                                                 ...                 ...   \n4796                                Brokered by COMPASS      Co-op for sale   \n4797                    Brokered by Mjr Real Estate Llc      Co-op for sale   \n4798      Brokered by Douglas Elliman - 575 Madison Ave      Co-op for sale   \n4799            Brokered by E Realty International Corp      Condo for sale   \n4800                 Brokered by Nyc Realty Brokers Llc      Co-op for sale   \n\n          PRICE  BEDS       BATH  PROPERTYSQFT  \\\n0        315000     2   2.000000   1400.000000   \n1     195000000     7  10.000000  17545.000000   \n2        260000     4   2.000000   2015.000000   \n3         69000     3   1.000000    445.000000   \n4      55000000     7   2.373861  14175.000000   \n...         ...   ...        ...           ...   \n4796     599000     1   1.000000   2184.207862   \n4797     245000     1   1.000000   2184.207862   \n4798    1275000     1   1.000000   2184.207862   \n4799     598125     2   1.000000    655.000000   \n4800     349000     1   1.000000    750.000000   \n\n                                                ADDRESS  \\\n0                                  2 E 55th St Unit 803   \n1     Central Park Tower Penthouse-217 W 57th New Yo...   \n2                                      620 Sinclair Ave   \n3                               2 E 55th St Unit 908W33   \n4                                           5 E 64th St   \n...                                                 ...   \n4796                               222 E 80th St Apt 3A   \n4797                                97-40 62 Dr Unit Lg   \n4798                          427 W 21st St Unit Garden   \n4799                           91-23 Corona Ave Unit 4G   \n4800                            460 Neptune Ave Apt 14O   \n\n                        STATE  \\\n0          New York, NY 10022   \n1          New York, NY 10019   \n2     Staten Island, NY 10312   \n3         Manhattan, NY 10022   \n4          New York, NY 10065   \n...                       ...   \n4796      Manhattan, NY 10075   \n4797      Rego Park, NY 11374   \n4798       New York, NY 10011   \n4799       Elmhurst, NY 11373   \n4800       Brooklyn, NY 11224   \n\n                                           MAIN_ADDRESS  \\\n0                2 E 55th St Unit 803New York, NY 10022   \n1     Central Park Tower Penthouse-217 W 57th New Yo...   \n2               620 Sinclair AveStaten Island, NY 10312   \n3            2 E 55th St Unit 908W33Manhattan, NY 10022   \n4                         5 E 64th StNew York, NY 10065   \n...                                                 ...   \n4796            222 E 80th St Apt 3AManhattan, NY 10075   \n4797             97-40 62 Dr Unit LgRego Park, NY 11374   \n4798        427 W 21st St Unit GardenNew York, NY 10011   \n4799         91-23 Corona Ave Unit 4GElmhurst, NY 11373   \n4800          460 Neptune Ave Apt 14OBrooklyn, NY 11224   \n\n     ADMINISTRATIVE_AREA_LEVEL_2         LOCALITY      SUBLOCALITY  \\\n0                New York County         New York        Manhattan   \n1                  United States         New York  New York County   \n2                  United States         New York  Richmond County   \n3                  United States         New York  New York County   \n4                  United States         New York  New York County   \n...                          ...              ...              ...   \n4796                    New York  New York County         New York   \n4797               United States         New York    Queens County   \n4798               United States         New York  New York County   \n4799                    New York    Queens County           Queens   \n4800                    New York     Kings County         Brooklyn   \n\n           STREET_NAME         LONG_NAME  \\\n0     East 55th Street   Regis Residence   \n1             New York  West 57th Street   \n2        Staten Island   Sinclair Avenue   \n3             New York  East 55th Street   \n4             New York  East 64th Street   \n...                ...               ...   \n4796         Manhattan               222   \n4797            Queens        62nd Drive   \n4798          New York  West 21st Street   \n4799          Flushing             91-23   \n4800      Coney Island               460   \n\n                                      FORMATTED_ADDRESS   LATITUDE  LONGITUDE  \n0     Regis Residence, 2 E 55th St #803, New York, N...  40.761255 -73.974483  \n1                217 W 57th St, New York, NY 10019, USA  40.766393 -73.980991  \n2        620 Sinclair Ave, Staten Island, NY 10312, USA  40.541805 -74.196109  \n3                  2 E 55th St, New York, NY 10022, USA  40.761398 -73.974613  \n4                  5 E 64th St, New York, NY 10065, USA  40.767224 -73.969856  \n...                                                 ...        ...        ...  \n4796         222 E 80th St #3a, New York, NY 10075, USA  40.774350 -73.955879  \n4797            97-40 62nd Dr, Rego Park, NY 11374, USA  40.732538 -73.860152  \n4798             427 W 21st St, New York, NY 10011, USA  40.745882 -74.003398  \n4799     91-23 Corona Ave. #4b, Flushing, NY 11373, USA  40.742770 -73.872752  \n4800      460 Neptune Ave #14a, Brooklyn, NY 11224, USA  40.579147 -73.970949  \n\n[4801 rows x 17 columns]",
      "text/html": "<div>\n<style scoped>\n    .dataframe tbody tr th:only-of-type {\n        vertical-align: middle;\n    }\n\n    .dataframe tbody tr th {\n        vertical-align: top;\n    }\n\n    .dataframe thead th {\n        text-align: right;\n    }\n</style>\n<table border=\"1\" class=\"dataframe\">\n  <thead>\n    <tr style=\"text-align: right;\">\n      <th></th>\n      <th>BROKERTITLE</th>\n      <th>TYPE</th>\n      <th>PRICE</th>\n      <th>BEDS</th>\n      <th>BATH</th>\n      <th>PROPERTYSQFT</th>\n      <th>ADDRESS</th>\n      <th>STATE</th>\n      <th>MAIN_ADDRESS</th>\n      <th>ADMINISTRATIVE_AREA_LEVEL_2</th>\n      <th>LOCALITY</th>\n      <th>SUBLOCALITY</th>\n      <th>STREET_NAME</th>\n      <th>LONG_NAME</th>\n      <th>FORMATTED_ADDRESS</th>\n      <th>LATITUDE</th>\n      <th>LONGITUDE</th>\n    </tr>\n  </thead>\n  <tbody>\n    <tr>\n      <th>0</th>\n      <td>Brokered by Douglas Elliman  -111 Fifth Ave</td>\n      <td>Condo for sale</td>\n      <td>315000</td>\n      <td>2</td>\n      <td>2.000000</td>\n      <td>1400.000000</td>\n      <td>2 E 55th St Unit 803</td>\n      <td>New York, NY 10022</td>\n      <td>2 E 55th St Unit 803New York, NY 10022</td>\n      <td>New York County</td>\n      <td>New York</td>\n      <td>Manhattan</td>\n      <td>East 55th Street</td>\n      <td>Regis Residence</td>\n      <td>Regis Residence, 2 E 55th St #803, New York, N...</td>\n      <td>40.761255</td>\n      <td>-73.974483</td>\n    </tr>\n    <tr>\n      <th>1</th>\n      <td>Brokered by Serhant</td>\n      <td>Condo for sale</td>\n      <td>195000000</td>\n      <td>7</td>\n      <td>10.000000</td>\n      <td>17545.000000</td>\n      <td>Central Park Tower Penthouse-217 W 57th New Yo...</td>\n      <td>New York, NY 10019</td>\n      <td>Central Park Tower Penthouse-217 W 57th New Yo...</td>\n      <td>United States</td>\n      <td>New York</td>\n      <td>New York County</td>\n      <td>New York</td>\n      <td>West 57th Street</td>\n      <td>217 W 57th St, New York, NY 10019, USA</td>\n      <td>40.766393</td>\n      <td>-73.980991</td>\n    </tr>\n    <tr>\n      <th>2</th>\n      <td>Brokered by Sowae Corp</td>\n      <td>House for sale</td>\n      <td>260000</td>\n      <td>4</td>\n      <td>2.000000</td>\n      <td>2015.000000</td>\n      <td>620 Sinclair Ave</td>\n      <td>Staten Island, NY 10312</td>\n      <td>620 Sinclair AveStaten Island, NY 10312</td>\n      <td>United States</td>\n      <td>New York</td>\n      <td>Richmond County</td>\n      <td>Staten Island</td>\n      <td>Sinclair Avenue</td>\n      <td>620 Sinclair Ave, Staten Island, NY 10312, USA</td>\n      <td>40.541805</td>\n      <td>-74.196109</td>\n    </tr>\n    <tr>\n      <th>3</th>\n      <td>Brokered by COMPASS</td>\n      <td>Condo for sale</td>\n      <td>69000</td>\n      <td>3</td>\n      <td>1.000000</td>\n      <td>445.000000</td>\n      <td>2 E 55th St Unit 908W33</td>\n      <td>Manhattan, NY 10022</td>\n      <td>2 E 55th St Unit 908W33Manhattan, NY 10022</td>\n      <td>United States</td>\n      <td>New York</td>\n      <td>New York County</td>\n      <td>New York</td>\n      <td>East 55th Street</td>\n      <td>2 E 55th St, New York, NY 10022, USA</td>\n      <td>40.761398</td>\n      <td>-73.974613</td>\n    </tr>\n    <tr>\n      <th>4</th>\n      <td>Brokered by Sotheby's International Realty - E...</td>\n      <td>Townhouse for sale</td>\n      <td>55000000</td>\n      <td>7</td>\n      <td>2.373861</td>\n      <td>14175.000000</td>\n      <td>5 E 64th St</td>\n      <td>New York, NY 10065</td>\n      <td>5 E 64th StNew York, NY 10065</td>\n      <td>United States</td>\n      <td>New York</td>\n      <td>New York County</td>\n      <td>New York</td>\n      <td>East 64th Street</td>\n      <td>5 E 64th St, New York, NY 10065, USA</td>\n      <td>40.767224</td>\n      <td>-73.969856</td>\n    </tr>\n    <tr>\n      <th>...</th>\n      <td>...</td>\n      <td>...</td>\n      <td>...</td>\n      <td>...</td>\n      <td>...</td>\n      <td>...</td>\n      <td>...</td>\n      <td>...</td>\n      <td>...</td>\n      <td>...</td>\n      <td>...</td>\n      <td>...</td>\n      <td>...</td>\n      <td>...</td>\n      <td>...</td>\n      <td>...</td>\n      <td>...</td>\n    </tr>\n    <tr>\n      <th>4796</th>\n      <td>Brokered by COMPASS</td>\n      <td>Co-op for sale</td>\n      <td>599000</td>\n      <td>1</td>\n      <td>1.000000</td>\n      <td>2184.207862</td>\n      <td>222 E 80th St Apt 3A</td>\n      <td>Manhattan, NY 10075</td>\n      <td>222 E 80th St Apt 3AManhattan, NY 10075</td>\n      <td>New York</td>\n      <td>New York County</td>\n      <td>New York</td>\n      <td>Manhattan</td>\n      <td>222</td>\n      <td>222 E 80th St #3a, New York, NY 10075, USA</td>\n      <td>40.774350</td>\n      <td>-73.955879</td>\n    </tr>\n    <tr>\n      <th>4797</th>\n      <td>Brokered by Mjr Real Estate Llc</td>\n      <td>Co-op for sale</td>\n      <td>245000</td>\n      <td>1</td>\n      <td>1.000000</td>\n      <td>2184.207862</td>\n      <td>97-40 62 Dr Unit Lg</td>\n      <td>Rego Park, NY 11374</td>\n      <td>97-40 62 Dr Unit LgRego Park, NY 11374</td>\n      <td>United States</td>\n      <td>New York</td>\n      <td>Queens County</td>\n      <td>Queens</td>\n      <td>62nd Drive</td>\n      <td>97-40 62nd Dr, Rego Park, NY 11374, USA</td>\n      <td>40.732538</td>\n      <td>-73.860152</td>\n    </tr>\n    <tr>\n      <th>4798</th>\n      <td>Brokered by Douglas Elliman - 575 Madison Ave</td>\n      <td>Co-op for sale</td>\n      <td>1275000</td>\n      <td>1</td>\n      <td>1.000000</td>\n      <td>2184.207862</td>\n      <td>427 W 21st St Unit Garden</td>\n      <td>New York, NY 10011</td>\n      <td>427 W 21st St Unit GardenNew York, NY 10011</td>\n      <td>United States</td>\n      <td>New York</td>\n      <td>New York County</td>\n      <td>New York</td>\n      <td>West 21st Street</td>\n      <td>427 W 21st St, New York, NY 10011, USA</td>\n      <td>40.745882</td>\n      <td>-74.003398</td>\n    </tr>\n    <tr>\n      <th>4799</th>\n      <td>Brokered by E Realty International Corp</td>\n      <td>Condo for sale</td>\n      <td>598125</td>\n      <td>2</td>\n      <td>1.000000</td>\n      <td>655.000000</td>\n      <td>91-23 Corona Ave Unit 4G</td>\n      <td>Elmhurst, NY 11373</td>\n      <td>91-23 Corona Ave Unit 4GElmhurst, NY 11373</td>\n      <td>New York</td>\n      <td>Queens County</td>\n      <td>Queens</td>\n      <td>Flushing</td>\n      <td>91-23</td>\n      <td>91-23 Corona Ave. #4b, Flushing, NY 11373, USA</td>\n      <td>40.742770</td>\n      <td>-73.872752</td>\n    </tr>\n    <tr>\n      <th>4800</th>\n      <td>Brokered by Nyc Realty Brokers Llc</td>\n      <td>Co-op for sale</td>\n      <td>349000</td>\n      <td>1</td>\n      <td>1.000000</td>\n      <td>750.000000</td>\n      <td>460 Neptune Ave Apt 14O</td>\n      <td>Brooklyn, NY 11224</td>\n      <td>460 Neptune Ave Apt 14OBrooklyn, NY 11224</td>\n      <td>New York</td>\n      <td>Kings County</td>\n      <td>Brooklyn</td>\n      <td>Coney Island</td>\n      <td>460</td>\n      <td>460 Neptune Ave #14a, Brooklyn, NY 11224, USA</td>\n      <td>40.579147</td>\n      <td>-73.970949</td>\n    </tr>\n  </tbody>\n</table>\n<p>4801 rows × 17 columns</p>\n</div>"
     },
     "execution_count": 1278,
     "metadata": {},
     "output_type": "execute_result"
    }
   ],
   "source": [
    "data"
   ],
   "metadata": {
    "id": "a5a9fe7568a8a2e7",
    "outputId": "901c4eca-bae2-4cf0-82c1-22bcc4716661",
    "colab": {
     "base_uri": "https://localhost:8080/",
     "height": 913
    },
    "ExecuteTime": {
     "end_time": "2024-03-28T22:27:36.786309Z",
     "start_time": "2024-03-28T22:27:35.915922Z"
    }
   },
   "id": "a5a9fe7568a8a2e7"
  },
  {
   "cell_type": "markdown",
   "source": [
    "Podział kolumn na dwie kategorie: dane numeryczne i dane kategoryczne. "
   ],
   "metadata": {
    "collapsed": false
   },
   "id": "edce3254f6fbc513"
  },
  {
   "cell_type": "code",
   "execution_count": 1279,
   "outputs": [],
   "source": [
    "numeric_columns = {'PRICE', 'BEDS','BATH', 'PROPERTYSQFT', 'LATITUDE', 'LONGITUDE'}\n",
    "category_columns = {'TYPE', 'BROKERTITLE', 'STATE', 'LONG_NAME', 'LOCALITY', 'ADDRESS', 'ADMINISTRATIVE_AREA_LEVEL_2', 'SUBLOCALITY', 'MAIN_ADDRESS', 'FORMATTED_ADDRESS', 'STREET_NAME'}"
   ],
   "metadata": {
    "id": "f2a98ceebe9d6a16",
    "ExecuteTime": {
     "end_time": "2024-03-28T22:27:36.787066Z",
     "start_time": "2024-03-28T22:27:35.929866Z"
    }
   },
   "id": "f2a98ceebe9d6a16"
  },
  {
   "cell_type": "markdown",
   "source": [
    "Zmienienie liter na małe w celu ujednolicenia danych. "
   ],
   "metadata": {
    "collapsed": false
   },
   "id": "HYGo72sD2gw8"
  },
  {
   "cell_type": "code",
   "execution_count": 1280,
   "outputs": [],
   "source": [
    "for column in category_columns:\n",
    "    data[column] = data[column].str.lower()"
   ],
   "metadata": {
    "collapsed": false,
    "ExecuteTime": {
     "end_time": "2024-03-28T22:27:36.814676Z",
     "start_time": "2024-03-28T22:27:35.941847Z"
    }
   },
   "id": "1319e422eaa19923"
  },
  {
   "cell_type": "markdown",
   "source": [
    "Sprawdzenie unikalnych wartości oraz charakterystyki zbioru danych."
   ],
   "metadata": {
    "collapsed": false
   },
   "id": "70dea9b989c612c2"
  },
  {
   "cell_type": "code",
   "execution_count": 1281,
   "outputs": [
    {
     "data": {
      "text/plain": "BROKERTITLE                    1011\nSTREET_NAME                     174\nADMINISTRATIVE_AREA_LEVEL_2      29\nLOCALITY                         11\nMAIN_ADDRESS                   4583\nSUBLOCALITY                      21\nFORMATTED_ADDRESS              4550\nTYPE                             13\nADDRESS                        4582\nSTATE                           308\nLONG_NAME                      2731\ndtype: int64"
     },
     "execution_count": 1281,
     "metadata": {},
     "output_type": "execute_result"
    }
   ],
   "source": [
    "data[list(category_columns)].nunique()"
   ],
   "metadata": {
    "id": "7564a61694b7347b",
    "outputId": "7a74d4b1-842e-463c-e0ca-9367c9c93e31",
    "colab": {
     "base_uri": "https://localhost:8080/"
    },
    "ExecuteTime": {
     "end_time": "2024-03-28T22:27:36.878446Z",
     "start_time": "2024-03-28T22:27:35.953370Z"
    }
   },
   "id": "7564a61694b7347b"
  },
  {
   "cell_type": "code",
   "execution_count": 1282,
   "outputs": [
    {
     "name": "stdout",
     "output_type": "stream",
     "text": [
      "<class 'pandas.core.frame.DataFrame'>\n",
      "RangeIndex: 4801 entries, 0 to 4800\n",
      "Data columns (total 17 columns):\n",
      " #   Column                       Non-Null Count  Dtype  \n",
      "---  ------                       --------------  -----  \n",
      " 0   BROKERTITLE                  4801 non-null   object \n",
      " 1   TYPE                         4801 non-null   object \n",
      " 2   PRICE                        4801 non-null   int64  \n",
      " 3   BEDS                         4801 non-null   int64  \n",
      " 4   BATH                         4801 non-null   float64\n",
      " 5   PROPERTYSQFT                 4801 non-null   float64\n",
      " 6   ADDRESS                      4801 non-null   object \n",
      " 7   STATE                        4801 non-null   object \n",
      " 8   MAIN_ADDRESS                 4801 non-null   object \n",
      " 9   ADMINISTRATIVE_AREA_LEVEL_2  4801 non-null   object \n",
      " 10  LOCALITY                     4801 non-null   object \n",
      " 11  SUBLOCALITY                  4801 non-null   object \n",
      " 12  STREET_NAME                  4801 non-null   object \n",
      " 13  LONG_NAME                    4801 non-null   object \n",
      " 14  FORMATTED_ADDRESS            4801 non-null   object \n",
      " 15  LATITUDE                     4801 non-null   float64\n",
      " 16  LONGITUDE                    4801 non-null   float64\n",
      "dtypes: float64(4), int64(2), object(11)\n",
      "memory usage: 637.8+ KB\n"
     ]
    }
   ],
   "source": [
    "data.info()"
   ],
   "metadata": {
    "id": "8b23192e0e9e637e",
    "outputId": "a5db4190-22b3-43dd-f458-938f0f38aaf7",
    "colab": {
     "base_uri": "https://localhost:8080/"
    },
    "ExecuteTime": {
     "end_time": "2024-03-28T22:27:36.909408Z",
     "start_time": "2024-03-28T22:27:35.966835Z"
    }
   },
   "id": "8b23192e0e9e637e"
  },
  {
   "cell_type": "code",
   "execution_count": 1283,
   "outputs": [
    {
     "data": {
      "text/plain": "               count          mean           std          min            25%  \\\nPRICE         4801.0  2.356940e+06  3.135525e+07  2494.000000  499000.000000   \nBEDS          4801.0  3.356801e+00  2.602315e+00     1.000000       2.000000   \nBATH          4801.0  2.373861e+00  1.946962e+00     0.000000       1.000000   \nPROPERTYSQFT  4801.0  2.184208e+03  2.377141e+03   230.000000    1200.000000   \nLATITUDE      4801.0  4.071423e+01  8.767557e-02    40.499546      40.639375   \nLONGITUDE     4801.0 -7.394160e+01  1.010825e-01   -74.253033     -73.987143   \n\n                        50%           75%           max  \nPRICE         825000.000000  1.495000e+06  2.147484e+09  \nBEDS               3.000000  4.000000e+00  5.000000e+01  \nBATH               2.000000  3.000000e+00  5.000000e+01  \nPROPERTYSQFT    2184.207862  2.184208e+03  6.553500e+04  \nLATITUDE          40.726749  4.077192e+01  4.091273e+01  \nLONGITUDE        -73.949189 -7.387064e+01 -7.370245e+01  ",
      "text/html": "<div>\n<style scoped>\n    .dataframe tbody tr th:only-of-type {\n        vertical-align: middle;\n    }\n\n    .dataframe tbody tr th {\n        vertical-align: top;\n    }\n\n    .dataframe thead th {\n        text-align: right;\n    }\n</style>\n<table border=\"1\" class=\"dataframe\">\n  <thead>\n    <tr style=\"text-align: right;\">\n      <th></th>\n      <th>count</th>\n      <th>mean</th>\n      <th>std</th>\n      <th>min</th>\n      <th>25%</th>\n      <th>50%</th>\n      <th>75%</th>\n      <th>max</th>\n    </tr>\n  </thead>\n  <tbody>\n    <tr>\n      <th>PRICE</th>\n      <td>4801.0</td>\n      <td>2.356940e+06</td>\n      <td>3.135525e+07</td>\n      <td>2494.000000</td>\n      <td>499000.000000</td>\n      <td>825000.000000</td>\n      <td>1.495000e+06</td>\n      <td>2.147484e+09</td>\n    </tr>\n    <tr>\n      <th>BEDS</th>\n      <td>4801.0</td>\n      <td>3.356801e+00</td>\n      <td>2.602315e+00</td>\n      <td>1.000000</td>\n      <td>2.000000</td>\n      <td>3.000000</td>\n      <td>4.000000e+00</td>\n      <td>5.000000e+01</td>\n    </tr>\n    <tr>\n      <th>BATH</th>\n      <td>4801.0</td>\n      <td>2.373861e+00</td>\n      <td>1.946962e+00</td>\n      <td>0.000000</td>\n      <td>1.000000</td>\n      <td>2.000000</td>\n      <td>3.000000e+00</td>\n      <td>5.000000e+01</td>\n    </tr>\n    <tr>\n      <th>PROPERTYSQFT</th>\n      <td>4801.0</td>\n      <td>2.184208e+03</td>\n      <td>2.377141e+03</td>\n      <td>230.000000</td>\n      <td>1200.000000</td>\n      <td>2184.207862</td>\n      <td>2.184208e+03</td>\n      <td>6.553500e+04</td>\n    </tr>\n    <tr>\n      <th>LATITUDE</th>\n      <td>4801.0</td>\n      <td>4.071423e+01</td>\n      <td>8.767557e-02</td>\n      <td>40.499546</td>\n      <td>40.639375</td>\n      <td>40.726749</td>\n      <td>4.077192e+01</td>\n      <td>4.091273e+01</td>\n    </tr>\n    <tr>\n      <th>LONGITUDE</th>\n      <td>4801.0</td>\n      <td>-7.394160e+01</td>\n      <td>1.010825e-01</td>\n      <td>-74.253033</td>\n      <td>-73.987143</td>\n      <td>-73.949189</td>\n      <td>-7.387064e+01</td>\n      <td>-7.370245e+01</td>\n    </tr>\n  </tbody>\n</table>\n</div>"
     },
     "execution_count": 1283,
     "metadata": {},
     "output_type": "execute_result"
    }
   ],
   "source": [
    "data.describe().T"
   ],
   "metadata": {
    "id": "5de1a8eeef810c4a",
    "outputId": "5a7e8ef1-9614-45a2-d777-2aeaeddc1734",
    "colab": {
     "base_uri": "https://localhost:8080/",
     "height": 238
    },
    "ExecuteTime": {
     "end_time": "2024-03-28T22:27:37.129391Z",
     "start_time": "2024-03-28T22:27:35.979415Z"
    }
   },
   "id": "5de1a8eeef810c4a"
  },
  {
   "cell_type": "code",
   "execution_count": 1284,
   "outputs": [
    {
     "data": {
      "text/plain": "                                         BROKERTITLE                TYPE  \\\n0        brokered by douglas elliman  -111 fifth ave      condo for sale   \n1                                brokered by serhant      condo for sale   \n2                             brokered by sowae corp      house for sale   \n3                                brokered by compass      condo for sale   \n4  brokered by sotheby's international realty - e...  townhouse for sale   \n\n       PRICE  BEDS       BATH  PROPERTYSQFT  \\\n0     315000     2   2.000000        1400.0   \n1  195000000     7  10.000000       17545.0   \n2     260000     4   2.000000        2015.0   \n3      69000     3   1.000000         445.0   \n4   55000000     7   2.373861       14175.0   \n\n                                             ADDRESS                    STATE  \\\n0                               2 e 55th st unit 803       new york, ny 10022   \n1  central park tower penthouse-217 w 57th new yo...       new york, ny 10019   \n2                                   620 sinclair ave  staten island, ny 10312   \n3                            2 e 55th st unit 908w33      manhattan, ny 10022   \n4                                        5 e 64th st       new york, ny 10065   \n\n                                        MAIN_ADDRESS  \\\n0             2 e 55th st unit 803new york, ny 10022   \n1  central park tower penthouse-217 w 57th new yo...   \n2            620 sinclair avestaten island, ny 10312   \n3         2 e 55th st unit 908w33manhattan, ny 10022   \n4                      5 e 64th stnew york, ny 10065   \n\n  ADMINISTRATIVE_AREA_LEVEL_2  LOCALITY      SUBLOCALITY       STREET_NAME  \\\n0             new york county  new york        manhattan  east 55th street   \n1               united states  new york  new york county          new york   \n2               united states  new york  richmond county     staten island   \n3               united states  new york  new york county          new york   \n4               united states  new york  new york county          new york   \n\n          LONG_NAME                                  FORMATTED_ADDRESS  \\\n0   regis residence  regis residence, 2 e 55th st #803, new york, n...   \n1  west 57th street             217 w 57th st, new york, ny 10019, usa   \n2   sinclair avenue     620 sinclair ave, staten island, ny 10312, usa   \n3  east 55th street               2 e 55th st, new york, ny 10022, usa   \n4  east 64th street               5 e 64th st, new york, ny 10065, usa   \n\n    LATITUDE  LONGITUDE  \n0  40.761255 -73.974483  \n1  40.766393 -73.980991  \n2  40.541805 -74.196109  \n3  40.761398 -73.974613  \n4  40.767224 -73.969856  ",
      "text/html": "<div>\n<style scoped>\n    .dataframe tbody tr th:only-of-type {\n        vertical-align: middle;\n    }\n\n    .dataframe tbody tr th {\n        vertical-align: top;\n    }\n\n    .dataframe thead th {\n        text-align: right;\n    }\n</style>\n<table border=\"1\" class=\"dataframe\">\n  <thead>\n    <tr style=\"text-align: right;\">\n      <th></th>\n      <th>BROKERTITLE</th>\n      <th>TYPE</th>\n      <th>PRICE</th>\n      <th>BEDS</th>\n      <th>BATH</th>\n      <th>PROPERTYSQFT</th>\n      <th>ADDRESS</th>\n      <th>STATE</th>\n      <th>MAIN_ADDRESS</th>\n      <th>ADMINISTRATIVE_AREA_LEVEL_2</th>\n      <th>LOCALITY</th>\n      <th>SUBLOCALITY</th>\n      <th>STREET_NAME</th>\n      <th>LONG_NAME</th>\n      <th>FORMATTED_ADDRESS</th>\n      <th>LATITUDE</th>\n      <th>LONGITUDE</th>\n    </tr>\n  </thead>\n  <tbody>\n    <tr>\n      <th>0</th>\n      <td>brokered by douglas elliman  -111 fifth ave</td>\n      <td>condo for sale</td>\n      <td>315000</td>\n      <td>2</td>\n      <td>2.000000</td>\n      <td>1400.0</td>\n      <td>2 e 55th st unit 803</td>\n      <td>new york, ny 10022</td>\n      <td>2 e 55th st unit 803new york, ny 10022</td>\n      <td>new york county</td>\n      <td>new york</td>\n      <td>manhattan</td>\n      <td>east 55th street</td>\n      <td>regis residence</td>\n      <td>regis residence, 2 e 55th st #803, new york, n...</td>\n      <td>40.761255</td>\n      <td>-73.974483</td>\n    </tr>\n    <tr>\n      <th>1</th>\n      <td>brokered by serhant</td>\n      <td>condo for sale</td>\n      <td>195000000</td>\n      <td>7</td>\n      <td>10.000000</td>\n      <td>17545.0</td>\n      <td>central park tower penthouse-217 w 57th new yo...</td>\n      <td>new york, ny 10019</td>\n      <td>central park tower penthouse-217 w 57th new yo...</td>\n      <td>united states</td>\n      <td>new york</td>\n      <td>new york county</td>\n      <td>new york</td>\n      <td>west 57th street</td>\n      <td>217 w 57th st, new york, ny 10019, usa</td>\n      <td>40.766393</td>\n      <td>-73.980991</td>\n    </tr>\n    <tr>\n      <th>2</th>\n      <td>brokered by sowae corp</td>\n      <td>house for sale</td>\n      <td>260000</td>\n      <td>4</td>\n      <td>2.000000</td>\n      <td>2015.0</td>\n      <td>620 sinclair ave</td>\n      <td>staten island, ny 10312</td>\n      <td>620 sinclair avestaten island, ny 10312</td>\n      <td>united states</td>\n      <td>new york</td>\n      <td>richmond county</td>\n      <td>staten island</td>\n      <td>sinclair avenue</td>\n      <td>620 sinclair ave, staten island, ny 10312, usa</td>\n      <td>40.541805</td>\n      <td>-74.196109</td>\n    </tr>\n    <tr>\n      <th>3</th>\n      <td>brokered by compass</td>\n      <td>condo for sale</td>\n      <td>69000</td>\n      <td>3</td>\n      <td>1.000000</td>\n      <td>445.0</td>\n      <td>2 e 55th st unit 908w33</td>\n      <td>manhattan, ny 10022</td>\n      <td>2 e 55th st unit 908w33manhattan, ny 10022</td>\n      <td>united states</td>\n      <td>new york</td>\n      <td>new york county</td>\n      <td>new york</td>\n      <td>east 55th street</td>\n      <td>2 e 55th st, new york, ny 10022, usa</td>\n      <td>40.761398</td>\n      <td>-73.974613</td>\n    </tr>\n    <tr>\n      <th>4</th>\n      <td>brokered by sotheby's international realty - e...</td>\n      <td>townhouse for sale</td>\n      <td>55000000</td>\n      <td>7</td>\n      <td>2.373861</td>\n      <td>14175.0</td>\n      <td>5 e 64th st</td>\n      <td>new york, ny 10065</td>\n      <td>5 e 64th stnew york, ny 10065</td>\n      <td>united states</td>\n      <td>new york</td>\n      <td>new york county</td>\n      <td>new york</td>\n      <td>east 64th street</td>\n      <td>5 e 64th st, new york, ny 10065, usa</td>\n      <td>40.767224</td>\n      <td>-73.969856</td>\n    </tr>\n  </tbody>\n</table>\n</div>"
     },
     "execution_count": 1284,
     "metadata": {},
     "output_type": "execute_result"
    }
   ],
   "source": [
    "data.head()"
   ],
   "metadata": {
    "id": "d482b47778f65f18",
    "outputId": "c78d3416-7c6d-4509-ec26-c99ff73b9ba5",
    "colab": {
     "base_uri": "https://localhost:8080/",
     "height": 469
    },
    "ExecuteTime": {
     "end_time": "2024-03-28T22:27:37.130015Z",
     "start_time": "2024-03-28T22:27:35.997350Z"
    }
   },
   "id": "d482b47778f65f18"
  },
  {
   "cell_type": "markdown",
   "source": [
    "Sprawdzenie braków danych."
   ],
   "metadata": {
    "collapsed": false
   },
   "id": "5f8be42db74db0fd"
  },
  {
   "cell_type": "code",
   "execution_count": 1285,
   "outputs": [
    {
     "data": {
      "text/plain": "BROKERTITLE                    0\nTYPE                           0\nPRICE                          0\nBEDS                           0\nBATH                           0\nPROPERTYSQFT                   0\nADDRESS                        0\nSTATE                          0\nMAIN_ADDRESS                   0\nADMINISTRATIVE_AREA_LEVEL_2    0\nLOCALITY                       0\nSUBLOCALITY                    0\nSTREET_NAME                    0\nLONG_NAME                      0\nFORMATTED_ADDRESS              0\nLATITUDE                       0\nLONGITUDE                      0\ndtype: int64"
     },
     "execution_count": 1285,
     "metadata": {},
     "output_type": "execute_result"
    }
   ],
   "source": [
    "data.isna().sum()"
   ],
   "metadata": {
    "id": "26e19881eb37b775",
    "outputId": "23ea4a39-c1f3-463f-8d07-b40da35e427c",
    "colab": {
     "base_uri": "https://localhost:8080/"
    },
    "ExecuteTime": {
     "end_time": "2024-03-28T22:27:37.173189Z",
     "start_time": "2024-03-28T22:27:36.014680Z"
    }
   },
   "id": "26e19881eb37b775"
  },
  {
   "cell_type": "markdown",
   "source": [
    "Sprawdzenie ilościi zduplikowanych wierszy i ich usunięcie."
   ],
   "metadata": {
    "collapsed": false
   },
   "id": "8357740d48325840"
  },
  {
   "cell_type": "code",
   "execution_count": 1286,
   "outputs": [
    {
     "name": "stdout",
     "output_type": "stream",
     "text": [
      "Duplicated rows:  214\n"
     ]
    }
   ],
   "source": [
    "print('Duplicated rows: ', data.duplicated().sum())\n",
    "data.drop_duplicates(inplace=True)"
   ],
   "metadata": {
    "id": "ec98b88e727461af",
    "outputId": "d4e1db2d-aa3f-422d-8462-9419eb202232",
    "colab": {
     "base_uri": "https://localhost:8080/"
    },
    "ExecuteTime": {
     "end_time": "2024-03-28T22:27:37.223478Z",
     "start_time": "2024-03-28T22:27:36.019344Z"
    }
   },
   "id": "ec98b88e727461af"
  },
  {
   "cell_type": "markdown",
   "source": [
    "Usunięcie w kolumnie „BROKERTITLE” ciągów znaków 'llc', 'inc', zamiana wartości 'rlty' na 'realty' i zapisanie wyników tych zmian w nowej kolumnie „Broker”."
   ],
   "metadata": {
    "id": "T_p8Qs7o3btG"
   },
   "id": "T_p8Qs7o3btG"
  },
  {
   "cell_type": "markdown",
   "source": [
    "BROKERTITLE"
   ],
   "metadata": {
    "collapsed": false,
    "id": "8061c36dc599d4d0"
   },
   "id": "8061c36dc599d4d0"
  },
  {
   "cell_type": "code",
   "execution_count": 1287,
   "outputs": [],
   "source": [
    "data['BROKER'] = data['BROKERTITLE'].str.replace('llc','')\n",
    "data['BROKER'] = data['BROKER'].str.replace('inc','')\n",
    "data['BROKER'] = data['BROKER'].str.replace('rlty','realty')\n",
    "data['BROKER'] = data['BROKER'].str.replace('.','')\n",
    "def split_by_delimeter(value, separator):\n",
    "    result = value.split(separator)[0] if separator in value else value\n",
    "    result = result.strip()\n",
    "    return result\n",
    "\n",
    "data['BROKER'] = data['BROKER'].apply(lambda x: split_by_delimeter(x, ' -'))"
   ],
   "metadata": {
    "id": "7c7f717b867c2565",
    "outputId": "869f15a8-17f7-4d3a-c81b-f7caa4d7b03a",
    "colab": {
     "base_uri": "https://localhost:8080/"
    },
    "ExecuteTime": {
     "end_time": "2024-03-28T22:27:37.472076Z",
     "start_time": "2024-03-28T22:27:36.051364Z"
    }
   },
   "id": "7c7f717b867c2565"
  },
  {
   "cell_type": "markdown",
   "source": [
    "TYPE"
   ],
   "metadata": {
    "collapsed": false,
    "id": "13c5a057e75cf393"
   },
   "id": "13c5a057e75cf393"
  },
  {
   "cell_type": "code",
   "execution_count": 1288,
   "outputs": [
    {
     "data": {
      "text/plain": "          BATH  BEDS\n75    2.373861     3\n77    2.373861     3\n78    2.373861     3\n360   2.373861     3\n377   2.373861     3\n392   2.373861     3\n397   2.373861     3\n400   2.000000     3\n401   2.373861     3\n402   2.373861     3\n406   2.373861     3\n407   2.373861     3\n408   2.373861     3\n409   2.373861     3\n410   2.373861     3\n411   2.373861     3\n412   2.373861     3\n413   2.373861     3\n414   2.373861     3\n416   2.373861     3\n417   2.373861     3\n418   2.373861     3\n419   2.373861     3\n420   2.373861     3\n422   2.373861     3\n424   2.373861     3\n425   2.373861     3\n426   2.373861     3\n427   2.373861     3\n431   2.373861     3\n458   2.373861     3\n481   2.373861     3\n528   2.373861     3\n1262  2.373861     3\n1418  2.373861     3\n1616  2.373861     3\n2429  2.373861     3\n3094  2.373861     3\n3513  2.373861     3\n3599  2.373861     3\n3756  2.373861     3\n4003  2.373861     3\n4085  2.373861     3\n4101  2.373861     3\n4529  2.373861     3\n4570  2.373861     3\n4727  2.373861     3",
      "text/html": "<div>\n<style scoped>\n    .dataframe tbody tr th:only-of-type {\n        vertical-align: middle;\n    }\n\n    .dataframe tbody tr th {\n        vertical-align: top;\n    }\n\n    .dataframe thead th {\n        text-align: right;\n    }\n</style>\n<table border=\"1\" class=\"dataframe\">\n  <thead>\n    <tr style=\"text-align: right;\">\n      <th></th>\n      <th>BATH</th>\n      <th>BEDS</th>\n    </tr>\n  </thead>\n  <tbody>\n    <tr>\n      <th>75</th>\n      <td>2.373861</td>\n      <td>3</td>\n    </tr>\n    <tr>\n      <th>77</th>\n      <td>2.373861</td>\n      <td>3</td>\n    </tr>\n    <tr>\n      <th>78</th>\n      <td>2.373861</td>\n      <td>3</td>\n    </tr>\n    <tr>\n      <th>360</th>\n      <td>2.373861</td>\n      <td>3</td>\n    </tr>\n    <tr>\n      <th>377</th>\n      <td>2.373861</td>\n      <td>3</td>\n    </tr>\n    <tr>\n      <th>392</th>\n      <td>2.373861</td>\n      <td>3</td>\n    </tr>\n    <tr>\n      <th>397</th>\n      <td>2.373861</td>\n      <td>3</td>\n    </tr>\n    <tr>\n      <th>400</th>\n      <td>2.000000</td>\n      <td>3</td>\n    </tr>\n    <tr>\n      <th>401</th>\n      <td>2.373861</td>\n      <td>3</td>\n    </tr>\n    <tr>\n      <th>402</th>\n      <td>2.373861</td>\n      <td>3</td>\n    </tr>\n    <tr>\n      <th>406</th>\n      <td>2.373861</td>\n      <td>3</td>\n    </tr>\n    <tr>\n      <th>407</th>\n      <td>2.373861</td>\n      <td>3</td>\n    </tr>\n    <tr>\n      <th>408</th>\n      <td>2.373861</td>\n      <td>3</td>\n    </tr>\n    <tr>\n      <th>409</th>\n      <td>2.373861</td>\n      <td>3</td>\n    </tr>\n    <tr>\n      <th>410</th>\n      <td>2.373861</td>\n      <td>3</td>\n    </tr>\n    <tr>\n      <th>411</th>\n      <td>2.373861</td>\n      <td>3</td>\n    </tr>\n    <tr>\n      <th>412</th>\n      <td>2.373861</td>\n      <td>3</td>\n    </tr>\n    <tr>\n      <th>413</th>\n      <td>2.373861</td>\n      <td>3</td>\n    </tr>\n    <tr>\n      <th>414</th>\n      <td>2.373861</td>\n      <td>3</td>\n    </tr>\n    <tr>\n      <th>416</th>\n      <td>2.373861</td>\n      <td>3</td>\n    </tr>\n    <tr>\n      <th>417</th>\n      <td>2.373861</td>\n      <td>3</td>\n    </tr>\n    <tr>\n      <th>418</th>\n      <td>2.373861</td>\n      <td>3</td>\n    </tr>\n    <tr>\n      <th>419</th>\n      <td>2.373861</td>\n      <td>3</td>\n    </tr>\n    <tr>\n      <th>420</th>\n      <td>2.373861</td>\n      <td>3</td>\n    </tr>\n    <tr>\n      <th>422</th>\n      <td>2.373861</td>\n      <td>3</td>\n    </tr>\n    <tr>\n      <th>424</th>\n      <td>2.373861</td>\n      <td>3</td>\n    </tr>\n    <tr>\n      <th>425</th>\n      <td>2.373861</td>\n      <td>3</td>\n    </tr>\n    <tr>\n      <th>426</th>\n      <td>2.373861</td>\n      <td>3</td>\n    </tr>\n    <tr>\n      <th>427</th>\n      <td>2.373861</td>\n      <td>3</td>\n    </tr>\n    <tr>\n      <th>431</th>\n      <td>2.373861</td>\n      <td>3</td>\n    </tr>\n    <tr>\n      <th>458</th>\n      <td>2.373861</td>\n      <td>3</td>\n    </tr>\n    <tr>\n      <th>481</th>\n      <td>2.373861</td>\n      <td>3</td>\n    </tr>\n    <tr>\n      <th>528</th>\n      <td>2.373861</td>\n      <td>3</td>\n    </tr>\n    <tr>\n      <th>1262</th>\n      <td>2.373861</td>\n      <td>3</td>\n    </tr>\n    <tr>\n      <th>1418</th>\n      <td>2.373861</td>\n      <td>3</td>\n    </tr>\n    <tr>\n      <th>1616</th>\n      <td>2.373861</td>\n      <td>3</td>\n    </tr>\n    <tr>\n      <th>2429</th>\n      <td>2.373861</td>\n      <td>3</td>\n    </tr>\n    <tr>\n      <th>3094</th>\n      <td>2.373861</td>\n      <td>3</td>\n    </tr>\n    <tr>\n      <th>3513</th>\n      <td>2.373861</td>\n      <td>3</td>\n    </tr>\n    <tr>\n      <th>3599</th>\n      <td>2.373861</td>\n      <td>3</td>\n    </tr>\n    <tr>\n      <th>3756</th>\n      <td>2.373861</td>\n      <td>3</td>\n    </tr>\n    <tr>\n      <th>4003</th>\n      <td>2.373861</td>\n      <td>3</td>\n    </tr>\n    <tr>\n      <th>4085</th>\n      <td>2.373861</td>\n      <td>3</td>\n    </tr>\n    <tr>\n      <th>4101</th>\n      <td>2.373861</td>\n      <td>3</td>\n    </tr>\n    <tr>\n      <th>4529</th>\n      <td>2.373861</td>\n      <td>3</td>\n    </tr>\n    <tr>\n      <th>4570</th>\n      <td>2.373861</td>\n      <td>3</td>\n    </tr>\n    <tr>\n      <th>4727</th>\n      <td>2.373861</td>\n      <td>3</td>\n    </tr>\n  </tbody>\n</table>\n</div>"
     },
     "execution_count": 1288,
     "metadata": {},
     "output_type": "execute_result"
    }
   ],
   "source": [
    "data.loc[data['TYPE'] == 'land for sale', ['BATH', 'BEDS']]\n"
   ],
   "metadata": {
    "id": "a02c3829f97bb81d",
    "outputId": "28593572-762a-4c5b-c246-46aeb238d3d2",
    "colab": {
     "base_uri": "https://localhost:8080/",
     "height": 1000
    },
    "ExecuteTime": {
     "end_time": "2024-03-28T22:27:37.699858Z",
     "start_time": "2024-03-28T22:27:36.059463Z"
    }
   },
   "id": "a02c3829f97bb81d"
  },
  {
   "cell_type": "markdown",
   "source": [
    "W kolumnie „TYPE” ciąg znaków \"condop\" zmieniony na \"condo\". \n",
    "\n",
    "Stworzenie nowej kolumny „ANNOUNCEMENT_TYPE” która przypisuje ogłoszeniom odpowiednie kategorie na podstawie ich typu ('TYPE') przy użyciu wcześniej zdefiniowanego słownika. \n",
    "\n",
    "Usuwamy również ciąg znaków „for sale” z wartości w kolumnie TYPE."
   ],
   "metadata": {
    "id": "q2XsQleG4hHr"
   },
   "id": "q2XsQleG4hHr"
  },
  {
   "cell_type": "code",
   "execution_count": 1289,
   "outputs": [],
   "source": [
    "#Zamieniamy liczbe łazienek i sypialni na zero dla ogłoszeń, które są dla sprzedaży działki\n",
    "data.loc[data['TYPE'] == 'land for sale', ['BATH', 'BEDS']]= 0\n",
    "data[\"TYPE\"] = data[\"TYPE\"].str.replace('condop', 'condo')\n",
    "\n",
    "data['ANNOUNCEMENT_TYPE'] = data['TYPE'].replace({\n",
    "                                    'condo for sale': 'apartment',\n",
    "                                     'townhouse for sale': 'home',\n",
    "                                     'house for sale': 'home',\n",
    "                                     'multi-family home for sale': 'home',\n",
    "                                     'co-op for sale': 'co-op',\n",
    "                                     'mobile house for sale': 'home',\n",
    "                                     'land for sale': 'land',\n",
    "                                     'foreclosure': 'other',\n",
    "                                     'contingent': 'other',\n",
    "                                     'pending': 'other',\n",
    "                                     'coming soon': 'other',\n",
    "                                    'for sale': 'other'})\n",
    "data[\"TYPE\"] = data[\"TYPE\"].str.replace(\" for sale\", \"\")"
   ],
   "metadata": {
    "id": "96d7ea141f465f68",
    "ExecuteTime": {
     "end_time": "2024-03-28T22:27:38.062725Z",
     "start_time": "2024-03-28T22:27:36.065880Z"
    }
   },
   "id": "96d7ea141f465f68"
  },
  {
   "cell_type": "markdown",
   "source": [
    "PRICE - W kolumnie „PRICE” usuwamy wiersze, dla których cena jest większa niż 100 000 000 lub mniejsza niż 10 000 i zmienienie typ danych na liczby zmiennoprzecinkowe."
   ],
   "metadata": {
    "collapsed": false,
    "id": "75060b84408ac6d7"
   },
   "id": "75060b84408ac6d7"
  },
  {
   "cell_type": "code",
   "execution_count": 1290,
   "outputs": [
    {
     "ename": "KeyboardInterrupt",
     "evalue": "",
     "output_type": "error",
     "traceback": [
      "\u001B[0;31m---------------------------------------------------------------------------\u001B[0m",
      "\u001B[0;31mKeyboardInterrupt\u001B[0m                         Traceback (most recent call last)",
      "Cell \u001B[0;32mIn[1290], line 6\u001B[0m\n\u001B[1;32m      4\u001B[0m i\u001B[38;5;241m=\u001B[39m\u001B[38;5;241m0\u001B[39m\n\u001B[1;32m      5\u001B[0m \u001B[38;5;28;01mfor\u001B[39;00m column \u001B[38;5;129;01min\u001B[39;00m numeric_columns:\n\u001B[0;32m----> 6\u001B[0m     \u001B[43msns\u001B[49m\u001B[38;5;241;43m.\u001B[39;49m\u001B[43mhistplot\u001B[49m\u001B[43m(\u001B[49m\u001B[43mx\u001B[49m\u001B[38;5;241;43m=\u001B[39;49m\u001B[43mdata\u001B[49m\u001B[43m[\u001B[49m\u001B[43mcolumn\u001B[49m\u001B[43m]\u001B[49m\u001B[43m,\u001B[49m\u001B[43m \u001B[49m\u001B[43max\u001B[49m\u001B[38;5;241;43m=\u001B[39;49m\u001B[43maxes\u001B[49m\u001B[43m[\u001B[49m\u001B[43mi\u001B[49m\u001B[43m]\u001B[49m\u001B[43m)\u001B[49m\n\u001B[1;32m      7\u001B[0m     i\u001B[38;5;241m=\u001B[39mi\u001B[38;5;241m+\u001B[39m\u001B[38;5;241m1\u001B[39m\n\u001B[1;32m      9\u001B[0m plt\u001B[38;5;241m.\u001B[39mshow()\n",
      "File \u001B[0;32m/Library/Frameworks/Python.framework/Versions/3.12/lib/python3.12/site-packages/seaborn/distributions.py:1416\u001B[0m, in \u001B[0;36mhistplot\u001B[0;34m(data, x, y, hue, weights, stat, bins, binwidth, binrange, discrete, cumulative, common_bins, common_norm, multiple, element, fill, shrink, kde, kde_kws, line_kws, thresh, pthresh, pmax, cbar, cbar_ax, cbar_kws, palette, hue_order, hue_norm, color, log_scale, legend, ax, **kwargs)\u001B[0m\n\u001B[1;32m   1405\u001B[0m estimate_kws \u001B[38;5;241m=\u001B[39m \u001B[38;5;28mdict\u001B[39m(\n\u001B[1;32m   1406\u001B[0m     stat\u001B[38;5;241m=\u001B[39mstat,\n\u001B[1;32m   1407\u001B[0m     bins\u001B[38;5;241m=\u001B[39mbins,\n\u001B[0;32m   (...)\u001B[0m\n\u001B[1;32m   1411\u001B[0m     cumulative\u001B[38;5;241m=\u001B[39mcumulative,\n\u001B[1;32m   1412\u001B[0m )\n\u001B[1;32m   1414\u001B[0m \u001B[38;5;28;01mif\u001B[39;00m p\u001B[38;5;241m.\u001B[39munivariate:\n\u001B[0;32m-> 1416\u001B[0m     \u001B[43mp\u001B[49m\u001B[38;5;241;43m.\u001B[39;49m\u001B[43mplot_univariate_histogram\u001B[49m\u001B[43m(\u001B[49m\n\u001B[1;32m   1417\u001B[0m \u001B[43m        \u001B[49m\u001B[43mmultiple\u001B[49m\u001B[38;5;241;43m=\u001B[39;49m\u001B[43mmultiple\u001B[49m\u001B[43m,\u001B[49m\n\u001B[1;32m   1418\u001B[0m \u001B[43m        \u001B[49m\u001B[43melement\u001B[49m\u001B[38;5;241;43m=\u001B[39;49m\u001B[43melement\u001B[49m\u001B[43m,\u001B[49m\n\u001B[1;32m   1419\u001B[0m \u001B[43m        \u001B[49m\u001B[43mfill\u001B[49m\u001B[38;5;241;43m=\u001B[39;49m\u001B[43mfill\u001B[49m\u001B[43m,\u001B[49m\n\u001B[1;32m   1420\u001B[0m \u001B[43m        \u001B[49m\u001B[43mshrink\u001B[49m\u001B[38;5;241;43m=\u001B[39;49m\u001B[43mshrink\u001B[49m\u001B[43m,\u001B[49m\n\u001B[1;32m   1421\u001B[0m \u001B[43m        \u001B[49m\u001B[43mcommon_norm\u001B[49m\u001B[38;5;241;43m=\u001B[39;49m\u001B[43mcommon_norm\u001B[49m\u001B[43m,\u001B[49m\n\u001B[1;32m   1422\u001B[0m \u001B[43m        \u001B[49m\u001B[43mcommon_bins\u001B[49m\u001B[38;5;241;43m=\u001B[39;49m\u001B[43mcommon_bins\u001B[49m\u001B[43m,\u001B[49m\n\u001B[1;32m   1423\u001B[0m \u001B[43m        \u001B[49m\u001B[43mkde\u001B[49m\u001B[38;5;241;43m=\u001B[39;49m\u001B[43mkde\u001B[49m\u001B[43m,\u001B[49m\n\u001B[1;32m   1424\u001B[0m \u001B[43m        \u001B[49m\u001B[43mkde_kws\u001B[49m\u001B[38;5;241;43m=\u001B[39;49m\u001B[43mkde_kws\u001B[49m\u001B[43m,\u001B[49m\n\u001B[1;32m   1425\u001B[0m \u001B[43m        \u001B[49m\u001B[43mcolor\u001B[49m\u001B[38;5;241;43m=\u001B[39;49m\u001B[43mcolor\u001B[49m\u001B[43m,\u001B[49m\n\u001B[1;32m   1426\u001B[0m \u001B[43m        \u001B[49m\u001B[43mlegend\u001B[49m\u001B[38;5;241;43m=\u001B[39;49m\u001B[43mlegend\u001B[49m\u001B[43m,\u001B[49m\n\u001B[1;32m   1427\u001B[0m \u001B[43m        \u001B[49m\u001B[43mestimate_kws\u001B[49m\u001B[38;5;241;43m=\u001B[39;49m\u001B[43mestimate_kws\u001B[49m\u001B[43m,\u001B[49m\n\u001B[1;32m   1428\u001B[0m \u001B[43m        \u001B[49m\u001B[43mline_kws\u001B[49m\u001B[38;5;241;43m=\u001B[39;49m\u001B[43mline_kws\u001B[49m\u001B[43m,\u001B[49m\n\u001B[1;32m   1429\u001B[0m \u001B[43m        \u001B[49m\u001B[38;5;241;43m*\u001B[39;49m\u001B[38;5;241;43m*\u001B[39;49m\u001B[43mkwargs\u001B[49m\u001B[43m,\u001B[49m\n\u001B[1;32m   1430\u001B[0m \u001B[43m    \u001B[49m\u001B[43m)\u001B[49m\n\u001B[1;32m   1432\u001B[0m \u001B[38;5;28;01melse\u001B[39;00m:\n\u001B[1;32m   1434\u001B[0m     p\u001B[38;5;241m.\u001B[39mplot_bivariate_histogram(\n\u001B[1;32m   1435\u001B[0m         common_bins\u001B[38;5;241m=\u001B[39mcommon_bins,\n\u001B[1;32m   1436\u001B[0m         common_norm\u001B[38;5;241m=\u001B[39mcommon_norm,\n\u001B[0;32m   (...)\u001B[0m\n\u001B[1;32m   1446\u001B[0m         \u001B[38;5;241m*\u001B[39m\u001B[38;5;241m*\u001B[39mkwargs,\n\u001B[1;32m   1447\u001B[0m     )\n",
      "File \u001B[0;32m/Library/Frameworks/Python.framework/Versions/3.12/lib/python3.12/site-packages/seaborn/distributions.py:571\u001B[0m, in \u001B[0;36m_DistributionPlotter.plot_univariate_histogram\u001B[0;34m(self, multiple, element, fill, common_norm, common_bins, shrink, kde, kde_kws, color, legend, line_kws, estimate_kws, **plot_kws)\u001B[0m\n\u001B[1;32m    566\u001B[0m \u001B[38;5;28;01mif\u001B[39;00m element \u001B[38;5;241m==\u001B[39m \u001B[38;5;124m\"\u001B[39m\u001B[38;5;124mbars\u001B[39m\u001B[38;5;124m\"\u001B[39m:\n\u001B[1;32m    567\u001B[0m \n\u001B[1;32m    568\u001B[0m     \u001B[38;5;66;03m# Use matplotlib bar plotting\u001B[39;00m\n\u001B[1;32m    570\u001B[0m     plot_func \u001B[38;5;241m=\u001B[39m ax\u001B[38;5;241m.\u001B[39mbar \u001B[38;5;28;01mif\u001B[39;00m \u001B[38;5;28mself\u001B[39m\u001B[38;5;241m.\u001B[39mdata_variable \u001B[38;5;241m==\u001B[39m \u001B[38;5;124m\"\u001B[39m\u001B[38;5;124mx\u001B[39m\u001B[38;5;124m\"\u001B[39m \u001B[38;5;28;01melse\u001B[39;00m ax\u001B[38;5;241m.\u001B[39mbarh\n\u001B[0;32m--> 571\u001B[0m     artists \u001B[38;5;241m=\u001B[39m \u001B[43mplot_func\u001B[49m\u001B[43m(\u001B[49m\n\u001B[1;32m    572\u001B[0m \u001B[43m        \u001B[49m\u001B[43mhist\u001B[49m\u001B[43m[\u001B[49m\u001B[38;5;124;43m\"\u001B[39;49m\u001B[38;5;124;43medges\u001B[39;49m\u001B[38;5;124;43m\"\u001B[39;49m\u001B[43m]\u001B[49m\u001B[43m,\u001B[49m\n\u001B[1;32m    573\u001B[0m \u001B[43m        \u001B[49m\u001B[43mhist\u001B[49m\u001B[43m[\u001B[49m\u001B[38;5;124;43m\"\u001B[39;49m\u001B[38;5;124;43mheights\u001B[39;49m\u001B[38;5;124;43m\"\u001B[39;49m\u001B[43m]\u001B[49m\u001B[43m \u001B[49m\u001B[38;5;241;43m-\u001B[39;49m\u001B[43m \u001B[49m\u001B[43mbottom\u001B[49m\u001B[43m,\u001B[49m\n\u001B[1;32m    574\u001B[0m \u001B[43m        \u001B[49m\u001B[43mhist\u001B[49m\u001B[43m[\u001B[49m\u001B[38;5;124;43m\"\u001B[39;49m\u001B[38;5;124;43mwidths\u001B[39;49m\u001B[38;5;124;43m\"\u001B[39;49m\u001B[43m]\u001B[49m\u001B[43m,\u001B[49m\n\u001B[1;32m    575\u001B[0m \u001B[43m        \u001B[49m\u001B[43mbottom\u001B[49m\u001B[43m,\u001B[49m\n\u001B[1;32m    576\u001B[0m \u001B[43m        \u001B[49m\u001B[43malign\u001B[49m\u001B[38;5;241;43m=\u001B[39;49m\u001B[38;5;124;43m\"\u001B[39;49m\u001B[38;5;124;43medge\u001B[39;49m\u001B[38;5;124;43m\"\u001B[39;49m\u001B[43m,\u001B[49m\n\u001B[1;32m    577\u001B[0m \u001B[43m        \u001B[49m\u001B[38;5;241;43m*\u001B[39;49m\u001B[38;5;241;43m*\u001B[39;49m\u001B[43martist_kws\u001B[49m\u001B[43m,\u001B[49m\n\u001B[1;32m    578\u001B[0m \u001B[43m    \u001B[49m\u001B[43m)\u001B[49m\n\u001B[1;32m    580\u001B[0m     \u001B[38;5;28;01mfor\u001B[39;00m bar \u001B[38;5;129;01min\u001B[39;00m artists:\n\u001B[1;32m    581\u001B[0m         \u001B[38;5;28;01mif\u001B[39;00m \u001B[38;5;28mself\u001B[39m\u001B[38;5;241m.\u001B[39mdata_variable \u001B[38;5;241m==\u001B[39m \u001B[38;5;124m\"\u001B[39m\u001B[38;5;124mx\u001B[39m\u001B[38;5;124m\"\u001B[39m:\n",
      "File \u001B[0;32m/Library/Frameworks/Python.framework/Versions/3.12/lib/python3.12/site-packages/matplotlib/__init__.py:1465\u001B[0m, in \u001B[0;36m_preprocess_data.<locals>.inner\u001B[0;34m(ax, data, *args, **kwargs)\u001B[0m\n\u001B[1;32m   1462\u001B[0m \u001B[38;5;129m@functools\u001B[39m\u001B[38;5;241m.\u001B[39mwraps(func)\n\u001B[1;32m   1463\u001B[0m \u001B[38;5;28;01mdef\u001B[39;00m \u001B[38;5;21minner\u001B[39m(ax, \u001B[38;5;241m*\u001B[39margs, data\u001B[38;5;241m=\u001B[39m\u001B[38;5;28;01mNone\u001B[39;00m, \u001B[38;5;241m*\u001B[39m\u001B[38;5;241m*\u001B[39mkwargs):\n\u001B[1;32m   1464\u001B[0m     \u001B[38;5;28;01mif\u001B[39;00m data \u001B[38;5;129;01mis\u001B[39;00m \u001B[38;5;28;01mNone\u001B[39;00m:\n\u001B[0;32m-> 1465\u001B[0m         \u001B[38;5;28;01mreturn\u001B[39;00m \u001B[43mfunc\u001B[49m\u001B[43m(\u001B[49m\u001B[43max\u001B[49m\u001B[43m,\u001B[49m\u001B[43m \u001B[49m\u001B[38;5;241;43m*\u001B[39;49m\u001B[38;5;28;43mmap\u001B[39;49m\u001B[43m(\u001B[49m\u001B[43msanitize_sequence\u001B[49m\u001B[43m,\u001B[49m\u001B[43m \u001B[49m\u001B[43margs\u001B[49m\u001B[43m)\u001B[49m\u001B[43m,\u001B[49m\u001B[43m \u001B[49m\u001B[38;5;241;43m*\u001B[39;49m\u001B[38;5;241;43m*\u001B[39;49m\u001B[43mkwargs\u001B[49m\u001B[43m)\u001B[49m\n\u001B[1;32m   1467\u001B[0m     bound \u001B[38;5;241m=\u001B[39m new_sig\u001B[38;5;241m.\u001B[39mbind(ax, \u001B[38;5;241m*\u001B[39margs, \u001B[38;5;241m*\u001B[39m\u001B[38;5;241m*\u001B[39mkwargs)\n\u001B[1;32m   1468\u001B[0m     auto_label \u001B[38;5;241m=\u001B[39m (bound\u001B[38;5;241m.\u001B[39marguments\u001B[38;5;241m.\u001B[39mget(label_namer)\n\u001B[1;32m   1469\u001B[0m                   \u001B[38;5;129;01mor\u001B[39;00m bound\u001B[38;5;241m.\u001B[39mkwargs\u001B[38;5;241m.\u001B[39mget(label_namer))\n",
      "File \u001B[0;32m/Library/Frameworks/Python.framework/Versions/3.12/lib/python3.12/site-packages/matplotlib/axes/_axes.py:2534\u001B[0m, in \u001B[0;36mAxes.bar\u001B[0;34m(self, x, height, width, bottom, align, **kwargs)\u001B[0m\n\u001B[1;32m   2532\u001B[0m     \u001B[38;5;28;01melse\u001B[39;00m:  \u001B[38;5;66;03m# horizontal\u001B[39;00m\n\u001B[1;32m   2533\u001B[0m         r\u001B[38;5;241m.\u001B[39msticky_edges\u001B[38;5;241m.\u001B[39mx\u001B[38;5;241m.\u001B[39mappend(l)\n\u001B[0;32m-> 2534\u001B[0m     \u001B[38;5;28;43mself\u001B[39;49m\u001B[38;5;241;43m.\u001B[39;49m\u001B[43madd_patch\u001B[49m\u001B[43m(\u001B[49m\u001B[43mr\u001B[49m\u001B[43m)\u001B[49m\n\u001B[1;32m   2535\u001B[0m     patches\u001B[38;5;241m.\u001B[39mappend(r)\n\u001B[1;32m   2537\u001B[0m \u001B[38;5;28;01mif\u001B[39;00m xerr \u001B[38;5;129;01mis\u001B[39;00m \u001B[38;5;129;01mnot\u001B[39;00m \u001B[38;5;28;01mNone\u001B[39;00m \u001B[38;5;129;01mor\u001B[39;00m yerr \u001B[38;5;129;01mis\u001B[39;00m \u001B[38;5;129;01mnot\u001B[39;00m \u001B[38;5;28;01mNone\u001B[39;00m:\n",
      "File \u001B[0;32m/Library/Frameworks/Python.framework/Versions/3.12/lib/python3.12/site-packages/matplotlib/axes/_base.py:2384\u001B[0m, in \u001B[0;36m_AxesBase.add_patch\u001B[0;34m(self, p)\u001B[0m\n\u001B[1;32m   2382\u001B[0m \u001B[38;5;28;01mif\u001B[39;00m p\u001B[38;5;241m.\u001B[39mget_clip_path() \u001B[38;5;129;01mis\u001B[39;00m \u001B[38;5;28;01mNone\u001B[39;00m:\n\u001B[1;32m   2383\u001B[0m     p\u001B[38;5;241m.\u001B[39mset_clip_path(\u001B[38;5;28mself\u001B[39m\u001B[38;5;241m.\u001B[39mpatch)\n\u001B[0;32m-> 2384\u001B[0m \u001B[38;5;28;43mself\u001B[39;49m\u001B[38;5;241;43m.\u001B[39;49m\u001B[43m_update_patch_limits\u001B[49m\u001B[43m(\u001B[49m\u001B[43mp\u001B[49m\u001B[43m)\u001B[49m\n\u001B[1;32m   2385\u001B[0m \u001B[38;5;28mself\u001B[39m\u001B[38;5;241m.\u001B[39m_children\u001B[38;5;241m.\u001B[39mappend(p)\n\u001B[1;32m   2386\u001B[0m p\u001B[38;5;241m.\u001B[39m_remove_method \u001B[38;5;241m=\u001B[39m \u001B[38;5;28mself\u001B[39m\u001B[38;5;241m.\u001B[39m_children\u001B[38;5;241m.\u001B[39mremove\n",
      "File \u001B[0;32m/Library/Frameworks/Python.framework/Versions/3.12/lib/python3.12/site-packages/matplotlib/axes/_base.py:2425\u001B[0m, in \u001B[0;36m_AxesBase._update_patch_limits\u001B[0;34m(self, patch)\u001B[0m\n\u001B[1;32m   2423\u001B[0m     \u001B[38;5;28;01mif\u001B[39;00m updatey \u001B[38;5;129;01mand\u001B[39;00m patch_trf \u001B[38;5;241m==\u001B[39m \u001B[38;5;28mself\u001B[39m\u001B[38;5;241m.\u001B[39mget_xaxis_transform():\n\u001B[1;32m   2424\u001B[0m         updatey \u001B[38;5;241m=\u001B[39m \u001B[38;5;28;01mFalse\u001B[39;00m\n\u001B[0;32m-> 2425\u001B[0m trf_to_data \u001B[38;5;241m=\u001B[39m \u001B[43mpatch_trf\u001B[49m\u001B[43m \u001B[49m\u001B[38;5;241;43m-\u001B[39;49m\u001B[43m \u001B[49m\u001B[38;5;28;43mself\u001B[39;49m\u001B[38;5;241;43m.\u001B[39;49m\u001B[43mtransData\u001B[49m\n\u001B[1;32m   2426\u001B[0m xys \u001B[38;5;241m=\u001B[39m trf_to_data\u001B[38;5;241m.\u001B[39mtransform(vertices)\n\u001B[1;32m   2427\u001B[0m \u001B[38;5;28mself\u001B[39m\u001B[38;5;241m.\u001B[39mupdate_datalim(xys, updatex\u001B[38;5;241m=\u001B[39mupdatex, updatey\u001B[38;5;241m=\u001B[39mupdatey)\n",
      "File \u001B[0;32m/Library/Frameworks/Python.framework/Versions/3.12/lib/python3.12/site-packages/matplotlib/transforms.py:1451\u001B[0m, in \u001B[0;36mTransform.__sub__\u001B[0;34m(self, other)\u001B[0m\n\u001B[1;32m   1449\u001B[0m     \u001B[38;5;28;01mreturn\u001B[39;00m \u001B[38;5;28mNotImplemented\u001B[39m\n\u001B[1;32m   1450\u001B[0m \u001B[38;5;28;01mfor\u001B[39;00m remainder, sub_tree \u001B[38;5;129;01min\u001B[39;00m \u001B[38;5;28mself\u001B[39m\u001B[38;5;241m.\u001B[39m_iter_break_from_left_to_right():\n\u001B[0;32m-> 1451\u001B[0m     \u001B[38;5;28;01mif\u001B[39;00m \u001B[43msub_tree\u001B[49m\u001B[43m \u001B[49m\u001B[38;5;241;43m==\u001B[39;49m\u001B[43m \u001B[49m\u001B[43mother\u001B[49m:\n\u001B[1;32m   1452\u001B[0m         \u001B[38;5;28;01mreturn\u001B[39;00m remainder\n\u001B[1;32m   1453\u001B[0m \u001B[38;5;28;01mfor\u001B[39;00m remainder, sub_tree \u001B[38;5;129;01min\u001B[39;00m other\u001B[38;5;241m.\u001B[39m_iter_break_from_left_to_right():\n",
      "File \u001B[0;32m/Library/Frameworks/Python.framework/Versions/3.12/lib/python3.12/site-packages/matplotlib/transforms.py:2386\u001B[0m, in \u001B[0;36mCompositeGenericTransform.__eq__\u001B[0;34m(self, other)\u001B[0m\n\u001B[1;32m   2384\u001B[0m \u001B[38;5;28;01mdef\u001B[39;00m \u001B[38;5;21m__eq__\u001B[39m(\u001B[38;5;28mself\u001B[39m, other):\n\u001B[1;32m   2385\u001B[0m     \u001B[38;5;28;01mif\u001B[39;00m \u001B[38;5;28misinstance\u001B[39m(other, (CompositeGenericTransform, CompositeAffine2D)):\n\u001B[0;32m-> 2386\u001B[0m         \u001B[38;5;28;01mreturn\u001B[39;00m \u001B[38;5;28mself\u001B[39m \u001B[38;5;129;01mis\u001B[39;00m other \u001B[38;5;129;01mor\u001B[39;00m (\u001B[38;5;28;43mself\u001B[39;49m\u001B[38;5;241;43m.\u001B[39;49m\u001B[43m_a\u001B[49m\u001B[43m \u001B[49m\u001B[38;5;241;43m==\u001B[39;49m\u001B[43m \u001B[49m\u001B[43mother\u001B[49m\u001B[38;5;241;43m.\u001B[39;49m\u001B[43m_a\u001B[49m\n\u001B[1;32m   2387\u001B[0m                                  \u001B[38;5;129;01mand\u001B[39;00m \u001B[38;5;28mself\u001B[39m\u001B[38;5;241m.\u001B[39m_b \u001B[38;5;241m==\u001B[39m other\u001B[38;5;241m.\u001B[39m_b)\n\u001B[1;32m   2388\u001B[0m     \u001B[38;5;28;01melse\u001B[39;00m:\n\u001B[1;32m   2389\u001B[0m         \u001B[38;5;28;01mreturn\u001B[39;00m \u001B[38;5;28;01mFalse\u001B[39;00m\n",
      "File \u001B[0;32m/Library/Frameworks/Python.framework/Versions/3.12/lib/python3.12/site-packages/matplotlib/transforms.py:1779\u001B[0m, in \u001B[0;36mAffineBase.__eq__\u001B[0;34m(self, other)\u001B[0m\n\u001B[1;32m   1777\u001B[0m \u001B[38;5;28;01mdef\u001B[39;00m \u001B[38;5;21m__eq__\u001B[39m(\u001B[38;5;28mself\u001B[39m, other):\n\u001B[1;32m   1778\u001B[0m     \u001B[38;5;28;01mif\u001B[39;00m \u001B[38;5;28mgetattr\u001B[39m(other, \u001B[38;5;124m\"\u001B[39m\u001B[38;5;124mis_affine\u001B[39m\u001B[38;5;124m\"\u001B[39m, \u001B[38;5;28;01mFalse\u001B[39;00m) \u001B[38;5;129;01mand\u001B[39;00m \u001B[38;5;28mhasattr\u001B[39m(other, \u001B[38;5;124m\"\u001B[39m\u001B[38;5;124mget_matrix\u001B[39m\u001B[38;5;124m\"\u001B[39m):\n\u001B[0;32m-> 1779\u001B[0m         \u001B[38;5;28;01mreturn\u001B[39;00m \u001B[43m(\u001B[49m\u001B[38;5;28;43mself\u001B[39;49m\u001B[38;5;241;43m.\u001B[39;49m\u001B[43mget_matrix\u001B[49m\u001B[43m(\u001B[49m\u001B[43m)\u001B[49m\u001B[43m \u001B[49m\u001B[38;5;241;43m==\u001B[39;49m\u001B[43m \u001B[49m\u001B[43mother\u001B[49m\u001B[38;5;241;43m.\u001B[39;49m\u001B[43mget_matrix\u001B[49m\u001B[43m(\u001B[49m\u001B[43m)\u001B[49m\u001B[43m)\u001B[49m\u001B[38;5;241;43m.\u001B[39;49m\u001B[43mall\u001B[49m\u001B[43m(\u001B[49m\u001B[43m)\u001B[49m\n\u001B[1;32m   1780\u001B[0m     \u001B[38;5;28;01mreturn\u001B[39;00m \u001B[38;5;28mNotImplemented\u001B[39m\n",
      "File \u001B[0;32m/Library/Frameworks/Python.framework/Versions/3.12/lib/python3.12/site-packages/numpy/core/_methods.py:64\u001B[0m, in \u001B[0;36m_all\u001B[0;34m(a, axis, dtype, out, keepdims, where)\u001B[0m\n\u001B[1;32m     61\u001B[0m \u001B[38;5;28;01mdef\u001B[39;00m \u001B[38;5;21m_all\u001B[39m(a, axis\u001B[38;5;241m=\u001B[39m\u001B[38;5;28;01mNone\u001B[39;00m, dtype\u001B[38;5;241m=\u001B[39m\u001B[38;5;28;01mNone\u001B[39;00m, out\u001B[38;5;241m=\u001B[39m\u001B[38;5;28;01mNone\u001B[39;00m, keepdims\u001B[38;5;241m=\u001B[39m\u001B[38;5;28;01mFalse\u001B[39;00m, \u001B[38;5;241m*\u001B[39m, where\u001B[38;5;241m=\u001B[39m\u001B[38;5;28;01mTrue\u001B[39;00m):\n\u001B[1;32m     62\u001B[0m     \u001B[38;5;66;03m# Parsing keyword arguments is currently fairly slow, so avoid it for now\u001B[39;00m\n\u001B[1;32m     63\u001B[0m     \u001B[38;5;28;01mif\u001B[39;00m where \u001B[38;5;129;01mis\u001B[39;00m \u001B[38;5;28;01mTrue\u001B[39;00m:\n\u001B[0;32m---> 64\u001B[0m         \u001B[38;5;28;01mreturn\u001B[39;00m \u001B[43mumr_all\u001B[49m\u001B[43m(\u001B[49m\u001B[43ma\u001B[49m\u001B[43m,\u001B[49m\u001B[43m \u001B[49m\u001B[43maxis\u001B[49m\u001B[43m,\u001B[49m\u001B[43m \u001B[49m\u001B[43mdtype\u001B[49m\u001B[43m,\u001B[49m\u001B[43m \u001B[49m\u001B[43mout\u001B[49m\u001B[43m,\u001B[49m\u001B[43m \u001B[49m\u001B[43mkeepdims\u001B[49m\u001B[43m)\u001B[49m\n\u001B[1;32m     65\u001B[0m     \u001B[38;5;28;01mreturn\u001B[39;00m umr_all(a, axis, dtype, out, keepdims, where\u001B[38;5;241m=\u001B[39mwhere)\n",
      "\u001B[0;31mKeyboardInterrupt\u001B[0m: "
     ]
    },
    {
     "name": "stdout",
     "output_type": "stream",
     "text": [
      "Error in callback <function flush_figures at 0x1332eb9c0> (for post_execute), with arguments args (),kwargs {}:\n"
     ]
    },
    {
     "ename": "KeyboardInterrupt",
     "evalue": "",
     "output_type": "error",
     "traceback": [
      "\u001B[0;31m---------------------------------------------------------------------------\u001B[0m",
      "\u001B[0;31mKeyboardInterrupt\u001B[0m                         Traceback (most recent call last)",
      "File \u001B[0;32m~/Library/Python/3.12/lib/python/site-packages/matplotlib_inline/backend_inline.py:126\u001B[0m, in \u001B[0;36mflush_figures\u001B[0;34m()\u001B[0m\n\u001B[1;32m    123\u001B[0m \u001B[38;5;28;01mif\u001B[39;00m InlineBackend\u001B[38;5;241m.\u001B[39minstance()\u001B[38;5;241m.\u001B[39mclose_figures:\n\u001B[1;32m    124\u001B[0m     \u001B[38;5;66;03m# ignore the tracking, just draw and close all figures\u001B[39;00m\n\u001B[1;32m    125\u001B[0m     \u001B[38;5;28;01mtry\u001B[39;00m:\n\u001B[0;32m--> 126\u001B[0m         \u001B[38;5;28;01mreturn\u001B[39;00m \u001B[43mshow\u001B[49m\u001B[43m(\u001B[49m\u001B[38;5;28;43;01mTrue\u001B[39;49;00m\u001B[43m)\u001B[49m\n\u001B[1;32m    127\u001B[0m     \u001B[38;5;28;01mexcept\u001B[39;00m \u001B[38;5;167;01mException\u001B[39;00m \u001B[38;5;28;01mas\u001B[39;00m e:\n\u001B[1;32m    128\u001B[0m         \u001B[38;5;66;03m# safely show traceback if in IPython, else raise\u001B[39;00m\n\u001B[1;32m    129\u001B[0m         ip \u001B[38;5;241m=\u001B[39m get_ipython()\n",
      "File \u001B[0;32m~/Library/Python/3.12/lib/python/site-packages/matplotlib_inline/backend_inline.py:90\u001B[0m, in \u001B[0;36mshow\u001B[0;34m(close, block)\u001B[0m\n\u001B[1;32m     88\u001B[0m \u001B[38;5;28;01mtry\u001B[39;00m:\n\u001B[1;32m     89\u001B[0m     \u001B[38;5;28;01mfor\u001B[39;00m figure_manager \u001B[38;5;129;01min\u001B[39;00m Gcf\u001B[38;5;241m.\u001B[39mget_all_fig_managers():\n\u001B[0;32m---> 90\u001B[0m         \u001B[43mdisplay\u001B[49m\u001B[43m(\u001B[49m\n\u001B[1;32m     91\u001B[0m \u001B[43m            \u001B[49m\u001B[43mfigure_manager\u001B[49m\u001B[38;5;241;43m.\u001B[39;49m\u001B[43mcanvas\u001B[49m\u001B[38;5;241;43m.\u001B[39;49m\u001B[43mfigure\u001B[49m\u001B[43m,\u001B[49m\n\u001B[1;32m     92\u001B[0m \u001B[43m            \u001B[49m\u001B[43mmetadata\u001B[49m\u001B[38;5;241;43m=\u001B[39;49m\u001B[43m_fetch_figure_metadata\u001B[49m\u001B[43m(\u001B[49m\u001B[43mfigure_manager\u001B[49m\u001B[38;5;241;43m.\u001B[39;49m\u001B[43mcanvas\u001B[49m\u001B[38;5;241;43m.\u001B[39;49m\u001B[43mfigure\u001B[49m\u001B[43m)\u001B[49m\n\u001B[1;32m     93\u001B[0m \u001B[43m        \u001B[49m\u001B[43m)\u001B[49m\n\u001B[1;32m     94\u001B[0m \u001B[38;5;28;01mfinally\u001B[39;00m:\n\u001B[1;32m     95\u001B[0m     show\u001B[38;5;241m.\u001B[39m_to_draw \u001B[38;5;241m=\u001B[39m []\n",
      "File \u001B[0;32m~/Library/Python/3.12/lib/python/site-packages/IPython/core/display_functions.py:298\u001B[0m, in \u001B[0;36mdisplay\u001B[0;34m(include, exclude, metadata, transient, display_id, raw, clear, *objs, **kwargs)\u001B[0m\n\u001B[1;32m    296\u001B[0m     publish_display_data(data\u001B[38;5;241m=\u001B[39mobj, metadata\u001B[38;5;241m=\u001B[39mmetadata, \u001B[38;5;241m*\u001B[39m\u001B[38;5;241m*\u001B[39mkwargs)\n\u001B[1;32m    297\u001B[0m \u001B[38;5;28;01melse\u001B[39;00m:\n\u001B[0;32m--> 298\u001B[0m     format_dict, md_dict \u001B[38;5;241m=\u001B[39m \u001B[38;5;28;43mformat\u001B[39;49m\u001B[43m(\u001B[49m\u001B[43mobj\u001B[49m\u001B[43m,\u001B[49m\u001B[43m \u001B[49m\u001B[43minclude\u001B[49m\u001B[38;5;241;43m=\u001B[39;49m\u001B[43minclude\u001B[49m\u001B[43m,\u001B[49m\u001B[43m \u001B[49m\u001B[43mexclude\u001B[49m\u001B[38;5;241;43m=\u001B[39;49m\u001B[43mexclude\u001B[49m\u001B[43m)\u001B[49m\n\u001B[1;32m    299\u001B[0m     \u001B[38;5;28;01mif\u001B[39;00m \u001B[38;5;129;01mnot\u001B[39;00m format_dict:\n\u001B[1;32m    300\u001B[0m         \u001B[38;5;66;03m# nothing to display (e.g. _ipython_display_ took over)\u001B[39;00m\n\u001B[1;32m    301\u001B[0m         \u001B[38;5;28;01mcontinue\u001B[39;00m\n",
      "File \u001B[0;32m~/Library/Python/3.12/lib/python/site-packages/IPython/core/formatters.py:179\u001B[0m, in \u001B[0;36mDisplayFormatter.format\u001B[0;34m(self, obj, include, exclude)\u001B[0m\n\u001B[1;32m    177\u001B[0m md \u001B[38;5;241m=\u001B[39m \u001B[38;5;28;01mNone\u001B[39;00m\n\u001B[1;32m    178\u001B[0m \u001B[38;5;28;01mtry\u001B[39;00m:\n\u001B[0;32m--> 179\u001B[0m     data \u001B[38;5;241m=\u001B[39m \u001B[43mformatter\u001B[49m\u001B[43m(\u001B[49m\u001B[43mobj\u001B[49m\u001B[43m)\u001B[49m\n\u001B[1;32m    180\u001B[0m \u001B[38;5;28;01mexcept\u001B[39;00m:\n\u001B[1;32m    181\u001B[0m     \u001B[38;5;66;03m# FIXME: log the exception\u001B[39;00m\n\u001B[1;32m    182\u001B[0m     \u001B[38;5;28;01mraise\u001B[39;00m\n",
      "File \u001B[0;32m<decorator-gen-2>:2\u001B[0m, in \u001B[0;36m__call__\u001B[0;34m(self, obj)\u001B[0m\n",
      "File \u001B[0;32m~/Library/Python/3.12/lib/python/site-packages/IPython/core/formatters.py:223\u001B[0m, in \u001B[0;36mcatch_format_error\u001B[0;34m(method, self, *args, **kwargs)\u001B[0m\n\u001B[1;32m    221\u001B[0m \u001B[38;5;250m\u001B[39m\u001B[38;5;124;03m\"\"\"show traceback on failed format call\"\"\"\u001B[39;00m\n\u001B[1;32m    222\u001B[0m \u001B[38;5;28;01mtry\u001B[39;00m:\n\u001B[0;32m--> 223\u001B[0m     r \u001B[38;5;241m=\u001B[39m \u001B[43mmethod\u001B[49m\u001B[43m(\u001B[49m\u001B[38;5;28;43mself\u001B[39;49m\u001B[43m,\u001B[49m\u001B[43m \u001B[49m\u001B[38;5;241;43m*\u001B[39;49m\u001B[43margs\u001B[49m\u001B[43m,\u001B[49m\u001B[43m \u001B[49m\u001B[38;5;241;43m*\u001B[39;49m\u001B[38;5;241;43m*\u001B[39;49m\u001B[43mkwargs\u001B[49m\u001B[43m)\u001B[49m\n\u001B[1;32m    224\u001B[0m \u001B[38;5;28;01mexcept\u001B[39;00m \u001B[38;5;167;01mNotImplementedError\u001B[39;00m:\n\u001B[1;32m    225\u001B[0m     \u001B[38;5;66;03m# don't warn on NotImplementedErrors\u001B[39;00m\n\u001B[1;32m    226\u001B[0m     \u001B[38;5;28;01mreturn\u001B[39;00m \u001B[38;5;28mself\u001B[39m\u001B[38;5;241m.\u001B[39m_check_return(\u001B[38;5;28;01mNone\u001B[39;00m, args[\u001B[38;5;241m0\u001B[39m])\n",
      "File \u001B[0;32m~/Library/Python/3.12/lib/python/site-packages/IPython/core/formatters.py:340\u001B[0m, in \u001B[0;36mBaseFormatter.__call__\u001B[0;34m(self, obj)\u001B[0m\n\u001B[1;32m    338\u001B[0m     \u001B[38;5;28;01mpass\u001B[39;00m\n\u001B[1;32m    339\u001B[0m \u001B[38;5;28;01melse\u001B[39;00m:\n\u001B[0;32m--> 340\u001B[0m     \u001B[38;5;28;01mreturn\u001B[39;00m \u001B[43mprinter\u001B[49m\u001B[43m(\u001B[49m\u001B[43mobj\u001B[49m\u001B[43m)\u001B[49m\n\u001B[1;32m    341\u001B[0m \u001B[38;5;66;03m# Finally look for special method names\u001B[39;00m\n\u001B[1;32m    342\u001B[0m method \u001B[38;5;241m=\u001B[39m get_real_method(obj, \u001B[38;5;28mself\u001B[39m\u001B[38;5;241m.\u001B[39mprint_method)\n",
      "File \u001B[0;32m~/Library/Python/3.12/lib/python/site-packages/IPython/core/pylabtools.py:152\u001B[0m, in \u001B[0;36mprint_figure\u001B[0;34m(fig, fmt, bbox_inches, base64, **kwargs)\u001B[0m\n\u001B[1;32m    149\u001B[0m     \u001B[38;5;28;01mfrom\u001B[39;00m \u001B[38;5;21;01mmatplotlib\u001B[39;00m\u001B[38;5;21;01m.\u001B[39;00m\u001B[38;5;21;01mbackend_bases\u001B[39;00m \u001B[38;5;28;01mimport\u001B[39;00m FigureCanvasBase\n\u001B[1;32m    150\u001B[0m     FigureCanvasBase(fig)\n\u001B[0;32m--> 152\u001B[0m \u001B[43mfig\u001B[49m\u001B[38;5;241;43m.\u001B[39;49m\u001B[43mcanvas\u001B[49m\u001B[38;5;241;43m.\u001B[39;49m\u001B[43mprint_figure\u001B[49m\u001B[43m(\u001B[49m\u001B[43mbytes_io\u001B[49m\u001B[43m,\u001B[49m\u001B[43m \u001B[49m\u001B[38;5;241;43m*\u001B[39;49m\u001B[38;5;241;43m*\u001B[39;49m\u001B[43mkw\u001B[49m\u001B[43m)\u001B[49m\n\u001B[1;32m    153\u001B[0m data \u001B[38;5;241m=\u001B[39m bytes_io\u001B[38;5;241m.\u001B[39mgetvalue()\n\u001B[1;32m    154\u001B[0m \u001B[38;5;28;01mif\u001B[39;00m fmt \u001B[38;5;241m==\u001B[39m \u001B[38;5;124m'\u001B[39m\u001B[38;5;124msvg\u001B[39m\u001B[38;5;124m'\u001B[39m:\n",
      "File \u001B[0;32m/Library/Frameworks/Python.framework/Versions/3.12/lib/python3.12/site-packages/matplotlib/backend_bases.py:2164\u001B[0m, in \u001B[0;36mFigureCanvasBase.print_figure\u001B[0;34m(self, filename, dpi, facecolor, edgecolor, orientation, format, bbox_inches, pad_inches, bbox_extra_artists, backend, **kwargs)\u001B[0m\n\u001B[1;32m   2161\u001B[0m     \u001B[38;5;66;03m# we do this instead of `self.figure.draw_without_rendering`\u001B[39;00m\n\u001B[1;32m   2162\u001B[0m     \u001B[38;5;66;03m# so that we can inject the orientation\u001B[39;00m\n\u001B[1;32m   2163\u001B[0m     \u001B[38;5;28;01mwith\u001B[39;00m \u001B[38;5;28mgetattr\u001B[39m(renderer, \u001B[38;5;124m\"\u001B[39m\u001B[38;5;124m_draw_disabled\u001B[39m\u001B[38;5;124m\"\u001B[39m, nullcontext)():\n\u001B[0;32m-> 2164\u001B[0m         \u001B[38;5;28;43mself\u001B[39;49m\u001B[38;5;241;43m.\u001B[39;49m\u001B[43mfigure\u001B[49m\u001B[38;5;241;43m.\u001B[39;49m\u001B[43mdraw\u001B[49m\u001B[43m(\u001B[49m\u001B[43mrenderer\u001B[49m\u001B[43m)\u001B[49m\n\u001B[1;32m   2165\u001B[0m \u001B[38;5;28;01mif\u001B[39;00m bbox_inches:\n\u001B[1;32m   2166\u001B[0m     \u001B[38;5;28;01mif\u001B[39;00m bbox_inches \u001B[38;5;241m==\u001B[39m \u001B[38;5;124m\"\u001B[39m\u001B[38;5;124mtight\u001B[39m\u001B[38;5;124m\"\u001B[39m:\n",
      "File \u001B[0;32m/Library/Frameworks/Python.framework/Versions/3.12/lib/python3.12/site-packages/matplotlib/artist.py:95\u001B[0m, in \u001B[0;36m_finalize_rasterization.<locals>.draw_wrapper\u001B[0;34m(artist, renderer, *args, **kwargs)\u001B[0m\n\u001B[1;32m     93\u001B[0m \u001B[38;5;129m@wraps\u001B[39m(draw)\n\u001B[1;32m     94\u001B[0m \u001B[38;5;28;01mdef\u001B[39;00m \u001B[38;5;21mdraw_wrapper\u001B[39m(artist, renderer, \u001B[38;5;241m*\u001B[39margs, \u001B[38;5;241m*\u001B[39m\u001B[38;5;241m*\u001B[39mkwargs):\n\u001B[0;32m---> 95\u001B[0m     result \u001B[38;5;241m=\u001B[39m \u001B[43mdraw\u001B[49m\u001B[43m(\u001B[49m\u001B[43martist\u001B[49m\u001B[43m,\u001B[49m\u001B[43m \u001B[49m\u001B[43mrenderer\u001B[49m\u001B[43m,\u001B[49m\u001B[43m \u001B[49m\u001B[38;5;241;43m*\u001B[39;49m\u001B[43margs\u001B[49m\u001B[43m,\u001B[49m\u001B[43m \u001B[49m\u001B[38;5;241;43m*\u001B[39;49m\u001B[38;5;241;43m*\u001B[39;49m\u001B[43mkwargs\u001B[49m\u001B[43m)\u001B[49m\n\u001B[1;32m     96\u001B[0m     \u001B[38;5;28;01mif\u001B[39;00m renderer\u001B[38;5;241m.\u001B[39m_rasterizing:\n\u001B[1;32m     97\u001B[0m         renderer\u001B[38;5;241m.\u001B[39mstop_rasterizing()\n",
      "File \u001B[0;32m/Library/Frameworks/Python.framework/Versions/3.12/lib/python3.12/site-packages/matplotlib/artist.py:72\u001B[0m, in \u001B[0;36mallow_rasterization.<locals>.draw_wrapper\u001B[0;34m(artist, renderer)\u001B[0m\n\u001B[1;32m     69\u001B[0m     \u001B[38;5;28;01mif\u001B[39;00m artist\u001B[38;5;241m.\u001B[39mget_agg_filter() \u001B[38;5;129;01mis\u001B[39;00m \u001B[38;5;129;01mnot\u001B[39;00m \u001B[38;5;28;01mNone\u001B[39;00m:\n\u001B[1;32m     70\u001B[0m         renderer\u001B[38;5;241m.\u001B[39mstart_filter()\n\u001B[0;32m---> 72\u001B[0m     \u001B[38;5;28;01mreturn\u001B[39;00m \u001B[43mdraw\u001B[49m\u001B[43m(\u001B[49m\u001B[43martist\u001B[49m\u001B[43m,\u001B[49m\u001B[43m \u001B[49m\u001B[43mrenderer\u001B[49m\u001B[43m)\u001B[49m\n\u001B[1;32m     73\u001B[0m \u001B[38;5;28;01mfinally\u001B[39;00m:\n\u001B[1;32m     74\u001B[0m     \u001B[38;5;28;01mif\u001B[39;00m artist\u001B[38;5;241m.\u001B[39mget_agg_filter() \u001B[38;5;129;01mis\u001B[39;00m \u001B[38;5;129;01mnot\u001B[39;00m \u001B[38;5;28;01mNone\u001B[39;00m:\n",
      "File \u001B[0;32m/Library/Frameworks/Python.framework/Versions/3.12/lib/python3.12/site-packages/matplotlib/figure.py:3154\u001B[0m, in \u001B[0;36mFigure.draw\u001B[0;34m(self, renderer)\u001B[0m\n\u001B[1;32m   3151\u001B[0m         \u001B[38;5;66;03m# ValueError can occur when resizing a window.\u001B[39;00m\n\u001B[1;32m   3153\u001B[0m \u001B[38;5;28mself\u001B[39m\u001B[38;5;241m.\u001B[39mpatch\u001B[38;5;241m.\u001B[39mdraw(renderer)\n\u001B[0;32m-> 3154\u001B[0m \u001B[43mmimage\u001B[49m\u001B[38;5;241;43m.\u001B[39;49m\u001B[43m_draw_list_compositing_images\u001B[49m\u001B[43m(\u001B[49m\n\u001B[1;32m   3155\u001B[0m \u001B[43m    \u001B[49m\u001B[43mrenderer\u001B[49m\u001B[43m,\u001B[49m\u001B[43m \u001B[49m\u001B[38;5;28;43mself\u001B[39;49m\u001B[43m,\u001B[49m\u001B[43m \u001B[49m\u001B[43martists\u001B[49m\u001B[43m,\u001B[49m\u001B[43m \u001B[49m\u001B[38;5;28;43mself\u001B[39;49m\u001B[38;5;241;43m.\u001B[39;49m\u001B[43msuppressComposite\u001B[49m\u001B[43m)\u001B[49m\n\u001B[1;32m   3157\u001B[0m \u001B[38;5;28;01mfor\u001B[39;00m sfig \u001B[38;5;129;01min\u001B[39;00m \u001B[38;5;28mself\u001B[39m\u001B[38;5;241m.\u001B[39msubfigs:\n\u001B[1;32m   3158\u001B[0m     sfig\u001B[38;5;241m.\u001B[39mdraw(renderer)\n",
      "File \u001B[0;32m/Library/Frameworks/Python.framework/Versions/3.12/lib/python3.12/site-packages/matplotlib/image.py:132\u001B[0m, in \u001B[0;36m_draw_list_compositing_images\u001B[0;34m(renderer, parent, artists, suppress_composite)\u001B[0m\n\u001B[1;32m    130\u001B[0m \u001B[38;5;28;01mif\u001B[39;00m not_composite \u001B[38;5;129;01mor\u001B[39;00m \u001B[38;5;129;01mnot\u001B[39;00m has_images:\n\u001B[1;32m    131\u001B[0m     \u001B[38;5;28;01mfor\u001B[39;00m a \u001B[38;5;129;01min\u001B[39;00m artists:\n\u001B[0;32m--> 132\u001B[0m         \u001B[43ma\u001B[49m\u001B[38;5;241;43m.\u001B[39;49m\u001B[43mdraw\u001B[49m\u001B[43m(\u001B[49m\u001B[43mrenderer\u001B[49m\u001B[43m)\u001B[49m\n\u001B[1;32m    133\u001B[0m \u001B[38;5;28;01melse\u001B[39;00m:\n\u001B[1;32m    134\u001B[0m     \u001B[38;5;66;03m# Composite any adjacent images together\u001B[39;00m\n\u001B[1;32m    135\u001B[0m     image_group \u001B[38;5;241m=\u001B[39m []\n",
      "File \u001B[0;32m/Library/Frameworks/Python.framework/Versions/3.12/lib/python3.12/site-packages/matplotlib/artist.py:72\u001B[0m, in \u001B[0;36mallow_rasterization.<locals>.draw_wrapper\u001B[0;34m(artist, renderer)\u001B[0m\n\u001B[1;32m     69\u001B[0m     \u001B[38;5;28;01mif\u001B[39;00m artist\u001B[38;5;241m.\u001B[39mget_agg_filter() \u001B[38;5;129;01mis\u001B[39;00m \u001B[38;5;129;01mnot\u001B[39;00m \u001B[38;5;28;01mNone\u001B[39;00m:\n\u001B[1;32m     70\u001B[0m         renderer\u001B[38;5;241m.\u001B[39mstart_filter()\n\u001B[0;32m---> 72\u001B[0m     \u001B[38;5;28;01mreturn\u001B[39;00m \u001B[43mdraw\u001B[49m\u001B[43m(\u001B[49m\u001B[43martist\u001B[49m\u001B[43m,\u001B[49m\u001B[43m \u001B[49m\u001B[43mrenderer\u001B[49m\u001B[43m)\u001B[49m\n\u001B[1;32m     73\u001B[0m \u001B[38;5;28;01mfinally\u001B[39;00m:\n\u001B[1;32m     74\u001B[0m     \u001B[38;5;28;01mif\u001B[39;00m artist\u001B[38;5;241m.\u001B[39mget_agg_filter() \u001B[38;5;129;01mis\u001B[39;00m \u001B[38;5;129;01mnot\u001B[39;00m \u001B[38;5;28;01mNone\u001B[39;00m:\n",
      "File \u001B[0;32m/Library/Frameworks/Python.framework/Versions/3.12/lib/python3.12/site-packages/matplotlib/axes/_base.py:3070\u001B[0m, in \u001B[0;36m_AxesBase.draw\u001B[0;34m(self, renderer)\u001B[0m\n\u001B[1;32m   3067\u001B[0m \u001B[38;5;28;01mif\u001B[39;00m artists_rasterized:\n\u001B[1;32m   3068\u001B[0m     _draw_rasterized(\u001B[38;5;28mself\u001B[39m\u001B[38;5;241m.\u001B[39mfigure, artists_rasterized, renderer)\n\u001B[0;32m-> 3070\u001B[0m \u001B[43mmimage\u001B[49m\u001B[38;5;241;43m.\u001B[39;49m\u001B[43m_draw_list_compositing_images\u001B[49m\u001B[43m(\u001B[49m\n\u001B[1;32m   3071\u001B[0m \u001B[43m    \u001B[49m\u001B[43mrenderer\u001B[49m\u001B[43m,\u001B[49m\u001B[43m \u001B[49m\u001B[38;5;28;43mself\u001B[39;49m\u001B[43m,\u001B[49m\u001B[43m \u001B[49m\u001B[43martists\u001B[49m\u001B[43m,\u001B[49m\u001B[43m \u001B[49m\u001B[38;5;28;43mself\u001B[39;49m\u001B[38;5;241;43m.\u001B[39;49m\u001B[43mfigure\u001B[49m\u001B[38;5;241;43m.\u001B[39;49m\u001B[43msuppressComposite\u001B[49m\u001B[43m)\u001B[49m\n\u001B[1;32m   3073\u001B[0m renderer\u001B[38;5;241m.\u001B[39mclose_group(\u001B[38;5;124m'\u001B[39m\u001B[38;5;124maxes\u001B[39m\u001B[38;5;124m'\u001B[39m)\n\u001B[1;32m   3074\u001B[0m \u001B[38;5;28mself\u001B[39m\u001B[38;5;241m.\u001B[39mstale \u001B[38;5;241m=\u001B[39m \u001B[38;5;28;01mFalse\u001B[39;00m\n",
      "File \u001B[0;32m/Library/Frameworks/Python.framework/Versions/3.12/lib/python3.12/site-packages/matplotlib/image.py:132\u001B[0m, in \u001B[0;36m_draw_list_compositing_images\u001B[0;34m(renderer, parent, artists, suppress_composite)\u001B[0m\n\u001B[1;32m    130\u001B[0m \u001B[38;5;28;01mif\u001B[39;00m not_composite \u001B[38;5;129;01mor\u001B[39;00m \u001B[38;5;129;01mnot\u001B[39;00m has_images:\n\u001B[1;32m    131\u001B[0m     \u001B[38;5;28;01mfor\u001B[39;00m a \u001B[38;5;129;01min\u001B[39;00m artists:\n\u001B[0;32m--> 132\u001B[0m         \u001B[43ma\u001B[49m\u001B[38;5;241;43m.\u001B[39;49m\u001B[43mdraw\u001B[49m\u001B[43m(\u001B[49m\u001B[43mrenderer\u001B[49m\u001B[43m)\u001B[49m\n\u001B[1;32m    133\u001B[0m \u001B[38;5;28;01melse\u001B[39;00m:\n\u001B[1;32m    134\u001B[0m     \u001B[38;5;66;03m# Composite any adjacent images together\u001B[39;00m\n\u001B[1;32m    135\u001B[0m     image_group \u001B[38;5;241m=\u001B[39m []\n",
      "File \u001B[0;32m/Library/Frameworks/Python.framework/Versions/3.12/lib/python3.12/site-packages/matplotlib/artist.py:72\u001B[0m, in \u001B[0;36mallow_rasterization.<locals>.draw_wrapper\u001B[0;34m(artist, renderer)\u001B[0m\n\u001B[1;32m     69\u001B[0m     \u001B[38;5;28;01mif\u001B[39;00m artist\u001B[38;5;241m.\u001B[39mget_agg_filter() \u001B[38;5;129;01mis\u001B[39;00m \u001B[38;5;129;01mnot\u001B[39;00m \u001B[38;5;28;01mNone\u001B[39;00m:\n\u001B[1;32m     70\u001B[0m         renderer\u001B[38;5;241m.\u001B[39mstart_filter()\n\u001B[0;32m---> 72\u001B[0m     \u001B[38;5;28;01mreturn\u001B[39;00m \u001B[43mdraw\u001B[49m\u001B[43m(\u001B[49m\u001B[43martist\u001B[49m\u001B[43m,\u001B[49m\u001B[43m \u001B[49m\u001B[43mrenderer\u001B[49m\u001B[43m)\u001B[49m\n\u001B[1;32m     73\u001B[0m \u001B[38;5;28;01mfinally\u001B[39;00m:\n\u001B[1;32m     74\u001B[0m     \u001B[38;5;28;01mif\u001B[39;00m artist\u001B[38;5;241m.\u001B[39mget_agg_filter() \u001B[38;5;129;01mis\u001B[39;00m \u001B[38;5;129;01mnot\u001B[39;00m \u001B[38;5;28;01mNone\u001B[39;00m:\n",
      "File \u001B[0;32m/Library/Frameworks/Python.framework/Versions/3.12/lib/python3.12/site-packages/matplotlib/patches.py:585\u001B[0m, in \u001B[0;36mPatch.draw\u001B[0;34m(self, renderer)\u001B[0m\n\u001B[1;32m    583\u001B[0m     \u001B[38;5;28;01mreturn\u001B[39;00m\n\u001B[1;32m    584\u001B[0m path \u001B[38;5;241m=\u001B[39m \u001B[38;5;28mself\u001B[39m\u001B[38;5;241m.\u001B[39mget_path()\n\u001B[0;32m--> 585\u001B[0m transform \u001B[38;5;241m=\u001B[39m \u001B[38;5;28;43mself\u001B[39;49m\u001B[38;5;241;43m.\u001B[39;49m\u001B[43mget_transform\u001B[49m\u001B[43m(\u001B[49m\u001B[43m)\u001B[49m\n\u001B[1;32m    586\u001B[0m tpath \u001B[38;5;241m=\u001B[39m transform\u001B[38;5;241m.\u001B[39mtransform_path_non_affine(path)\n\u001B[1;32m    587\u001B[0m affine \u001B[38;5;241m=\u001B[39m transform\u001B[38;5;241m.\u001B[39mget_affine()\n",
      "File \u001B[0;32m/Library/Frameworks/Python.framework/Versions/3.12/lib/python3.12/site-packages/matplotlib/patches.py:261\u001B[0m, in \u001B[0;36mPatch.get_transform\u001B[0;34m(self)\u001B[0m\n\u001B[1;32m    259\u001B[0m \u001B[38;5;28;01mdef\u001B[39;00m \u001B[38;5;21mget_transform\u001B[39m(\u001B[38;5;28mself\u001B[39m):\n\u001B[1;32m    260\u001B[0m \u001B[38;5;250m    \u001B[39m\u001B[38;5;124;03m\"\"\"Return the `~.transforms.Transform` applied to the `Patch`.\"\"\"\u001B[39;00m\n\u001B[0;32m--> 261\u001B[0m     \u001B[38;5;28;01mreturn\u001B[39;00m \u001B[38;5;28;43mself\u001B[39;49m\u001B[38;5;241;43m.\u001B[39;49m\u001B[43mget_patch_transform\u001B[49m\u001B[43m(\u001B[49m\u001B[43m)\u001B[49m \u001B[38;5;241m+\u001B[39m artist\u001B[38;5;241m.\u001B[39mArtist\u001B[38;5;241m.\u001B[39mget_transform(\u001B[38;5;28mself\u001B[39m)\n",
      "File \u001B[0;32m/Library/Frameworks/Python.framework/Versions/3.12/lib/python3.12/site-packages/matplotlib/patches.py:761\u001B[0m, in \u001B[0;36mRectangle.get_patch_transform\u001B[0;34m(self)\u001B[0m\n\u001B[1;32m    757\u001B[0m \u001B[38;5;28;01melse\u001B[39;00m:\n\u001B[1;32m    758\u001B[0m     rotation_point \u001B[38;5;241m=\u001B[39m \u001B[38;5;28mself\u001B[39m\u001B[38;5;241m.\u001B[39mrotation_point\n\u001B[1;32m    759\u001B[0m \u001B[38;5;28;01mreturn\u001B[39;00m transforms\u001B[38;5;241m.\u001B[39mBboxTransformTo(bbox) \\\n\u001B[1;32m    760\u001B[0m         \u001B[38;5;241m+\u001B[39m \u001B[43mtransforms\u001B[49m\u001B[38;5;241;43m.\u001B[39;49m\u001B[43mAffine2D\u001B[49m\u001B[43m(\u001B[49m\u001B[43m)\u001B[49m\u001B[43m \u001B[49m\u001B[43m\\\u001B[49m\n\u001B[0;32m--> 761\u001B[0m \u001B[43m        \u001B[49m\u001B[38;5;241;43m.\u001B[39;49m\u001B[43mtranslate\u001B[49m\u001B[43m(\u001B[49m\u001B[38;5;241;43m-\u001B[39;49m\u001B[43mrotation_point\u001B[49m\u001B[43m[\u001B[49m\u001B[38;5;241;43m0\u001B[39;49m\u001B[43m]\u001B[49m\u001B[43m,\u001B[49m\u001B[43m \u001B[49m\u001B[38;5;241;43m-\u001B[39;49m\u001B[43mrotation_point\u001B[49m\u001B[43m[\u001B[49m\u001B[38;5;241;43m1\u001B[39;49m\u001B[43m]\u001B[49m\u001B[43m)\u001B[49m \\\n\u001B[1;32m    762\u001B[0m         \u001B[38;5;241m.\u001B[39mscale(\u001B[38;5;241m1\u001B[39m, \u001B[38;5;28mself\u001B[39m\u001B[38;5;241m.\u001B[39m_aspect_ratio_correction) \\\n\u001B[1;32m    763\u001B[0m         \u001B[38;5;241m.\u001B[39mrotate_deg(\u001B[38;5;28mself\u001B[39m\u001B[38;5;241m.\u001B[39mangle) \\\n\u001B[1;32m    764\u001B[0m         \u001B[38;5;241m.\u001B[39mscale(\u001B[38;5;241m1\u001B[39m, \u001B[38;5;241m1\u001B[39m \u001B[38;5;241m/\u001B[39m \u001B[38;5;28mself\u001B[39m\u001B[38;5;241m.\u001B[39m_aspect_ratio_correction) \\\n\u001B[1;32m    765\u001B[0m         \u001B[38;5;241m.\u001B[39mtranslate(\u001B[38;5;241m*\u001B[39mrotation_point)\n",
      "File \u001B[0;32m/Library/Frameworks/Python.framework/Versions/3.12/lib/python3.12/site-packages/matplotlib/transforms.py:2040\u001B[0m, in \u001B[0;36mAffine2D.translate\u001B[0;34m(self, tx, ty)\u001B[0m\n\u001B[1;32m   2038\u001B[0m \u001B[38;5;28mself\u001B[39m\u001B[38;5;241m.\u001B[39m_mtx[\u001B[38;5;241m0\u001B[39m, \u001B[38;5;241m2\u001B[39m] \u001B[38;5;241m+\u001B[39m\u001B[38;5;241m=\u001B[39m tx\n\u001B[1;32m   2039\u001B[0m \u001B[38;5;28mself\u001B[39m\u001B[38;5;241m.\u001B[39m_mtx[\u001B[38;5;241m1\u001B[39m, \u001B[38;5;241m2\u001B[39m] \u001B[38;5;241m+\u001B[39m\u001B[38;5;241m=\u001B[39m ty\n\u001B[0;32m-> 2040\u001B[0m \u001B[38;5;28;43mself\u001B[39;49m\u001B[38;5;241;43m.\u001B[39;49m\u001B[43minvalidate\u001B[49m\u001B[43m(\u001B[49m\u001B[43m)\u001B[49m\n\u001B[1;32m   2041\u001B[0m \u001B[38;5;28;01mreturn\u001B[39;00m \u001B[38;5;28mself\u001B[39m\n",
      "File \u001B[0;32m/Library/Frameworks/Python.framework/Versions/3.12/lib/python3.12/site-packages/matplotlib/transforms.py:158\u001B[0m, in \u001B[0;36mTransformNode.invalidate\u001B[0;34m(self)\u001B[0m\n\u001B[1;32m    155\u001B[0m             other\u001B[38;5;241m.\u001B[39mset_children(val)  \u001B[38;5;66;03m# val == getattr(other, key)\u001B[39;00m\n\u001B[1;32m    156\u001B[0m     \u001B[38;5;28;01mreturn\u001B[39;00m other\n\u001B[0;32m--> 158\u001B[0m \u001B[38;5;28;01mdef\u001B[39;00m \u001B[38;5;21minvalidate\u001B[39m(\u001B[38;5;28mself\u001B[39m):\n\u001B[1;32m    159\u001B[0m \u001B[38;5;250m    \u001B[39m\u001B[38;5;124;03m\"\"\"\u001B[39;00m\n\u001B[1;32m    160\u001B[0m \u001B[38;5;124;03m    Invalidate this `TransformNode` and triggers an invalidation of its\u001B[39;00m\n\u001B[1;32m    161\u001B[0m \u001B[38;5;124;03m    ancestors.  Should be called any time the transform changes.\u001B[39;00m\n\u001B[1;32m    162\u001B[0m \u001B[38;5;124;03m    \"\"\"\u001B[39;00m\n\u001B[1;32m    163\u001B[0m     \u001B[38;5;28;01mreturn\u001B[39;00m \u001B[38;5;28mself\u001B[39m\u001B[38;5;241m.\u001B[39m_invalidate_internal(\n\u001B[1;32m    164\u001B[0m         level\u001B[38;5;241m=\u001B[39m\u001B[38;5;28mself\u001B[39m\u001B[38;5;241m.\u001B[39m_INVALID_AFFINE_ONLY \u001B[38;5;28;01mif\u001B[39;00m \u001B[38;5;28mself\u001B[39m\u001B[38;5;241m.\u001B[39mis_affine \u001B[38;5;28;01melse\u001B[39;00m \u001B[38;5;28mself\u001B[39m\u001B[38;5;241m.\u001B[39m_INVALID_FULL,\n\u001B[1;32m    165\u001B[0m         invalidating_node\u001B[38;5;241m=\u001B[39m\u001B[38;5;28mself\u001B[39m)\n",
      "\u001B[0;31mKeyboardInterrupt\u001B[0m: "
     ]
    }
   ],
   "source": [
    "fig, axes = plt.subplots(3,2, figsize=(16, 12))\n",
    "axes = axes.flatten()\n",
    "\n",
    "i=0\n",
    "for column in numeric_columns:\n",
    "    sns.histplot(x=data[column], ax=axes[i])\n",
    "    i=i+1\n",
    "\n",
    "plt.show()"
   ],
   "metadata": {
    "collapsed": false,
    "ExecuteTime": {
     "end_time": "2024-03-28T22:27:51.297877Z",
     "start_time": "2024-03-28T22:27:36.076853Z"
    }
   },
   "id": "7a70141911387706"
  },
  {
   "cell_type": "code",
   "execution_count": null,
   "outputs": [],
   "source": [
    "data.drop(data.loc[(data[\"PRICE\"] > 100000000) | (data[\"PRICE\"]<10000)].index, inplace= True)\n",
    "data['PRICE'] = data['PRICE'].astype(float)"
   ],
   "metadata": {
    "id": "c3bd21c1cd7bc1f9",
    "ExecuteTime": {
     "end_time": "2024-03-28T22:27:51.303072Z",
     "start_time": "2024-03-28T22:27:51.301326Z"
    }
   },
   "id": "c3bd21c1cd7bc1f9"
  },
  {
   "cell_type": "markdown",
   "source": [
    "BATH, BEDS"
   ],
   "metadata": {
    "collapsed": false,
    "id": "d5408a2f35e3070"
   },
   "id": "d5408a2f35e3070"
  },
  {
   "cell_type": "code",
   "execution_count": null,
   "outputs": [],
   "source": [
    "data['BATH'].value_counts()"
   ],
   "metadata": {
    "id": "94604972e465f119",
    "outputId": "f09eee10-c0ae-44ab-9f45-34df6176a5e9",
    "colab": {
     "base_uri": "https://localhost:8080/"
    },
    "ExecuteTime": {
     "start_time": "2024-03-28T22:27:51.304914Z"
    }
   },
   "id": "94604972e465f119"
  },
  {
   "cell_type": "code",
   "execution_count": null,
   "outputs": [],
   "source": [
    "data['BEDS'].value_counts()"
   ],
   "metadata": {
    "id": "6a9756be2df55314",
    "outputId": "08f82fa8-81d0-45a5-ad97-fb75bb48e013",
    "colab": {
     "base_uri": "https://localhost:8080/"
    },
    "ExecuteTime": {
     "start_time": "2024-03-28T22:27:51.307965Z"
    }
   },
   "id": "6a9756be2df55314"
  },
  {
   "cell_type": "markdown",
   "source": [
    "Utworzenie nowej kolumny „PROPERTYSQFT1000”, w której wartości są obliczane przez podzielenie wartości w kolumnie 'PROPERTYSQFT' przez 1000, zaokrąglając wynik w dół do liczby całkowitej , w celu znalezienia wartości odstających. \n",
    "\n",
    "Zostały pozostawione wiersze z wartościami dla których metraż nieruchomości podzielony przez 1000 mieści się w zakresie od 0 do 8.\n",
    "\n",
    "Pozostawiono wiersze z kolumny „BATH”, w których liczba łazienek mieści się w zakresie od 0 do 10, ze względu na małą ilość wystąpień wartości spoza tego przedziału.\n",
    "\n",
    "Pozostawiono wiersze z kolumny „BEDS” w których liczba sypialni mieści się w zakresie od 0 do 12, ze względu na małą ilość wystąpień wartości spoza tego przedziału.\n"
   ],
   "metadata": {
    "id": "VgZE80wl9sGV"
   },
   "id": "VgZE80wl9sGV"
  },
  {
   "cell_type": "code",
   "execution_count": null,
   "outputs": [],
   "source": [
    "data['PROPERTYSQFT1000'] = data['PROPERTYSQFT'].apply(lambda x: x//1000)\n",
    "data['PROPERTYSQFT1000'].value_counts()\n"
   ],
   "metadata": {
    "id": "6f4a5e814ced4a07",
    "outputId": "d37c71d0-7948-4f8e-f472-68c0d5b3d48b",
    "colab": {
     "base_uri": "https://localhost:8080/"
    },
    "ExecuteTime": {
     "end_time": "2024-03-28T22:27:51.321396Z",
     "start_time": "2024-03-28T22:27:51.310522Z"
    }
   },
   "id": "6f4a5e814ced4a07"
  },
  {
   "cell_type": "code",
   "execution_count": null,
   "outputs": [],
   "source": [
    "data = data[(data['BATH'] >= 0) & (data['BATH'] <= 10)]\n",
    "data = data[(data['BEDS'] >= 0) & (data['BEDS'] <= 12)]\n",
    "data['BATH'] = data['BATH'].apply(lambda x: x if float.is_integer(x) else int(x))\n",
    "data = data[(data['PROPERTYSQFT1000'] >= 0) & (data['PROPERTYSQFT1000'] <= 8)]\n",
    "\n",
    "data['PROPERTYSQFT'] = data['PROPERTYSQFT'].round(2)"
   ],
   "metadata": {
    "id": "71f3a5434a8eb2b4",
    "ExecuteTime": {
     "start_time": "2024-03-28T22:27:51.313139Z"
    }
   },
   "id": "71f3a5434a8eb2b4"
  },
  {
   "cell_type": "markdown",
   "source": [
    "Cleaning adresses"
   ],
   "metadata": {
    "collapsed": false,
    "id": "161fd490c0807e78"
   },
   "id": "161fd490c0807e78"
  },
  {
   "cell_type": "code",
   "execution_count": null,
   "outputs": [],
   "source": [
    "data_api = data.copy()"
   ],
   "metadata": {
    "id": "1696f8240861da40",
    "ExecuteTime": {
     "start_time": "2024-03-28T22:27:51.315741Z"
    }
   },
   "id": "1696f8240861da40"
  },
  {
   "cell_type": "markdown",
   "source": [
    "Usunięcie kolumny „MAIN ADDRESS”, ponieważ jest połączeniem kolumn „ADRESS” i „STATE”.\n"
   ],
   "metadata": {
    "id": "VgBvkCS52gA8"
   },
   "id": "VgBvkCS52gA8"
  },
  {
   "cell_type": "code",
   "execution_count": null,
   "outputs": [],
   "source": [
    "(data[\"ADDRESS\"] + data[\"STATE\"] == data[\"MAIN_ADDRESS\"]).unique()\n",
    "data.drop(\"MAIN_ADDRESS\", axis=1, inplace=True)"
   ],
   "metadata": {
    "id": "c032d96d2a561ce2",
    "ExecuteTime": {
     "start_time": "2024-03-28T22:27:51.318260Z"
    }
   },
   "id": "c032d96d2a561ce2"
  },
  {
   "cell_type": "markdown",
   "source": [
    "Utworzenie słownika „dictLocality”, który mapuje nazwy hrabstw na nazwy dzielnic w Nowym Jorku. \n",
    "\n",
    "Stworzenie listy „listOfBoroughs” zawierającej nazwy dzielnic (wartości powyżej wspomnianego słownika)."
   ],
   "metadata": {
    "collapsed": false
   },
   "id": "5c9480b02a3cbf91"
  },
  {
   "cell_type": "code",
   "execution_count": null,
   "outputs": [],
   "source": [
    "dictLocality = {\"new york county\": \"manhattan\",  \"kings county\":\"brooklyn\",\"bronx county\":\"the bronx\", \"richmond county\": \"staten island\", \"queens county\":\"queens\"}\n",
    "listOfBoroughs = list(dictLocality.values())"
   ],
   "metadata": {
    "id": "e9f7dc69e7cee804",
    "ExecuteTime": {
     "start_time": "2024-03-28T22:27:51.320846Z"
    }
   },
   "id": "e9f7dc69e7cee804"
  },
  {
   "cell_type": "markdown",
   "source": [
    "Zamieniamy wartości wystepujace jako klucze w słowniku na odpowiadające im wartości we wszystkich kolumnach."
   ],
   "metadata": {
    "collapsed": false
   },
   "id": "d9ac0f06977ff04c"
  },
  {
   "cell_type": "code",
   "execution_count": null,
   "outputs": [],
   "source": [
    "for c in list(data.columns):\n",
    "  for i in list(dictLocality.keys()):\n",
    "    data[c] = data[c].astype(str).str.replace(i, dictLocality[i])"
   ],
   "metadata": {
    "id": "d006256eccffe2f5",
    "ExecuteTime": {
     "start_time": "2024-03-28T22:27:51.323450Z"
    }
   },
   "id": "d006256eccffe2f5"
  },
  {
   "cell_type": "code",
   "execution_count": null,
   "outputs": [],
   "source": [
    "# Słownik mapujący skrócone i niepoprawne nazwy stanów i dzielnic na ich poprawne nazwy\n",
    "state_replacements = {\n",
    "    'nyc': 'new york',\n",
    "    'ny': 'new york',\n",
    "    'new yorkc': 'new york',\n",
    "    'new york city': 'new york',\n",
    "    r'kew gardens hill(?!s)': 'kew garden hills',\n",
    "    r'kew gardens(?! hills)': 'kew garden hills',\n",
    "    'kew gardens hills': 'kew garden hills',\n",
    "    'kew gardens hillss': 'kew garden hills',\n",
    "    r'(?<!\\bthe\\s)bronx new york': 'the bronx',\n",
    "    'queens village': 'queens',\n",
    "    r'(?<!\\bthe\\s)bronx ny': 'the bronx',\n",
    "    'brooklyn heights': 'brooklyn',\n",
    "    r'\\b(?<!\\bthe\\s)(?<!\\beast\\s)(?<!\\bwest\\s)bronx\\b': 'the bronx'\n",
    "}\n",
    "\n",
    "\n",
    "for col in [\"ADDRESS\", \"ADMINISTRATIVE_AREA_LEVEL_2\", \"STATE\", \"LOCALITY\", \"SUBLOCALITY\", \"STREET_NAME\", \"LONG_NAME\", \"FORMATTED_ADDRESS\"]:\n",
    "  for i in list(state_replacements.keys()):\n",
    "    data[col] = data[col].str.replace(i, state_replacements[i], regex=True)"
   ],
   "metadata": {
    "id": "1987c004edc96a69",
    "ExecuteTime": {
     "start_time": "2024-03-28T22:27:51.326298Z"
    }
   },
   "id": "1987c004edc96a69"
  },
  {
   "cell_type": "code",
   "source": [
    "print(data[\"LOCALITY\"].unique())\n",
    "# Przypisanie wartości z kolumny \"LOCALITY\" do kolumny \"BOROUGH\", jeśli wartość znajduje się w liście istOfBoroughs.\n",
    "data.loc[data[\"LOCALITY\"].isin(listOfBoroughs), \"BOROUGH\"] = data['LOCALITY']\n",
    "print(data[\"BOROUGH\"].unique())\n",
    "# Jeżeli wartość w kolumnie LOCALITY to flatbush to przepisujemy tą wartość do kolumny NEIGHBOURHOOD\n",
    "data.loc[data[\"LOCALITY\"] == \"flatbush\", \"NEIGHBOURHOOD\"] = data['LOCALITY']"
   ],
   "metadata": {
    "id": "cuNHupmU5s2v",
    "ExecuteTime": {
     "end_time": "2024-03-28T22:27:51.453119Z",
     "start_time": "2024-03-28T22:27:51.329024Z"
    }
   },
   "id": "cuNHupmU5s2v",
   "execution_count": null,
   "outputs": []
  },
  {
   "cell_type": "code",
   "source": [
    "print(data[\"SUBLOCALITY\"].unique())\n",
    "# Przepisanie wartości z SUBLOCALITY do kolumny BOROUGH, jeśli wartość jest zawarta w listOfBoroughs oraz komórka w kolumnie BOROUGH jest pusta.\n",
    "data.loc[(data[\"SUBLOCALITY\"].isin(listOfBoroughs)) &(data[\"BOROUGH\"].isna()) , \"BOROUGH\"] = data[\"SUBLOCALITY\"]\n",
    "\n",
    "# Jeżeli kolumna SUBLOCALITY zawiera \"snyder avenue\" to przepisujemy tą wartość do kolumny STREET.\n",
    "data.loc[data[\"SUBLOCALITY\"] == \"snyder avenue\" , \"STREET\"] = data[\"SUBLOCALITY\"]\n",
    "\n",
    "# Jeśli wartość w kolumnie SUBLOCALITY nie znajduje się w listOfBoroughs, nie jest równa \"new york\" ani \"snyder avenue\" to przypisujemy tą wartość do odpowiadającej komórki w kolumnie NEIGHBOURHOOD.\n",
    "data.loc[(data[\"SUBLOCALITY\"].isin(list(filter(lambda x: x not in listOfBoroughs, list(data[\"SUBLOCALITY\"]))))) & (~(data[\"SUBLOCALITY\"].isin([\"new york\", \"snyder avenue\"]))) , \"NEIGHBOURHOOD\"] = data[\"SUBLOCALITY\"]"
   ],
   "metadata": {
    "id": "BAxl01z06XOi",
    "outputId": "c485e3ed-13c8-403a-dafa-c3dc8b5ba1aa",
    "colab": {
     "base_uri": "https://localhost:8080/",
     "height": 878
    },
    "ExecuteTime": {
     "start_time": "2024-03-28T22:27:51.331732Z"
    }
   },
   "id": "BAxl01z06XOi",
   "execution_count": null,
   "outputs": []
  },
  {
   "cell_type": "code",
   "execution_count": null,
   "outputs": [],
   "source": [
    "data"
   ],
   "metadata": {
    "collapsed": false,
    "ExecuteTime": {
     "start_time": "2024-03-28T22:27:51.335721Z"
    }
   },
   "id": "686b7dbd6ba14637"
  },
  {
   "cell_type": "code",
   "execution_count": null,
   "outputs": [],
   "source": [
    "print(data[\"ADMINISTRATIVE_AREA_LEVEL_2\"].unique())\n",
    "#Jeśli wartość z kolumny ADMINISTRATIVE_AREA_LEVEL_2 znajduje się w listOfBoroughs, a kolumna \"BOROUGH\" jest pusta to uzupełniamy kolumne Borough sprawdzaną wartością.\n",
    "data.loc[(data[\"ADMINISTRATIVE_AREA_LEVEL_2\"].isin(listOfBoroughs)) &(data[\"BOROUGH\"].isna()) , \"BOROUGH\"] = data[\"ADMINISTRATIVE_AREA_LEVEL_2\"]\n",
    "\n",
    "# Uzupełnienie kolumny POSTCODE wartościami z kolumny ADMINISTRATIVE_AREA_LEVEL_2, jeśli nie są zawarte w listOfBoroughs, nie są równe \"new york\" ani \"united states\".\n",
    "data.loc[(data[\"ADMINISTRATIVE_AREA_LEVEL_2\"].isin(list(filter(lambda x: x not in listOfBoroughs, list(data[\"ADMINISTRATIVE_AREA_LEVEL_2\"]))))) & (data[\"ADMINISTRATIVE_AREA_LEVEL_2\"] != \"new york\") & (data[\"ADMINISTRATIVE_AREA_LEVEL_2\"] != \"united states\") , \"POSTCODE\"] = data[\"ADMINISTRATIVE_AREA_LEVEL_2\"]"
   ],
   "metadata": {
    "id": "f386c487ead06f08",
    "ExecuteTime": {
     "start_time": "2024-03-28T22:27:51.339558Z"
    }
   },
   "id": "f386c487ead06f08"
  },
  {
   "cell_type": "code",
   "execution_count": null,
   "outputs": [],
   "source": [
    "data[\"STREET_NAME\"].unique()"
   ],
   "metadata": {
    "id": "1871aff7b4b115a0",
    "outputId": "605dab11-7239-447b-fa78-e8343567ba61",
    "colab": {
     "base_uri": "https://localhost:8080/"
    },
    "ExecuteTime": {
     "start_time": "2024-03-28T22:27:51.342465Z"
    }
   },
   "id": "1871aff7b4b115a0"
  },
  {
   "cell_type": "code",
   "execution_count": null,
   "outputs": [],
   "source": [
    "len(data[\"STREET_NAME\"].unique())"
   ],
   "metadata": {
    "collapsed": false,
    "ExecuteTime": {
     "start_time": "2024-03-28T22:27:51.345679Z"
    }
   },
   "id": "7f6e5af1cbccb48"
  },
  {
   "cell_type": "markdown",
   "source": [
    "Utworzenie słownika z rozwinięciami skrótów i zamiana wartości z kolumny na wartości ze słownika. Nazwy ulicy zostają dodane do kolumny \"streets\", jeśli zawierają jedno ze słów kluczowych.\n",
    "Przypisanie wartości z kolumn do kolumn dla wierszy, w których wartość znajduje się na liście i jednocześnie wartość w kolumnie jest pusta np. kolumny \"STREET_NAME\" i \"BOROUGH\", \"STREET_NAME\" i \"NEIGHBOURHOOD\", \"STREET_NAME\" i \"STREET\" .\n",
    "Uzupełnienie brakujących informacji w w kolumnach \"POSTCODE\", \"BOROUGH\" i \"NEIGHBOURHOOD\". Przypisanie wartości do konkretnych kolumn."
   ],
   "metadata": {
    "collapsed": false
   },
   "id": "EziedBRKbNCU"
  },
  {
   "cell_type": "code",
   "execution_count": null,
   "outputs": [],
   "source": [
    "addresses_shortcut = {\n",
    "        ' st': ' street',\n",
    "        ' ave': ' avenue',\n",
    "        ' rd': ' road',\n",
    "        ' blvd': ' boulevard',\n",
    "        ' dr': ' drive',\n",
    "        ' pkwy': ' parkway',\n",
    "        ' ct': ' court',\n",
    "        ' ln': ' lane',\n",
    "        ' pl': ' place',\n",
    "        ' sq': ' square',\n",
    "        ' apt': '',\n",
    "        ' ste': '',\n",
    "        ' num': ''\n",
    "    }\n",
    "for c in [\"STREET_NAME\", \"ADDRESS\", \"STATE\", \"LONG_NAME\", \"FORMATTED_ADDRESS\"]:\n",
    "  for add in addresses_shortcut.keys():\n",
    "    mask = data[c].str.contains(fr'\\b{add}\\b')\n",
    "    data.loc[mask, c] = data.loc[mask, c].str.replace(add, addresses_shortcut[add])\n",
    "\n",
    "streets = []\n",
    "keyWords = [\"street\", \"parkway\", \"avenue\", \"drive\", \"road\"]\n",
    "for street_name in data[\"STREET_NAME\"]:\n",
    "    for keyword in keyWords:\n",
    "        if keyword in street_name:\n",
    "            streets.append(street_name)\n",
    "\n",
    "streets"
   ],
   "metadata": {
    "collapsed": false,
    "ExecuteTime": {
     "start_time": "2024-03-28T22:27:51.348671Z"
    }
   },
   "id": "cba2f678ebd4526e"
  },
  {
   "cell_type": "code",
   "execution_count": null,
   "outputs": [],
   "source": [
    "# Jeśli wartość z kolumny STREET_NAME znajduje się w listOfBoroughs, a kolumna BOROUGH jest pusta, uzupełniamy kolumnę BOROUGH tą wartością.\n",
    "data.loc[(data[\"STREET_NAME\"].isin(listOfBoroughs))& (data[\"BOROUGH\"].isna()), \"BOROUGH\"] = data[\"STREET_NAME\"]\n",
    "\n",
    "# Uzupełnienie pustych wartości w kolumnie NEIGHBOURHOOD wartością z kolumny STREET_NAME, jeśli nie jest zawarta w liście streets, nie jest równa \"new york\", nie należy do listOfBoroughs.\n",
    "data.loc[(data[\"STREET_NAME\"].isin(list(filter(lambda x: (x not in streets) & (x != \"new york\") & (x not in listOfBoroughs), list(data[\"STREET_NAME\"]))))) & (data[\"NEIGHBOURHOOD\"].isna()), \"NEIGHBOURHOOD\"] = data[\"STREET_NAME\"]\n",
    "data.loc[(data[\"STREET_NAME\"].isin(streets)) & (data[\"STREET\"].isna()), \"STREET\"] = data[\"STREET_NAME\"]"
   ],
   "metadata": {
    "id": "3c132e6447554206",
    "ExecuteTime": {
     "start_time": "2024-03-28T22:27:51.352516Z"
    }
   },
   "id": "3c132e6447554206"
  },
  {
   "cell_type": "code",
   "execution_count": null,
   "outputs": [],
   "source": [
    "print(data[\"STATE\"].unique())\n",
    "# Uzupełnienie pustych wartości w kolumnie POSTCODE wartościami z kolumny STATE.\n",
    "data.loc[data[\"POSTCODE\"].isna(), \"POSTCODE\"] = data[\"STATE\"].str.slice(-5)\n",
    "\n",
    "# Jeżeli BOROUGH jest pusta to weź wartość z kolumny STATE po przecinku - pod warunkiem że należy do listOfBoroughs\n",
    "data.loc[(data[\"BOROUGH\"].isna()) &(data[\"STATE\"].str.split(\", \").str.get(0).isin(listOfBoroughs)) , \"BOROUGH\"] = data[\"STATE\"].str.split(\", \").str.get(0)\n",
    "\n",
    "# Jeżeli NEIGHBOURHOOD jest pusta to weź wartość z kolumny STATE po przecinku - pod warunkiem że nie należy do listOfBoroughs ani nie jest rowna \"new york\", \"ny\", \"nyc\"\n",
    "data.loc[(data[\"NEIGHBOURHOOD\"].isna()) & (~(data[\"STATE\"].str.split(\", \").str.get(0).isin(listOfBoroughs))) &(~(data[\"STATE\"].str.split(\", \").str.get(0).isin([\"new york\", \"ny\", \"nyc\" ]))) , \"NEIGHBOURHOOD\"] = data[\"STATE\"].str.split(\", \").str.get(0)"
   ],
   "metadata": {
    "id": "2ef45ceba34ceb9f",
    "ExecuteTime": {
     "start_time": "2024-03-28T22:27:51.356544Z"
    }
   },
   "id": "2ef45ceba34ceb9f"
  },
  {
   "cell_type": "code",
   "execution_count": null,
   "outputs": [],
   "source": [
    "data.loc[data[\"POSTCODE\"].isna(), \"POSTCODE\"] = data[\"FORMATTED_ADDRESS\"].str.split(\", \").str.get(-2).str.slice(-5)\n",
    "data.loc[(data[\"BOROUGH\"].isna()) & (data[\"FORMATTED_ADDRESS\"].str.split(\", \").str.get(-3).isin(listOfBoroughs)), \"BOROUGH\"] = data[\"FORMATTED_ADDRESS\"].str.split(\", \").str.get(-3)\n",
    "data.loc[(data[\"NEIGHBOURHOOD\"].isna()) & (~(data[\"FORMATTED_ADDRESS\"].str.split(\", \").str.get(-3).isin(listOfBoroughs))) & (~(data[\"FORMATTED_ADDRESS\"].str.split(\", \").str.get(-3).isin([\"new york\"]))), \"NEIGHBOURHOOD\"] = data[\"FORMATTED_ADDRESS\"].str.split(\", \").str.get(-3)"
   ],
   "metadata": {
    "id": "ebb61e2ccdddb399",
    "ExecuteTime": {
     "start_time": "2024-03-28T22:27:51.359388Z"
    }
   },
   "id": "ebb61e2ccdddb399"
  },
  {
   "cell_type": "code",
   "execution_count": null,
   "outputs": [],
   "source": [
    "data.loc[data[\"FORMATTED_ADDRESS\"].str.split(\", \").str.get(-4).str.split().str.get(0).str.replace(\"-\",\"\").str.contains('\\d'), \"HOUSE_NUMBER\"] = data[\"FORMATTED_ADDRESS\"].str.split(\", \").str.get(-4).str.split().str.get(0)\n",
    "data.loc[(data[\"STREET\"].isna()) & (data[\"FORMATTED_ADDRESS\"].str.split(\", \").str.get(-4).str.split().str.get(0).str.replace(\"-\",\"\").str.contains('\\d')), \"STREET\"] = data[\"FORMATTED_ADDRESS\"].str.split(\", \").str.get(-4).str.split().str.slice(start=1).str.join(\" \")\n",
    "data.loc[(data[\"STREET\"].isna()) & (~(data[\"FORMATTED_ADDRESS\"].str.split(\", \").str.get(-4).str.split().str.get(0).str.replace(\"-\",\"\").str.contains('\\d'))), \"STREET\"] = data[\"FORMATTED_ADDRESS\"].str.split(\", \").str.get(-4)\n"
   ],
   "metadata": {
    "id": "7f2fcfc4fda1644c",
    "ExecuteTime": {
     "start_time": "2024-03-28T22:27:51.363521Z"
    }
   },
   "id": "7f2fcfc4fda1644c"
  },
  {
   "cell_type": "code",
   "execution_count": null,
   "outputs": [],
   "source": [
    "data.loc[(data[\"LONG_NAME\"].str.replace(\"-\", \"\").str.isdigit()), \"HOUSE_NUMBER\"] = data[\"LONG_NAME\"]\n",
    "data.loc[(~(data[\"LONG_NAME\"].str.replace(\"-\", \"\").str.isdigit())) & (data[\"STREET\"].isna()) & (data[\"LONG_NAME\"] != \"parking lot\"), \"STREET\"] = data[\"LONG_NAME\"]"
   ],
   "metadata": {
    "id": "8c51b71ba200baff",
    "ExecuteTime": {
     "start_time": "2024-03-28T22:27:51.366574Z"
    }
   },
   "id": "8c51b71ba200baff"
  },
  {
   "cell_type": "code",
   "execution_count": null,
   "outputs": [],
   "source": [
    "data.loc[(data[\"ADDRESS\"].str.split(\" \").str.get(0).str.replace(\"-\", \"\").str.isdigit()) & (data[\"HOUSE_NUMBER\"].isna()), \"HOUSE_NUMBER\"] = data[\"ADDRESS\"].str.split(\" \").str.get(0).str.split().str.get(0)"
   ],
   "metadata": {
    "id": "33bf974586917ed9",
    "ExecuteTime": {
     "start_time": "2024-03-28T22:27:51.371522Z"
    }
   },
   "id": "33bf974586917ed9"
  },
  {
   "cell_type": "code",
   "execution_count": null,
   "outputs": [],
   "source": [
    "data.loc[data[\"ADDRESS\"] == \"98A-98G Discala Ln\", \"HOUSE_NUMBER\"] = \"98A-98G\""
   ],
   "metadata": {
    "id": "615d0aa06173fd96",
    "ExecuteTime": {
     "start_time": "2024-03-28T22:27:51.374263Z"
    }
   },
   "id": "615d0aa06173fd96"
  },
  {
   "cell_type": "markdown",
   "source": [
    "Zamiana skrótów kierunków na pełne nazwy, usunięcie zbędnych znaków w nazwach ulic, zamiana liter na małe, usunięcie skrótów i pojedynczych liter w nazwach ulic.\n",
    "Usunięcie części kolumn i duplikatów."
   ],
   "metadata": {
    "id": "BjrzQaDaiVrx"
   },
   "id": "BjrzQaDaiVrx"
  },
  {
   "cell_type": "code",
   "execution_count": null,
   "outputs": [],
   "source": [
    "import re\n",
    "#Zamiana skrótów na pełne nazwy\n",
    "data.loc[data[\"STREET\"].str.contains(r'\\bE\\b'), \"STREET\"] = data[\"STREET\"].str.replace(\"e\", \"east\")\n",
    "data.loc[data[\"STREET\"].str.contains(r'\\bW\\b'), \"STREET\"] = data[\"STREET\"].str.replace(\"w\", \"west\")\n",
    "data.loc[data[\"STREET\"].str.contains(r'\\bS\\b'), \"STREET\"] = data[\"STREET\"].str.replace(\"s\", \"south\")\n",
    "data.loc[data[\"STREET\"].str.contains(r'\\bN\\b'), \"STREET\"] = data[\"STREET\"].str.replace(\"n\", \"north\")\n",
    "\n",
    "#Czyszczenie nazw ulic\n",
    "data.loc[data[\"STREET\"].str.contains(r' #.*'), \"STREET\"] = data[\"STREET\"].str.replace(r' #.*', \"\")\n",
    "data[\"STREET\"]= data[\"STREET\"].str.replace(\".\", \"\")\n",
    "data[\"STREET\"]= data[\"STREET\"].str.lower()\n",
    "data[\"STREET\"].unique()\n",
    "\n",
    "def clean_street_names(street_name):\n",
    "\n",
    "    parts = street_name.split(' ')\n",
    "    cleaned_parts = [part for part in parts if re.match(r'^\\d*(?:th|st|rd|nd)?$', part) or not any(c.isdigit() for c in part) ]\n",
    "    cleaned_parts = [part for part in cleaned_parts if not part.isdigit() and len(part) != 1]\n",
    "\n",
    "    last_part = cleaned_parts[-1] if cleaned_parts else None\n",
    "    if last_part and any(character.isdigit() for character in last_part):\n",
    "        cleaned_parts.remove(last_part)\n",
    "\n",
    "    return ' '.join(cleaned_parts)\n",
    "\n",
    "data['STREET'] = data['STREET'].apply(clean_street_names)\n",
    "\n",
    "data['STREET']\n"
   ],
   "metadata": {
    "id": "b86774ff37836fd8",
    "outputId": "dcb6d36c-8836-46f2-b464-01bba26af65e",
    "colab": {
     "base_uri": "https://localhost:8080/"
    },
    "ExecuteTime": {
     "start_time": "2024-03-28T22:27:51.377135Z"
    }
   },
   "id": "b86774ff37836fd8"
  },
  {
   "cell_type": "code",
   "execution_count": null,
   "outputs": [],
   "source": [
    "data.columns"
   ],
   "metadata": {
    "id": "68e05e82b4d98ebb",
    "outputId": "fcc31438-3fc1-4961-cd32-378a1d195220",
    "colab": {
     "base_uri": "https://localhost:8080/"
    },
    "ExecuteTime": {
     "start_time": "2024-03-28T22:27:51.380230Z"
    }
   },
   "id": "68e05e82b4d98ebb"
  },
  {
   "cell_type": "code",
   "execution_count": null,
   "outputs": [],
   "source": [
    "data.drop(columns = ['BROKERTITLE',\n",
    "       'ADDRESS', 'STATE', 'ADMINISTRATIVE_AREA_LEVEL_2', 'LOCALITY',\n",
    "       'SUBLOCALITY', 'STREET_NAME', 'LONG_NAME', 'FORMATTED_ADDRESS',\n",
    "       'PROPERTYSQFT1000'], inplace=True)"
   ],
   "metadata": {
    "id": "71ad884542dc77c8",
    "ExecuteTime": {
     "start_time": "2024-03-28T22:27:51.383099Z"
    }
   },
   "id": "71ad884542dc77c8"
  },
  {
   "cell_type": "code",
   "execution_count": null,
   "outputs": [],
   "source": [
    "category_columns = list(set(data.columns) - set(numeric_columns))"
   ],
   "metadata": {
    "id": "540500b1a75ccdcc",
    "ExecuteTime": {
     "start_time": "2024-03-28T22:27:51.387012Z"
    }
   },
   "id": "540500b1a75ccdcc"
  },
  {
   "cell_type": "code",
   "execution_count": null,
   "outputs": [],
   "source": [
    "for column in category_columns:\n",
    "    data[column] = data[column].str.lower()"
   ],
   "metadata": {
    "id": "5bac7dd113384b0d",
    "ExecuteTime": {
     "start_time": "2024-03-28T22:27:51.390174Z"
    }
   },
   "id": "5bac7dd113384b0d"
  },
  {
   "cell_type": "code",
   "execution_count": null,
   "outputs": [],
   "source": [
    "data.columns"
   ],
   "metadata": {
    "id": "6deb6d4c218cd46c",
    "outputId": "ae8ada13-c6a9-4fdf-fbdd-18b09742f106",
    "colab": {
     "base_uri": "https://localhost:8080/"
    },
    "ExecuteTime": {
     "start_time": "2024-03-28T22:27:51.392223Z"
    }
   },
   "id": "6deb6d4c218cd46c"
  },
  {
   "cell_type": "code",
   "execution_count": null,
   "outputs": [],
   "source": [
    "print('Duplicated rows: ', data.duplicated().sum())\n",
    "data.drop_duplicates(inplace=True)"
   ],
   "metadata": {
    "id": "6d272e7f1768e9b9",
    "outputId": "85199a8e-2c31-4b77-cd4a-35b59ff0d761",
    "colab": {
     "base_uri": "https://localhost:8080/"
    },
    "ExecuteTime": {
     "start_time": "2024-03-28T22:27:51.394461Z"
    }
   },
   "id": "6d272e7f1768e9b9"
  },
  {
   "cell_type": "code",
   "execution_count": null,
   "outputs": [],
   "source": [
    "data.to_excel('data.xlsx')"
   ],
   "metadata": {
    "id": "72d210a4f9c19092",
    "ExecuteTime": {
     "start_time": "2024-03-28T22:27:51.396468Z"
    }
   },
   "id": "72d210a4f9c19092"
  },
  {
   "cell_type": "markdown",
   "source": [
    "GEOPY\n",
    "Pobieranie danych adresowych z geolokatora na podstawie współrzędnych geograficznych w celu uzupełnienia danych w kolumnie neighbourhood."
   ],
   "metadata": {
    "collapsed": false
   },
   "id": "8cbc1f83e4bc797"
  },
  {
   "cell_type": "code",
   "execution_count": null,
   "outputs": [],
   "source": [
    "#kod został zakomentowany aby dane nie zostaly utracone\n",
    "\"\"\"from geopy.geocoders import Nominatim\n",
    "import pandas as pd\n",
    "\n",
    "data_api = pd.read_excel('data.xlsx')\n",
    "\n",
    "data_api['API_ADDRESS_NAME'] = None\n",
    "data_api['API_ADDRESS'] = None\n",
    "api_keys = set()\n",
    "\n",
    "num = 0\n",
    "geolocator = Nominatim(user_agent=\"key_for_library1\")\n",
    "\n",
    "api_keys = set()\n",
    "try:\n",
    "    # Pętla służąca do pobrania danych dla każdego wiersza w ramce.\n",
    "    for ind, row in data_api.iterrows():\n",
    "        latitude = row['LATITUDE']\n",
    "        longitude = row['LONGITUDE']\n",
    "        address = geolocator.reverse(f\"{latitude},{longitude}\")\n",
    "        data_api.at[ind, 'API_ADDRESS_NAME'] = address.raw['display_name']\n",
    "        data_api.at[ind, 'API_ADDRESS'] = address.raw\n",
    "        keys = set(address.raw['address'].keys())\n",
    "        api_keys.update(keys)\n",
    "        print(ind)\n",
    "except Exception as e:\n",
    "    data_api.to_excel('api.xlsx')\n",
    "\n",
    "data_api.to_excel('api.xlsx')\n",
    "\n",
    "\n",
    "data_api = pd.read_excel('api.xlsx')\n",
    "\n",
    "geolocator = Nominatim(user_agent=\"key_for_library2\")\n",
    "\n",
    "try:\n",
    "    # Pętla służąca do pobrania danych dla każdego wiersza w ramce.\n",
    "    for ind, row in data_api.iterrows():\n",
    "        if ind>= 2010:\n",
    "            latitude = row['LATITUDE']\n",
    "            longitude = row['LONGITUDE']\n",
    "            address = geolocator.reverse(f\"{latitude},{longitude}\")\n",
    "            data_api.at[ind, 'API_ADDRESS_NAME'] = address.raw['display_name']\n",
    "            data_api.at[ind, 'API_ADDRESS'] = address.raw\n",
    "            keys = set(address.raw['address'].keys())\n",
    "            api_keys.update(keys)\n",
    "            print(ind)\n",
    "except Exception as e:\n",
    "    data_api.to_excel('api_2.xlsx')\n",
    "\n",
    "data_api.to_excel('api_2.xlsx')\n",
    "print('Ilość kluczy: ',len(api_keys))\n",
    "print('Klucze: ',api_keys)\n",
    "\"\"\""
   ],
   "metadata": {
    "collapsed": false,
    "ExecuteTime": {
     "start_time": "2024-03-28T22:27:51.398465Z"
    }
   },
   "id": "3c7cfa217b0bccfa"
  },
  {
   "cell_type": "code",
   "execution_count": 1291,
   "outputs": [],
   "source": [
    "import pandas as pd\n",
    "import json\n",
    "\n",
    "api_keys = ['neighbourhood', 'postcode', 'road', 'house_number']\n",
    "\n",
    "data = pd.read_excel('api_2.xlsx')\n",
    "\n",
    "#strukturyzowanie slownika danych uzyskanych dzięki API\n",
    "for key in api_keys:\n",
    "    for ind in data.index:\n",
    "        try:\n",
    "            row = data.at[ind, 'API_ADDRESS']\n",
    "            row = str(row).replace(\"'\", \"\\\"\")\n",
    "            row = json.loads(row)\n",
    "            keys = list(row['address'].keys())\n",
    "            if key in keys:\n",
    "                data.at[ind, key] = row['address'][key].lower()\n",
    "            else:\n",
    "                data.at[ind, key] = None\n",
    "        except Exception as err:\n",
    "            continue\n",
    "data['NEIGHBOURHOOD'] = data['NEIGHBOURHOOD'].fillna(data['neighbourhood'])\n",
    "data['NEIGHBOURHOOD'] = data['NEIGHBOURHOOD'].str.lower()\n",
    "data = data[['TYPE', 'PRICE', 'BEDS', 'BATH', 'PROPERTYSQFT', 'LATITUDE', 'LONGITUDE', 'BROKER', 'ANNOUNCEMENT_TYPE', 'BOROUGH', 'STREET', 'POSTCODE', 'HOUSE_NUMBER', 'NEIGHBOURHOOD']]\n",
    "\n",
    "data.to_excel('cat_api.xlsx')"
   ],
   "metadata": {
    "collapsed": false,
    "ExecuteTime": {
     "end_time": "2024-03-28T22:27:58.784930Z",
     "start_time": "2024-03-28T22:27:54.787038Z"
    }
   },
   "id": "1dbae953dc5cf86e"
  },
  {
   "cell_type": "code",
   "execution_count": 1292,
   "outputs": [],
   "source": [
    "#Wypełnienie braków według nabliższej lokalizacji obiektu\n",
    "grouped_df = data.groupby('NEIGHBOURHOOD').agg({'LATITUDE': ['mean'],\n",
    "                                      'LONGITUDE': ['mean']})\n",
    "\n",
    "neighbourhoods = list(set(data['NEIGHBOURHOOD']))\n",
    "\n",
    "replace_with_closest = list(data[data['NEIGHBOURHOOD']==None].index)\n",
    "for ind in replace_with_closest:\n",
    "    x1, y1 = data.loc[ind,'LONGITUDE'], data.loc[ind,'LATITUDE']\n",
    "    closest_neig,distance = None,1\n",
    "    for neig in neighbourhoods:\n",
    "        x2, y2 = grouped_df.loc[neig, ('LONGITUDE', 'mean')], grouped_df.loc[neig, ('LATITUDE', 'mean')]\n",
    "        distance_check = abs(x1-x2) + abs(y1-y2)\n",
    "        if distance_check<distance:\n",
    "            distance = distance_check\n",
    "            closest_neig = neig\n",
    "    data.loc[ind,'NEIGHBOURHOOD'] = neig"
   ],
   "metadata": {
    "collapsed": false,
    "ExecuteTime": {
     "end_time": "2024-03-28T22:27:58.802566Z",
     "start_time": "2024-03-28T22:27:58.789658Z"
    }
   },
   "id": "9cdfde8104b5f3e9"
  },
  {
   "cell_type": "code",
   "execution_count": 1293,
   "outputs": [
    {
     "data": {
      "text/plain": "NEIGHBOURHOOD\nflushing                       202\nmanhattan community board 8    180\njamaica                         99\nforest hills                    88\nmanhattan community board 7     80\n                              ... \nnew brighton                     1\nuniversity heights               1\nkips bay                         1\nbelle harbor                     1\nchinatown                        1\nName: count, Length: 282, dtype: int64"
     },
     "execution_count": 1293,
     "metadata": {},
     "output_type": "execute_result"
    }
   ],
   "source": [
    "data['NEIGHBOURHOOD'].value_counts()"
   ],
   "metadata": {
    "collapsed": false,
    "ExecuteTime": {
     "end_time": "2024-03-28T22:28:01.559956Z",
     "start_time": "2024-03-28T22:28:01.512951Z"
    }
   },
   "id": "95d9b2d5fa990c05"
  },
  {
   "cell_type": "code",
   "execution_count": 1294,
   "outputs": [],
   "source": [
    "data['NEIGHBOURHOOD'] = data['NEIGHBOURHOOD'].fillna('')\n",
    "data['NEIGHBOURHOOD'] = data['NEIGHBOURHOOD'].apply(lambda x: x if all(borough not in x for borough in listOfBoroughs) and 'bronx' not in x else None)"
   ],
   "metadata": {
    "collapsed": false,
    "ExecuteTime": {
     "end_time": "2024-03-28T22:28:03.438656Z",
     "start_time": "2024-03-28T22:28:03.409777Z"
    }
   },
   "id": "2de14f7d07590815"
  },
  {
   "cell_type": "code",
   "execution_count": 1295,
   "outputs": [
    {
     "data": {
      "text/plain": "NEIGHBOURHOOD\n                     658\nflushing             202\njamaica               99\nforest hills          88\nstreetaten island     73\n                    ... \nvinegar hill           1\nbreezy point           1\nparkville              1\npeck slip              1\nchinatown              1\nName: count, Length: 265, dtype: int64"
     },
     "execution_count": 1295,
     "metadata": {},
     "output_type": "execute_result"
    }
   ],
   "source": [
    "data['NEIGHBOURHOOD'].value_counts()"
   ],
   "metadata": {
    "collapsed": false,
    "ExecuteTime": {
     "end_time": "2024-03-28T22:28:06.398660Z",
     "start_time": "2024-03-28T22:28:06.363390Z"
    }
   },
   "id": "6d2689f1952ee467"
  },
  {
   "cell_type": "code",
   "execution_count": null,
   "outputs": [],
   "source": [
    "data.isna().sum()"
   ],
   "metadata": {
    "collapsed": false,
    "ExecuteTime": {
     "start_time": "2024-03-28T22:27:51.412122Z"
    }
   },
   "id": "fca7775ded549e31"
  },
  {
   "cell_type": "code",
   "execution_count": null,
   "outputs": [],
   "source": [
    "category_columns = list(set(data.columns) - numeric_columns)\n",
    "numeric_columns = list(numeric_columns)\n",
    "data[list(category_columns)].nunique()"
   ],
   "metadata": {
    "id": "f2f36b08bcc451a6",
    "outputId": "aa5e0a6a-d79a-4feb-bc13-dfd6b9255972",
    "colab": {
     "base_uri": "https://localhost:8080/"
    },
    "ExecuteTime": {
     "start_time": "2024-03-28T22:27:51.414122Z"
    }
   },
   "id": "f2f36b08bcc451a6"
  },
  {
   "cell_type": "code",
   "execution_count": null,
   "outputs": [],
   "source": [
    "sns.heatmap(data[numeric_columns].corr(), annot=True, cmap='Spectral', linewidths=0.5,fmt=\".2f\", vmax=1, vmin=-1)"
   ],
   "metadata": {
    "id": "1c248ed1c1764d70",
    "outputId": "7081a157-c6f4-43e1-8911-de3333223a60",
    "colab": {
     "base_uri": "https://localhost:8080/",
     "height": 562
    },
    "ExecuteTime": {
     "start_time": "2024-03-28T22:27:51.415994Z"
    }
   },
   "id": "1c248ed1c1764d70"
  },
  {
   "cell_type": "code",
   "execution_count": null,
   "outputs": [],
   "source": [
    "data.to_excel('ssdata.xlsx')"
   ],
   "metadata": {
    "id": "771b4bb8218833a6",
    "ExecuteTime": {
     "start_time": "2024-03-28T22:27:51.418091Z"
    }
   },
   "id": "771b4bb8218833a6"
  },
  {
   "cell_type": "code",
   "execution_count": null,
   "outputs": [],
   "source": [
    "# Dopasowanie i przeskalowanie danych dla danej kolumny\n",
    "from sklearn.preprocessing import MinMaxScaler\n",
    "scaler = MinMaxScaler()\n",
    "numeric_columns.remove('PRICE')\n",
    "print(len(numeric_columns))\n",
    "\n",
    "mm_scalers = {}\n",
    "for column in numeric_columns:\n",
    "    mm_scalers[column] = MinMaxScaler()\n",
    "    data[column] = mm_scalers[column].fit_transform(data[column].values.reshape(-1, 1))"
   ],
   "metadata": {
    "id": "cbcb2c1df76b53f",
    "outputId": "498f4c3d-3c46-4697-eba4-02bd060fca38",
    "colab": {
     "base_uri": "https://localhost:8080/"
    },
    "ExecuteTime": {
     "start_time": "2024-03-28T22:27:51.419981Z"
    }
   },
   "id": "cbcb2c1df76b53f"
  },
  {
   "cell_type": "code",
   "execution_count": null,
   "outputs": [],
   "source": [
    "len(category_columns)"
   ],
   "metadata": {
    "id": "3f4dbd6cd177a049",
    "outputId": "b930ae5a-77a3-4aab-be77-9f08e25255a6",
    "colab": {
     "base_uri": "https://localhost:8080/"
    },
    "ExecuteTime": {
     "start_time": "2024-03-28T22:27:51.421865Z"
    }
   },
   "id": "3f4dbd6cd177a049"
  },
  {
   "cell_type": "code",
   "execution_count": null,
   "outputs": [],
   "source": [
    "len(data.columns)"
   ],
   "metadata": {
    "id": "30828da5b614e32b",
    "outputId": "aa4c1ca3-b948-4101-f78b-69d701d17ba8",
    "colab": {
     "base_uri": "https://localhost:8080/"
    },
    "ExecuteTime": {
     "start_time": "2024-03-28T22:27:51.423649Z"
    }
   },
   "id": "30828da5b614e32b"
  },
  {
   "cell_type": "code",
   "execution_count": null,
   "outputs": [],
   "source": [
    "#Zamiana kategorii na wartości liczbowe\n",
    "from sklearn.preprocessing import LabelEncoder\n",
    "label_encoders = {}\n",
    "for column in category_columns:\n",
    "    label_encoders[column] = LabelEncoder()\n",
    "    data[column] = label_encoders[column].fit_transform(data[column])"
   ],
   "metadata": {
    "id": "1482ab497f5cd258",
    "ExecuteTime": {
     "start_time": "2024-03-28T22:27:51.425495Z"
    }
   },
   "id": "1482ab497f5cd258"
  },
  {
   "cell_type": "code",
   "execution_count": null,
   "outputs": [],
   "source": [
    "for column in category_columns:\n",
    "    for class_index, class_name in enumerate(label_encoders[column].classes_):\n",
    "        print(f\"{class_name}: {class_index}\")"
   ],
   "metadata": {
    "id": "252b2ab028f331e6",
    "outputId": "4e19c854-634f-40f9-fb5f-690029f6156b",
    "colab": {
     "base_uri": "https://localhost:8080/"
    },
    "ExecuteTime": {
     "start_time": "2024-03-28T22:27:51.427141Z"
    }
   },
   "id": "252b2ab028f331e6"
  },
  {
   "cell_type": "code",
   "execution_count": null,
   "outputs": [],
   "source": [
    "plt.figure(figsize=(12, 10))\n",
    "sns.heatmap(data.corr(), annot=True, cmap='Spectral', linewidths=0.5,fmt=\".2f\", vmax=1, vmin=-1)"
   ],
   "metadata": {
    "id": "f89dd9097ca0118d",
    "outputId": "8ad8db4b-89af-4357-e6d4-daa6413a7e32",
    "colab": {
     "base_uri": "https://localhost:8080/",
     "height": 1000
    },
    "ExecuteTime": {
     "start_time": "2024-03-28T22:27:51.428868Z"
    }
   },
   "id": "f89dd9097ca0118d"
  },
  {
   "cell_type": "markdown",
   "source": [
    "Utworzenie macierzy korelacji dla wszystkich kolumn. \n",
    "\n",
    "Stworzenie data_relevant, zawierającej kolumny z dataframe data, których bezwzględna wartość korelacji z cenami nieruchomości wynosi co najmniej 0.03."
   ],
   "metadata": {
    "id": "jsR-Tqfhk0XG"
   },
   "id": "jsR-Tqfhk0XG"
  },
  {
   "cell_type": "code",
   "execution_count": null,
   "outputs": [],
   "source": [
    "corr_matrix = data.corr()\n",
    "# Lista przechowująca pary kolumn, których współczynnik korelacji przekracza 0.8\n",
    "pairs = []\n",
    "for i in range(len(corr_matrix.columns)):\n",
    "  for j in range(i+1, len(corr_matrix.columns)):\n",
    "    if abs(corr_matrix.iloc[i, j]) > 0.8:\n",
    "      pairs.append((corr_matrix.columns[i], corr_matrix.columns[j], corr_matrix.iloc[i, j]))\n",
    "\n",
    "for pair in pairs:\n",
    "  print(pair)\n"
   ],
   "metadata": {
    "collapsed": false,
    "ExecuteTime": {
     "start_time": "2024-03-28T22:27:51.430598Z"
    }
   },
   "id": "ef5c26bf601c0f15"
  },
  {
   "cell_type": "code",
   "execution_count": null,
   "outputs": [],
   "source": [
    "#Filtrowanie DataFrame tak aby zawierał tylko kolumny silnie skorelowane związane z ceną\n",
    "corr_matrix = data.corr()\n",
    "corr_df = pd.DataFrame(abs(corr_matrix['PRICE'].drop('PRICE')).sort_values(ascending=True))\n",
    "relevant_columns = corr_df[abs(corr_df['PRICE'])>=0.05].index\n",
    "relevant_columns = list(relevant_columns)\n",
    "relevant_columns.append('PRICE')\n",
    "data_relevant = data[relevant_columns]"
   ],
   "metadata": {
    "collapsed": false,
    "ExecuteTime": {
     "start_time": "2024-03-28T22:27:51.432328Z"
    }
   },
   "id": "7cf6dd912847bb0c"
  },
  {
   "cell_type": "code",
   "execution_count": null,
   "outputs": [],
   "source": [
    "plt.figure(figsize=(12, 10))\n",
    "sns.heatmap(data_relevant.corr(), annot=True, cmap='Spectral', linewidths=0.3,fmt=\".3f\", vmax=1, vmin=-1)"
   ],
   "metadata": {
    "collapsed": false,
    "ExecuteTime": {
     "start_time": "2024-03-28T22:27:51.434204Z"
    }
   },
   "id": "a510cce15f60db7d"
  },
  {
   "cell_type": "code",
   "execution_count": null,
   "outputs": [],
   "source": [
    "data.to_excel('clean_data.xlsx')\n",
    "data_relevant.to_excel('clean_data_relevant.xlsx')"
   ],
   "metadata": {
    "id": "a713f1177c90a723",
    "ExecuteTime": {
     "start_time": "2024-03-28T22:27:51.435925Z"
    }
   },
   "id": "a713f1177c90a723"
  },
  {
   "cell_type": "markdown",
   "source": [
    "Analiza głównych składowych PCA na danych: określenie liczby składowych głównych, stworzenie listy składowych głównych i nazw kolumn dla wynikowych składowych głównych, stworzenie instancji klasy PCA. Stworzenie ramki danych zawierającą przekształcone wartości zmiennych za pomocą PCA."
   ],
   "metadata": {
    "id": "LsTuFvf3lw3g"
   },
   "id": "LsTuFvf3lw3g"
  },
  {
   "cell_type": "code",
   "execution_count": null,
   "outputs": [],
   "source": [
    "from sklearn.decomposition import PCA\n",
    "X = data_relevant.drop(columns =['PRICE'])\n",
    "y = data_relevant['PRICE']\n",
    "\n",
    "n_comp = 3\n",
    "col_names = ['feature_'+str(i) for i in range(0,n_comp)]\n",
    "pca = PCA(n_components=n_comp)\n",
    "data_relevant_pca = pd.DataFrame(pca.fit_transform(X), columns = col_names)\n",
    "print(pca.explained_variance_ratio_)\n",
    "data_relevant_pca"
   ],
   "metadata": {
    "id": "e313db9de8375ce9",
    "ExecuteTime": {
     "start_time": "2024-03-28T22:27:51.437631Z"
    }
   },
   "id": "e313db9de8375ce9"
  },
  {
   "cell_type": "code",
   "execution_count": null,
   "outputs": [],
   "source": [
    "data_relevant_pca.to_excel('clean_data_relevant_pca.xlsx')"
   ],
   "metadata": {
    "id": "e7b573decfc9d485",
    "ExecuteTime": {
     "start_time": "2024-03-28T22:27:51.439420Z"
    }
   },
   "id": "e7b573decfc9d485"
  }
 ],
 "metadata": {
  "kernelspec": {
   "display_name": "Python 3",
   "language": "python",
   "name": "python3"
  },
  "language_info": {
   "codemirror_mode": {
    "name": "ipython",
    "version": 2
   },
   "file_extension": ".py",
   "mimetype": "text/x-python",
   "name": "python",
   "nbconvert_exporter": "python",
   "pygments_lexer": "ipython2",
   "version": "2.7.6"
  },
  "colab": {
   "provenance": []
  }
 },
 "nbformat": 4,
 "nbformat_minor": 5
}
