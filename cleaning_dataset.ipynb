{
 "cells": [
  {
   "cell_type": "code",
   "execution_count": 1125,
   "outputs": [],
   "source": [
    "import pandas as pd\n",
    "import seaborn as sns\n",
    "import matplotlib.pyplot as plt\n",
    "import folium"
   ],
   "metadata": {
    "id": "b02f4f6977f07eef",
    "ExecuteTime": {
     "end_time": "2024-03-26T23:48:24.513440Z",
     "start_time": "2024-03-26T23:48:24.179770Z"
    }
   },
   "id": "b02f4f6977f07eef"
  },
  {
   "cell_type": "markdown",
   "source": [
    "Celem jest predykcja ceny nieruchomości.\n",
    "\n",
    "Zbiór danych zawiera 4802 instancje i kolumny określające:\n",
    "\n",
    "BROKERTITLE: Title of the broker\n",
    "TYPE: Type of the house\n",
    "PRICE: Price of the house\n",
    "BEDS: Number of bedrooms\n",
    "BATH: Number of bathrooms\n",
    "PROPERTYSQFT: Square footage of the property\n",
    "ADDRESS: Full address of the house\n",
    "STATE: State of the house\n",
    "MAIN_ADDRESS: Main address information\n",
    "ADMINISTRATIVE_AREA_LEVEL_2: Administrative area level 2 information\n",
    "LOCALITY: Locality information\n",
    "SUBLOCALITY: Sublocality information\n",
    "STREET_NAME: Street name\n",
    "LONG_NAME: Long name\n",
    "FORMATTED_ADDRESS: Formatted address\n",
    "LATITUDE: Latitude coordinate of the house\n",
    "LONGITUDE: Longitude coordinate of the house"
   ],
   "metadata": {
    "collapsed": false,
    "id": "33242a9b372ec5e9"
   },
   "id": "33242a9b372ec5e9"
  },
  {
   "cell_type": "code",
   "execution_count": 1126,
   "id": "initial_id",
   "metadata": {
    "collapsed": true,
    "id": "initial_id",
    "ExecuteTime": {
     "end_time": "2024-03-26T23:48:24.987764Z",
     "start_time": "2024-03-26T23:48:24.205119Z"
    }
   },
   "outputs": [],
   "source": [
    "import pandas as pd\n",
    "url = 'NY-House-Dataset.csv'\n",
    "data = pd.read_csv(url, sep= ';')"
   ]
  },
  {
   "cell_type": "code",
   "execution_count": 1127,
   "outputs": [
    {
     "data": {
      "text/plain": "                                            BROKERTITLE                TYPE  \\\n0           Brokered by Douglas Elliman  -111 Fifth Ave      Condo for sale   \n1                                   Brokered by Serhant      Condo for sale   \n2                                Brokered by Sowae Corp      House for sale   \n3                                   Brokered by COMPASS      Condo for sale   \n4     Brokered by Sotheby's International Realty - E...  Townhouse for sale   \n...                                                 ...                 ...   \n4796                                Brokered by COMPASS      Co-op for sale   \n4797                    Brokered by Mjr Real Estate Llc      Co-op for sale   \n4798      Brokered by Douglas Elliman - 575 Madison Ave      Co-op for sale   \n4799            Brokered by E Realty International Corp      Condo for sale   \n4800                 Brokered by Nyc Realty Brokers Llc      Co-op for sale   \n\n          PRICE  BEDS       BATH  PROPERTYSQFT  \\\n0        315000     2   2.000000   1400.000000   \n1     195000000     7  10.000000  17545.000000   \n2        260000     4   2.000000   2015.000000   \n3         69000     3   1.000000    445.000000   \n4      55000000     7   2.373861  14175.000000   \n...         ...   ...        ...           ...   \n4796     599000     1   1.000000   2184.207862   \n4797     245000     1   1.000000   2184.207862   \n4798    1275000     1   1.000000   2184.207862   \n4799     598125     2   1.000000    655.000000   \n4800     349000     1   1.000000    750.000000   \n\n                                                ADDRESS  \\\n0                                  2 E 55th St Unit 803   \n1     Central Park Tower Penthouse-217 W 57th New Yo...   \n2                                      620 Sinclair Ave   \n3                               2 E 55th St Unit 908W33   \n4                                           5 E 64th St   \n...                                                 ...   \n4796                               222 E 80th St Apt 3A   \n4797                                97-40 62 Dr Unit Lg   \n4798                          427 W 21st St Unit Garden   \n4799                           91-23 Corona Ave Unit 4G   \n4800                            460 Neptune Ave Apt 14O   \n\n                        STATE  \\\n0          New York, NY 10022   \n1          New York, NY 10019   \n2     Staten Island, NY 10312   \n3         Manhattan, NY 10022   \n4          New York, NY 10065   \n...                       ...   \n4796      Manhattan, NY 10075   \n4797      Rego Park, NY 11374   \n4798       New York, NY 10011   \n4799       Elmhurst, NY 11373   \n4800       Brooklyn, NY 11224   \n\n                                           MAIN_ADDRESS  \\\n0                2 E 55th St Unit 803New York, NY 10022   \n1     Central Park Tower Penthouse-217 W 57th New Yo...   \n2               620 Sinclair AveStaten Island, NY 10312   \n3            2 E 55th St Unit 908W33Manhattan, NY 10022   \n4                         5 E 64th StNew York, NY 10065   \n...                                                 ...   \n4796            222 E 80th St Apt 3AManhattan, NY 10075   \n4797             97-40 62 Dr Unit LgRego Park, NY 11374   \n4798        427 W 21st St Unit GardenNew York, NY 10011   \n4799         91-23 Corona Ave Unit 4GElmhurst, NY 11373   \n4800          460 Neptune Ave Apt 14OBrooklyn, NY 11224   \n\n     ADMINISTRATIVE_AREA_LEVEL_2         LOCALITY      SUBLOCALITY  \\\n0                New York County         New York        Manhattan   \n1                  United States         New York  New York County   \n2                  United States         New York  Richmond County   \n3                  United States         New York  New York County   \n4                  United States         New York  New York County   \n...                          ...              ...              ...   \n4796                    New York  New York County         New York   \n4797               United States         New York    Queens County   \n4798               United States         New York  New York County   \n4799                    New York    Queens County           Queens   \n4800                    New York     Kings County         Brooklyn   \n\n           STREET_NAME         LONG_NAME  \\\n0     East 55th Street   Regis Residence   \n1             New York  West 57th Street   \n2        Staten Island   Sinclair Avenue   \n3             New York  East 55th Street   \n4             New York  East 64th Street   \n...                ...               ...   \n4796         Manhattan               222   \n4797            Queens        62nd Drive   \n4798          New York  West 21st Street   \n4799          Flushing             91-23   \n4800      Coney Island               460   \n\n                                      FORMATTED_ADDRESS   LATITUDE  LONGITUDE  \n0     Regis Residence, 2 E 55th St #803, New York, N...  40.761255 -73.974483  \n1                217 W 57th St, New York, NY 10019, USA  40.766393 -73.980991  \n2        620 Sinclair Ave, Staten Island, NY 10312, USA  40.541805 -74.196109  \n3                  2 E 55th St, New York, NY 10022, USA  40.761398 -73.974613  \n4                  5 E 64th St, New York, NY 10065, USA  40.767224 -73.969856  \n...                                                 ...        ...        ...  \n4796         222 E 80th St #3a, New York, NY 10075, USA  40.774350 -73.955879  \n4797            97-40 62nd Dr, Rego Park, NY 11374, USA  40.732538 -73.860152  \n4798             427 W 21st St, New York, NY 10011, USA  40.745882 -74.003398  \n4799     91-23 Corona Ave. #4b, Flushing, NY 11373, USA  40.742770 -73.872752  \n4800      460 Neptune Ave #14a, Brooklyn, NY 11224, USA  40.579147 -73.970949  \n\n[4801 rows x 17 columns]",
      "text/html": "<div>\n<style scoped>\n    .dataframe tbody tr th:only-of-type {\n        vertical-align: middle;\n    }\n\n    .dataframe tbody tr th {\n        vertical-align: top;\n    }\n\n    .dataframe thead th {\n        text-align: right;\n    }\n</style>\n<table border=\"1\" class=\"dataframe\">\n  <thead>\n    <tr style=\"text-align: right;\">\n      <th></th>\n      <th>BROKERTITLE</th>\n      <th>TYPE</th>\n      <th>PRICE</th>\n      <th>BEDS</th>\n      <th>BATH</th>\n      <th>PROPERTYSQFT</th>\n      <th>ADDRESS</th>\n      <th>STATE</th>\n      <th>MAIN_ADDRESS</th>\n      <th>ADMINISTRATIVE_AREA_LEVEL_2</th>\n      <th>LOCALITY</th>\n      <th>SUBLOCALITY</th>\n      <th>STREET_NAME</th>\n      <th>LONG_NAME</th>\n      <th>FORMATTED_ADDRESS</th>\n      <th>LATITUDE</th>\n      <th>LONGITUDE</th>\n    </tr>\n  </thead>\n  <tbody>\n    <tr>\n      <th>0</th>\n      <td>Brokered by Douglas Elliman  -111 Fifth Ave</td>\n      <td>Condo for sale</td>\n      <td>315000</td>\n      <td>2</td>\n      <td>2.000000</td>\n      <td>1400.000000</td>\n      <td>2 E 55th St Unit 803</td>\n      <td>New York, NY 10022</td>\n      <td>2 E 55th St Unit 803New York, NY 10022</td>\n      <td>New York County</td>\n      <td>New York</td>\n      <td>Manhattan</td>\n      <td>East 55th Street</td>\n      <td>Regis Residence</td>\n      <td>Regis Residence, 2 E 55th St #803, New York, N...</td>\n      <td>40.761255</td>\n      <td>-73.974483</td>\n    </tr>\n    <tr>\n      <th>1</th>\n      <td>Brokered by Serhant</td>\n      <td>Condo for sale</td>\n      <td>195000000</td>\n      <td>7</td>\n      <td>10.000000</td>\n      <td>17545.000000</td>\n      <td>Central Park Tower Penthouse-217 W 57th New Yo...</td>\n      <td>New York, NY 10019</td>\n      <td>Central Park Tower Penthouse-217 W 57th New Yo...</td>\n      <td>United States</td>\n      <td>New York</td>\n      <td>New York County</td>\n      <td>New York</td>\n      <td>West 57th Street</td>\n      <td>217 W 57th St, New York, NY 10019, USA</td>\n      <td>40.766393</td>\n      <td>-73.980991</td>\n    </tr>\n    <tr>\n      <th>2</th>\n      <td>Brokered by Sowae Corp</td>\n      <td>House for sale</td>\n      <td>260000</td>\n      <td>4</td>\n      <td>2.000000</td>\n      <td>2015.000000</td>\n      <td>620 Sinclair Ave</td>\n      <td>Staten Island, NY 10312</td>\n      <td>620 Sinclair AveStaten Island, NY 10312</td>\n      <td>United States</td>\n      <td>New York</td>\n      <td>Richmond County</td>\n      <td>Staten Island</td>\n      <td>Sinclair Avenue</td>\n      <td>620 Sinclair Ave, Staten Island, NY 10312, USA</td>\n      <td>40.541805</td>\n      <td>-74.196109</td>\n    </tr>\n    <tr>\n      <th>3</th>\n      <td>Brokered by COMPASS</td>\n      <td>Condo for sale</td>\n      <td>69000</td>\n      <td>3</td>\n      <td>1.000000</td>\n      <td>445.000000</td>\n      <td>2 E 55th St Unit 908W33</td>\n      <td>Manhattan, NY 10022</td>\n      <td>2 E 55th St Unit 908W33Manhattan, NY 10022</td>\n      <td>United States</td>\n      <td>New York</td>\n      <td>New York County</td>\n      <td>New York</td>\n      <td>East 55th Street</td>\n      <td>2 E 55th St, New York, NY 10022, USA</td>\n      <td>40.761398</td>\n      <td>-73.974613</td>\n    </tr>\n    <tr>\n      <th>4</th>\n      <td>Brokered by Sotheby's International Realty - E...</td>\n      <td>Townhouse for sale</td>\n      <td>55000000</td>\n      <td>7</td>\n      <td>2.373861</td>\n      <td>14175.000000</td>\n      <td>5 E 64th St</td>\n      <td>New York, NY 10065</td>\n      <td>5 E 64th StNew York, NY 10065</td>\n      <td>United States</td>\n      <td>New York</td>\n      <td>New York County</td>\n      <td>New York</td>\n      <td>East 64th Street</td>\n      <td>5 E 64th St, New York, NY 10065, USA</td>\n      <td>40.767224</td>\n      <td>-73.969856</td>\n    </tr>\n    <tr>\n      <th>...</th>\n      <td>...</td>\n      <td>...</td>\n      <td>...</td>\n      <td>...</td>\n      <td>...</td>\n      <td>...</td>\n      <td>...</td>\n      <td>...</td>\n      <td>...</td>\n      <td>...</td>\n      <td>...</td>\n      <td>...</td>\n      <td>...</td>\n      <td>...</td>\n      <td>...</td>\n      <td>...</td>\n      <td>...</td>\n    </tr>\n    <tr>\n      <th>4796</th>\n      <td>Brokered by COMPASS</td>\n      <td>Co-op for sale</td>\n      <td>599000</td>\n      <td>1</td>\n      <td>1.000000</td>\n      <td>2184.207862</td>\n      <td>222 E 80th St Apt 3A</td>\n      <td>Manhattan, NY 10075</td>\n      <td>222 E 80th St Apt 3AManhattan, NY 10075</td>\n      <td>New York</td>\n      <td>New York County</td>\n      <td>New York</td>\n      <td>Manhattan</td>\n      <td>222</td>\n      <td>222 E 80th St #3a, New York, NY 10075, USA</td>\n      <td>40.774350</td>\n      <td>-73.955879</td>\n    </tr>\n    <tr>\n      <th>4797</th>\n      <td>Brokered by Mjr Real Estate Llc</td>\n      <td>Co-op for sale</td>\n      <td>245000</td>\n      <td>1</td>\n      <td>1.000000</td>\n      <td>2184.207862</td>\n      <td>97-40 62 Dr Unit Lg</td>\n      <td>Rego Park, NY 11374</td>\n      <td>97-40 62 Dr Unit LgRego Park, NY 11374</td>\n      <td>United States</td>\n      <td>New York</td>\n      <td>Queens County</td>\n      <td>Queens</td>\n      <td>62nd Drive</td>\n      <td>97-40 62nd Dr, Rego Park, NY 11374, USA</td>\n      <td>40.732538</td>\n      <td>-73.860152</td>\n    </tr>\n    <tr>\n      <th>4798</th>\n      <td>Brokered by Douglas Elliman - 575 Madison Ave</td>\n      <td>Co-op for sale</td>\n      <td>1275000</td>\n      <td>1</td>\n      <td>1.000000</td>\n      <td>2184.207862</td>\n      <td>427 W 21st St Unit Garden</td>\n      <td>New York, NY 10011</td>\n      <td>427 W 21st St Unit GardenNew York, NY 10011</td>\n      <td>United States</td>\n      <td>New York</td>\n      <td>New York County</td>\n      <td>New York</td>\n      <td>West 21st Street</td>\n      <td>427 W 21st St, New York, NY 10011, USA</td>\n      <td>40.745882</td>\n      <td>-74.003398</td>\n    </tr>\n    <tr>\n      <th>4799</th>\n      <td>Brokered by E Realty International Corp</td>\n      <td>Condo for sale</td>\n      <td>598125</td>\n      <td>2</td>\n      <td>1.000000</td>\n      <td>655.000000</td>\n      <td>91-23 Corona Ave Unit 4G</td>\n      <td>Elmhurst, NY 11373</td>\n      <td>91-23 Corona Ave Unit 4GElmhurst, NY 11373</td>\n      <td>New York</td>\n      <td>Queens County</td>\n      <td>Queens</td>\n      <td>Flushing</td>\n      <td>91-23</td>\n      <td>91-23 Corona Ave. #4b, Flushing, NY 11373, USA</td>\n      <td>40.742770</td>\n      <td>-73.872752</td>\n    </tr>\n    <tr>\n      <th>4800</th>\n      <td>Brokered by Nyc Realty Brokers Llc</td>\n      <td>Co-op for sale</td>\n      <td>349000</td>\n      <td>1</td>\n      <td>1.000000</td>\n      <td>750.000000</td>\n      <td>460 Neptune Ave Apt 14O</td>\n      <td>Brooklyn, NY 11224</td>\n      <td>460 Neptune Ave Apt 14OBrooklyn, NY 11224</td>\n      <td>New York</td>\n      <td>Kings County</td>\n      <td>Brooklyn</td>\n      <td>Coney Island</td>\n      <td>460</td>\n      <td>460 Neptune Ave #14a, Brooklyn, NY 11224, USA</td>\n      <td>40.579147</td>\n      <td>-73.970949</td>\n    </tr>\n  </tbody>\n</table>\n<p>4801 rows × 17 columns</p>\n</div>"
     },
     "execution_count": 1127,
     "metadata": {},
     "output_type": "execute_result"
    }
   ],
   "source": [
    "data"
   ],
   "metadata": {
    "id": "a5a9fe7568a8a2e7",
    "outputId": "901c4eca-bae2-4cf0-82c1-22bcc4716661",
    "colab": {
     "base_uri": "https://localhost:8080/",
     "height": 913
    },
    "ExecuteTime": {
     "end_time": "2024-03-26T23:48:25.108611Z",
     "start_time": "2024-03-26T23:48:24.232123Z"
    }
   },
   "id": "a5a9fe7568a8a2e7"
  },
  {
   "cell_type": "markdown",
   "source": [
    "Podział kolumn na dwie kategorie: dane numeryczne i dane kategoryczne. "
   ],
   "metadata": {
    "collapsed": false
   },
   "id": "edce3254f6fbc513"
  },
  {
   "cell_type": "code",
   "execution_count": 1128,
   "outputs": [],
   "source": [
    "numeric_columns = {'PRICE', 'BEDS','BATH', 'PROPERTYSQFT', 'LATITUDE', 'LONGITUDE'}\n",
    "category_columns = {'TYPE', 'BROKERTITLE', 'STATE', 'LONG_NAME', 'LOCALITY', 'ADDRESS', 'ADMINISTRATIVE_AREA_LEVEL_2', 'SUBLOCALITY', 'MAIN_ADDRESS', 'FORMATTED_ADDRESS', 'STREET_NAME'}"
   ],
   "metadata": {
    "id": "f2a98ceebe9d6a16",
    "ExecuteTime": {
     "end_time": "2024-03-26T23:48:25.108769Z",
     "start_time": "2024-03-26T23:48:24.246368Z"
    }
   },
   "id": "f2a98ceebe9d6a16"
  },
  {
   "cell_type": "markdown",
   "source": [
    "Zmienienie liter na małe w celu ujednolicenia danych. "
   ],
   "metadata": {
    "collapsed": false
   },
   "id": "HYGo72sD2gw8"
  },
  {
   "cell_type": "code",
   "execution_count": 1129,
   "outputs": [],
   "source": [
    "for column in category_columns:\n",
    "    data[column] = data[column].str.lower()"
   ],
   "metadata": {
    "collapsed": false,
    "ExecuteTime": {
     "end_time": "2024-03-26T23:48:25.120861Z",
     "start_time": "2024-03-26T23:48:24.255622Z"
    }
   },
   "id": "1319e422eaa19923"
  },
  {
   "cell_type": "markdown",
   "source": [
    "Sprawdzenie unikalnych wartości oraz charakterystyki zbioru danych."
   ],
   "metadata": {
    "collapsed": false
   },
   "id": "70dea9b989c612c2"
  },
  {
   "cell_type": "code",
   "execution_count": 1130,
   "outputs": [
    {
     "data": {
      "text/plain": "BROKERTITLE                    1011\nSTREET_NAME                     174\nADMINISTRATIVE_AREA_LEVEL_2      29\nLOCALITY                         11\nMAIN_ADDRESS                   4583\nSUBLOCALITY                      21\nFORMATTED_ADDRESS              4550\nTYPE                             13\nADDRESS                        4582\nSTATE                           308\nLONG_NAME                      2731\ndtype: int64"
     },
     "execution_count": 1130,
     "metadata": {},
     "output_type": "execute_result"
    }
   ],
   "source": [
    "data[list(category_columns)].nunique()"
   ],
   "metadata": {
    "id": "7564a61694b7347b",
    "outputId": "7a74d4b1-842e-463c-e0ca-9367c9c93e31",
    "colab": {
     "base_uri": "https://localhost:8080/"
    },
    "ExecuteTime": {
     "end_time": "2024-03-26T23:48:25.155532Z",
     "start_time": "2024-03-26T23:48:24.267933Z"
    }
   },
   "id": "7564a61694b7347b"
  },
  {
   "cell_type": "code",
   "execution_count": 1131,
   "outputs": [
    {
     "name": "stdout",
     "output_type": "stream",
     "text": [
      "<class 'pandas.core.frame.DataFrame'>\n",
      "RangeIndex: 4801 entries, 0 to 4800\n",
      "Data columns (total 17 columns):\n",
      " #   Column                       Non-Null Count  Dtype  \n",
      "---  ------                       --------------  -----  \n",
      " 0   BROKERTITLE                  4801 non-null   object \n",
      " 1   TYPE                         4801 non-null   object \n",
      " 2   PRICE                        4801 non-null   int64  \n",
      " 3   BEDS                         4801 non-null   int64  \n",
      " 4   BATH                         4801 non-null   float64\n",
      " 5   PROPERTYSQFT                 4801 non-null   float64\n",
      " 6   ADDRESS                      4801 non-null   object \n",
      " 7   STATE                        4801 non-null   object \n",
      " 8   MAIN_ADDRESS                 4801 non-null   object \n",
      " 9   ADMINISTRATIVE_AREA_LEVEL_2  4801 non-null   object \n",
      " 10  LOCALITY                     4801 non-null   object \n",
      " 11  SUBLOCALITY                  4801 non-null   object \n",
      " 12  STREET_NAME                  4801 non-null   object \n",
      " 13  LONG_NAME                    4801 non-null   object \n",
      " 14  FORMATTED_ADDRESS            4801 non-null   object \n",
      " 15  LATITUDE                     4801 non-null   float64\n",
      " 16  LONGITUDE                    4801 non-null   float64\n",
      "dtypes: float64(4), int64(2), object(11)\n",
      "memory usage: 637.8+ KB\n"
     ]
    }
   ],
   "source": [
    "data.info()"
   ],
   "metadata": {
    "id": "8b23192e0e9e637e",
    "outputId": "a5db4190-22b3-43dd-f458-938f0f38aaf7",
    "colab": {
     "base_uri": "https://localhost:8080/"
    },
    "ExecuteTime": {
     "end_time": "2024-03-26T23:48:25.179268Z",
     "start_time": "2024-03-26T23:48:24.297231Z"
    }
   },
   "id": "8b23192e0e9e637e"
  },
  {
   "cell_type": "code",
   "execution_count": 1132,
   "outputs": [
    {
     "data": {
      "text/plain": "               count          mean           std          min            25%  \\\nPRICE         4801.0  2.356940e+06  3.135525e+07  2494.000000  499000.000000   \nBEDS          4801.0  3.356801e+00  2.602315e+00     1.000000       2.000000   \nBATH          4801.0  2.373861e+00  1.946962e+00     0.000000       1.000000   \nPROPERTYSQFT  4801.0  2.184208e+03  2.377141e+03   230.000000    1200.000000   \nLATITUDE      4801.0  4.071423e+01  8.767557e-02    40.499546      40.639375   \nLONGITUDE     4801.0 -7.394160e+01  1.010825e-01   -74.253033     -73.987143   \n\n                        50%           75%           max  \nPRICE         825000.000000  1.495000e+06  2.147484e+09  \nBEDS               3.000000  4.000000e+00  5.000000e+01  \nBATH               2.000000  3.000000e+00  5.000000e+01  \nPROPERTYSQFT    2184.207862  2.184208e+03  6.553500e+04  \nLATITUDE          40.726749  4.077192e+01  4.091273e+01  \nLONGITUDE        -73.949189 -7.387064e+01 -7.370245e+01  ",
      "text/html": "<div>\n<style scoped>\n    .dataframe tbody tr th:only-of-type {\n        vertical-align: middle;\n    }\n\n    .dataframe tbody tr th {\n        vertical-align: top;\n    }\n\n    .dataframe thead th {\n        text-align: right;\n    }\n</style>\n<table border=\"1\" class=\"dataframe\">\n  <thead>\n    <tr style=\"text-align: right;\">\n      <th></th>\n      <th>count</th>\n      <th>mean</th>\n      <th>std</th>\n      <th>min</th>\n      <th>25%</th>\n      <th>50%</th>\n      <th>75%</th>\n      <th>max</th>\n    </tr>\n  </thead>\n  <tbody>\n    <tr>\n      <th>PRICE</th>\n      <td>4801.0</td>\n      <td>2.356940e+06</td>\n      <td>3.135525e+07</td>\n      <td>2494.000000</td>\n      <td>499000.000000</td>\n      <td>825000.000000</td>\n      <td>1.495000e+06</td>\n      <td>2.147484e+09</td>\n    </tr>\n    <tr>\n      <th>BEDS</th>\n      <td>4801.0</td>\n      <td>3.356801e+00</td>\n      <td>2.602315e+00</td>\n      <td>1.000000</td>\n      <td>2.000000</td>\n      <td>3.000000</td>\n      <td>4.000000e+00</td>\n      <td>5.000000e+01</td>\n    </tr>\n    <tr>\n      <th>BATH</th>\n      <td>4801.0</td>\n      <td>2.373861e+00</td>\n      <td>1.946962e+00</td>\n      <td>0.000000</td>\n      <td>1.000000</td>\n      <td>2.000000</td>\n      <td>3.000000e+00</td>\n      <td>5.000000e+01</td>\n    </tr>\n    <tr>\n      <th>PROPERTYSQFT</th>\n      <td>4801.0</td>\n      <td>2.184208e+03</td>\n      <td>2.377141e+03</td>\n      <td>230.000000</td>\n      <td>1200.000000</td>\n      <td>2184.207862</td>\n      <td>2.184208e+03</td>\n      <td>6.553500e+04</td>\n    </tr>\n    <tr>\n      <th>LATITUDE</th>\n      <td>4801.0</td>\n      <td>4.071423e+01</td>\n      <td>8.767557e-02</td>\n      <td>40.499546</td>\n      <td>40.639375</td>\n      <td>40.726749</td>\n      <td>4.077192e+01</td>\n      <td>4.091273e+01</td>\n    </tr>\n    <tr>\n      <th>LONGITUDE</th>\n      <td>4801.0</td>\n      <td>-7.394160e+01</td>\n      <td>1.010825e-01</td>\n      <td>-74.253033</td>\n      <td>-73.987143</td>\n      <td>-73.949189</td>\n      <td>-7.387064e+01</td>\n      <td>-7.370245e+01</td>\n    </tr>\n  </tbody>\n</table>\n</div>"
     },
     "execution_count": 1132,
     "metadata": {},
     "output_type": "execute_result"
    }
   ],
   "source": [
    "data.describe().T"
   ],
   "metadata": {
    "id": "5de1a8eeef810c4a",
    "outputId": "5a7e8ef1-9614-45a2-d777-2aeaeddc1734",
    "colab": {
     "base_uri": "https://localhost:8080/",
     "height": 238
    },
    "ExecuteTime": {
     "end_time": "2024-03-26T23:48:25.201198Z",
     "start_time": "2024-03-26T23:48:24.301162Z"
    }
   },
   "id": "5de1a8eeef810c4a"
  },
  {
   "cell_type": "code",
   "execution_count": 1133,
   "outputs": [
    {
     "data": {
      "text/plain": "                                         BROKERTITLE                TYPE  \\\n0        brokered by douglas elliman  -111 fifth ave      condo for sale   \n1                                brokered by serhant      condo for sale   \n2                             brokered by sowae corp      house for sale   \n3                                brokered by compass      condo for sale   \n4  brokered by sotheby's international realty - e...  townhouse for sale   \n\n       PRICE  BEDS       BATH  PROPERTYSQFT  \\\n0     315000     2   2.000000        1400.0   \n1  195000000     7  10.000000       17545.0   \n2     260000     4   2.000000        2015.0   \n3      69000     3   1.000000         445.0   \n4   55000000     7   2.373861       14175.0   \n\n                                             ADDRESS                    STATE  \\\n0                               2 e 55th st unit 803       new york, ny 10022   \n1  central park tower penthouse-217 w 57th new yo...       new york, ny 10019   \n2                                   620 sinclair ave  staten island, ny 10312   \n3                            2 e 55th st unit 908w33      manhattan, ny 10022   \n4                                        5 e 64th st       new york, ny 10065   \n\n                                        MAIN_ADDRESS  \\\n0             2 e 55th st unit 803new york, ny 10022   \n1  central park tower penthouse-217 w 57th new yo...   \n2            620 sinclair avestaten island, ny 10312   \n3         2 e 55th st unit 908w33manhattan, ny 10022   \n4                      5 e 64th stnew york, ny 10065   \n\n  ADMINISTRATIVE_AREA_LEVEL_2  LOCALITY      SUBLOCALITY       STREET_NAME  \\\n0             new york county  new york        manhattan  east 55th street   \n1               united states  new york  new york county          new york   \n2               united states  new york  richmond county     staten island   \n3               united states  new york  new york county          new york   \n4               united states  new york  new york county          new york   \n\n          LONG_NAME                                  FORMATTED_ADDRESS  \\\n0   regis residence  regis residence, 2 e 55th st #803, new york, n...   \n1  west 57th street             217 w 57th st, new york, ny 10019, usa   \n2   sinclair avenue     620 sinclair ave, staten island, ny 10312, usa   \n3  east 55th street               2 e 55th st, new york, ny 10022, usa   \n4  east 64th street               5 e 64th st, new york, ny 10065, usa   \n\n    LATITUDE  LONGITUDE  \n0  40.761255 -73.974483  \n1  40.766393 -73.980991  \n2  40.541805 -74.196109  \n3  40.761398 -73.974613  \n4  40.767224 -73.969856  ",
      "text/html": "<div>\n<style scoped>\n    .dataframe tbody tr th:only-of-type {\n        vertical-align: middle;\n    }\n\n    .dataframe tbody tr th {\n        vertical-align: top;\n    }\n\n    .dataframe thead th {\n        text-align: right;\n    }\n</style>\n<table border=\"1\" class=\"dataframe\">\n  <thead>\n    <tr style=\"text-align: right;\">\n      <th></th>\n      <th>BROKERTITLE</th>\n      <th>TYPE</th>\n      <th>PRICE</th>\n      <th>BEDS</th>\n      <th>BATH</th>\n      <th>PROPERTYSQFT</th>\n      <th>ADDRESS</th>\n      <th>STATE</th>\n      <th>MAIN_ADDRESS</th>\n      <th>ADMINISTRATIVE_AREA_LEVEL_2</th>\n      <th>LOCALITY</th>\n      <th>SUBLOCALITY</th>\n      <th>STREET_NAME</th>\n      <th>LONG_NAME</th>\n      <th>FORMATTED_ADDRESS</th>\n      <th>LATITUDE</th>\n      <th>LONGITUDE</th>\n    </tr>\n  </thead>\n  <tbody>\n    <tr>\n      <th>0</th>\n      <td>brokered by douglas elliman  -111 fifth ave</td>\n      <td>condo for sale</td>\n      <td>315000</td>\n      <td>2</td>\n      <td>2.000000</td>\n      <td>1400.0</td>\n      <td>2 e 55th st unit 803</td>\n      <td>new york, ny 10022</td>\n      <td>2 e 55th st unit 803new york, ny 10022</td>\n      <td>new york county</td>\n      <td>new york</td>\n      <td>manhattan</td>\n      <td>east 55th street</td>\n      <td>regis residence</td>\n      <td>regis residence, 2 e 55th st #803, new york, n...</td>\n      <td>40.761255</td>\n      <td>-73.974483</td>\n    </tr>\n    <tr>\n      <th>1</th>\n      <td>brokered by serhant</td>\n      <td>condo for sale</td>\n      <td>195000000</td>\n      <td>7</td>\n      <td>10.000000</td>\n      <td>17545.0</td>\n      <td>central park tower penthouse-217 w 57th new yo...</td>\n      <td>new york, ny 10019</td>\n      <td>central park tower penthouse-217 w 57th new yo...</td>\n      <td>united states</td>\n      <td>new york</td>\n      <td>new york county</td>\n      <td>new york</td>\n      <td>west 57th street</td>\n      <td>217 w 57th st, new york, ny 10019, usa</td>\n      <td>40.766393</td>\n      <td>-73.980991</td>\n    </tr>\n    <tr>\n      <th>2</th>\n      <td>brokered by sowae corp</td>\n      <td>house for sale</td>\n      <td>260000</td>\n      <td>4</td>\n      <td>2.000000</td>\n      <td>2015.0</td>\n      <td>620 sinclair ave</td>\n      <td>staten island, ny 10312</td>\n      <td>620 sinclair avestaten island, ny 10312</td>\n      <td>united states</td>\n      <td>new york</td>\n      <td>richmond county</td>\n      <td>staten island</td>\n      <td>sinclair avenue</td>\n      <td>620 sinclair ave, staten island, ny 10312, usa</td>\n      <td>40.541805</td>\n      <td>-74.196109</td>\n    </tr>\n    <tr>\n      <th>3</th>\n      <td>brokered by compass</td>\n      <td>condo for sale</td>\n      <td>69000</td>\n      <td>3</td>\n      <td>1.000000</td>\n      <td>445.0</td>\n      <td>2 e 55th st unit 908w33</td>\n      <td>manhattan, ny 10022</td>\n      <td>2 e 55th st unit 908w33manhattan, ny 10022</td>\n      <td>united states</td>\n      <td>new york</td>\n      <td>new york county</td>\n      <td>new york</td>\n      <td>east 55th street</td>\n      <td>2 e 55th st, new york, ny 10022, usa</td>\n      <td>40.761398</td>\n      <td>-73.974613</td>\n    </tr>\n    <tr>\n      <th>4</th>\n      <td>brokered by sotheby's international realty - e...</td>\n      <td>townhouse for sale</td>\n      <td>55000000</td>\n      <td>7</td>\n      <td>2.373861</td>\n      <td>14175.0</td>\n      <td>5 e 64th st</td>\n      <td>new york, ny 10065</td>\n      <td>5 e 64th stnew york, ny 10065</td>\n      <td>united states</td>\n      <td>new york</td>\n      <td>new york county</td>\n      <td>new york</td>\n      <td>east 64th street</td>\n      <td>5 e 64th st, new york, ny 10065, usa</td>\n      <td>40.767224</td>\n      <td>-73.969856</td>\n    </tr>\n  </tbody>\n</table>\n</div>"
     },
     "execution_count": 1133,
     "metadata": {},
     "output_type": "execute_result"
    }
   ],
   "source": [
    "data.head()"
   ],
   "metadata": {
    "id": "d482b47778f65f18",
    "outputId": "c78d3416-7c6d-4509-ec26-c99ff73b9ba5",
    "colab": {
     "base_uri": "https://localhost:8080/",
     "height": 469
    },
    "ExecuteTime": {
     "end_time": "2024-03-26T23:48:25.292409Z",
     "start_time": "2024-03-26T23:48:24.327885Z"
    }
   },
   "id": "d482b47778f65f18"
  },
  {
   "cell_type": "markdown",
   "source": [
    "Sprawdzenie braków danych."
   ],
   "metadata": {
    "collapsed": false
   },
   "id": "5f8be42db74db0fd"
  },
  {
   "cell_type": "code",
   "execution_count": 1134,
   "outputs": [
    {
     "data": {
      "text/plain": "BROKERTITLE                    0\nTYPE                           0\nPRICE                          0\nBEDS                           0\nBATH                           0\nPROPERTYSQFT                   0\nADDRESS                        0\nSTATE                          0\nMAIN_ADDRESS                   0\nADMINISTRATIVE_AREA_LEVEL_2    0\nLOCALITY                       0\nSUBLOCALITY                    0\nSTREET_NAME                    0\nLONG_NAME                      0\nFORMATTED_ADDRESS              0\nLATITUDE                       0\nLONGITUDE                      0\ndtype: int64"
     },
     "execution_count": 1134,
     "metadata": {},
     "output_type": "execute_result"
    }
   ],
   "source": [
    "data.isna().sum()"
   ],
   "metadata": {
    "id": "26e19881eb37b775",
    "outputId": "23ea4a39-c1f3-463f-8d07-b40da35e427c",
    "colab": {
     "base_uri": "https://localhost:8080/"
    },
    "ExecuteTime": {
     "end_time": "2024-03-26T23:48:25.355523Z",
     "start_time": "2024-03-26T23:48:24.332951Z"
    }
   },
   "id": "26e19881eb37b775"
  },
  {
   "cell_type": "markdown",
   "source": [
    "Sprawdzenie ilościi zduplikowanych wierszy i ich usunięcie."
   ],
   "metadata": {
    "collapsed": false
   },
   "id": "8357740d48325840"
  },
  {
   "cell_type": "code",
   "execution_count": 1135,
   "outputs": [
    {
     "name": "stdout",
     "output_type": "stream",
     "text": [
      "Duplicated rows:  214\n"
     ]
    }
   ],
   "source": [
    "print('Duplicated rows: ', data.duplicated().sum())\n",
    "data.drop_duplicates(inplace=True)"
   ],
   "metadata": {
    "id": "ec98b88e727461af",
    "outputId": "d4e1db2d-aa3f-422d-8462-9419eb202232",
    "colab": {
     "base_uri": "https://localhost:8080/"
    },
    "ExecuteTime": {
     "end_time": "2024-03-26T23:48:25.387317Z",
     "start_time": "2024-03-26T23:48:24.351956Z"
    }
   },
   "id": "ec98b88e727461af"
  },
  {
   "cell_type": "markdown",
   "source": [
    "Usunięcie w kolumnie „BROKERTITLE” ciągów znaków 'llc', 'inc', zamiana wartości 'rlty' na 'realty' i zapisanie wyników tych zmian w nowej kolumnie „Broker”."
   ],
   "metadata": {
    "id": "T_p8Qs7o3btG"
   },
   "id": "T_p8Qs7o3btG"
  },
  {
   "cell_type": "markdown",
   "source": [
    "BROKERTITLE"
   ],
   "metadata": {
    "collapsed": false,
    "id": "8061c36dc599d4d0"
   },
   "id": "8061c36dc599d4d0"
  },
  {
   "cell_type": "code",
   "execution_count": 1136,
   "outputs": [],
   "source": [
    "data['BROKER'] = data['BROKERTITLE'].str.replace('llc','')\n",
    "data['BROKER'] = data['BROKER'].str.replace('inc','')\n",
    "data['BROKER'] = data['BROKER'].str.replace('rlty','realty')\n",
    "data['BROKER'] = data['BROKER'].str.replace('.','')\n",
    "def split_by_delimeter(value, separator):\n",
    "    result = value.split(separator)[0] if separator in value else value\n",
    "    result = result.strip()\n",
    "    return result\n",
    "\n",
    "data['BROKER'] = data['BROKER'].apply(lambda x: split_by_delimeter(x, ' -'))"
   ],
   "metadata": {
    "id": "7c7f717b867c2565",
    "outputId": "869f15a8-17f7-4d3a-c81b-f7caa4d7b03a",
    "colab": {
     "base_uri": "https://localhost:8080/"
    },
    "ExecuteTime": {
     "end_time": "2024-03-26T23:48:25.557995Z",
     "start_time": "2024-03-26T23:48:24.381240Z"
    }
   },
   "id": "7c7f717b867c2565"
  },
  {
   "cell_type": "markdown",
   "source": [
    "TYPE"
   ],
   "metadata": {
    "collapsed": false,
    "id": "13c5a057e75cf393"
   },
   "id": "13c5a057e75cf393"
  },
  {
   "cell_type": "code",
   "execution_count": 1137,
   "outputs": [
    {
     "data": {
      "text/plain": "          BATH  BEDS\n75    2.373861     3\n77    2.373861     3\n78    2.373861     3\n360   2.373861     3\n377   2.373861     3\n392   2.373861     3\n397   2.373861     3\n400   2.000000     3\n401   2.373861     3\n402   2.373861     3\n406   2.373861     3\n407   2.373861     3\n408   2.373861     3\n409   2.373861     3\n410   2.373861     3\n411   2.373861     3\n412   2.373861     3\n413   2.373861     3\n414   2.373861     3\n416   2.373861     3\n417   2.373861     3\n418   2.373861     3\n419   2.373861     3\n420   2.373861     3\n422   2.373861     3\n424   2.373861     3\n425   2.373861     3\n426   2.373861     3\n427   2.373861     3\n431   2.373861     3\n458   2.373861     3\n481   2.373861     3\n528   2.373861     3\n1262  2.373861     3\n1418  2.373861     3\n1616  2.373861     3\n2429  2.373861     3\n3094  2.373861     3\n3513  2.373861     3\n3599  2.373861     3\n3756  2.373861     3\n4003  2.373861     3\n4085  2.373861     3\n4101  2.373861     3\n4529  2.373861     3\n4570  2.373861     3\n4727  2.373861     3",
      "text/html": "<div>\n<style scoped>\n    .dataframe tbody tr th:only-of-type {\n        vertical-align: middle;\n    }\n\n    .dataframe tbody tr th {\n        vertical-align: top;\n    }\n\n    .dataframe thead th {\n        text-align: right;\n    }\n</style>\n<table border=\"1\" class=\"dataframe\">\n  <thead>\n    <tr style=\"text-align: right;\">\n      <th></th>\n      <th>BATH</th>\n      <th>BEDS</th>\n    </tr>\n  </thead>\n  <tbody>\n    <tr>\n      <th>75</th>\n      <td>2.373861</td>\n      <td>3</td>\n    </tr>\n    <tr>\n      <th>77</th>\n      <td>2.373861</td>\n      <td>3</td>\n    </tr>\n    <tr>\n      <th>78</th>\n      <td>2.373861</td>\n      <td>3</td>\n    </tr>\n    <tr>\n      <th>360</th>\n      <td>2.373861</td>\n      <td>3</td>\n    </tr>\n    <tr>\n      <th>377</th>\n      <td>2.373861</td>\n      <td>3</td>\n    </tr>\n    <tr>\n      <th>392</th>\n      <td>2.373861</td>\n      <td>3</td>\n    </tr>\n    <tr>\n      <th>397</th>\n      <td>2.373861</td>\n      <td>3</td>\n    </tr>\n    <tr>\n      <th>400</th>\n      <td>2.000000</td>\n      <td>3</td>\n    </tr>\n    <tr>\n      <th>401</th>\n      <td>2.373861</td>\n      <td>3</td>\n    </tr>\n    <tr>\n      <th>402</th>\n      <td>2.373861</td>\n      <td>3</td>\n    </tr>\n    <tr>\n      <th>406</th>\n      <td>2.373861</td>\n      <td>3</td>\n    </tr>\n    <tr>\n      <th>407</th>\n      <td>2.373861</td>\n      <td>3</td>\n    </tr>\n    <tr>\n      <th>408</th>\n      <td>2.373861</td>\n      <td>3</td>\n    </tr>\n    <tr>\n      <th>409</th>\n      <td>2.373861</td>\n      <td>3</td>\n    </tr>\n    <tr>\n      <th>410</th>\n      <td>2.373861</td>\n      <td>3</td>\n    </tr>\n    <tr>\n      <th>411</th>\n      <td>2.373861</td>\n      <td>3</td>\n    </tr>\n    <tr>\n      <th>412</th>\n      <td>2.373861</td>\n      <td>3</td>\n    </tr>\n    <tr>\n      <th>413</th>\n      <td>2.373861</td>\n      <td>3</td>\n    </tr>\n    <tr>\n      <th>414</th>\n      <td>2.373861</td>\n      <td>3</td>\n    </tr>\n    <tr>\n      <th>416</th>\n      <td>2.373861</td>\n      <td>3</td>\n    </tr>\n    <tr>\n      <th>417</th>\n      <td>2.373861</td>\n      <td>3</td>\n    </tr>\n    <tr>\n      <th>418</th>\n      <td>2.373861</td>\n      <td>3</td>\n    </tr>\n    <tr>\n      <th>419</th>\n      <td>2.373861</td>\n      <td>3</td>\n    </tr>\n    <tr>\n      <th>420</th>\n      <td>2.373861</td>\n      <td>3</td>\n    </tr>\n    <tr>\n      <th>422</th>\n      <td>2.373861</td>\n      <td>3</td>\n    </tr>\n    <tr>\n      <th>424</th>\n      <td>2.373861</td>\n      <td>3</td>\n    </tr>\n    <tr>\n      <th>425</th>\n      <td>2.373861</td>\n      <td>3</td>\n    </tr>\n    <tr>\n      <th>426</th>\n      <td>2.373861</td>\n      <td>3</td>\n    </tr>\n    <tr>\n      <th>427</th>\n      <td>2.373861</td>\n      <td>3</td>\n    </tr>\n    <tr>\n      <th>431</th>\n      <td>2.373861</td>\n      <td>3</td>\n    </tr>\n    <tr>\n      <th>458</th>\n      <td>2.373861</td>\n      <td>3</td>\n    </tr>\n    <tr>\n      <th>481</th>\n      <td>2.373861</td>\n      <td>3</td>\n    </tr>\n    <tr>\n      <th>528</th>\n      <td>2.373861</td>\n      <td>3</td>\n    </tr>\n    <tr>\n      <th>1262</th>\n      <td>2.373861</td>\n      <td>3</td>\n    </tr>\n    <tr>\n      <th>1418</th>\n      <td>2.373861</td>\n      <td>3</td>\n    </tr>\n    <tr>\n      <th>1616</th>\n      <td>2.373861</td>\n      <td>3</td>\n    </tr>\n    <tr>\n      <th>2429</th>\n      <td>2.373861</td>\n      <td>3</td>\n    </tr>\n    <tr>\n      <th>3094</th>\n      <td>2.373861</td>\n      <td>3</td>\n    </tr>\n    <tr>\n      <th>3513</th>\n      <td>2.373861</td>\n      <td>3</td>\n    </tr>\n    <tr>\n      <th>3599</th>\n      <td>2.373861</td>\n      <td>3</td>\n    </tr>\n    <tr>\n      <th>3756</th>\n      <td>2.373861</td>\n      <td>3</td>\n    </tr>\n    <tr>\n      <th>4003</th>\n      <td>2.373861</td>\n      <td>3</td>\n    </tr>\n    <tr>\n      <th>4085</th>\n      <td>2.373861</td>\n      <td>3</td>\n    </tr>\n    <tr>\n      <th>4101</th>\n      <td>2.373861</td>\n      <td>3</td>\n    </tr>\n    <tr>\n      <th>4529</th>\n      <td>2.373861</td>\n      <td>3</td>\n    </tr>\n    <tr>\n      <th>4570</th>\n      <td>2.373861</td>\n      <td>3</td>\n    </tr>\n    <tr>\n      <th>4727</th>\n      <td>2.373861</td>\n      <td>3</td>\n    </tr>\n  </tbody>\n</table>\n</div>"
     },
     "execution_count": 1137,
     "metadata": {},
     "output_type": "execute_result"
    }
   ],
   "source": [
    "data.loc[data['TYPE'] == 'land for sale', ['BATH', 'BEDS']]\n"
   ],
   "metadata": {
    "id": "a02c3829f97bb81d",
    "outputId": "28593572-762a-4c5b-c246-46aeb238d3d2",
    "colab": {
     "base_uri": "https://localhost:8080/",
     "height": 1000
    },
    "ExecuteTime": {
     "end_time": "2024-03-26T23:48:25.725733Z",
     "start_time": "2024-03-26T23:48:24.387304Z"
    }
   },
   "id": "a02c3829f97bb81d"
  },
  {
   "cell_type": "markdown",
   "source": [
    "W kolumnie „TYPE” ciąg znaków \"condop\" zmieniony na \"condo\". \n",
    "\n",
    "Stworzenie nowej kolumny „ANNOUNCEMENT_TYPE” która przypisuje ogłoszeniom odpowiednie kategorie na podstawie ich typu ('TYPE') przy użyciu wcześniej zdefiniowanego słownika. \n",
    "\n",
    "Usuwamy również ciąg znaków „for sale” z wartości w kolumnie TYPE."
   ],
   "metadata": {
    "id": "q2XsQleG4hHr"
   },
   "id": "q2XsQleG4hHr"
  },
  {
   "cell_type": "code",
   "execution_count": 1138,
   "outputs": [],
   "source": [
    "#Zamieniamy liczbe łazienek i sypialni na zero dla ogłoszeń, które są dla sprzedaży działki\n",
    "data.loc[data['TYPE'] == 'land for sale', ['BATH', 'BEDS']]= 0\n",
    "data[\"TYPE\"] = data[\"TYPE\"].str.replace('condop', 'condo')\n",
    "\n",
    "data['ANNOUNCEMENT_TYPE'] = data['TYPE'].replace({\n",
    "                                    'condo for sale': 'apartment',\n",
    "                                     'townhouse for sale': 'home',\n",
    "                                     'house for sale': 'home',\n",
    "                                     'multi-family home for sale': 'home',\n",
    "                                     'co-op for sale': 'co-op',\n",
    "                                     'mobile house for sale': 'home',\n",
    "                                     'land for sale': 'land',\n",
    "                                     'foreclosure': 'other',\n",
    "                                     'contingent': 'other',\n",
    "                                     'pending': 'other',\n",
    "                                     'coming soon': 'other',\n",
    "                                    'for sale': 'other'})\n",
    "data[\"TYPE\"] = data[\"TYPE\"].str.replace(\" for sale\", \"\")"
   ],
   "metadata": {
    "id": "96d7ea141f465f68",
    "ExecuteTime": {
     "end_time": "2024-03-26T23:48:26.170509Z",
     "start_time": "2024-03-26T23:48:24.396319Z"
    }
   },
   "id": "96d7ea141f465f68"
  },
  {
   "cell_type": "markdown",
   "source": [
    "PRICE - W kolumnie „PRICE” usuwamy wiersze, dla których cena jest większa niż 100 000 000 lub mniejsza niż 10 000 i zmienienie typ danych na liczby zmiennoprzecinkowe."
   ],
   "metadata": {
    "collapsed": false,
    "id": "75060b84408ac6d7"
   },
   "id": "75060b84408ac6d7"
  },
  {
   "cell_type": "code",
   "execution_count": null,
   "outputs": [],
   "source": [
    "fig, axes = plt.subplots(3,2, figsize=(16, 12))\n",
    "axes = axes.flatten()\n",
    "\n",
    "i=0\n",
    "for column in numeric_columns:\n",
    "    sns.histplot(x=data[column], ax=axes[i])\n",
    "    i=i+1\n",
    "\n",
    "plt.show()"
   ],
   "metadata": {
    "collapsed": false,
    "is_executing": true,
    "ExecuteTime": {
     "start_time": "2024-03-26T23:48:24.415947Z"
    }
   },
   "id": "7a70141911387706"
  },
  {
   "cell_type": "code",
   "execution_count": null,
   "outputs": [],
   "source": [
    "data.drop(data.loc[(data[\"PRICE\"] > 100000000) | (data[\"PRICE\"]<10000)].index, inplace= True)\n",
    "data['PRICE'] = data['PRICE'].astype(float)"
   ],
   "metadata": {
    "id": "c3bd21c1cd7bc1f9",
    "is_executing": true
   },
   "id": "c3bd21c1cd7bc1f9"
  },
  {
   "cell_type": "markdown",
   "source": [
    "BATH, BEDS"
   ],
   "metadata": {
    "collapsed": false,
    "id": "d5408a2f35e3070"
   },
   "id": "d5408a2f35e3070"
  },
  {
   "cell_type": "code",
   "execution_count": null,
   "outputs": [],
   "source": [
    "data['BATH'].value_counts()"
   ],
   "metadata": {
    "id": "94604972e465f119",
    "outputId": "f09eee10-c0ae-44ab-9f45-34df6176a5e9",
    "colab": {
     "base_uri": "https://localhost:8080/"
    },
    "is_executing": true
   },
   "id": "94604972e465f119"
  },
  {
   "cell_type": "code",
   "execution_count": null,
   "outputs": [],
   "source": [
    "data['BEDS'].value_counts()"
   ],
   "metadata": {
    "id": "6a9756be2df55314",
    "outputId": "08f82fa8-81d0-45a5-ad97-fb75bb48e013",
    "colab": {
     "base_uri": "https://localhost:8080/"
    },
    "is_executing": true
   },
   "id": "6a9756be2df55314"
  },
  {
   "cell_type": "markdown",
   "source": [
    "Utworzenie nowej kolumny „PROPERTYSQFT1000”, w której wartości są obliczane przez podzielenie wartości w kolumnie 'PROPERTYSQFT' przez 1000, zaokrąglając wynik w dół do liczby całkowitej , w celu znalezienia wartości odstających. \n",
    "\n",
    "Zostały pozostawione wiersze z wartościami dla których metraż nieruchomości podzielony przez 1000 mieści się w zakresie od 0 do 8.\n",
    "\n",
    "Pozostawiono wiersze z kolumny „BATH”, w których liczba łazienek mieści się w zakresie od 0 do 10, ze względu na małą ilość wystąpień wartości spoza tego przedziału.\n",
    "\n",
    "Pozostawiono wiersze z kolumny „BEDS” w których liczba sypialni mieści się w zakresie od 0 do 12, ze względu na małą ilość wystąpień wartości spoza tego przedziału.\n"
   ],
   "metadata": {
    "id": "VgZE80wl9sGV"
   },
   "id": "VgZE80wl9sGV"
  },
  {
   "cell_type": "code",
   "execution_count": null,
   "outputs": [],
   "source": [
    "data['PROPERTYSQFT1000'] = data['PROPERTYSQFT'].apply(lambda x: x//1000)\n",
    "data['PROPERTYSQFT1000'].value_counts()\n"
   ],
   "metadata": {
    "id": "6f4a5e814ced4a07",
    "outputId": "d37c71d0-7948-4f8e-f472-68c0d5b3d48b",
    "colab": {
     "base_uri": "https://localhost:8080/"
    },
    "is_executing": true
   },
   "id": "6f4a5e814ced4a07"
  },
  {
   "cell_type": "code",
   "execution_count": null,
   "outputs": [],
   "source": [
    "data = data[(data['BATH'] >= 0) & (data['BATH'] <= 10)]\n",
    "data = data[(data['BEDS'] >= 0) & (data['BEDS'] <= 12)]\n",
    "data['BATH'] = data['BATH'].apply(lambda x: x if float.is_integer(x) else int(x))\n",
    "data = data[(data['PROPERTYSQFT1000'] >= 0) & (data['PROPERTYSQFT1000'] <= 8)]\n",
    "\n",
    "data['PROPERTYSQFT'] = data['PROPERTYSQFT'].round(2)"
   ],
   "metadata": {
    "id": "71f3a5434a8eb2b4",
    "is_executing": true
   },
   "id": "71f3a5434a8eb2b4"
  },
  {
   "cell_type": "markdown",
   "source": [
    "Cleaning adresses"
   ],
   "metadata": {
    "collapsed": false,
    "id": "161fd490c0807e78"
   },
   "id": "161fd490c0807e78"
  },
  {
   "cell_type": "code",
   "execution_count": null,
   "outputs": [],
   "source": [
    "data_api = data.copy()"
   ],
   "metadata": {
    "id": "1696f8240861da40",
    "is_executing": true
   },
   "id": "1696f8240861da40"
  },
  {
   "cell_type": "markdown",
   "source": [
    "Usunięcie kolumny „MAIN ADDRESS”, ponieważ jest połączeniem kolumn „ADRESS” i „STATE”.\n"
   ],
   "metadata": {
    "id": "VgBvkCS52gA8"
   },
   "id": "VgBvkCS52gA8"
  },
  {
   "cell_type": "code",
   "execution_count": null,
   "outputs": [],
   "source": [
    "(data[\"ADDRESS\"] + data[\"STATE\"] == data[\"MAIN_ADDRESS\"]).unique()\n",
    "data.drop(\"MAIN_ADDRESS\", axis=1, inplace=True)"
   ],
   "metadata": {
    "id": "c032d96d2a561ce2",
    "is_executing": true
   },
   "id": "c032d96d2a561ce2"
  },
  {
   "cell_type": "markdown",
   "source": [
    "Utworzenie słownika „dictLocality”, który mapuje nazwy hrabstw na nazwy dzielnic w Nowym Jorku. \n",
    "\n",
    "Stworzenie listy „listOfBoroughs” zawierającej nazwy dzielnic (wartości powyżej wspomnianego słownika)."
   ],
   "metadata": {
    "collapsed": false
   },
   "id": "5c9480b02a3cbf91"
  },
  {
   "cell_type": "code",
   "execution_count": null,
   "outputs": [],
   "source": [
    "dictLocality = {\"new york county\": \"manhattan\",  \"kings county\":\"brooklyn\",\"bronx county\":\"the bronx\", \"richmond county\": \"staten island\", \"queens county\":\"queens\"}\n",
    "listOfBoroughs = list(dictLocality.values())"
   ],
   "metadata": {
    "id": "e9f7dc69e7cee804",
    "is_executing": true
   },
   "id": "e9f7dc69e7cee804"
  },
  {
   "cell_type": "markdown",
   "source": [
    "Zamieniamy wartości wystepujace jako klucze w słowniku na odpowiadające im wartości we wszystkich kolumnach."
   ],
   "metadata": {
    "collapsed": false
   },
   "id": "d9ac0f06977ff04c"
  },
  {
   "cell_type": "code",
   "execution_count": null,
   "outputs": [],
   "source": [
    "for c in list(data.columns):\n",
    "  for i in list(dictLocality.keys()):\n",
    "    data[c] = data[c].astype(str).str.replace(i, dictLocality[i])"
   ],
   "metadata": {
    "id": "d006256eccffe2f5",
    "is_executing": true
   },
   "id": "d006256eccffe2f5"
  },
  {
   "cell_type": "code",
   "execution_count": null,
   "outputs": [],
   "source": [
    "# Słownik mapujący skrócone i niepoprawne nazwy stanów i dzielnic na ich poprawne nazwy\n",
    "state_replacements = {\n",
    "    'nyc': 'new york',\n",
    "    'ny': 'new york',\n",
    "    'new yorkc': 'new york',\n",
    "    'new york city': 'new york',\n",
    "    r'kew gardens hill(?!s)': 'kew garden hills',\n",
    "    r'kew gardens(?! hills)': 'kew garden hills',\n",
    "    'kew gardens hills': 'kew garden hills',\n",
    "    'kew gardens hillss': 'kew garden hills',\n",
    "    r'(?<!\\bthe\\s)bronx new york': 'the bronx',\n",
    "    'queens village': 'queens',\n",
    "    r'(?<!\\bthe\\s)bronx ny': 'the bronx',\n",
    "    'brooklyn heights': 'brooklyn',\n",
    "    r'\\b(?<!\\bthe\\s)(?<!\\beast\\s)(?<!\\bwest\\s)bronx\\b': 'the bronx'\n",
    "}\n",
    "\n",
    "\n",
    "for col in [\"ADDRESS\", \"ADMINISTRATIVE_AREA_LEVEL_2\", \"STATE\", \"LOCALITY\", \"SUBLOCALITY\", \"STREET_NAME\", \"LONG_NAME\", \"FORMATTED_ADDRESS\"]:\n",
    "  for i in list(state_replacements.keys()):\n",
    "    data[col] = data[col].str.replace(i, state_replacements[i], regex=True)"
   ],
   "metadata": {
    "id": "1987c004edc96a69",
    "is_executing": true
   },
   "id": "1987c004edc96a69"
  },
  {
   "cell_type": "code",
   "source": [
    "print(data[\"LOCALITY\"].unique())\n",
    "# Przypisanie wartości z kolumny \"LOCALITY\" do kolumny \"BOROUGH\", jeśli wartość znajduje się w liście istOfBoroughs.\n",
    "data.loc[data[\"LOCALITY\"].isin(listOfBoroughs), \"BOROUGH\"] = data['LOCALITY']\n",
    "print(data[\"BOROUGH\"].unique())\n",
    "# Jeżeli wartość w kolumnie LOCALITY to flatbush to przepisujemy tą wartość do kolumny NEIGHBOURHOOD\n",
    "data.loc[data[\"LOCALITY\"] == \"flatbush\", \"NEIGHBOURHOOD\"] = data['LOCALITY']"
   ],
   "metadata": {
    "id": "cuNHupmU5s2v",
    "is_executing": true
   },
   "id": "cuNHupmU5s2v",
   "execution_count": null,
   "outputs": []
  },
  {
   "cell_type": "code",
   "source": [
    "print(data[\"SUBLOCALITY\"].unique())\n",
    "# Przepisanie wartości z SUBLOCALITY do kolumny BOROUGH, jeśli wartość jest zawarta w listOfBoroughs oraz komórka w kolumnie BOROUGH jest pusta.\n",
    "data.loc[(data[\"SUBLOCALITY\"].isin(listOfBoroughs)) &(data[\"BOROUGH\"].isna()) , \"BOROUGH\"] = data[\"SUBLOCALITY\"]\n",
    "\n",
    "# Jeżeli kolumna SUBLOCALITY zawiera \"snyder avenue\" to przepisujemy tą wartość do kolumny STREET.\n",
    "data.loc[data[\"SUBLOCALITY\"] == \"snyder avenue\" , \"STREET\"] = data[\"SUBLOCALITY\"]\n",
    "\n",
    "# Jeśli wartość w kolumnie SUBLOCALITY nie znajduje się w listOfBoroughs, nie jest równa \"new york\" ani \"snyder avenue\" to przypisujemy tą wartość do odpowiadającej komórki w kolumnie NEIGHBOURHOOD.\n",
    "data.loc[(data[\"SUBLOCALITY\"].isin(list(filter(lambda x: x not in listOfBoroughs, list(data[\"SUBLOCALITY\"]))))) & (~(data[\"SUBLOCALITY\"].isin([\"new york\", \"snyder avenue\"]))) , \"NEIGHBOURHOOD\"] = data[\"SUBLOCALITY\"]"
   ],
   "metadata": {
    "id": "BAxl01z06XOi",
    "outputId": "c485e3ed-13c8-403a-dafa-c3dc8b5ba1aa",
    "colab": {
     "base_uri": "https://localhost:8080/",
     "height": 878
    },
    "is_executing": true
   },
   "id": "BAxl01z06XOi",
   "execution_count": null,
   "outputs": []
  },
  {
   "cell_type": "code",
   "execution_count": null,
   "outputs": [],
   "source": [
    "data"
   ],
   "metadata": {
    "collapsed": false,
    "is_executing": true
   },
   "id": "686b7dbd6ba14637"
  },
  {
   "cell_type": "code",
   "execution_count": null,
   "outputs": [],
   "source": [
    "print(data[\"ADMINISTRATIVE_AREA_LEVEL_2\"].unique())\n",
    "#Jeśli wartość z kolumny ADMINISTRATIVE_AREA_LEVEL_2 znajduje się w listOfBoroughs, a kolumna \"BOROUGH\" jest pusta to uzupełniamy kolumne Borough sprawdzaną wartością.\n",
    "data.loc[(data[\"ADMINISTRATIVE_AREA_LEVEL_2\"].isin(listOfBoroughs)) &(data[\"BOROUGH\"].isna()) , \"BOROUGH\"] = data[\"ADMINISTRATIVE_AREA_LEVEL_2\"]\n",
    "\n",
    "# Uzupełnienie kolumny POSTCODE wartościami z kolumny ADMINISTRATIVE_AREA_LEVEL_2, jeśli nie są zawarte w listOfBoroughs, nie są równe \"new york\" ani \"united states\".\n",
    "data.loc[(data[\"ADMINISTRATIVE_AREA_LEVEL_2\"].isin(list(filter(lambda x: x not in listOfBoroughs, list(data[\"ADMINISTRATIVE_AREA_LEVEL_2\"]))))) & (data[\"ADMINISTRATIVE_AREA_LEVEL_2\"] != \"new york\") & (data[\"ADMINISTRATIVE_AREA_LEVEL_2\"] != \"united states\") , \"POSTCODE\"] = data[\"ADMINISTRATIVE_AREA_LEVEL_2\"]"
   ],
   "metadata": {
    "id": "f386c487ead06f08",
    "is_executing": true
   },
   "id": "f386c487ead06f08"
  },
  {
   "cell_type": "code",
   "execution_count": null,
   "outputs": [],
   "source": [
    "data[\"STREET_NAME\"].unique()"
   ],
   "metadata": {
    "id": "1871aff7b4b115a0",
    "outputId": "605dab11-7239-447b-fa78-e8343567ba61",
    "colab": {
     "base_uri": "https://localhost:8080/"
    },
    "is_executing": true
   },
   "id": "1871aff7b4b115a0"
  },
  {
   "cell_type": "code",
   "execution_count": null,
   "outputs": [],
   "source": [
    "len(data[\"STREET_NAME\"].unique())"
   ],
   "metadata": {
    "collapsed": false,
    "is_executing": true
   },
   "id": "7f6e5af1cbccb48"
  },
  {
   "cell_type": "markdown",
   "source": [
    "Utworzenie słownika z rozwinięciami skrótów i zamiana wartości z kolumny na wartości ze słownika. Nazwy ulicy zostają dodane do kolumny \"streets\", jeśli zawierają jedno ze słów kluczowych.\n",
    "Przypisanie wartości z kolumn do kolumn dla wierszy, w których wartość znajduje się na liście i jednocześnie wartość w kolumnie jest pusta np. kolumny \"STREET_NAME\" i \"BOROUGH\", \"STREET_NAME\" i \"NEIGHBOURHOOD\", \"STREET_NAME\" i \"STREET\" .\n",
    "Uzupełnienie brakujących informacji w w kolumnach \"POSTCODE\", \"BOROUGH\" i \"NEIGHBOURHOOD\". Przypisanie wartości do konkretnych kolumn."
   ],
   "metadata": {
    "collapsed": false
   },
   "id": "EziedBRKbNCU"
  },
  {
   "cell_type": "code",
   "execution_count": null,
   "outputs": [],
   "source": [
    "addresses_shortcut = {\n",
    "        ' st': ' street',\n",
    "        ' ave': ' avenue',\n",
    "        ' rd': ' road',\n",
    "        ' blvd': ' boulevard',\n",
    "        ' dr': ' drive',\n",
    "        ' pkwy': ' parkway',\n",
    "        ' ct': ' court',\n",
    "        ' ln': ' lane',\n",
    "        ' pl': ' place',\n",
    "        ' sq': ' square',\n",
    "        ' apt': '',\n",
    "        ' ste': '',\n",
    "        ' num': ''\n",
    "    }\n",
    "for c in [\"STREET_NAME\", \"ADDRESS\", \"STATE\", \"LONG_NAME\", \"FORMATTED_ADDRESS\"]:\n",
    "  for add in addresses_shortcut.keys():\n",
    "    mask = data[c].str.contains(fr'\\b{add}\\b')\n",
    "    data.loc[mask, c] = data.loc[mask, c].str.replace(add, addresses_shortcut[add])\n",
    "\n",
    "streets = []\n",
    "keyWords = [\"street\", \"parkway\", \"avenue\", \"drive\", \"road\"]\n",
    "for street_name in data[\"STREET_NAME\"]:\n",
    "    for keyword in keyWords:\n",
    "        if keyword in street_name:\n",
    "            streets.append(street_name)\n",
    "\n",
    "streets"
   ],
   "metadata": {
    "collapsed": false,
    "is_executing": true
   },
   "id": "cba2f678ebd4526e"
  },
  {
   "cell_type": "code",
   "execution_count": null,
   "outputs": [],
   "source": [
    "# Jeśli wartość z kolumny STREET_NAME znajduje się w listOfBoroughs, a kolumna BOROUGH jest pusta, uzupełniamy kolumnę BOROUGH tą wartością.\n",
    "data.loc[(data[\"STREET_NAME\"].isin(listOfBoroughs))& (data[\"BOROUGH\"].isna()), \"BOROUGH\"] = data[\"STREET_NAME\"]\n",
    "\n",
    "# Uzupełnienie pustych wartości w kolumnie NEIGHBOURHOOD wartością z kolumny STREET_NAME, jeśli nie jest zawarta w liście streets, nie jest równa \"new york\", nie należy do listOfBoroughs.\n",
    "data.loc[(data[\"STREET_NAME\"].isin(list(filter(lambda x: (x not in streets) & (x != \"new york\") & (x not in listOfBoroughs), list(data[\"STREET_NAME\"]))))) & (data[\"NEIGHBOURHOOD\"].isna()), \"NEIGHBOURHOOD\"] = data[\"STREET_NAME\"]\n",
    "data.loc[(data[\"STREET_NAME\"].isin(streets)) & (data[\"STREET\"].isna()), \"STREET\"] = data[\"STREET_NAME\"]"
   ],
   "metadata": {
    "id": "3c132e6447554206",
    "is_executing": true
   },
   "id": "3c132e6447554206"
  },
  {
   "cell_type": "code",
   "execution_count": null,
   "outputs": [],
   "source": [
    "print(data[\"STATE\"].unique())\n",
    "# Uzupełnienie pustych wartości w kolumnie POSTCODE wartościami z kolumny STATE.\n",
    "data.loc[data[\"POSTCODE\"].isna(), \"POSTCODE\"] = data[\"STATE\"].str.slice(-5)\n",
    "\n",
    "# Jeżeli BOROUGH jest pusta to weź wartość z kolumny STATE po przecinku - pod warunkiem że należy do listOfBoroughs\n",
    "data.loc[(data[\"BOROUGH\"].isna()) &(data[\"STATE\"].str.split(\", \").str.get(0).isin(listOfBoroughs)) , \"BOROUGH\"] = data[\"STATE\"].str.split(\", \").str.get(0)\n",
    "\n",
    "# Jeżeli NEIGHBOURHOOD jest pusta to weź wartość z kolumny STATE po przecinku - pod warunkiem że nie należy do listOfBoroughs ani nie jest rowna \"new york\", \"ny\", \"nyc\"\n",
    "data.loc[(data[\"NEIGHBOURHOOD\"].isna()) & (~(data[\"STATE\"].str.split(\", \").str.get(0).isin(listOfBoroughs))) &(~(data[\"STATE\"].str.split(\", \").str.get(0).isin([\"new york\", \"ny\", \"nyc\" ]))) , \"NEIGHBOURHOOD\"] = data[\"STATE\"].str.split(\", \").str.get(0)"
   ],
   "metadata": {
    "id": "2ef45ceba34ceb9f",
    "is_executing": true
   },
   "id": "2ef45ceba34ceb9f"
  },
  {
   "cell_type": "code",
   "execution_count": null,
   "outputs": [],
   "source": [
    "data.loc[data[\"POSTCODE\"].isna(), \"POSTCODE\"] = data[\"FORMATTED_ADDRESS\"].str.split(\", \").str.get(-2).str.slice(-5)\n",
    "data.loc[(data[\"BOROUGH\"].isna()) & (data[\"FORMATTED_ADDRESS\"].str.split(\", \").str.get(-3).isin(listOfBoroughs)), \"BOROUGH\"] = data[\"FORMATTED_ADDRESS\"].str.split(\", \").str.get(-3)\n",
    "data.loc[(data[\"NEIGHBOURHOOD\"].isna()) & (~(data[\"FORMATTED_ADDRESS\"].str.split(\", \").str.get(-3).isin(listOfBoroughs))) & (~(data[\"FORMATTED_ADDRESS\"].str.split(\", \").str.get(-3).isin([\"new york\"]))), \"NEIGHBOURHOOD\"] = data[\"FORMATTED_ADDRESS\"].str.split(\", \").str.get(-3)"
   ],
   "metadata": {
    "id": "ebb61e2ccdddb399",
    "is_executing": true
   },
   "id": "ebb61e2ccdddb399"
  },
  {
   "cell_type": "code",
   "execution_count": null,
   "outputs": [],
   "source": [
    "data.loc[data[\"FORMATTED_ADDRESS\"].str.split(\", \").str.get(-4).str.split().str.get(0).str.replace(\"-\",\"\").str.contains('\\d'), \"HOUSE_NUMBER\"] = data[\"FORMATTED_ADDRESS\"].str.split(\", \").str.get(-4).str.split().str.get(0)\n",
    "data.loc[(data[\"STREET\"].isna()) & (data[\"FORMATTED_ADDRESS\"].str.split(\", \").str.get(-4).str.split().str.get(0).str.replace(\"-\",\"\").str.contains('\\d')), \"STREET\"] = data[\"FORMATTED_ADDRESS\"].str.split(\", \").str.get(-4).str.split().str.slice(start=1).str.join(\" \")\n",
    "data.loc[(data[\"STREET\"].isna()) & (~(data[\"FORMATTED_ADDRESS\"].str.split(\", \").str.get(-4).str.split().str.get(0).str.replace(\"-\",\"\").str.contains('\\d'))), \"STREET\"] = data[\"FORMATTED_ADDRESS\"].str.split(\", \").str.get(-4)\n"
   ],
   "metadata": {
    "id": "7f2fcfc4fda1644c",
    "is_executing": true
   },
   "id": "7f2fcfc4fda1644c"
  },
  {
   "cell_type": "code",
   "execution_count": null,
   "outputs": [],
   "source": [
    "data.loc[(data[\"LONG_NAME\"].str.replace(\"-\", \"\").str.isdigit()), \"HOUSE_NUMBER\"] = data[\"LONG_NAME\"]\n",
    "data.loc[(~(data[\"LONG_NAME\"].str.replace(\"-\", \"\").str.isdigit())) & (data[\"STREET\"].isna()) & (data[\"LONG_NAME\"] != \"parking lot\"), \"STREET\"] = data[\"LONG_NAME\"]"
   ],
   "metadata": {
    "id": "8c51b71ba200baff",
    "is_executing": true
   },
   "id": "8c51b71ba200baff"
  },
  {
   "cell_type": "code",
   "execution_count": null,
   "outputs": [],
   "source": [
    "data.loc[(data[\"ADDRESS\"].str.split(\" \").str.get(0).str.replace(\"-\", \"\").str.isdigit()) & (data[\"HOUSE_NUMBER\"].isna()), \"HOUSE_NUMBER\"] = data[\"ADDRESS\"].str.split(\" \").str.get(0).str.split().str.get(0)"
   ],
   "metadata": {
    "id": "33bf974586917ed9",
    "is_executing": true
   },
   "id": "33bf974586917ed9"
  },
  {
   "cell_type": "code",
   "execution_count": null,
   "outputs": [],
   "source": [
    "data.loc[data[\"ADDRESS\"] == \"98A-98G Discala Ln\", \"HOUSE_NUMBER\"] = \"98A-98G\""
   ],
   "metadata": {
    "id": "615d0aa06173fd96",
    "is_executing": true
   },
   "id": "615d0aa06173fd96"
  },
  {
   "cell_type": "markdown",
   "source": [
    "Zamiana skrótów kierunków na pełne nazwy, usunięcie zbędnych znaków w nazwach ulic, zamiana liter na małe, usunięcie skrótów i pojedynczych liter w nazwach ulic.\n",
    "Usunięcie części kolumn i duplikatów."
   ],
   "metadata": {
    "id": "BjrzQaDaiVrx"
   },
   "id": "BjrzQaDaiVrx"
  },
  {
   "cell_type": "code",
   "execution_count": null,
   "outputs": [],
   "source": [
    "import re\n",
    "data.loc[data[\"STREET\"].str.contains(r'\\bE\\b'), \"STREET\"] = data[\"STREET\"].str.replace(\"e\", \"east\")\n",
    "data.loc[data[\"STREET\"].str.contains(r'\\bW\\b'), \"STREET\"] = data[\"STREET\"].str.replace(\"w\", \"west\")\n",
    "data.loc[data[\"STREET\"].str.contains(r'\\bS\\b'), \"STREET\"] = data[\"STREET\"].str.replace(\"s\", \"south\")\n",
    "data.loc[data[\"STREET\"].str.contains(r'\\bN\\b'), \"STREET\"] = data[\"STREET\"].str.replace(\"n\", \"north\")\n",
    "\n",
    "\n",
    "data.loc[data[\"STREET\"].str.contains(r' #.*'), \"STREET\"] = data[\"STREET\"].str.replace(r' #.*', \"\")\n",
    "data[\"STREET\"]= data[\"STREET\"].str.replace(\".\", \"\")\n",
    "data[\"STREET\"]= data[\"STREET\"].str.lower()\n",
    "data[\"STREET\"].unique()\n",
    "\n",
    "def clean_street_names(street_name):\n",
    "\n",
    "    parts = street_name.split(' ')\n",
    "    cleaned_parts = [part for part in parts if re.match(r'^\\d*(?:th|st|rd|nd)?$', part) or not any(c.isdigit() for c in part) ]\n",
    "    cleaned_parts = [part for part in cleaned_parts if not part.isdigit() and len(part) != 1]\n",
    "\n",
    "    last_part = cleaned_parts[-1] if cleaned_parts else None\n",
    "    if last_part and any(character.isdigit() for character in last_part):\n",
    "        cleaned_parts.remove(last_part)\n",
    "\n",
    "    return ' '.join(cleaned_parts)\n",
    "\n",
    "data['STREET'] = data['STREET'].apply(clean_street_names)\n",
    "\n",
    "data['STREET']\n"
   ],
   "metadata": {
    "id": "b86774ff37836fd8",
    "outputId": "dcb6d36c-8836-46f2-b464-01bba26af65e",
    "colab": {
     "base_uri": "https://localhost:8080/"
    },
    "is_executing": true
   },
   "id": "b86774ff37836fd8"
  },
  {
   "cell_type": "code",
   "execution_count": null,
   "outputs": [],
   "source": [
    "data.columns"
   ],
   "metadata": {
    "id": "68e05e82b4d98ebb",
    "outputId": "fcc31438-3fc1-4961-cd32-378a1d195220",
    "colab": {
     "base_uri": "https://localhost:8080/"
    },
    "is_executing": true
   },
   "id": "68e05e82b4d98ebb"
  },
  {
   "cell_type": "code",
   "execution_count": null,
   "outputs": [],
   "source": [
    "data.drop(columns = ['BROKERTITLE',\n",
    "       'ADDRESS', 'STATE', 'ADMINISTRATIVE_AREA_LEVEL_2', 'LOCALITY',\n",
    "       'SUBLOCALITY', 'STREET_NAME', 'LONG_NAME', 'FORMATTED_ADDRESS',\n",
    "       'PROPERTYSQFT1000'], inplace=True)"
   ],
   "metadata": {
    "id": "71ad884542dc77c8",
    "is_executing": true
   },
   "id": "71ad884542dc77c8"
  },
  {
   "cell_type": "code",
   "execution_count": null,
   "outputs": [],
   "source": [
    "category_columns = list(set(data.columns) - set(numeric_columns))"
   ],
   "metadata": {
    "id": "540500b1a75ccdcc",
    "is_executing": true
   },
   "id": "540500b1a75ccdcc"
  },
  {
   "cell_type": "code",
   "execution_count": null,
   "outputs": [],
   "source": [
    "for column in category_columns:\n",
    "    data[column] = data[column].str.lower()"
   ],
   "metadata": {
    "id": "5bac7dd113384b0d",
    "is_executing": true
   },
   "id": "5bac7dd113384b0d"
  },
  {
   "cell_type": "code",
   "execution_count": null,
   "outputs": [],
   "source": [
    "data.columns"
   ],
   "metadata": {
    "id": "6deb6d4c218cd46c",
    "outputId": "ae8ada13-c6a9-4fdf-fbdd-18b09742f106",
    "colab": {
     "base_uri": "https://localhost:8080/"
    },
    "is_executing": true
   },
   "id": "6deb6d4c218cd46c"
  },
  {
   "cell_type": "code",
   "execution_count": null,
   "outputs": [],
   "source": [
    "print('Duplicated rows: ', data.duplicated().sum())\n",
    "data.drop_duplicates(inplace=True)"
   ],
   "metadata": {
    "id": "6d272e7f1768e9b9",
    "outputId": "85199a8e-2c31-4b77-cd4a-35b59ff0d761",
    "colab": {
     "base_uri": "https://localhost:8080/"
    },
    "is_executing": true
   },
   "id": "6d272e7f1768e9b9"
  },
  {
   "cell_type": "code",
   "execution_count": null,
   "outputs": [],
   "source": [
    "data.to_excel('data.xlsx')"
   ],
   "metadata": {
    "id": "72d210a4f9c19092",
    "is_executing": true
   },
   "id": "72d210a4f9c19092"
  },
  {
   "cell_type": "markdown",
   "source": [
    "GEOPY\n",
    "Pobieranie danych adresowych z geolokatora na podstawie współrzędnych geograficznych w celu uzupełnienia danych w kolumnie neighbourhood."
   ],
   "metadata": {
    "collapsed": false
   },
   "id": "8cbc1f83e4bc797"
  },
  {
   "cell_type": "code",
   "execution_count": null,
   "outputs": [],
   "source": [
    "#kod został zakomentowany aby dane nie zostaly utracone\n",
    "\"\"\"from geopy.geocoders import Nominatim\n",
    "import pandas as pd\n",
    "\n",
    "data_api = pd.read_excel('data.xlsx')\n",
    "\n",
    "data_api['API_ADDRESS_NAME'] = None\n",
    "data_api['API_ADDRESS'] = None\n",
    "api_keys = set()\n",
    "\n",
    "num = 0\n",
    "geolocator = Nominatim(user_agent=\"key_for_library1\")\n",
    "\n",
    "api_keys = set()\n",
    "try:\n",
    "    # Pętla służąca do pobrania danych dla każdego wiersza w ramce.\n",
    "    for ind, row in data_api.iterrows():\n",
    "        latitude = row['LATITUDE']\n",
    "        longitude = row['LONGITUDE']\n",
    "        address = geolocator.reverse(f\"{latitude},{longitude}\")\n",
    "        data_api.at[ind, 'API_ADDRESS_NAME'] = address.raw['display_name']\n",
    "        data_api.at[ind, 'API_ADDRESS'] = address.raw\n",
    "        keys = set(address.raw['address'].keys())\n",
    "        api_keys.update(keys)\n",
    "        print(ind)\n",
    "except Exception as e:\n",
    "    data_api.to_excel('api.xlsx')\n",
    "\n",
    "data_api.to_excel('api.xlsx')\n",
    "\n",
    "\n",
    "data_api = pd.read_excel('api.xlsx')\n",
    "\n",
    "geolocator = Nominatim(user_agent=\"key_for_library2\")\n",
    "\n",
    "try:\n",
    "    # Pętla służąca do pobrania danych dla każdego wiersza w ramce.\n",
    "    for ind, row in data_api.iterrows():\n",
    "        if ind>= 2010:\n",
    "            latitude = row['LATITUDE']\n",
    "            longitude = row['LONGITUDE']\n",
    "            address = geolocator.reverse(f\"{latitude},{longitude}\")\n",
    "            data_api.at[ind, 'API_ADDRESS_NAME'] = address.raw['display_name']\n",
    "            data_api.at[ind, 'API_ADDRESS'] = address.raw\n",
    "            keys = set(address.raw['address'].keys())\n",
    "            api_keys.update(keys)\n",
    "            print(ind)\n",
    "except Exception as e:\n",
    "    data_api.to_excel('api_2.xlsx')\n",
    "\n",
    "data_api.to_excel('api_2.xlsx')\n",
    "print('Ilość kluczy: ',len(api_keys))\n",
    "print('Klucze: ',api_keys)\n",
    "\"\"\""
   ],
   "metadata": {
    "collapsed": false,
    "is_executing": true
   },
   "id": "3c7cfa217b0bccfa"
  },
  {
   "cell_type": "code",
   "execution_count": null,
   "outputs": [],
   "source": [
    "import pandas as pd\n",
    "import json\n",
    "\n",
    "api_keys = ['neighbourhood', 'postcode', 'road', 'house_number']\n",
    "\n",
    "data = pd.read_excel('api_2.xlsx')\n",
    "for key in api_keys:\n",
    "    for ind in data.index:\n",
    "        try:\n",
    "            row = data.at[ind, 'API_ADDRESS']\n",
    "            row = str(row).replace(\"'\", \"\\\"\")\n",
    "            row = json.loads(row)\n",
    "            keys = list(row['address'].keys())\n",
    "            if key in keys:\n",
    "                data.at[ind, key] = row['address'][key].lower()\n",
    "            else:\n",
    "                data.at[ind, key] = None\n",
    "        except Exception as err:\n",
    "            continue\n",
    "data['NEIGHBOURHOOD'] = data['NEIGHBOURHOOD'].fillna(data['neighbourhood'])\n",
    "data['NEIGHBOURHOOD'] = data['NEIGHBOURHOOD'].str.lower()\n",
    "data = data[['TYPE', 'PRICE', 'BEDS', 'BATH', 'PROPERTYSQFT', 'LATITUDE', 'LONGITUDE', 'BROKER', 'ANNOUNCEMENT_TYPE', 'BOROUGH', 'STREET', 'POSTCODE', 'HOUSE_NUMBER', 'NEIGHBOURHOOD']]\n",
    "\n",
    "data.to_excel('cat_api.xlsx')"
   ],
   "metadata": {
    "collapsed": false,
    "is_executing": true
   },
   "id": "1dbae953dc5cf86e"
  },
  {
   "cell_type": "code",
   "execution_count": null,
   "outputs": [],
   "source": [
    "data['NEIGHBOURHOOD'] = data['NEIGHBOURHOOD'].fillna('')\n",
    "data['NEIGHBOURHOOD'] = data['NEIGHBOURHOOD'].apply(lambda x: x if all(borough not in x for borough in listOfBoroughs) and 'bronx' not in x else None)"
   ],
   "metadata": {
    "collapsed": false,
    "is_executing": true
   },
   "id": "2de14f7d07590815"
  },
  {
   "cell_type": "code",
   "execution_count": null,
   "outputs": [],
   "source": [
    "grouped_df = data.groupby('NEIGHBOURHOOD').agg({'LATITUDE': ['mean'],\n",
    "                                      'LONGITUDE': ['mean']})\n",
    "\n",
    "neighbourhoods = list(set(data['NEIGHBOURHOOD']))\n",
    "\n",
    "replace_with_closest = list(data[data['NEIGHBOURHOOD']==None].index)\n",
    "for ind in replace_with_closest:\n",
    "    x1, y1 = data.loc[ind,'LONGITUDE'], data.loc[ind,'LATITUDE']\n",
    "    closest_neig,distance = None,10\n",
    "    for neig in neighbourhoods:\n",
    "        x2, y2 = grouped_df.loc[neig, ('LONGITUDE', 'mean')], grouped_df.loc[neig, ('LATITUDE', 'mean')]\n",
    "        distance_check = abs(x1-x2) + abs(y1-y2)\n",
    "        if distance_check<distance:\n",
    "            distance = distance_check\n",
    "            closest_neig = neig\n",
    "    data.loc[ind,'NEIGHBOURHOOD'] = neig"
   ],
   "metadata": {
    "collapsed": false,
    "is_executing": true
   },
   "id": "9cdfde8104b5f3e9"
  },
  {
   "cell_type": "code",
   "execution_count": null,
   "outputs": [],
   "source": [
    "data.isna().sum()"
   ],
   "metadata": {
    "collapsed": false,
    "is_executing": true
   },
   "id": "fca7775ded549e31"
  },
  {
   "cell_type": "code",
   "execution_count": null,
   "outputs": [],
   "source": [
    "category_columns = list(set(data.columns) - numeric_columns)\n",
    "numeric_columns = list(numeric_columns)\n",
    "data[list(category_columns)].nunique()"
   ],
   "metadata": {
    "id": "f2f36b08bcc451a6",
    "outputId": "aa5e0a6a-d79a-4feb-bc13-dfd6b9255972",
    "colab": {
     "base_uri": "https://localhost:8080/"
    },
    "is_executing": true
   },
   "id": "f2f36b08bcc451a6"
  },
  {
   "cell_type": "code",
   "execution_count": null,
   "outputs": [],
   "source": [
    "sns.heatmap(data[numeric_columns].corr(), annot=True, cmap='Spectral', linewidths=0.5,fmt=\".2f\", vmax=1, vmin=-1)"
   ],
   "metadata": {
    "id": "1c248ed1c1764d70",
    "outputId": "7081a157-c6f4-43e1-8911-de3333223a60",
    "colab": {
     "base_uri": "https://localhost:8080/",
     "height": 562
    },
    "is_executing": true
   },
   "id": "1c248ed1c1764d70"
  },
  {
   "cell_type": "code",
   "execution_count": null,
   "outputs": [],
   "source": [
    "data.to_excel('ssdata.xlsx')"
   ],
   "metadata": {
    "id": "771b4bb8218833a6",
    "is_executing": true
   },
   "id": "771b4bb8218833a6"
  },
  {
   "cell_type": "code",
   "execution_count": null,
   "outputs": [],
   "source": [
    "from sklearn.preprocessing import MinMaxScaler\n",
    "scaler = MinMaxScaler()\n",
    "numeric_columns.remove('PRICE')\n",
    "print(len(numeric_columns))\n",
    "\n",
    "mm_scalers = {}\n",
    "for column in numeric_columns:\n",
    "    mm_scalers[column] = MinMaxScaler()\n",
    "    data[column] = mm_scalers[column].fit_transform(data[column].values.reshape(-1, 1))"
   ],
   "metadata": {
    "id": "cbcb2c1df76b53f",
    "outputId": "498f4c3d-3c46-4697-eba4-02bd060fca38",
    "colab": {
     "base_uri": "https://localhost:8080/"
    },
    "is_executing": true
   },
   "id": "cbcb2c1df76b53f"
  },
  {
   "cell_type": "code",
   "execution_count": null,
   "outputs": [],
   "source": [
    "len(category_columns)"
   ],
   "metadata": {
    "id": "3f4dbd6cd177a049",
    "outputId": "b930ae5a-77a3-4aab-be77-9f08e25255a6",
    "colab": {
     "base_uri": "https://localhost:8080/"
    },
    "is_executing": true
   },
   "id": "3f4dbd6cd177a049"
  },
  {
   "cell_type": "code",
   "execution_count": null,
   "outputs": [],
   "source": [
    "len(data.columns)"
   ],
   "metadata": {
    "id": "30828da5b614e32b",
    "outputId": "aa4c1ca3-b948-4101-f78b-69d701d17ba8",
    "colab": {
     "base_uri": "https://localhost:8080/"
    },
    "is_executing": true
   },
   "id": "30828da5b614e32b"
  },
  {
   "cell_type": "code",
   "execution_count": null,
   "outputs": [],
   "source": [
    "from sklearn.preprocessing import LabelEncoder\n",
    "label_encoders = {}\n",
    "for column in category_columns:\n",
    "    label_encoders[column] = LabelEncoder()\n",
    "    data[column] = label_encoders[column].fit_transform(data[column])"
   ],
   "metadata": {
    "id": "1482ab497f5cd258",
    "is_executing": true
   },
   "id": "1482ab497f5cd258"
  },
  {
   "cell_type": "code",
   "execution_count": null,
   "outputs": [],
   "source": [
    "for column in category_columns:\n",
    "    for class_index, class_name in enumerate(label_encoders[column].classes_):\n",
    "        print(f\"{class_name}: {class_index}\")"
   ],
   "metadata": {
    "id": "252b2ab028f331e6",
    "outputId": "4e19c854-634f-40f9-fb5f-690029f6156b",
    "colab": {
     "base_uri": "https://localhost:8080/"
    },
    "is_executing": true
   },
   "id": "252b2ab028f331e6"
  },
  {
   "cell_type": "code",
   "execution_count": null,
   "outputs": [],
   "source": [
    "plt.figure(figsize=(12, 10))\n",
    "sns.heatmap(data.corr(), annot=True, cmap='Spectral', linewidths=0.5,fmt=\".2f\", vmax=1, vmin=-1)"
   ],
   "metadata": {
    "id": "f89dd9097ca0118d",
    "outputId": "8ad8db4b-89af-4357-e6d4-daa6413a7e32",
    "colab": {
     "base_uri": "https://localhost:8080/",
     "height": 1000
    },
    "is_executing": true
   },
   "id": "f89dd9097ca0118d"
  },
  {
   "cell_type": "markdown",
   "source": [
    "Utworzenie macierzy korelacji dla wszystkich kolumn. \n",
    "\n",
    "Stworzenie data_relevant, zawierającej kolumny z dataframe data, których bezwzględna wartość korelacji z cenami nieruchomości wynosi co najmniej 0.03."
   ],
   "metadata": {
    "id": "jsR-Tqfhk0XG"
   },
   "id": "jsR-Tqfhk0XG"
  },
  {
   "cell_type": "code",
   "execution_count": null,
   "outputs": [],
   "source": [
    "corr_matrix = data.corr()\n",
    "pairs = []\n",
    "for i in range(len(corr_matrix.columns)):\n",
    "  for j in range(i+1, len(corr_matrix.columns)):\n",
    "    if abs(corr_matrix.iloc[i, j]) > 0.8:\n",
    "      pairs.append((corr_matrix.columns[i], corr_matrix.columns[j], corr_matrix.iloc[i, j]))\n",
    "\n",
    "for pair in pairs:\n",
    "  print(pair)\n"
   ],
   "metadata": {
    "collapsed": false,
    "is_executing": true
   },
   "id": "ef5c26bf601c0f15"
  },
  {
   "cell_type": "code",
   "execution_count": null,
   "outputs": [],
   "source": [
    "corr_matrix = data.corr()\n",
    "corr_df = pd.DataFrame(abs(corr_matrix['PRICE'].drop('PRICE')).sort_values(ascending=True))\n",
    "relevant_columns = corr_df[abs(corr_df['PRICE'])>=0.05].index\n",
    "relevant_columns = list(relevant_columns)\n",
    "relevant_columns.append('PRICE')\n",
    "data_relevant = data[relevant_columns]"
   ],
   "metadata": {
    "collapsed": false,
    "is_executing": true
   },
   "id": "7cf6dd912847bb0c"
  },
  {
   "cell_type": "code",
   "execution_count": null,
   "outputs": [],
   "source": [
    "plt.figure(figsize=(12, 10))\n",
    "sns.heatmap(data_relevant.corr(), annot=True, cmap='Spectral', linewidths=0.3,fmt=\".3f\", vmax=1, vmin=-1)"
   ],
   "metadata": {
    "collapsed": false,
    "is_executing": true
   },
   "id": "a510cce15f60db7d"
  },
  {
   "cell_type": "code",
   "execution_count": null,
   "outputs": [],
   "source": [
    "data.to_excel('clean_data.xlsx')\n",
    "data_relevant.to_excel('clean_data_relevant.xlsx')"
   ],
   "metadata": {
    "id": "a713f1177c90a723",
    "is_executing": true
   },
   "id": "a713f1177c90a723"
  },
  {
   "cell_type": "markdown",
   "source": [
    "Analiza głównych składowych PCA na danych: określenie liczby składowych głównych, stworzenie listy składowych głównych i nazw kolumn dla wynikowych składowych głównych, stworzenie instancji klasy PCA. Stworzenie ramki danych zawierającą przekształcone wartości zmiennych za pomocą PCA."
   ],
   "metadata": {
    "id": "LsTuFvf3lw3g"
   },
   "id": "LsTuFvf3lw3g"
  },
  {
   "cell_type": "code",
   "execution_count": null,
   "outputs": [],
   "source": [
    "from sklearn.decomposition import PCA\n",
    "X = data_relevant.drop(columns =['PRICE'])\n",
    "y = data_relevant['PRICE']\n",
    "\n",
    "n_comp = 3\n",
    "col_names = ['feature_'+str(i) for i in range(0,n_comp)]\n",
    "pca = PCA(n_components=n_comp)\n",
    "data_relevant_pca = pd.DataFrame(pca.fit_transform(X), columns = col_names)\n",
    "print(pca.explained_variance_ratio_)\n",
    "data_relevant_pca"
   ],
   "metadata": {
    "id": "e313db9de8375ce9",
    "is_executing": true
   },
   "id": "e313db9de8375ce9"
  },
  {
   "cell_type": "code",
   "execution_count": null,
   "outputs": [],
   "source": [
    "data_relevant_pca.to_excel('clean_data_relevant_pca.xlsx')"
   ],
   "metadata": {
    "id": "e7b573decfc9d485",
    "is_executing": true
   },
   "id": "e7b573decfc9d485"
  }
 ],
 "metadata": {
  "kernelspec": {
   "display_name": "Python 3",
   "language": "python",
   "name": "python3"
  },
  "language_info": {
   "codemirror_mode": {
    "name": "ipython",
    "version": 2
   },
   "file_extension": ".py",
   "mimetype": "text/x-python",
   "name": "python",
   "nbconvert_exporter": "python",
   "pygments_lexer": "ipython2",
   "version": "2.7.6"
  },
  "colab": {
   "provenance": []
  }
 },
 "nbformat": 4,
 "nbformat_minor": 5
}
