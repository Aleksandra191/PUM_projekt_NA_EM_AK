{
 "cells": [
  {
   "cell_type": "code",
   "execution_count": null,
   "outputs": [],
   "source": [],
   "metadata": {
    "collapsed": false
   },
   "id": "b02f4f6977f07eef"
  },
  {
   "cell_type": "markdown",
   "source": [
    "Celem jest predykcja ceny nieruchomości.\n",
    "\n",
    "Zbiór danych zawiera 4802 instancje i kolumny określające:\n",
    "\n",
    "BROKERTITLE: Title of the broker\n",
    "TYPE: Type of the house\n",
    "PRICE: Price of the house\n",
    "BEDS: Number of bedrooms\n",
    "BATH: Number of bathrooms\n",
    "PROPERTYSQFT: Square footage of the property\n",
    "ADDRESS: Full address of the house\n",
    "STATE: State of the house\n",
    "MAIN_ADDRESS: Main address information\n",
    "ADMINISTRATIVE_AREA_LEVEL_2: Administrative area level 2 information\n",
    "LOCALITY: Locality information\n",
    "SUBLOCALITY: Sublocality information\n",
    "STREET_NAME: Street name\n",
    "LONG_NAME: Long name\n",
    "FORMATTED_ADDRESS: Formatted address\n",
    "LATITUDE: Latitude coordinate of the house\n",
    "LONGITUDE: Longitude coordinate of the house"
   ],
   "metadata": {
    "collapsed": false
   },
   "id": "33242a9b372ec5e9"
  },
  {
   "cell_type": "code",
   "execution_count": null,
   "id": "initial_id",
   "metadata": {
    "collapsed": true
   },
   "outputs": [],
   "source": [
    "import pandas as pd\n",
    "url = 'https://github.com/UEPP40/PUM/blob/c53e3d892647a9194c333075c41e7e7c51ce8586/NY-House-Dataset.csv'\n",
    "data = pd.read_csv(url)"
   ]
  },
  {
   "cell_type": "code",
   "execution_count": null,
   "outputs": [],
   "source": [],
   "metadata": {
    "collapsed": false
   },
   "id": "a5a9fe7568a8a2e7"
  }
 ],
 "metadata": {
  "kernelspec": {
   "display_name": "Python 3",
   "language": "python",
   "name": "python3"
  },
  "language_info": {
   "codemirror_mode": {
    "name": "ipython",
    "version": 2
   },
   "file_extension": ".py",
   "mimetype": "text/x-python",
   "name": "python",
   "nbconvert_exporter": "python",
   "pygments_lexer": "ipython2",
   "version": "2.7.6"
  }
 },
 "nbformat": 4,
 "nbformat_minor": 5
}
