{
 "cells": [
  {
   "cell_type": "code",
   "execution_count": null,
   "outputs": [],
   "source": [],
   "metadata": {
    "collapsed": false
   },
   "id": "b02f4f6977f07eef"
  },
  {
   "cell_type": "markdown",
   "source": [
    "Celem jest predykcja ceny nieruchomości.\n",
    "\n",
    "Zbiór danych zawiera 4802 instancje i kolumny określające:\n",
    "\n",
    "BROKERTITLE: Title of the broker\n",
    "TYPE: Type of the house\n",
    "PRICE: Price of the house\n",
    "BEDS: Number of bedrooms\n",
    "BATH: Number of bathrooms\n",
    "PROPERTYSQFT: Square footage of the property\n",
    "ADDRESS: Full address of the house\n",
    "STATE: State of the house\n",
    "MAIN_ADDRESS: Main address information\n",
    "ADMINISTRATIVE_AREA_LEVEL_2: Administrative area level 2 information\n",
    "LOCALITY: Locality information\n",
    "SUBLOCALITY: Sublocality information\n",
    "STREET_NAME: Street name\n",
    "LONG_NAME: Long name\n",
    "FORMATTED_ADDRESS: Formatted address\n",
    "LATITUDE: Latitude coordinate of the house\n",
    "LONGITUDE: Longitude coordinate of the house"
   ],
   "metadata": {
    "collapsed": false
   },
   "id": "33242a9b372ec5e9"
  },
  {
   "cell_type": "code",
   "execution_count": 3,
   "id": "initial_id",
   "metadata": {
    "collapsed": true,
    "ExecuteTime": {
     "end_time": "2024-03-19T11:59:07.316969Z",
     "start_time": "2024-03-19T11:59:07.281023Z"
    }
   },
   "outputs": [],
   "source": [
    "import pandas as pd\n",
    "url = 'NY-House-Dataset.csv'\n",
    "data = pd.read_csv(url, sep= ';')"
   ]
  },
  {
   "cell_type": "code",
   "execution_count": 4,
   "outputs": [
    {
     "data": {
      "text/plain": "                                            BROKERTITLE                TYPE  \\\n0           Brokered by Douglas Elliman  -111 Fifth Ave      Condo for sale   \n1                                   Brokered by Serhant      Condo for sale   \n2                                Brokered by Sowae Corp      House for sale   \n3                                   Brokered by COMPASS      Condo for sale   \n4     Brokered by Sotheby's International Realty - E...  Townhouse for sale   \n...                                                 ...                 ...   \n4796                                Brokered by COMPASS      Co-op for sale   \n4797                    Brokered by Mjr Real Estate Llc      Co-op for sale   \n4798      Brokered by Douglas Elliman - 575 Madison Ave      Co-op for sale   \n4799            Brokered by E Realty International Corp      Condo for sale   \n4800                 Brokered by Nyc Realty Brokers Llc      Co-op for sale   \n\n          PRICE  BEDS       BATH  PROPERTYSQFT  \\\n0        315000     2   2.000000   1400.000000   \n1     195000000     7  10.000000  17545.000000   \n2        260000     4   2.000000   2015.000000   \n3         69000     3   1.000000    445.000000   \n4      55000000     7   2.373861  14175.000000   \n...         ...   ...        ...           ...   \n4796     599000     1   1.000000   2184.207862   \n4797     245000     1   1.000000   2184.207862   \n4798    1275000     1   1.000000   2184.207862   \n4799     598125     2   1.000000    655.000000   \n4800     349000     1   1.000000    750.000000   \n\n                                                ADDRESS  \\\n0                                  2 E 55th St Unit 803   \n1     Central Park Tower Penthouse-217 W 57th New Yo...   \n2                                      620 Sinclair Ave   \n3                               2 E 55th St Unit 908W33   \n4                                           5 E 64th St   \n...                                                 ...   \n4796                               222 E 80th St Apt 3A   \n4797                                97-40 62 Dr Unit Lg   \n4798                          427 W 21st St Unit Garden   \n4799                           91-23 Corona Ave Unit 4G   \n4800                            460 Neptune Ave Apt 14O   \n\n                        STATE  \\\n0          New York, NY 10022   \n1          New York, NY 10019   \n2     Staten Island, NY 10312   \n3         Manhattan, NY 10022   \n4          New York, NY 10065   \n...                       ...   \n4796      Manhattan, NY 10075   \n4797      Rego Park, NY 11374   \n4798       New York, NY 10011   \n4799       Elmhurst, NY 11373   \n4800       Brooklyn, NY 11224   \n\n                                           MAIN_ADDRESS  \\\n0                2 E 55th St Unit 803New York, NY 10022   \n1     Central Park Tower Penthouse-217 W 57th New Yo...   \n2               620 Sinclair AveStaten Island, NY 10312   \n3            2 E 55th St Unit 908W33Manhattan, NY 10022   \n4                         5 E 64th StNew York, NY 10065   \n...                                                 ...   \n4796            222 E 80th St Apt 3AManhattan, NY 10075   \n4797             97-40 62 Dr Unit LgRego Park, NY 11374   \n4798        427 W 21st St Unit GardenNew York, NY 10011   \n4799         91-23 Corona Ave Unit 4GElmhurst, NY 11373   \n4800          460 Neptune Ave Apt 14OBrooklyn, NY 11224   \n\n     ADMINISTRATIVE_AREA_LEVEL_2         LOCALITY      SUBLOCALITY  \\\n0                New York County         New York        Manhattan   \n1                  United States         New York  New York County   \n2                  United States         New York  Richmond County   \n3                  United States         New York  New York County   \n4                  United States         New York  New York County   \n...                          ...              ...              ...   \n4796                    New York  New York County         New York   \n4797               United States         New York    Queens County   \n4798               United States         New York  New York County   \n4799                    New York    Queens County           Queens   \n4800                    New York     Kings County         Brooklyn   \n\n           STREET_NAME         LONG_NAME  \\\n0     East 55th Street   Regis Residence   \n1             New York  West 57th Street   \n2        Staten Island   Sinclair Avenue   \n3             New York  East 55th Street   \n4             New York  East 64th Street   \n...                ...               ...   \n4796         Manhattan               222   \n4797            Queens        62nd Drive   \n4798          New York  West 21st Street   \n4799          Flushing             91-23   \n4800      Coney Island               460   \n\n                                      FORMATTED_ADDRESS   LATITUDE  LONGITUDE  \n0     Regis Residence, 2 E 55th St #803, New York, N...  40.761255 -73.974483  \n1                217 W 57th St, New York, NY 10019, USA  40.766393 -73.980991  \n2        620 Sinclair Ave, Staten Island, NY 10312, USA  40.541805 -74.196109  \n3                  2 E 55th St, New York, NY 10022, USA  40.761398 -73.974613  \n4                  5 E 64th St, New York, NY 10065, USA  40.767224 -73.969856  \n...                                                 ...        ...        ...  \n4796         222 E 80th St #3a, New York, NY 10075, USA  40.774350 -73.955879  \n4797            97-40 62nd Dr, Rego Park, NY 11374, USA  40.732538 -73.860152  \n4798             427 W 21st St, New York, NY 10011, USA  40.745882 -74.003398  \n4799     91-23 Corona Ave. #4b, Flushing, NY 11373, USA  40.742770 -73.872752  \n4800      460 Neptune Ave #14a, Brooklyn, NY 11224, USA  40.579147 -73.970949  \n\n[4801 rows x 17 columns]",
      "text/html": "<div>\n<style scoped>\n    .dataframe tbody tr th:only-of-type {\n        vertical-align: middle;\n    }\n\n    .dataframe tbody tr th {\n        vertical-align: top;\n    }\n\n    .dataframe thead th {\n        text-align: right;\n    }\n</style>\n<table border=\"1\" class=\"dataframe\">\n  <thead>\n    <tr style=\"text-align: right;\">\n      <th></th>\n      <th>BROKERTITLE</th>\n      <th>TYPE</th>\n      <th>PRICE</th>\n      <th>BEDS</th>\n      <th>BATH</th>\n      <th>PROPERTYSQFT</th>\n      <th>ADDRESS</th>\n      <th>STATE</th>\n      <th>MAIN_ADDRESS</th>\n      <th>ADMINISTRATIVE_AREA_LEVEL_2</th>\n      <th>LOCALITY</th>\n      <th>SUBLOCALITY</th>\n      <th>STREET_NAME</th>\n      <th>LONG_NAME</th>\n      <th>FORMATTED_ADDRESS</th>\n      <th>LATITUDE</th>\n      <th>LONGITUDE</th>\n    </tr>\n  </thead>\n  <tbody>\n    <tr>\n      <th>0</th>\n      <td>Brokered by Douglas Elliman  -111 Fifth Ave</td>\n      <td>Condo for sale</td>\n      <td>315000</td>\n      <td>2</td>\n      <td>2.000000</td>\n      <td>1400.000000</td>\n      <td>2 E 55th St Unit 803</td>\n      <td>New York, NY 10022</td>\n      <td>2 E 55th St Unit 803New York, NY 10022</td>\n      <td>New York County</td>\n      <td>New York</td>\n      <td>Manhattan</td>\n      <td>East 55th Street</td>\n      <td>Regis Residence</td>\n      <td>Regis Residence, 2 E 55th St #803, New York, N...</td>\n      <td>40.761255</td>\n      <td>-73.974483</td>\n    </tr>\n    <tr>\n      <th>1</th>\n      <td>Brokered by Serhant</td>\n      <td>Condo for sale</td>\n      <td>195000000</td>\n      <td>7</td>\n      <td>10.000000</td>\n      <td>17545.000000</td>\n      <td>Central Park Tower Penthouse-217 W 57th New Yo...</td>\n      <td>New York, NY 10019</td>\n      <td>Central Park Tower Penthouse-217 W 57th New Yo...</td>\n      <td>United States</td>\n      <td>New York</td>\n      <td>New York County</td>\n      <td>New York</td>\n      <td>West 57th Street</td>\n      <td>217 W 57th St, New York, NY 10019, USA</td>\n      <td>40.766393</td>\n      <td>-73.980991</td>\n    </tr>\n    <tr>\n      <th>2</th>\n      <td>Brokered by Sowae Corp</td>\n      <td>House for sale</td>\n      <td>260000</td>\n      <td>4</td>\n      <td>2.000000</td>\n      <td>2015.000000</td>\n      <td>620 Sinclair Ave</td>\n      <td>Staten Island, NY 10312</td>\n      <td>620 Sinclair AveStaten Island, NY 10312</td>\n      <td>United States</td>\n      <td>New York</td>\n      <td>Richmond County</td>\n      <td>Staten Island</td>\n      <td>Sinclair Avenue</td>\n      <td>620 Sinclair Ave, Staten Island, NY 10312, USA</td>\n      <td>40.541805</td>\n      <td>-74.196109</td>\n    </tr>\n    <tr>\n      <th>3</th>\n      <td>Brokered by COMPASS</td>\n      <td>Condo for sale</td>\n      <td>69000</td>\n      <td>3</td>\n      <td>1.000000</td>\n      <td>445.000000</td>\n      <td>2 E 55th St Unit 908W33</td>\n      <td>Manhattan, NY 10022</td>\n      <td>2 E 55th St Unit 908W33Manhattan, NY 10022</td>\n      <td>United States</td>\n      <td>New York</td>\n      <td>New York County</td>\n      <td>New York</td>\n      <td>East 55th Street</td>\n      <td>2 E 55th St, New York, NY 10022, USA</td>\n      <td>40.761398</td>\n      <td>-73.974613</td>\n    </tr>\n    <tr>\n      <th>4</th>\n      <td>Brokered by Sotheby's International Realty - E...</td>\n      <td>Townhouse for sale</td>\n      <td>55000000</td>\n      <td>7</td>\n      <td>2.373861</td>\n      <td>14175.000000</td>\n      <td>5 E 64th St</td>\n      <td>New York, NY 10065</td>\n      <td>5 E 64th StNew York, NY 10065</td>\n      <td>United States</td>\n      <td>New York</td>\n      <td>New York County</td>\n      <td>New York</td>\n      <td>East 64th Street</td>\n      <td>5 E 64th St, New York, NY 10065, USA</td>\n      <td>40.767224</td>\n      <td>-73.969856</td>\n    </tr>\n    <tr>\n      <th>...</th>\n      <td>...</td>\n      <td>...</td>\n      <td>...</td>\n      <td>...</td>\n      <td>...</td>\n      <td>...</td>\n      <td>...</td>\n      <td>...</td>\n      <td>...</td>\n      <td>...</td>\n      <td>...</td>\n      <td>...</td>\n      <td>...</td>\n      <td>...</td>\n      <td>...</td>\n      <td>...</td>\n      <td>...</td>\n    </tr>\n    <tr>\n      <th>4796</th>\n      <td>Brokered by COMPASS</td>\n      <td>Co-op for sale</td>\n      <td>599000</td>\n      <td>1</td>\n      <td>1.000000</td>\n      <td>2184.207862</td>\n      <td>222 E 80th St Apt 3A</td>\n      <td>Manhattan, NY 10075</td>\n      <td>222 E 80th St Apt 3AManhattan, NY 10075</td>\n      <td>New York</td>\n      <td>New York County</td>\n      <td>New York</td>\n      <td>Manhattan</td>\n      <td>222</td>\n      <td>222 E 80th St #3a, New York, NY 10075, USA</td>\n      <td>40.774350</td>\n      <td>-73.955879</td>\n    </tr>\n    <tr>\n      <th>4797</th>\n      <td>Brokered by Mjr Real Estate Llc</td>\n      <td>Co-op for sale</td>\n      <td>245000</td>\n      <td>1</td>\n      <td>1.000000</td>\n      <td>2184.207862</td>\n      <td>97-40 62 Dr Unit Lg</td>\n      <td>Rego Park, NY 11374</td>\n      <td>97-40 62 Dr Unit LgRego Park, NY 11374</td>\n      <td>United States</td>\n      <td>New York</td>\n      <td>Queens County</td>\n      <td>Queens</td>\n      <td>62nd Drive</td>\n      <td>97-40 62nd Dr, Rego Park, NY 11374, USA</td>\n      <td>40.732538</td>\n      <td>-73.860152</td>\n    </tr>\n    <tr>\n      <th>4798</th>\n      <td>Brokered by Douglas Elliman - 575 Madison Ave</td>\n      <td>Co-op for sale</td>\n      <td>1275000</td>\n      <td>1</td>\n      <td>1.000000</td>\n      <td>2184.207862</td>\n      <td>427 W 21st St Unit Garden</td>\n      <td>New York, NY 10011</td>\n      <td>427 W 21st St Unit GardenNew York, NY 10011</td>\n      <td>United States</td>\n      <td>New York</td>\n      <td>New York County</td>\n      <td>New York</td>\n      <td>West 21st Street</td>\n      <td>427 W 21st St, New York, NY 10011, USA</td>\n      <td>40.745882</td>\n      <td>-74.003398</td>\n    </tr>\n    <tr>\n      <th>4799</th>\n      <td>Brokered by E Realty International Corp</td>\n      <td>Condo for sale</td>\n      <td>598125</td>\n      <td>2</td>\n      <td>1.000000</td>\n      <td>655.000000</td>\n      <td>91-23 Corona Ave Unit 4G</td>\n      <td>Elmhurst, NY 11373</td>\n      <td>91-23 Corona Ave Unit 4GElmhurst, NY 11373</td>\n      <td>New York</td>\n      <td>Queens County</td>\n      <td>Queens</td>\n      <td>Flushing</td>\n      <td>91-23</td>\n      <td>91-23 Corona Ave. #4b, Flushing, NY 11373, USA</td>\n      <td>40.742770</td>\n      <td>-73.872752</td>\n    </tr>\n    <tr>\n      <th>4800</th>\n      <td>Brokered by Nyc Realty Brokers Llc</td>\n      <td>Co-op for sale</td>\n      <td>349000</td>\n      <td>1</td>\n      <td>1.000000</td>\n      <td>750.000000</td>\n      <td>460 Neptune Ave Apt 14O</td>\n      <td>Brooklyn, NY 11224</td>\n      <td>460 Neptune Ave Apt 14OBrooklyn, NY 11224</td>\n      <td>New York</td>\n      <td>Kings County</td>\n      <td>Brooklyn</td>\n      <td>Coney Island</td>\n      <td>460</td>\n      <td>460 Neptune Ave #14a, Brooklyn, NY 11224, USA</td>\n      <td>40.579147</td>\n      <td>-73.970949</td>\n    </tr>\n  </tbody>\n</table>\n<p>4801 rows × 17 columns</p>\n</div>"
     },
     "execution_count": 4,
     "metadata": {},
     "output_type": "execute_result"
    }
   ],
   "source": [
    "data"
   ],
   "metadata": {
    "collapsed": false,
    "ExecuteTime": {
     "end_time": "2024-03-19T11:59:14.476896Z",
     "start_time": "2024-03-19T11:59:14.439148Z"
    }
   },
   "id": "a5a9fe7568a8a2e7"
  },
  {
   "cell_type": "code",
   "execution_count": null,
   "outputs": [],
   "source": [],
   "metadata": {
    "collapsed": false
   },
   "id": "7c7f717b867c2565"
  }
 ],
 "metadata": {
  "kernelspec": {
   "display_name": "Python 3",
   "language": "python",
   "name": "python3"
  },
  "language_info": {
   "codemirror_mode": {
    "name": "ipython",
    "version": 2
   },
   "file_extension": ".py",
   "mimetype": "text/x-python",
   "name": "python",
   "nbconvert_exporter": "python",
   "pygments_lexer": "ipython2",
   "version": "2.7.6"
  }
 },
 "nbformat": 4,
 "nbformat_minor": 5
}
